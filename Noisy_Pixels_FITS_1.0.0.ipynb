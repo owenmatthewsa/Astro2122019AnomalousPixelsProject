{
 "cells": [
  {
   "cell_type": "code",
   "execution_count": 1,
   "metadata": {},
   "outputs": [],
   "source": [
    "import sys\n",
    "import os\n",
    "import numpy as np                                # numpy is a collection of python modules for array math.\n",
    "from matplotlib import pyplot as plt              # A collection of modules. Needed here to display images and graphs.\n",
    "from matplotlib import pylab                      # A collection of modules. Needed here to plot histograms.\n",
    "sys.path.append(r'C:\\Users\\danst\\Desktop\\ASTR 21200 2019\\Software\\a212pylibs') # Adds the path to the DataPype module to the system path.\n",
    "from datapype.datafits import DataFits            # Gets the function that makes datapype io objects from module datafits in package datapype.\n",
    "from astropy.io import fits                       # Need this if you want to use astropy.io io objects.\n",
    "from ipywidgets import interact                   # Need this for interactive plots.\n",
    "from matplotlib.colors import LogNorm             # Machinery for LogNorm scaling of intensities.\n",
    "from matplotlib.colors import SymLogNorm          # Machinery for SymLogNorm scaling of intensities.\n",
    "from matplotlib.colors import PowerNorm           # Machinery for LogNorm (e.g., square root) scaling of intensities.\n",
    "from astropy.stats import mad_std                 # The median absolute deviation, a more robust estimator than std.\n",
    "import scipy.ndimage as nd                        # Various algorithms for image transformations.\n",
    "\n",
    "\n",
    "# ## Use this if dah_functions is a subdirectory of a212pylibs.\n",
    "# from dah_functions.dah_functions import head\n",
    "# from dah_functions.dah_functions import displaypic\n",
    "# from dah_functions.dah_functions import displaypic2\n",
    "# from dah_functions.dah_functions import show_image\n",
    "# from dah_functions.dah_functions import blink_images\n",
    "# from dah_functions.dah_functions import blink2images\n",
    "# from dah_functions.dah_functions import rowplot\n",
    "# from dah_functions.dah_functions import colplot\n",
    "# from dah_functions.dah_functions import rowcolplot\n",
    "\n",
    "## Use this if dah_functions is stored in a different path from a212pylibs.\n",
    "## The following adds a bunch of functions in a module stored in the path below.\n",
    "sys.path.append(r'C:\\Users\\danst\\Desktop\\ASTR 21200 2019\\Software\\a212pylibs\\dah_functions') # Adds path to MyCode directory on my computer to system python path.\n",
    "from dah_functions_2 import head\n",
    "from dah_functions_2 import displaypic\n",
    "from dah_functions_2 import displaypic2\n",
    "from dah_functions_2 import show_image\n",
    "from dah_functions_2 import blink_images\n",
    "from dah_functions_2 import rowplot\n",
    "from dah_functions_2 import colplot\n",
    "from dah_functions_2 import rowcolplot\n",
    "from dah_functions_2 import moments\n",
    "from dah_functions_2 import quickpic\n",
    "from dah_functions_2 import getpatch\n",
    "from dah_functions_2 import stackfits\n",
    "\n",
    "###############################################################################\n",
    "#borrowed this from other notebooks used in this project\n",
    "###############################################################################"
   ]
  },
  {
   "cell_type": "code",
   "execution_count": 2,
   "metadata": {},
   "outputs": [
    {
     "data": {
      "text/plain": [
       "48"
      ]
     },
     "execution_count": 2,
     "metadata": {},
     "output_type": "execute_result"
    }
   ],
   "source": [
    "len(get_ipython().user_ns.keys())"
   ]
  },
  {
   "cell_type": "code",
   "execution_count": 3,
   "metadata": {},
   "outputs": [],
   "source": [
    "datapath = r'C:\\Users\\danst\\Desktop\\ugh\\dark' #Path to the specific set of data you want to look at"
   ]
  },
  {
   "cell_type": "code",
   "execution_count": 4,
   "metadata": {
    "scrolled": false
   },
   "outputs": [],
   "source": [
    "#Sorting and listing every file in the specified data set\n",
    "\n",
    "whichpath = datapath\n",
    "\n",
    "## For ALL the files in the directory.\n",
    "allfiles = [f for f in os.listdir(datapath)]\n",
    "\n",
    "allfiles = sorted(allfiles)\n",
    "#for i in range(len(allfiles)):\n",
    "#    print( i, allfiles[i])"
   ]
  },
  {
   "cell_type": "code",
   "execution_count": 5,
   "metadata": {},
   "outputs": [
    {
     "name": "stdout",
     "output_type": "stream",
     "text": [
      "0 dark_190504_AB-001_bias.fit\n",
      "1 dark_190504_AB-002_bias.fit\n",
      "2 dark_190504_AB-003_bias.fit\n",
      "3 dark_190504_AB-004_bias.fit\n",
      "4 dark_190504_AB-005_bias.fit\n",
      "5 dark_190504_AB-006_bias.fit\n",
      "6 dark_190504_AB-007_bias.fit\n",
      "7 dark_190504_AB-008_bias.fit\n",
      "8 dark_190504_AB-009_bias.fit\n",
      "9 dark_190504_AB-010_bias.fit\n",
      "10 dark_190504_AB-011_bias.fit\n",
      "11 dark_190504_AB-012_bias.fit\n",
      "12 dark_190504_AB-013_bias.fit\n",
      "13 dark_190504_AB-014_bias.fit\n",
      "14 dark_190504_AB-015_bias.fit\n",
      "15 dark_190504_AB-016_bias.fit\n",
      "16 dark_190504_AB-017_bias.fit\n",
      "17 dark_190504_AB-018_bias.fit\n",
      "18 dark_190504_AB-019_bias.fit\n",
      "19 dark_190504_AB-020_bias.fit\n",
      "20 dark_190504_AB-021_bias.fit\n",
      "21 dark_190504_AB-022_bias.fit\n",
      "22 dark_190504_AB-023_bias.fit\n",
      "23 dark_190504_AB-024_bias.fit\n",
      "24 dark_190504_AB-025_bias.fit\n",
      "25 dark_190504_AB-026_bias.fit\n",
      "26 dark_190504_AB-027_bias.fit\n",
      "27 dark_190504_AB-028_bias.fit\n",
      "28 dark_190504_AB-029_bias.fit\n",
      "29 dark_190504_AB-030_bias.fit\n",
      "30 dark_190504_AB-031_bias.fit\n",
      "31 dark_190504_AB-032_bias.fit\n",
      "32 dark_190504_AB-033_bias.fit\n",
      "33 dark_190504_AB-034_bias.fit\n",
      "34 dark_190504_AB-035_bias.fit\n",
      "35 dark_190504_AB-036_bias.fit\n",
      "36 dark_190504_AB-037_bias.fit\n",
      "37 dark_190504_AB-038_bias.fit\n",
      "38 dark_190504_AB-039_bias.fit\n",
      "39 dark_190504_AB-040_bias.fit\n",
      "40 dark_190504_AB-041_bias.fit\n",
      "41 dark_190504_AB-042_bias.fit\n",
      "42 dark_190504_AB-043_bias.fit\n",
      "43 dark_190504_AB-044_bias.fit\n",
      "44 dark_190504_AB-045_bias.fit\n",
      "45 dark_190504_AB-046_bias.fit\n",
      "46 dark_190504_AB-047_bias.fit\n",
      "47 dark_190504_AB-048_bias.fit\n",
      "48 dark_190504_AB-049_bias.fit\n",
      "49 dark_190504_AB-050_bias.fit\n",
      "50 dark_190504_AC-001_bias.fit\n",
      "51 dark_190504_AC-002_bias.fit\n",
      "52 dark_190504_AC-003_bias.fit\n",
      "53 dark_190504_AC-004_bias.fit\n",
      "54 dark_190504_AC-005_bias.fit\n",
      "55 dark_190504_AC-006_bias.fit\n",
      "56 dark_190504_AC-007_bias.fit\n",
      "57 dark_190504_AC-008_bias.fit\n",
      "58 dark_190504_AC-009_bias.fit\n",
      "59 dark_190504_AC-010_bias.fit\n",
      "60 dark_190504_AC-011_bias.fit\n",
      "61 dark_190504_AC-012_bias.fit\n",
      "62 dark_190504_AC-013_bias.fit\n",
      "63 dark_190504_AC-014_bias.fit\n",
      "64 dark_190504_AC-015_bias.fit\n",
      "65 dark_190504_AC-016_bias.fit\n",
      "66 dark_190504_AC-017_bias.fit\n",
      "67 dark_190504_AC-018_bias.fit\n",
      "68 dark_190504_AC-019_bias.fit\n",
      "69 dark_190504_AC-020_bias.fit\n",
      "70 dark_190504_AC-021_bias.fit\n",
      "71 dark_190504_AC-022_bias.fit\n",
      "72 dark_190504_AC-023_bias.fit\n",
      "73 dark_190504_AC-024_bias.fit\n",
      "74 dark_190504_AC-025_bias.fit\n",
      "75 dark_190504_AD-001_bias.fit\n",
      "76 dark_190504_AD-002_bias.fit\n",
      "77 dark_190504_AD-003_bias.fit\n",
      "78 dark_190504_AD-004_bias.fit\n",
      "79 dark_190504_AD-005_bias.fit\n",
      "80 dark_190504_AD-006_bias.fit\n",
      "81 dark_190504_AD-007_bias.fit\n",
      "82 dark_190504_AD-008_bias.fit\n",
      "83 dark_190504_AD-009_bias.fit\n",
      "84 dark_190504_AD-010_bias.fit\n",
      "85 dark_190504_AD-011_bias.fit\n",
      "86 dark_190504_AD-012_bias.fit\n",
      "87 dark_190504_AD-013_bias.fit\n",
      "88 dark_190504_AD-014_bias.fit\n",
      "89 dark_190504_AD-015_bias.fit\n",
      "90 dark_190504_AD-016_bias.fit\n",
      "91 dark_190504_AD-017_bias.fit\n",
      "92 dark_190504_AD-018_bias.fit\n",
      "93 dark_190504_AD-019_bias.fit\n",
      "94 dark_190504_AD-020_bias.fit\n",
      "95 dark_190504_AD-021_bias.fit\n",
      "96 dark_190504_AD-022_bias.fit\n",
      "97 dark_190504_AD-023_bias.fit\n",
      "98 dark_190504_AD-024_bias.fit\n",
      "99 dark_190504_AD-025_bias.fit\n",
      "100 dark_190504_AD-026_bias.fit\n",
      "101 dark_190504_AD-027_bias.fit\n",
      "102 dark_190504_AD-028_bias.fit\n",
      "103 dark_190504_AD-029_bias.fit\n",
      "104 dark_190504_AD-030_bias.fit\n",
      "105 dark_190504_AD-031_bias.fit\n",
      "106 dark_190504_AD-032_bias.fit\n",
      "107 dark_190504_AD-033_bias.fit\n",
      "108 dark_190504_AD-034_bias.fit\n",
      "109 dark_190504_AD-035_bias.fit\n",
      "110 dark_190504_AD-036_bias.fit\n",
      "111 dark_190504_AD-037_bias.fit\n",
      "112 dark_190504_AD-038_bias.fit\n",
      "113 dark_190504_AD-039_bias.fit\n",
      "114 dark_190504_AD-040_bias.fit\n",
      "115 dark_190504_AD-041_bias.fit\n",
      "116 dark_190504_AD-042_bias.fit\n",
      "117 dark_190504_AD-043_bias.fit\n",
      "118 dark_190504_AD-044_bias.fit\n",
      "119 dark_190504_AD-045_bias.fit\n",
      "120 dark_190504_AD-046_bias.fit\n",
      "121 dark_190504_AD-047_bias.fit\n",
      "122 dark_190504_AD-048_bias.fit\n",
      "123 dark_190504_AD-049_bias.fit\n",
      "124 dark_190504_AD-050_bias.fit\n",
      "125 dark_190504_AD-051_bias.fit\n",
      "126 dark_190504_AD-052_bias.fit\n",
      "127 dark_190504_AD-053_bias.fit\n",
      "128 dark_190504_AD-054_bias.fit\n",
      "129 dark_190504_AD-055_bias.fit\n",
      "130 dark_190504_AD-056_bias.fit\n",
      "131 dark_190504_AD-057_bias.fit\n",
      "132 dark_190504_AD-058_bias.fit\n",
      "133 dark_190504_AD-059_bias.fit\n",
      "134 dark_190504_AD-060_bias.fit\n",
      "135 dark_190504_AD-061_bias.fit\n",
      "136 dark_190504_AD-062_bias.fit\n",
      "137 dark_190504_AD-063_bias.fit\n",
      "138 dark_190504_AD-064_bias.fit\n",
      "139 dark_190504_AD-065_bias.fit\n",
      "140 dark_190504_AD-066_bias.fit\n",
      "141 dark_190504_AD-067_bias.fit\n",
      "142 dark_190504_AD-068_bias.fit\n",
      "143 dark_190504_AD-069_bias.fit\n",
      "144 dark_190504_AD-070_bias.fit\n",
      "145 dark_190504_AD-071_bias.fit\n",
      "146 dark_190504_AD-072_bias.fit\n",
      "147 dark_190504_AD-073_bias.fit\n",
      "148 dark_190504_AD-074_bias.fit\n",
      "149 dark_190504_AD-075_bias.fit\n",
      "150 dark_190504_AD-076_bias.fit\n",
      "151 dark_190504_AD-077_bias.fit\n",
      "152 dark_190504_AD-078_bias.fit\n",
      "153 dark_190504_AD-079_bias.fit\n",
      "154 dark_190504_AD-080_bias.fit\n",
      "155 dark_190504_AD-081_bias.fit\n",
      "156 dark_190504_AD-082_bias.fit\n",
      "157 dark_190504_AD-083_bias.fit\n",
      "158 dark_190504_AD-084_bias.fit\n",
      "159 dark_190504_AD-085_bias.fit\n",
      "160 dark_190504_AD-086_bias.fit\n",
      "161 dark_190504_AD-087_bias.fit\n",
      "162 dark_190504_AD-088_bias.fit\n",
      "163 dark_190504_AD-089_bias.fit\n",
      "164 dark_190504_AD-090_bias.fit\n",
      "165 dark_190504_AD-091_bias.fit\n",
      "166 dark_190504_AD-092_bias.fit\n",
      "167 dark_190504_AD-093_bias.fit\n",
      "168 dark_190504_AD-094_bias.fit\n",
      "169 dark_190504_AD-095_bias.fit\n",
      "170 dark_190504_AD-096_bias.fit\n",
      "171 dark_190504_AD-098_bias.fit\n",
      "172 dark_190504_AD-099_bias.fit\n",
      "173 dark_190504_AD-100_bias.fit\n",
      "174 dark_190504_AD-101_bias.fit\n",
      "175 dark_190504_AD-102_bias.fit\n",
      "176 dark_190504_AD-103_bias.fit\n",
      "177 dark_190504_AD-104_bias.fit\n",
      "178 dark_190504_AD-105_bias.fit\n",
      "179 dark_190504_AD-106_bias.fit\n",
      "180 dark_190504_AD-107_bias.fit\n",
      "181 dark_190504_AD-108_bias.fit\n",
      "182 dark_190504_AD-109_bias.fit\n",
      "183 dark_190504_AD-110_bias.fit\n",
      "184 dark_190504_AD-111_bias.fit\n",
      "185 dark_190504_AD-112_bias.fit\n",
      "186 dark_190504_AD-113_bias.fit\n",
      "187 dark_190504_AD-114_bias.fit\n",
      "188 dark_190504_AD-115_bias.fit\n",
      "189 dark_190504_AD-116_bias.fit\n",
      "190 dark_190504_AD-117_bias.fit\n",
      "191 dark_190504_AD-118_bias.fit\n",
      "192 dark_190504_AD-119_bias.fit\n",
      "193 dark_190504_AD-120_bias.fit\n",
      "194 dark_190504_AD-121_bias.fit\n",
      "195 dark_190504_AD-122_bias.fit\n",
      "196 dark_190504_AD-123_bias.fit\n",
      "197 dark_190504_AD-124_bias.fit\n",
      "198 dark_190504_AD-125_bias.fit\n",
      "199 dark_190504_AD-126_bias.fit\n",
      "200 dark_190504_AD-127_bias.fit\n",
      "201 dark_190504_AD-128_bias.fit\n",
      "202 dark_190504_AD-129_bias.fit\n",
      "203 dark_190504_AD-130_bias.fit\n",
      "204 dark_190504_AD-131_bias.fit\n",
      "205 dark_190504_AD-132_bias.fit\n",
      "206 dark_190504_AD-133_bias.fit\n",
      "207 dark_190504_AD-134_bias.fit\n",
      "208 dark_190504_AD-135_bias.fit\n",
      "209 dark_190504_AD-136_bias.fit\n",
      "210 dark_190504_AD-137_bias.fit\n",
      "211 dark_190504_AD-138_bias.fit\n",
      "212 dark_190504_AD-139_bias.fit\n",
      "213 dark_190504_AD-140_bias.fit\n",
      "214 dark_190504_AD-141_bias.fit\n",
      "215 dark_190504_AD-142_bias.fit\n",
      "216 dark_190504_AD-143_bias.fit\n",
      "217 dark_190504_AD-144_bias.fit\n",
      "218 dark_190504_AD-145_bias.fit\n",
      "219 dark_190504_AD-146_bias.fit\n",
      "220 dark_190504_AD-147_bias.fit\n",
      "221 dark_190504_AD-148_bias.fit\n",
      "222 dark_190504_AD-149_bias.fit\n",
      "223 dark_190504_AD-150_bias.fit\n",
      "224 dark_190504_AD-151_bias.fit\n",
      "225 dark_190504_AD-152_bias.fit\n",
      "226 dark_190504_AD-153_bias.fit\n",
      "227 dark_190504_AD-154_bias.fit\n",
      "228 dark_190504_AD-155_bias.fit\n",
      "229 dark_190504_AD-156_bias.fit\n",
      "230 dark_190504_AD-157_bias.fit\n",
      "231 dark_190504_AD-158_bias.fit\n",
      "232 dark_190504_AD-159_bias.fit\n",
      "233 dark_190504_AD-160_bias.fit\n",
      "234 dark_190504_AD-161_bias.fit\n",
      "235 dark_190504_AD-162_bias.fit\n",
      "236 dark_190504_AD-163_bias.fit\n",
      "237 dark_190504_AD-164_bias.fit\n",
      "238 dark_190504_AD-165_bias.fit\n",
      "239 dark_190504_AD-166_bias.fit\n",
      "240 dark_190504_AD-167_bias.fit\n",
      "241 dark_190504_AD-168_bias.fit\n",
      "242 dark_190504_AD-169_bias.fit\n",
      "243 dark_190504_AD-170_bias.fit\n",
      "244 dark_190504_AD-171_bias.fit\n",
      "245 dark_190504_AD-172_bias.fit\n",
      "246 dark_190504_AD-173_bias.fit\n",
      "247 dark_190504_AD-174_bias.fit\n",
      "248 dark_190504_AD-175_bias.fit\n",
      "249 dark_190504_AD-176_bias.fit\n",
      "250 dark_190504_AD-177_bias.fit\n",
      "251 dark_190504_AD-178_bias.fit\n",
      "252 dark_190504_AD-179_bias.fit\n",
      "253 dark_190504_AD-180_bias.fit\n",
      "254 dark_190504_AD-181_bias.fit\n",
      "255 dark_190504_AD-182_bias.fit\n",
      "256 dark_190504_AD-183_bias.fit\n",
      "257 dark_190504_AD-184_bias.fit\n",
      "258 dark_190504_AD-185_bias.fit\n",
      "259 dark_190504_AD-186_bias.fit\n",
      "260 dark_190504_AD-187_bias.fit\n",
      "261 dark_190504_AD-188_bias.fit\n",
      "262 dark_190504_AD-189_bias.fit\n",
      "263 dark_190504_AD-190_bias.fit\n",
      "264 dark_190504_AD-191_bias.fit\n",
      "265 dark_190504_AD-192_bias.fit\n",
      "266 dark_190504_AD-193_bias.fit\n",
      "267 dark_190504_AD-194_bias.fit\n",
      "268 dark_190504_AD-195_bias.fit\n",
      "269 dark_190504_AD-196_bias.fit\n",
      "270 dark_190504_AD-197_bias.fit\n",
      "271 dark_190504_AD-198_bias.fit\n",
      "272 dark_190504_AD-199_bias.fit\n",
      "273 dark_190504_AD-200_bias.fit\n"
     ]
    }
   ],
   "source": [
    "#Here we select just the bias images. Later we will condense this process and analyze the other exposures seperately\n",
    "\n",
    "whichpath = datapath\n",
    "\n",
    "somefiles = [f for f in os.listdir(whichpath) if '.fit' in f and '_bias' in f and'stack' not in f]\n",
    "\n",
    "somefiles = sorted(somefiles)       ## This is necessary on my Mac, may not be for others?\n",
    "for i in range(len(somefiles)):\n",
    "    print( i, somefiles[i])\n",
    "\n"
   ]
  },
  {
   "cell_type": "code",
   "execution_count": 6,
   "metadata": {},
   "outputs": [
    {
     "name": "stdout",
     "output_type": "stream",
     "text": [
      "0 dark_190504_AB-001_bias.fit\n",
      "1 dark_190504_AB-002_bias.fit\n",
      "2 dark_190504_AB-003_bias.fit\n",
      "3 dark_190504_AB-004_bias.fit\n",
      "4 dark_190504_AB-005_bias.fit\n",
      "5 dark_190504_AB-006_bias.fit\n",
      "6 dark_190504_AB-007_bias.fit\n",
      "7 dark_190504_AB-008_bias.fit\n",
      "8 dark_190504_AB-009_bias.fit\n",
      "9 dark_190504_AB-010_bias.fit\n",
      "10 dark_190504_AB-011_bias.fit\n",
      "11 dark_190504_AB-012_bias.fit\n",
      "12 dark_190504_AB-013_bias.fit\n",
      "13 dark_190504_AB-014_bias.fit\n",
      "14 dark_190504_AB-015_bias.fit\n",
      "15 dark_190504_AB-016_bias.fit\n",
      "16 dark_190504_AB-017_bias.fit\n",
      "17 dark_190504_AB-018_bias.fit\n",
      "18 dark_190504_AB-019_bias.fit\n",
      "19 dark_190504_AB-020_bias.fit\n",
      "20 dark_190504_AB-021_bias.fit\n",
      "21 dark_190504_AB-022_bias.fit\n",
      "22 dark_190504_AB-023_bias.fit\n",
      "23 dark_190504_AB-024_bias.fit\n",
      "24 dark_190504_AB-025_bias.fit\n",
      "25 dark_190504_AB-026_bias.fit\n",
      "26 dark_190504_AB-027_bias.fit\n",
      "27 dark_190504_AB-028_bias.fit\n",
      "28 dark_190504_AB-029_bias.fit\n",
      "29 dark_190504_AB-030_bias.fit\n",
      "30 dark_190504_AB-031_bias.fit\n",
      "31 dark_190504_AB-032_bias.fit\n",
      "32 dark_190504_AB-033_bias.fit\n",
      "33 dark_190504_AB-034_bias.fit\n",
      "34 dark_190504_AB-035_bias.fit\n",
      "35 dark_190504_AB-036_bias.fit\n",
      "36 dark_190504_AB-037_bias.fit\n",
      "37 dark_190504_AB-038_bias.fit\n",
      "38 dark_190504_AB-039_bias.fit\n",
      "39 dark_190504_AB-040_bias.fit\n",
      "40 dark_190504_AB-041_bias.fit\n",
      "41 dark_190504_AB-042_bias.fit\n",
      "42 dark_190504_AB-043_bias.fit\n",
      "43 dark_190504_AB-044_bias.fit\n",
      "44 dark_190504_AB-045_bias.fit\n",
      "45 dark_190504_AB-046_bias.fit\n",
      "46 dark_190504_AB-047_bias.fit\n",
      "47 dark_190504_AB-048_bias.fit\n",
      "48 dark_190504_AB-049_bias.fit\n",
      "49 dark_190504_AB-050_bias.fit\n",
      "50 dark_190504_AC-001_bias.fit\n",
      "51 dark_190504_AC-002_bias.fit\n",
      "52 dark_190504_AC-003_bias.fit\n",
      "53 dark_190504_AC-004_bias.fit\n",
      "54 dark_190504_AC-005_bias.fit\n",
      "55 dark_190504_AC-006_bias.fit\n",
      "56 dark_190504_AC-007_bias.fit\n",
      "57 dark_190504_AC-008_bias.fit\n",
      "58 dark_190504_AC-009_bias.fit\n",
      "59 dark_190504_AC-010_bias.fit\n",
      "60 dark_190504_AC-011_bias.fit\n",
      "61 dark_190504_AC-012_bias.fit\n",
      "62 dark_190504_AC-013_bias.fit\n",
      "63 dark_190504_AC-014_bias.fit\n",
      "64 dark_190504_AC-015_bias.fit\n",
      "65 dark_190504_AC-016_bias.fit\n",
      "66 dark_190504_AC-017_bias.fit\n",
      "67 dark_190504_AC-018_bias.fit\n",
      "68 dark_190504_AC-019_bias.fit\n",
      "69 dark_190504_AC-020_bias.fit\n",
      "70 dark_190504_AC-021_bias.fit\n",
      "71 dark_190504_AC-022_bias.fit\n",
      "72 dark_190504_AC-023_bias.fit\n",
      "73 dark_190504_AC-024_bias.fit\n",
      "74 dark_190504_AC-025_bias.fit\n",
      "75 dark_190504_AD-001_bias.fit\n",
      "76 dark_190504_AD-002_bias.fit\n",
      "77 dark_190504_AD-003_bias.fit\n",
      "78 dark_190504_AD-004_bias.fit\n",
      "79 dark_190504_AD-005_bias.fit\n",
      "80 dark_190504_AD-006_bias.fit\n",
      "81 dark_190504_AD-007_bias.fit\n",
      "82 dark_190504_AD-008_bias.fit\n",
      "83 dark_190504_AD-009_bias.fit\n",
      "84 dark_190504_AD-010_bias.fit\n",
      "85 dark_190504_AD-011_bias.fit\n",
      "86 dark_190504_AD-012_bias.fit\n",
      "87 dark_190504_AD-013_bias.fit\n",
      "88 dark_190504_AD-014_bias.fit\n",
      "89 dark_190504_AD-015_bias.fit\n",
      "90 dark_190504_AD-016_bias.fit\n",
      "91 dark_190504_AD-017_bias.fit\n",
      "92 dark_190504_AD-018_bias.fit\n",
      "93 dark_190504_AD-019_bias.fit\n",
      "94 dark_190504_AD-020_bias.fit\n",
      "95 dark_190504_AD-021_bias.fit\n",
      "96 dark_190504_AD-022_bias.fit\n",
      "97 dark_190504_AD-023_bias.fit\n",
      "98 dark_190504_AD-024_bias.fit\n",
      "99 dark_190504_AD-025_bias.fit\n",
      "100 dark_190504_AD-026_bias.fit\n",
      "101 dark_190504_AD-027_bias.fit\n",
      "102 dark_190504_AD-028_bias.fit\n",
      "103 dark_190504_AD-029_bias.fit\n",
      "104 dark_190504_AD-030_bias.fit\n",
      "105 dark_190504_AD-031_bias.fit\n",
      "106 dark_190504_AD-032_bias.fit\n",
      "107 dark_190504_AD-033_bias.fit\n",
      "108 dark_190504_AD-034_bias.fit\n",
      "109 dark_190504_AD-035_bias.fit\n",
      "110 dark_190504_AD-036_bias.fit\n",
      "111 dark_190504_AD-037_bias.fit\n",
      "112 dark_190504_AD-038_bias.fit\n",
      "113 dark_190504_AD-039_bias.fit\n",
      "114 dark_190504_AD-040_bias.fit\n",
      "115 dark_190504_AD-041_bias.fit\n",
      "116 dark_190504_AD-042_bias.fit\n",
      "117 dark_190504_AD-043_bias.fit\n",
      "118 dark_190504_AD-044_bias.fit\n",
      "119 dark_190504_AD-045_bias.fit\n",
      "120 dark_190504_AD-046_bias.fit\n",
      "121 dark_190504_AD-047_bias.fit\n",
      "122 dark_190504_AD-048_bias.fit\n",
      "123 dark_190504_AD-049_bias.fit\n",
      "124 dark_190504_AD-050_bias.fit\n",
      "125 dark_190504_AD-051_bias.fit\n",
      "126 dark_190504_AD-052_bias.fit\n",
      "127 dark_190504_AD-053_bias.fit\n",
      "128 dark_190504_AD-054_bias.fit\n",
      "129 dark_190504_AD-055_bias.fit\n",
      "130 dark_190504_AD-056_bias.fit\n",
      "131 dark_190504_AD-057_bias.fit\n",
      "132 dark_190504_AD-058_bias.fit\n",
      "133 dark_190504_AD-059_bias.fit\n",
      "134 dark_190504_AD-060_bias.fit\n",
      "135 dark_190504_AD-061_bias.fit\n",
      "136 dark_190504_AD-062_bias.fit\n",
      "137 dark_190504_AD-063_bias.fit\n",
      "138 dark_190504_AD-064_bias.fit\n",
      "139 dark_190504_AD-065_bias.fit\n",
      "140 dark_190504_AD-066_bias.fit\n",
      "141 dark_190504_AD-067_bias.fit\n",
      "142 dark_190504_AD-068_bias.fit\n",
      "143 dark_190504_AD-069_bias.fit\n",
      "144 dark_190504_AD-070_bias.fit\n",
      "145 dark_190504_AD-071_bias.fit\n",
      "146 dark_190504_AD-072_bias.fit\n",
      "147 dark_190504_AD-073_bias.fit\n",
      "148 dark_190504_AD-074_bias.fit\n",
      "149 dark_190504_AD-075_bias.fit\n",
      "150 dark_190504_AD-076_bias.fit\n",
      "151 dark_190504_AD-077_bias.fit\n",
      "152 dark_190504_AD-078_bias.fit\n",
      "153 dark_190504_AD-079_bias.fit\n",
      "154 dark_190504_AD-080_bias.fit\n",
      "155 dark_190504_AD-081_bias.fit\n",
      "156 dark_190504_AD-082_bias.fit\n",
      "157 dark_190504_AD-083_bias.fit\n",
      "158 dark_190504_AD-084_bias.fit\n",
      "159 dark_190504_AD-085_bias.fit\n",
      "160 dark_190504_AD-086_bias.fit\n",
      "161 dark_190504_AD-087_bias.fit\n",
      "162 dark_190504_AD-088_bias.fit\n",
      "163 dark_190504_AD-089_bias.fit\n",
      "164 dark_190504_AD-090_bias.fit\n",
      "165 dark_190504_AD-091_bias.fit\n",
      "166 dark_190504_AD-092_bias.fit\n",
      "167 dark_190504_AD-093_bias.fit\n",
      "168 dark_190504_AD-094_bias.fit\n",
      "169 dark_190504_AD-095_bias.fit\n",
      "170 dark_190504_AD-096_bias.fit\n",
      "171 dark_190504_AD-098_bias.fit\n",
      "172 dark_190504_AD-099_bias.fit\n",
      "173 dark_190504_AD-100_bias.fit\n",
      "174 dark_190504_AD-101_bias.fit\n",
      "175 dark_190504_AD-102_bias.fit\n",
      "176 dark_190504_AD-103_bias.fit\n",
      "177 dark_190504_AD-104_bias.fit\n",
      "178 dark_190504_AD-105_bias.fit\n",
      "179 dark_190504_AD-106_bias.fit\n",
      "180 dark_190504_AD-107_bias.fit\n",
      "181 dark_190504_AD-108_bias.fit\n",
      "182 dark_190504_AD-109_bias.fit\n",
      "183 dark_190504_AD-110_bias.fit\n",
      "184 dark_190504_AD-111_bias.fit\n",
      "185 dark_190504_AD-112_bias.fit\n",
      "186 dark_190504_AD-113_bias.fit\n",
      "187 dark_190504_AD-114_bias.fit\n",
      "188 dark_190504_AD-115_bias.fit\n",
      "189 dark_190504_AD-116_bias.fit\n",
      "190 dark_190504_AD-117_bias.fit\n",
      "191 dark_190504_AD-118_bias.fit\n",
      "192 dark_190504_AD-119_bias.fit\n",
      "193 dark_190504_AD-120_bias.fit\n",
      "194 dark_190504_AD-121_bias.fit\n",
      "195 dark_190504_AD-122_bias.fit\n",
      "196 dark_190504_AD-123_bias.fit\n",
      "197 dark_190504_AD-124_bias.fit\n",
      "198 dark_190504_AD-125_bias.fit\n",
      "199 dark_190504_AD-126_bias.fit\n",
      "200 dark_190504_AD-127_bias.fit\n",
      "201 dark_190504_AD-128_bias.fit\n",
      "202 dark_190504_AD-129_bias.fit\n",
      "203 dark_190504_AD-130_bias.fit\n",
      "204 dark_190504_AD-131_bias.fit\n",
      "205 dark_190504_AD-132_bias.fit\n",
      "206 dark_190504_AD-133_bias.fit\n",
      "207 dark_190504_AD-134_bias.fit\n",
      "208 dark_190504_AD-135_bias.fit\n",
      "209 dark_190504_AD-136_bias.fit\n",
      "210 dark_190504_AD-137_bias.fit\n",
      "211 dark_190504_AD-138_bias.fit\n",
      "212 dark_190504_AD-139_bias.fit\n",
      "213 dark_190504_AD-140_bias.fit\n",
      "214 dark_190504_AD-141_bias.fit\n",
      "215 dark_190504_AD-142_bias.fit\n",
      "216 dark_190504_AD-143_bias.fit\n",
      "217 dark_190504_AD-144_bias.fit\n",
      "218 dark_190504_AD-145_bias.fit\n",
      "219 dark_190504_AD-146_bias.fit\n",
      "220 dark_190504_AD-147_bias.fit\n",
      "221 dark_190504_AD-148_bias.fit\n",
      "222 dark_190504_AD-149_bias.fit\n",
      "223 dark_190504_AD-150_bias.fit\n",
      "224 dark_190504_AD-151_bias.fit\n",
      "225 dark_190504_AD-152_bias.fit\n",
      "226 dark_190504_AD-153_bias.fit\n",
      "227 dark_190504_AD-154_bias.fit\n",
      "228 dark_190504_AD-155_bias.fit\n",
      "229 dark_190504_AD-156_bias.fit\n",
      "230 dark_190504_AD-157_bias.fit\n",
      "231 dark_190504_AD-158_bias.fit\n",
      "232 dark_190504_AD-159_bias.fit\n",
      "233 dark_190504_AD-160_bias.fit\n",
      "234 dark_190504_AD-161_bias.fit\n",
      "235 dark_190504_AD-162_bias.fit\n",
      "236 dark_190504_AD-163_bias.fit\n",
      "237 dark_190504_AD-164_bias.fit\n",
      "238 dark_190504_AD-165_bias.fit\n",
      "239 dark_190504_AD-166_bias.fit\n",
      "240 dark_190504_AD-167_bias.fit\n",
      "241 dark_190504_AD-168_bias.fit\n",
      "242 dark_190504_AD-169_bias.fit\n",
      "243 dark_190504_AD-170_bias.fit\n",
      "244 dark_190504_AD-171_bias.fit\n",
      "245 dark_190504_AD-172_bias.fit\n",
      "246 dark_190504_AD-173_bias.fit\n",
      "247 dark_190504_AD-174_bias.fit\n",
      "248 dark_190504_AD-175_bias.fit\n",
      "249 dark_190504_AD-176_bias.fit\n",
      "250 dark_190504_AD-177_bias.fit\n",
      "251 dark_190504_AD-178_bias.fit\n",
      "252 dark_190504_AD-179_bias.fit\n",
      "253 dark_190504_AD-180_bias.fit\n",
      "254 dark_190504_AD-181_bias.fit\n",
      "255 dark_190504_AD-182_bias.fit\n",
      "256 dark_190504_AD-183_bias.fit\n",
      "257 dark_190504_AD-184_bias.fit\n",
      "258 dark_190504_AD-185_bias.fit\n",
      "259 dark_190504_AD-186_bias.fit\n",
      "260 dark_190504_AD-187_bias.fit\n",
      "261 dark_190504_AD-188_bias.fit\n",
      "262 dark_190504_AD-189_bias.fit\n",
      "263 dark_190504_AD-190_bias.fit\n",
      "264 dark_190504_AD-191_bias.fit\n",
      "265 dark_190504_AD-192_bias.fit\n",
      "266 dark_190504_AD-193_bias.fit\n",
      "267 dark_190504_AD-194_bias.fit\n",
      "268 dark_190504_AD-195_bias.fit\n",
      "269 dark_190504_AD-196_bias.fit\n",
      "270 dark_190504_AD-197_bias.fit\n",
      "271 dark_190504_AD-198_bias.fit\n",
      "272 dark_190504_AD-199_bias.fit\n",
      "273 dark_190504_AD-200_bias.fit\n"
     ]
    }
   ],
   "source": [
    "#I think this cell accepts all of the bias files into a single subset\n",
    "\n",
    "acceptlist = True             # True if you want to accept all the files in somefiles.\n",
    "contiguous = True             # True if you want to accept a contiguous subset of somefiles.\n",
    "startfile, endfile = 5,9      # The first and last files in a contiquous subset.\n",
    "flist = [0,3,4,5,6,7,8]        # An explicit list of the files you want to accept.\n",
    "\n",
    "if acceptlist == True:\n",
    "    files = somefiles\n",
    "    for i in range(len(files)):\n",
    "        print(i, files[i])\n",
    "else:\n",
    "    if contiguous == True:\n",
    "        files = somefiles[startfile:endfile+1]\n",
    "        for i in range(len(files)):\n",
    "            print( i, files[i])\n",
    "    else:\n",
    "        files = []\n",
    "        for i in range(len(flist)):\n",
    "            files.append(somefiles[flist[i]])\n",
    "        for i in range(len(files)):\n",
    "            print( i, flist[i], files[i])"
   ]
  },
  {
   "cell_type": "code",
   "execution_count": 7,
   "metadata": {},
   "outputs": [
    {
     "name": "stderr",
     "output_type": "stream",
     "text": [
      "GetHeadVal: Missing Configuration\n",
      "GetHeadVal: Missing Configuration\n",
      "GetHeadVal: Missing Configuration\n",
      "GetHeadVal: Missing Configuration\n"
     ]
    },
    {
     "name": "stdout",
     "output_type": "stream",
     "text": [
      "rows = 1024    cols = 1024\n",
      "image.shape = (274, 1024, 1024)\n",
      "\n",
      "0 dark_190504_AB-001_bias.fit\n"
     ]
    },
    {
     "name": "stderr",
     "output_type": "stream",
     "text": [
      "GetHeadVal: Missing Configuration\n",
      "GetHeadVal: Missing Configuration\n",
      "GetHeadVal: Missing Configuration\n",
      "GetHeadVal: Missing Configuration\n"
     ]
    },
    {
     "name": "stdout",
     "output_type": "stream",
     "text": [
      "\n",
      "1 dark_190504_AB-002_bias.fit\n",
      "\n",
      "2 dark_190504_AB-003_bias.fit\n"
     ]
    },
    {
     "name": "stderr",
     "output_type": "stream",
     "text": [
      "GetHeadVal: Missing Configuration\n",
      "GetHeadVal: Missing Configuration\n",
      "GetHeadVal: Missing Configuration\n",
      "GetHeadVal: Missing Configuration\n"
     ]
    },
    {
     "name": "stdout",
     "output_type": "stream",
     "text": [
      "\n",
      "3 dark_190504_AB-004_bias.fit\n",
      "\n",
      "4 dark_190504_AB-005_bias.fit\n"
     ]
    },
    {
     "name": "stderr",
     "output_type": "stream",
     "text": [
      "GetHeadVal: Missing Configuration\n",
      "GetHeadVal: Missing Configuration\n",
      "GetHeadVal: Missing Configuration\n",
      "GetHeadVal: Missing Configuration\n"
     ]
    },
    {
     "name": "stdout",
     "output_type": "stream",
     "text": [
      "\n",
      "5 dark_190504_AB-006_bias.fit\n",
      "\n",
      "6 dark_190504_AB-007_bias.fit\n"
     ]
    },
    {
     "name": "stderr",
     "output_type": "stream",
     "text": [
      "GetHeadVal: Missing Configuration\n",
      "GetHeadVal: Missing Configuration\n",
      "GetHeadVal: Missing Configuration\n",
      "GetHeadVal: Missing Configuration\n"
     ]
    },
    {
     "name": "stdout",
     "output_type": "stream",
     "text": [
      "\n",
      "7 dark_190504_AB-008_bias.fit\n",
      "\n",
      "8 dark_190504_AB-009_bias.fit\n"
     ]
    },
    {
     "name": "stderr",
     "output_type": "stream",
     "text": [
      "GetHeadVal: Missing Configuration\n",
      "GetHeadVal: Missing Configuration\n",
      "GetHeadVal: Missing Configuration\n",
      "GetHeadVal: Missing Configuration\n"
     ]
    },
    {
     "name": "stdout",
     "output_type": "stream",
     "text": [
      "\n",
      "9 dark_190504_AB-010_bias.fit\n",
      "\n",
      "10 dark_190504_AB-011_bias.fit\n"
     ]
    },
    {
     "name": "stderr",
     "output_type": "stream",
     "text": [
      "GetHeadVal: Missing Configuration\n",
      "GetHeadVal: Missing Configuration\n",
      "GetHeadVal: Missing Configuration\n",
      "GetHeadVal: Missing Configuration\n"
     ]
    },
    {
     "name": "stdout",
     "output_type": "stream",
     "text": [
      "\n",
      "11 dark_190504_AB-012_bias.fit\n",
      "\n",
      "12 dark_190504_AB-013_bias.fit\n"
     ]
    },
    {
     "name": "stderr",
     "output_type": "stream",
     "text": [
      "GetHeadVal: Missing Configuration\n",
      "GetHeadVal: Missing Configuration\n",
      "GetHeadVal: Missing Configuration\n",
      "GetHeadVal: Missing Configuration\n"
     ]
    },
    {
     "name": "stdout",
     "output_type": "stream",
     "text": [
      "\n",
      "13 dark_190504_AB-014_bias.fit\n",
      "\n",
      "14 dark_190504_AB-015_bias.fit\n"
     ]
    },
    {
     "name": "stderr",
     "output_type": "stream",
     "text": [
      "GetHeadVal: Missing Configuration\n",
      "GetHeadVal: Missing Configuration\n",
      "GetHeadVal: Missing Configuration\n",
      "GetHeadVal: Missing Configuration\n"
     ]
    },
    {
     "name": "stdout",
     "output_type": "stream",
     "text": [
      "\n",
      "15 dark_190504_AB-016_bias.fit\n",
      "\n",
      "16 dark_190504_AB-017_bias.fit\n"
     ]
    },
    {
     "name": "stderr",
     "output_type": "stream",
     "text": [
      "GetHeadVal: Missing Configuration\n",
      "GetHeadVal: Missing Configuration\n",
      "GetHeadVal: Missing Configuration\n",
      "GetHeadVal: Missing Configuration\n"
     ]
    },
    {
     "name": "stdout",
     "output_type": "stream",
     "text": [
      "\n",
      "17 dark_190504_AB-018_bias.fit\n",
      "\n",
      "18 dark_190504_AB-019_bias.fit\n"
     ]
    },
    {
     "name": "stderr",
     "output_type": "stream",
     "text": [
      "GetHeadVal: Missing Configuration\n",
      "GetHeadVal: Missing Configuration\n",
      "GetHeadVal: Missing Configuration\n",
      "GetHeadVal: Missing Configuration\n"
     ]
    },
    {
     "name": "stdout",
     "output_type": "stream",
     "text": [
      "\n",
      "19 dark_190504_AB-020_bias.fit\n",
      "\n",
      "20 dark_190504_AB-021_bias.fit\n"
     ]
    },
    {
     "name": "stderr",
     "output_type": "stream",
     "text": [
      "GetHeadVal: Missing Configuration\n",
      "GetHeadVal: Missing Configuration\n",
      "GetHeadVal: Missing Configuration\n",
      "GetHeadVal: Missing Configuration\n"
     ]
    },
    {
     "name": "stdout",
     "output_type": "stream",
     "text": [
      "\n",
      "21 dark_190504_AB-022_bias.fit\n",
      "\n",
      "22 dark_190504_AB-023_bias.fit\n"
     ]
    },
    {
     "name": "stderr",
     "output_type": "stream",
     "text": [
      "GetHeadVal: Missing Configuration\n",
      "GetHeadVal: Missing Configuration\n",
      "GetHeadVal: Missing Configuration\n",
      "GetHeadVal: Missing Configuration\n"
     ]
    },
    {
     "name": "stdout",
     "output_type": "stream",
     "text": [
      "\n",
      "23 dark_190504_AB-024_bias.fit\n",
      "\n",
      "24 dark_190504_AB-025_bias.fit\n"
     ]
    },
    {
     "name": "stderr",
     "output_type": "stream",
     "text": [
      "GetHeadVal: Missing Configuration\n",
      "GetHeadVal: Missing Configuration\n",
      "GetHeadVal: Missing Configuration\n",
      "GetHeadVal: Missing Configuration\n"
     ]
    },
    {
     "name": "stdout",
     "output_type": "stream",
     "text": [
      "\n",
      "25 dark_190504_AB-026_bias.fit\n",
      "\n",
      "26 dark_190504_AB-027_bias.fit\n"
     ]
    },
    {
     "name": "stderr",
     "output_type": "stream",
     "text": [
      "GetHeadVal: Missing Configuration\n",
      "GetHeadVal: Missing Configuration\n",
      "GetHeadVal: Missing Configuration\n",
      "GetHeadVal: Missing Configuration\n"
     ]
    },
    {
     "name": "stdout",
     "output_type": "stream",
     "text": [
      "\n",
      "27 dark_190504_AB-028_bias.fit\n",
      "\n",
      "28 dark_190504_AB-029_bias.fit\n"
     ]
    },
    {
     "name": "stderr",
     "output_type": "stream",
     "text": [
      "GetHeadVal: Missing Configuration\n",
      "GetHeadVal: Missing Configuration\n",
      "GetHeadVal: Missing Configuration\n",
      "GetHeadVal: Missing Configuration\n"
     ]
    },
    {
     "name": "stdout",
     "output_type": "stream",
     "text": [
      "\n",
      "29 dark_190504_AB-030_bias.fit\n",
      "\n",
      "30 dark_190504_AB-031_bias.fit\n"
     ]
    },
    {
     "name": "stderr",
     "output_type": "stream",
     "text": [
      "GetHeadVal: Missing Configuration\n",
      "GetHeadVal: Missing Configuration\n",
      "GetHeadVal: Missing Configuration\n",
      "GetHeadVal: Missing Configuration\n"
     ]
    },
    {
     "name": "stdout",
     "output_type": "stream",
     "text": [
      "\n",
      "31 dark_190504_AB-032_bias.fit\n",
      "\n",
      "32 dark_190504_AB-033_bias.fit\n"
     ]
    },
    {
     "name": "stderr",
     "output_type": "stream",
     "text": [
      "GetHeadVal: Missing Configuration\n",
      "GetHeadVal: Missing Configuration\n",
      "GetHeadVal: Missing Configuration\n",
      "GetHeadVal: Missing Configuration\n"
     ]
    },
    {
     "name": "stdout",
     "output_type": "stream",
     "text": [
      "\n",
      "33 dark_190504_AB-034_bias.fit\n",
      "\n",
      "34 dark_190504_AB-035_bias.fit\n"
     ]
    },
    {
     "name": "stderr",
     "output_type": "stream",
     "text": [
      "GetHeadVal: Missing Configuration\n",
      "GetHeadVal: Missing Configuration\n",
      "GetHeadVal: Missing Configuration\n",
      "GetHeadVal: Missing Configuration\n"
     ]
    },
    {
     "name": "stdout",
     "output_type": "stream",
     "text": [
      "\n",
      "35 dark_190504_AB-036_bias.fit\n",
      "\n",
      "36 dark_190504_AB-037_bias.fit\n"
     ]
    },
    {
     "name": "stderr",
     "output_type": "stream",
     "text": [
      "GetHeadVal: Missing Configuration\n",
      "GetHeadVal: Missing Configuration\n",
      "GetHeadVal: Missing Configuration\n",
      "GetHeadVal: Missing Configuration\n"
     ]
    },
    {
     "name": "stdout",
     "output_type": "stream",
     "text": [
      "\n",
      "37 dark_190504_AB-038_bias.fit\n",
      "\n",
      "38 dark_190504_AB-039_bias.fit\n"
     ]
    },
    {
     "name": "stderr",
     "output_type": "stream",
     "text": [
      "GetHeadVal: Missing Configuration\n",
      "GetHeadVal: Missing Configuration\n",
      "GetHeadVal: Missing Configuration\n",
      "GetHeadVal: Missing Configuration\n"
     ]
    },
    {
     "name": "stdout",
     "output_type": "stream",
     "text": [
      "\n",
      "39 dark_190504_AB-040_bias.fit\n",
      "\n",
      "40 dark_190504_AB-041_bias.fit\n"
     ]
    },
    {
     "name": "stderr",
     "output_type": "stream",
     "text": [
      "GetHeadVal: Missing Configuration\n",
      "GetHeadVal: Missing Configuration\n",
      "GetHeadVal: Missing Configuration\n",
      "GetHeadVal: Missing Configuration\n"
     ]
    },
    {
     "name": "stdout",
     "output_type": "stream",
     "text": [
      "\n",
      "41 dark_190504_AB-042_bias.fit\n",
      "\n",
      "42 dark_190504_AB-043_bias.fit\n"
     ]
    },
    {
     "name": "stderr",
     "output_type": "stream",
     "text": [
      "GetHeadVal: Missing Configuration\n",
      "GetHeadVal: Missing Configuration\n",
      "GetHeadVal: Missing Configuration\n",
      "GetHeadVal: Missing Configuration\n"
     ]
    },
    {
     "name": "stdout",
     "output_type": "stream",
     "text": [
      "\n",
      "43 dark_190504_AB-044_bias.fit\n",
      "\n",
      "44 dark_190504_AB-045_bias.fit\n"
     ]
    },
    {
     "name": "stderr",
     "output_type": "stream",
     "text": [
      "GetHeadVal: Missing Configuration\n",
      "GetHeadVal: Missing Configuration\n",
      "GetHeadVal: Missing Configuration\n",
      "GetHeadVal: Missing Configuration\n"
     ]
    },
    {
     "name": "stdout",
     "output_type": "stream",
     "text": [
      "\n",
      "45 dark_190504_AB-046_bias.fit\n",
      "\n",
      "46 dark_190504_AB-047_bias.fit\n"
     ]
    },
    {
     "name": "stderr",
     "output_type": "stream",
     "text": [
      "GetHeadVal: Missing Configuration\n",
      "GetHeadVal: Missing Configuration\n",
      "GetHeadVal: Missing Configuration\n",
      "GetHeadVal: Missing Configuration\n"
     ]
    },
    {
     "name": "stdout",
     "output_type": "stream",
     "text": [
      "\n",
      "47 dark_190504_AB-048_bias.fit\n",
      "\n",
      "48 dark_190504_AB-049_bias.fit\n"
     ]
    },
    {
     "name": "stderr",
     "output_type": "stream",
     "text": [
      "GetHeadVal: Missing Configuration\n",
      "GetHeadVal: Missing Configuration\n",
      "GetHeadVal: Missing Configuration\n",
      "GetHeadVal: Missing Configuration\n"
     ]
    },
    {
     "name": "stdout",
     "output_type": "stream",
     "text": [
      "\n",
      "49 dark_190504_AB-050_bias.fit\n",
      "\n",
      "50 dark_190504_AC-001_bias.fit\n"
     ]
    },
    {
     "name": "stderr",
     "output_type": "stream",
     "text": [
      "GetHeadVal: Missing Configuration\n",
      "GetHeadVal: Missing Configuration\n",
      "GetHeadVal: Missing Configuration\n",
      "GetHeadVal: Missing Configuration\n"
     ]
    },
    {
     "name": "stdout",
     "output_type": "stream",
     "text": [
      "\n",
      "51 dark_190504_AC-002_bias.fit\n",
      "\n",
      "52 dark_190504_AC-003_bias.fit\n"
     ]
    },
    {
     "name": "stderr",
     "output_type": "stream",
     "text": [
      "GetHeadVal: Missing Configuration\n",
      "GetHeadVal: Missing Configuration\n",
      "GetHeadVal: Missing Configuration\n",
      "GetHeadVal: Missing Configuration\n"
     ]
    },
    {
     "name": "stdout",
     "output_type": "stream",
     "text": [
      "\n",
      "53 dark_190504_AC-004_bias.fit\n",
      "\n",
      "54 dark_190504_AC-005_bias.fit\n"
     ]
    },
    {
     "name": "stderr",
     "output_type": "stream",
     "text": [
      "GetHeadVal: Missing Configuration\n",
      "GetHeadVal: Missing Configuration\n",
      "GetHeadVal: Missing Configuration\n",
      "GetHeadVal: Missing Configuration\n"
     ]
    },
    {
     "name": "stdout",
     "output_type": "stream",
     "text": [
      "\n",
      "55 dark_190504_AC-006_bias.fit\n",
      "\n",
      "56 dark_190504_AC-007_bias.fit\n"
     ]
    },
    {
     "name": "stderr",
     "output_type": "stream",
     "text": [
      "GetHeadVal: Missing Configuration\n",
      "GetHeadVal: Missing Configuration\n",
      "GetHeadVal: Missing Configuration\n",
      "GetHeadVal: Missing Configuration\n"
     ]
    },
    {
     "name": "stdout",
     "output_type": "stream",
     "text": [
      "\n",
      "57 dark_190504_AC-008_bias.fit\n",
      "\n",
      "58 dark_190504_AC-009_bias.fit\n"
     ]
    },
    {
     "name": "stderr",
     "output_type": "stream",
     "text": [
      "GetHeadVal: Missing Configuration\n",
      "GetHeadVal: Missing Configuration\n",
      "GetHeadVal: Missing Configuration\n",
      "GetHeadVal: Missing Configuration\n"
     ]
    },
    {
     "name": "stdout",
     "output_type": "stream",
     "text": [
      "\n",
      "59 dark_190504_AC-010_bias.fit\n",
      "\n",
      "60 dark_190504_AC-011_bias.fit\n"
     ]
    },
    {
     "name": "stderr",
     "output_type": "stream",
     "text": [
      "GetHeadVal: Missing Configuration\n",
      "GetHeadVal: Missing Configuration\n",
      "GetHeadVal: Missing Configuration\n",
      "GetHeadVal: Missing Configuration\n"
     ]
    },
    {
     "name": "stdout",
     "output_type": "stream",
     "text": [
      "\n",
      "61 dark_190504_AC-012_bias.fit\n",
      "\n",
      "62 dark_190504_AC-013_bias.fit\n"
     ]
    },
    {
     "name": "stderr",
     "output_type": "stream",
     "text": [
      "GetHeadVal: Missing Configuration\n",
      "GetHeadVal: Missing Configuration\n",
      "GetHeadVal: Missing Configuration\n",
      "GetHeadVal: Missing Configuration\n"
     ]
    },
    {
     "name": "stdout",
     "output_type": "stream",
     "text": [
      "\n",
      "63 dark_190504_AC-014_bias.fit\n",
      "\n",
      "64 dark_190504_AC-015_bias.fit\n"
     ]
    },
    {
     "name": "stderr",
     "output_type": "stream",
     "text": [
      "GetHeadVal: Missing Configuration\n",
      "GetHeadVal: Missing Configuration\n",
      "GetHeadVal: Missing Configuration\n",
      "GetHeadVal: Missing Configuration\n"
     ]
    },
    {
     "name": "stdout",
     "output_type": "stream",
     "text": [
      "\n",
      "65 dark_190504_AC-016_bias.fit\n",
      "\n",
      "66 dark_190504_AC-017_bias.fit\n"
     ]
    },
    {
     "name": "stderr",
     "output_type": "stream",
     "text": [
      "GetHeadVal: Missing Configuration\n",
      "GetHeadVal: Missing Configuration\n",
      "GetHeadVal: Missing Configuration\n",
      "GetHeadVal: Missing Configuration\n"
     ]
    },
    {
     "name": "stdout",
     "output_type": "stream",
     "text": [
      "\n",
      "67 dark_190504_AC-018_bias.fit\n",
      "\n",
      "68 dark_190504_AC-019_bias.fit\n"
     ]
    },
    {
     "name": "stderr",
     "output_type": "stream",
     "text": [
      "GetHeadVal: Missing Configuration\n",
      "GetHeadVal: Missing Configuration\n",
      "GetHeadVal: Missing Configuration\n",
      "GetHeadVal: Missing Configuration\n"
     ]
    },
    {
     "name": "stdout",
     "output_type": "stream",
     "text": [
      "\n",
      "69 dark_190504_AC-020_bias.fit\n",
      "\n",
      "70 dark_190504_AC-021_bias.fit\n"
     ]
    },
    {
     "name": "stderr",
     "output_type": "stream",
     "text": [
      "GetHeadVal: Missing Configuration\n",
      "GetHeadVal: Missing Configuration\n",
      "GetHeadVal: Missing Configuration\n",
      "GetHeadVal: Missing Configuration\n"
     ]
    },
    {
     "name": "stdout",
     "output_type": "stream",
     "text": [
      "\n",
      "71 dark_190504_AC-022_bias.fit\n",
      "\n",
      "72 dark_190504_AC-023_bias.fit\n"
     ]
    },
    {
     "name": "stderr",
     "output_type": "stream",
     "text": [
      "GetHeadVal: Missing Configuration\n",
      "GetHeadVal: Missing Configuration\n",
      "GetHeadVal: Missing Configuration\n",
      "GetHeadVal: Missing Configuration\n"
     ]
    },
    {
     "name": "stdout",
     "output_type": "stream",
     "text": [
      "\n",
      "73 dark_190504_AC-024_bias.fit\n",
      "\n",
      "74 dark_190504_AC-025_bias.fit\n"
     ]
    },
    {
     "name": "stderr",
     "output_type": "stream",
     "text": [
      "GetHeadVal: Missing Configuration\n",
      "GetHeadVal: Missing Configuration\n",
      "GetHeadVal: Missing Configuration\n",
      "GetHeadVal: Missing Configuration\n"
     ]
    },
    {
     "name": "stdout",
     "output_type": "stream",
     "text": [
      "\n",
      "75 dark_190504_AD-001_bias.fit\n",
      "\n",
      "76 dark_190504_AD-002_bias.fit\n"
     ]
    },
    {
     "name": "stderr",
     "output_type": "stream",
     "text": [
      "GetHeadVal: Missing Configuration\n",
      "GetHeadVal: Missing Configuration\n",
      "GetHeadVal: Missing Configuration\n",
      "GetHeadVal: Missing Configuration\n"
     ]
    },
    {
     "name": "stdout",
     "output_type": "stream",
     "text": [
      "\n",
      "77 dark_190504_AD-003_bias.fit\n",
      "\n",
      "78 dark_190504_AD-004_bias.fit\n"
     ]
    },
    {
     "name": "stderr",
     "output_type": "stream",
     "text": [
      "GetHeadVal: Missing Configuration\n",
      "GetHeadVal: Missing Configuration\n",
      "GetHeadVal: Missing Configuration\n",
      "GetHeadVal: Missing Configuration\n"
     ]
    },
    {
     "name": "stdout",
     "output_type": "stream",
     "text": [
      "\n",
      "79 dark_190504_AD-005_bias.fit\n",
      "\n",
      "80 dark_190504_AD-006_bias.fit\n"
     ]
    },
    {
     "name": "stderr",
     "output_type": "stream",
     "text": [
      "GetHeadVal: Missing Configuration\n",
      "GetHeadVal: Missing Configuration\n",
      "GetHeadVal: Missing Configuration\n",
      "GetHeadVal: Missing Configuration\n"
     ]
    },
    {
     "name": "stdout",
     "output_type": "stream",
     "text": [
      "\n",
      "81 dark_190504_AD-007_bias.fit\n",
      "\n",
      "82 dark_190504_AD-008_bias.fit\n"
     ]
    },
    {
     "name": "stderr",
     "output_type": "stream",
     "text": [
      "GetHeadVal: Missing Configuration\n",
      "GetHeadVal: Missing Configuration\n",
      "GetHeadVal: Missing Configuration\n",
      "GetHeadVal: Missing Configuration\n"
     ]
    },
    {
     "name": "stdout",
     "output_type": "stream",
     "text": [
      "\n",
      "83 dark_190504_AD-009_bias.fit\n",
      "\n",
      "84 dark_190504_AD-010_bias.fit\n"
     ]
    },
    {
     "name": "stderr",
     "output_type": "stream",
     "text": [
      "GetHeadVal: Missing Configuration\n",
      "GetHeadVal: Missing Configuration\n",
      "GetHeadVal: Missing Configuration\n",
      "GetHeadVal: Missing Configuration\n"
     ]
    },
    {
     "name": "stdout",
     "output_type": "stream",
     "text": [
      "\n",
      "85 dark_190504_AD-011_bias.fit\n",
      "\n",
      "86 dark_190504_AD-012_bias.fit\n"
     ]
    },
    {
     "name": "stderr",
     "output_type": "stream",
     "text": [
      "GetHeadVal: Missing Configuration\n",
      "GetHeadVal: Missing Configuration\n",
      "GetHeadVal: Missing Configuration\n",
      "GetHeadVal: Missing Configuration\n"
     ]
    },
    {
     "name": "stdout",
     "output_type": "stream",
     "text": [
      "\n",
      "87 dark_190504_AD-013_bias.fit\n",
      "\n",
      "88 dark_190504_AD-014_bias.fit\n"
     ]
    },
    {
     "name": "stderr",
     "output_type": "stream",
     "text": [
      "GetHeadVal: Missing Configuration\n",
      "GetHeadVal: Missing Configuration\n",
      "GetHeadVal: Missing Configuration\n",
      "GetHeadVal: Missing Configuration\n"
     ]
    },
    {
     "name": "stdout",
     "output_type": "stream",
     "text": [
      "\n",
      "89 dark_190504_AD-015_bias.fit\n",
      "\n",
      "90 dark_190504_AD-016_bias.fit\n"
     ]
    },
    {
     "name": "stderr",
     "output_type": "stream",
     "text": [
      "GetHeadVal: Missing Configuration\n",
      "GetHeadVal: Missing Configuration\n",
      "GetHeadVal: Missing Configuration\n",
      "GetHeadVal: Missing Configuration\n"
     ]
    },
    {
     "name": "stdout",
     "output_type": "stream",
     "text": [
      "\n",
      "91 dark_190504_AD-017_bias.fit\n",
      "\n",
      "92 dark_190504_AD-018_bias.fit\n"
     ]
    },
    {
     "name": "stderr",
     "output_type": "stream",
     "text": [
      "GetHeadVal: Missing Configuration\n",
      "GetHeadVal: Missing Configuration\n",
      "GetHeadVal: Missing Configuration\n",
      "GetHeadVal: Missing Configuration\n"
     ]
    },
    {
     "name": "stdout",
     "output_type": "stream",
     "text": [
      "\n",
      "93 dark_190504_AD-019_bias.fit\n",
      "\n",
      "94 dark_190504_AD-020_bias.fit\n"
     ]
    },
    {
     "name": "stderr",
     "output_type": "stream",
     "text": [
      "GetHeadVal: Missing Configuration\n",
      "GetHeadVal: Missing Configuration\n",
      "GetHeadVal: Missing Configuration\n",
      "GetHeadVal: Missing Configuration\n"
     ]
    },
    {
     "name": "stdout",
     "output_type": "stream",
     "text": [
      "\n",
      "95 dark_190504_AD-021_bias.fit\n",
      "\n",
      "96 dark_190504_AD-022_bias.fit\n"
     ]
    },
    {
     "name": "stderr",
     "output_type": "stream",
     "text": [
      "GetHeadVal: Missing Configuration\n",
      "GetHeadVal: Missing Configuration\n",
      "GetHeadVal: Missing Configuration\n",
      "GetHeadVal: Missing Configuration\n"
     ]
    },
    {
     "name": "stdout",
     "output_type": "stream",
     "text": [
      "\n",
      "97 dark_190504_AD-023_bias.fit\n",
      "\n",
      "98 dark_190504_AD-024_bias.fit\n"
     ]
    },
    {
     "name": "stderr",
     "output_type": "stream",
     "text": [
      "GetHeadVal: Missing Configuration\n",
      "GetHeadVal: Missing Configuration\n",
      "GetHeadVal: Missing Configuration\n",
      "GetHeadVal: Missing Configuration\n"
     ]
    },
    {
     "name": "stdout",
     "output_type": "stream",
     "text": [
      "\n",
      "99 dark_190504_AD-025_bias.fit\n",
      "\n",
      "100 dark_190504_AD-026_bias.fit\n"
     ]
    },
    {
     "name": "stderr",
     "output_type": "stream",
     "text": [
      "GetHeadVal: Missing Configuration\n",
      "GetHeadVal: Missing Configuration\n",
      "GetHeadVal: Missing Configuration\n",
      "GetHeadVal: Missing Configuration\n"
     ]
    },
    {
     "name": "stdout",
     "output_type": "stream",
     "text": [
      "\n",
      "101 dark_190504_AD-027_bias.fit\n",
      "\n",
      "102 dark_190504_AD-028_bias.fit\n"
     ]
    },
    {
     "name": "stderr",
     "output_type": "stream",
     "text": [
      "GetHeadVal: Missing Configuration\n",
      "GetHeadVal: Missing Configuration\n",
      "GetHeadVal: Missing Configuration\n",
      "GetHeadVal: Missing Configuration\n"
     ]
    },
    {
     "name": "stdout",
     "output_type": "stream",
     "text": [
      "\n",
      "103 dark_190504_AD-029_bias.fit\n",
      "\n",
      "104 dark_190504_AD-030_bias.fit\n"
     ]
    },
    {
     "name": "stderr",
     "output_type": "stream",
     "text": [
      "GetHeadVal: Missing Configuration\n",
      "GetHeadVal: Missing Configuration\n",
      "GetHeadVal: Missing Configuration\n",
      "GetHeadVal: Missing Configuration\n"
     ]
    },
    {
     "name": "stdout",
     "output_type": "stream",
     "text": [
      "\n",
      "105 dark_190504_AD-031_bias.fit\n",
      "\n",
      "106 dark_190504_AD-032_bias.fit\n"
     ]
    },
    {
     "name": "stderr",
     "output_type": "stream",
     "text": [
      "GetHeadVal: Missing Configuration\n",
      "GetHeadVal: Missing Configuration\n",
      "GetHeadVal: Missing Configuration\n",
      "GetHeadVal: Missing Configuration\n"
     ]
    },
    {
     "name": "stdout",
     "output_type": "stream",
     "text": [
      "\n",
      "107 dark_190504_AD-033_bias.fit\n",
      "\n",
      "108 dark_190504_AD-034_bias.fit\n"
     ]
    },
    {
     "name": "stderr",
     "output_type": "stream",
     "text": [
      "GetHeadVal: Missing Configuration\n",
      "GetHeadVal: Missing Configuration\n",
      "GetHeadVal: Missing Configuration\n",
      "GetHeadVal: Missing Configuration\n"
     ]
    },
    {
     "name": "stdout",
     "output_type": "stream",
     "text": [
      "\n",
      "109 dark_190504_AD-035_bias.fit\n",
      "\n",
      "110 dark_190504_AD-036_bias.fit\n"
     ]
    },
    {
     "name": "stderr",
     "output_type": "stream",
     "text": [
      "GetHeadVal: Missing Configuration\n",
      "GetHeadVal: Missing Configuration\n",
      "GetHeadVal: Missing Configuration\n",
      "GetHeadVal: Missing Configuration\n"
     ]
    },
    {
     "name": "stdout",
     "output_type": "stream",
     "text": [
      "\n",
      "111 dark_190504_AD-037_bias.fit\n",
      "\n",
      "112 dark_190504_AD-038_bias.fit\n"
     ]
    },
    {
     "name": "stderr",
     "output_type": "stream",
     "text": [
      "GetHeadVal: Missing Configuration\n",
      "GetHeadVal: Missing Configuration\n",
      "GetHeadVal: Missing Configuration\n",
      "GetHeadVal: Missing Configuration\n"
     ]
    },
    {
     "name": "stdout",
     "output_type": "stream",
     "text": [
      "\n",
      "113 dark_190504_AD-039_bias.fit\n",
      "\n",
      "114 dark_190504_AD-040_bias.fit\n"
     ]
    },
    {
     "name": "stderr",
     "output_type": "stream",
     "text": [
      "GetHeadVal: Missing Configuration\n",
      "GetHeadVal: Missing Configuration\n",
      "GetHeadVal: Missing Configuration\n",
      "GetHeadVal: Missing Configuration\n"
     ]
    },
    {
     "name": "stdout",
     "output_type": "stream",
     "text": [
      "\n",
      "115 dark_190504_AD-041_bias.fit\n",
      "\n",
      "116 dark_190504_AD-042_bias.fit\n"
     ]
    },
    {
     "name": "stderr",
     "output_type": "stream",
     "text": [
      "GetHeadVal: Missing Configuration\n",
      "GetHeadVal: Missing Configuration\n",
      "GetHeadVal: Missing Configuration\n",
      "GetHeadVal: Missing Configuration\n"
     ]
    },
    {
     "name": "stdout",
     "output_type": "stream",
     "text": [
      "\n",
      "117 dark_190504_AD-043_bias.fit\n",
      "\n",
      "118 dark_190504_AD-044_bias.fit\n"
     ]
    },
    {
     "name": "stderr",
     "output_type": "stream",
     "text": [
      "GetHeadVal: Missing Configuration\n",
      "GetHeadVal: Missing Configuration\n",
      "GetHeadVal: Missing Configuration\n",
      "GetHeadVal: Missing Configuration\n"
     ]
    },
    {
     "name": "stdout",
     "output_type": "stream",
     "text": [
      "\n",
      "119 dark_190504_AD-045_bias.fit\n",
      "\n",
      "120 dark_190504_AD-046_bias.fit\n"
     ]
    },
    {
     "name": "stderr",
     "output_type": "stream",
     "text": [
      "GetHeadVal: Missing Configuration\n",
      "GetHeadVal: Missing Configuration\n",
      "GetHeadVal: Missing Configuration\n",
      "GetHeadVal: Missing Configuration\n"
     ]
    },
    {
     "name": "stdout",
     "output_type": "stream",
     "text": [
      "\n",
      "121 dark_190504_AD-047_bias.fit\n",
      "\n",
      "122 dark_190504_AD-048_bias.fit\n"
     ]
    },
    {
     "name": "stderr",
     "output_type": "stream",
     "text": [
      "GetHeadVal: Missing Configuration\n",
      "GetHeadVal: Missing Configuration\n",
      "GetHeadVal: Missing Configuration\n",
      "GetHeadVal: Missing Configuration\n"
     ]
    },
    {
     "name": "stdout",
     "output_type": "stream",
     "text": [
      "\n",
      "123 dark_190504_AD-049_bias.fit\n",
      "\n",
      "124 dark_190504_AD-050_bias.fit\n"
     ]
    },
    {
     "name": "stderr",
     "output_type": "stream",
     "text": [
      "GetHeadVal: Missing Configuration\n",
      "GetHeadVal: Missing Configuration\n",
      "GetHeadVal: Missing Configuration\n",
      "GetHeadVal: Missing Configuration\n"
     ]
    },
    {
     "name": "stdout",
     "output_type": "stream",
     "text": [
      "\n",
      "125 dark_190504_AD-051_bias.fit\n",
      "\n",
      "126 dark_190504_AD-052_bias.fit\n"
     ]
    },
    {
     "name": "stderr",
     "output_type": "stream",
     "text": [
      "GetHeadVal: Missing Configuration\n",
      "GetHeadVal: Missing Configuration\n",
      "GetHeadVal: Missing Configuration\n",
      "GetHeadVal: Missing Configuration\n"
     ]
    },
    {
     "name": "stdout",
     "output_type": "stream",
     "text": [
      "\n",
      "127 dark_190504_AD-053_bias.fit\n",
      "\n",
      "128 dark_190504_AD-054_bias.fit\n"
     ]
    },
    {
     "name": "stderr",
     "output_type": "stream",
     "text": [
      "GetHeadVal: Missing Configuration\n",
      "GetHeadVal: Missing Configuration\n",
      "GetHeadVal: Missing Configuration\n",
      "GetHeadVal: Missing Configuration\n"
     ]
    },
    {
     "name": "stdout",
     "output_type": "stream",
     "text": [
      "\n",
      "129 dark_190504_AD-055_bias.fit\n",
      "\n",
      "130 dark_190504_AD-056_bias.fit\n"
     ]
    },
    {
     "name": "stderr",
     "output_type": "stream",
     "text": [
      "GetHeadVal: Missing Configuration\n",
      "GetHeadVal: Missing Configuration\n",
      "GetHeadVal: Missing Configuration\n",
      "GetHeadVal: Missing Configuration\n"
     ]
    },
    {
     "name": "stdout",
     "output_type": "stream",
     "text": [
      "\n",
      "131 dark_190504_AD-057_bias.fit\n",
      "\n",
      "132 dark_190504_AD-058_bias.fit\n"
     ]
    },
    {
     "name": "stderr",
     "output_type": "stream",
     "text": [
      "GetHeadVal: Missing Configuration\n",
      "GetHeadVal: Missing Configuration\n",
      "GetHeadVal: Missing Configuration\n",
      "GetHeadVal: Missing Configuration\n"
     ]
    },
    {
     "name": "stdout",
     "output_type": "stream",
     "text": [
      "\n",
      "133 dark_190504_AD-059_bias.fit\n",
      "\n",
      "134 dark_190504_AD-060_bias.fit\n"
     ]
    },
    {
     "name": "stderr",
     "output_type": "stream",
     "text": [
      "GetHeadVal: Missing Configuration\n",
      "GetHeadVal: Missing Configuration\n",
      "GetHeadVal: Missing Configuration\n",
      "GetHeadVal: Missing Configuration\n"
     ]
    },
    {
     "name": "stdout",
     "output_type": "stream",
     "text": [
      "\n",
      "135 dark_190504_AD-061_bias.fit\n",
      "\n",
      "136 dark_190504_AD-062_bias.fit\n"
     ]
    },
    {
     "name": "stderr",
     "output_type": "stream",
     "text": [
      "GetHeadVal: Missing Configuration\n",
      "GetHeadVal: Missing Configuration\n",
      "GetHeadVal: Missing Configuration\n",
      "GetHeadVal: Missing Configuration\n"
     ]
    },
    {
     "name": "stdout",
     "output_type": "stream",
     "text": [
      "\n",
      "137 dark_190504_AD-063_bias.fit\n",
      "\n",
      "138 dark_190504_AD-064_bias.fit\n"
     ]
    },
    {
     "name": "stderr",
     "output_type": "stream",
     "text": [
      "GetHeadVal: Missing Configuration\n",
      "GetHeadVal: Missing Configuration\n",
      "GetHeadVal: Missing Configuration\n",
      "GetHeadVal: Missing Configuration\n"
     ]
    },
    {
     "name": "stdout",
     "output_type": "stream",
     "text": [
      "\n",
      "139 dark_190504_AD-065_bias.fit\n",
      "\n",
      "140 dark_190504_AD-066_bias.fit\n"
     ]
    },
    {
     "name": "stderr",
     "output_type": "stream",
     "text": [
      "GetHeadVal: Missing Configuration\n",
      "GetHeadVal: Missing Configuration\n",
      "GetHeadVal: Missing Configuration\n",
      "GetHeadVal: Missing Configuration\n"
     ]
    },
    {
     "name": "stdout",
     "output_type": "stream",
     "text": [
      "\n",
      "141 dark_190504_AD-067_bias.fit\n",
      "\n",
      "142 dark_190504_AD-068_bias.fit\n"
     ]
    },
    {
     "name": "stderr",
     "output_type": "stream",
     "text": [
      "GetHeadVal: Missing Configuration\n",
      "GetHeadVal: Missing Configuration\n",
      "GetHeadVal: Missing Configuration\n",
      "GetHeadVal: Missing Configuration\n"
     ]
    },
    {
     "name": "stdout",
     "output_type": "stream",
     "text": [
      "\n",
      "143 dark_190504_AD-069_bias.fit\n",
      "\n",
      "144 dark_190504_AD-070_bias.fit\n"
     ]
    },
    {
     "name": "stderr",
     "output_type": "stream",
     "text": [
      "GetHeadVal: Missing Configuration\n",
      "GetHeadVal: Missing Configuration\n",
      "GetHeadVal: Missing Configuration\n",
      "GetHeadVal: Missing Configuration\n"
     ]
    },
    {
     "name": "stdout",
     "output_type": "stream",
     "text": [
      "\n",
      "145 dark_190504_AD-071_bias.fit\n",
      "\n",
      "146 dark_190504_AD-072_bias.fit\n"
     ]
    },
    {
     "name": "stderr",
     "output_type": "stream",
     "text": [
      "GetHeadVal: Missing Configuration\n",
      "GetHeadVal: Missing Configuration\n"
     ]
    },
    {
     "name": "stdout",
     "output_type": "stream",
     "text": [
      "\n",
      "147 dark_190504_AD-073_bias.fit\n"
     ]
    },
    {
     "name": "stderr",
     "output_type": "stream",
     "text": [
      "GetHeadVal: Missing Configuration\n",
      "GetHeadVal: Missing Configuration\n",
      "GetHeadVal: Missing Configuration\n"
     ]
    },
    {
     "name": "stdout",
     "output_type": "stream",
     "text": [
      "\n",
      "148 dark_190504_AD-074_bias.fit\n",
      "\n",
      "149 dark_190504_AD-075_bias.fit\n"
     ]
    },
    {
     "name": "stderr",
     "output_type": "stream",
     "text": [
      "GetHeadVal: Missing Configuration\n",
      "GetHeadVal: Missing Configuration\n",
      "GetHeadVal: Missing Configuration\n",
      "GetHeadVal: Missing Configuration\n",
      "GetHeadVal: Missing Configuration\n"
     ]
    },
    {
     "name": "stdout",
     "output_type": "stream",
     "text": [
      "\n",
      "150 dark_190504_AD-076_bias.fit\n",
      "\n",
      "151 dark_190504_AD-077_bias.fit\n"
     ]
    },
    {
     "name": "stderr",
     "output_type": "stream",
     "text": [
      "GetHeadVal: Missing Configuration\n",
      "GetHeadVal: Missing Configuration\n",
      "GetHeadVal: Missing Configuration\n",
      "GetHeadVal: Missing Configuration\n"
     ]
    },
    {
     "name": "stdout",
     "output_type": "stream",
     "text": [
      "\n",
      "152 dark_190504_AD-078_bias.fit\n",
      "\n",
      "153 dark_190504_AD-079_bias.fit\n"
     ]
    },
    {
     "name": "stderr",
     "output_type": "stream",
     "text": [
      "GetHeadVal: Missing Configuration\n",
      "GetHeadVal: Missing Configuration\n"
     ]
    },
    {
     "name": "stdout",
     "output_type": "stream",
     "text": [
      "\n",
      "154 dark_190504_AD-080_bias.fit\n",
      "\n",
      "155 dark_190504_AD-081_bias.fit\n"
     ]
    },
    {
     "name": "stderr",
     "output_type": "stream",
     "text": [
      "GetHeadVal: Missing Configuration\n",
      "GetHeadVal: Missing Configuration\n",
      "GetHeadVal: Missing Configuration\n",
      "GetHeadVal: Missing Configuration\n",
      "GetHeadVal: Missing Configuration\n",
      "GetHeadVal: Missing Configuration\n"
     ]
    },
    {
     "name": "stdout",
     "output_type": "stream",
     "text": [
      "\n",
      "156 dark_190504_AD-082_bias.fit\n",
      "\n",
      "157 dark_190504_AD-083_bias.fit\n"
     ]
    },
    {
     "name": "stderr",
     "output_type": "stream",
     "text": [
      "GetHeadVal: Missing Configuration\n",
      "GetHeadVal: Missing Configuration\n",
      "GetHeadVal: Missing Configuration\n",
      "GetHeadVal: Missing Configuration\n"
     ]
    },
    {
     "name": "stdout",
     "output_type": "stream",
     "text": [
      "\n",
      "158 dark_190504_AD-084_bias.fit\n",
      "\n",
      "159 dark_190504_AD-085_bias.fit\n"
     ]
    },
    {
     "name": "stderr",
     "output_type": "stream",
     "text": [
      "GetHeadVal: Missing Configuration\n",
      "GetHeadVal: Missing Configuration\n",
      "GetHeadVal: Missing Configuration\n",
      "GetHeadVal: Missing Configuration\n"
     ]
    },
    {
     "name": "stdout",
     "output_type": "stream",
     "text": [
      "\n",
      "160 dark_190504_AD-086_bias.fit\n",
      "\n",
      "161 dark_190504_AD-087_bias.fit\n"
     ]
    },
    {
     "name": "stderr",
     "output_type": "stream",
     "text": [
      "GetHeadVal: Missing Configuration\n",
      "GetHeadVal: Missing Configuration\n",
      "GetHeadVal: Missing Configuration\n",
      "GetHeadVal: Missing Configuration\n"
     ]
    },
    {
     "name": "stdout",
     "output_type": "stream",
     "text": [
      "\n",
      "162 dark_190504_AD-088_bias.fit\n",
      "\n",
      "163 dark_190504_AD-089_bias.fit\n"
     ]
    },
    {
     "name": "stderr",
     "output_type": "stream",
     "text": [
      "GetHeadVal: Missing Configuration\n",
      "GetHeadVal: Missing Configuration\n",
      "GetHeadVal: Missing Configuration\n",
      "GetHeadVal: Missing Configuration\n"
     ]
    },
    {
     "name": "stdout",
     "output_type": "stream",
     "text": [
      "\n",
      "164 dark_190504_AD-090_bias.fit\n",
      "\n",
      "165 dark_190504_AD-091_bias.fit\n"
     ]
    },
    {
     "name": "stderr",
     "output_type": "stream",
     "text": [
      "GetHeadVal: Missing Configuration\n",
      "GetHeadVal: Missing Configuration\n",
      "GetHeadVal: Missing Configuration\n",
      "GetHeadVal: Missing Configuration\n"
     ]
    },
    {
     "name": "stdout",
     "output_type": "stream",
     "text": [
      "\n",
      "166 dark_190504_AD-092_bias.fit\n",
      "\n",
      "167 dark_190504_AD-093_bias.fit\n"
     ]
    },
    {
     "name": "stderr",
     "output_type": "stream",
     "text": [
      "GetHeadVal: Missing Configuration\n",
      "GetHeadVal: Missing Configuration\n",
      "GetHeadVal: Missing Configuration\n",
      "GetHeadVal: Missing Configuration\n"
     ]
    },
    {
     "name": "stdout",
     "output_type": "stream",
     "text": [
      "\n",
      "168 dark_190504_AD-094_bias.fit\n",
      "\n",
      "169 dark_190504_AD-095_bias.fit\n"
     ]
    },
    {
     "name": "stderr",
     "output_type": "stream",
     "text": [
      "GetHeadVal: Missing Configuration\n",
      "GetHeadVal: Missing Configuration\n",
      "GetHeadVal: Missing Configuration\n",
      "GetHeadVal: Missing Configuration\n"
     ]
    },
    {
     "name": "stdout",
     "output_type": "stream",
     "text": [
      "\n",
      "170 dark_190504_AD-096_bias.fit\n",
      "\n",
      "171 dark_190504_AD-098_bias.fit\n"
     ]
    },
    {
     "name": "stderr",
     "output_type": "stream",
     "text": [
      "GetHeadVal: Missing Configuration\n",
      "GetHeadVal: Missing Configuration\n",
      "GetHeadVal: Missing Configuration\n",
      "GetHeadVal: Missing Configuration\n"
     ]
    },
    {
     "name": "stdout",
     "output_type": "stream",
     "text": [
      "\n",
      "172 dark_190504_AD-099_bias.fit\n",
      "\n",
      "173 dark_190504_AD-100_bias.fit\n"
     ]
    },
    {
     "name": "stderr",
     "output_type": "stream",
     "text": [
      "GetHeadVal: Missing Configuration\n",
      "GetHeadVal: Missing Configuration\n",
      "GetHeadVal: Missing Configuration\n",
      "GetHeadVal: Missing Configuration\n"
     ]
    },
    {
     "name": "stdout",
     "output_type": "stream",
     "text": [
      "\n",
      "174 dark_190504_AD-101_bias.fit\n",
      "\n",
      "175 dark_190504_AD-102_bias.fit\n"
     ]
    },
    {
     "name": "stderr",
     "output_type": "stream",
     "text": [
      "GetHeadVal: Missing Configuration\n",
      "GetHeadVal: Missing Configuration\n",
      "GetHeadVal: Missing Configuration\n",
      "GetHeadVal: Missing Configuration\n"
     ]
    },
    {
     "name": "stdout",
     "output_type": "stream",
     "text": [
      "\n",
      "176 dark_190504_AD-103_bias.fit\n",
      "\n",
      "177 dark_190504_AD-104_bias.fit\n"
     ]
    },
    {
     "name": "stderr",
     "output_type": "stream",
     "text": [
      "GetHeadVal: Missing Configuration\n",
      "GetHeadVal: Missing Configuration\n"
     ]
    },
    {
     "name": "stdout",
     "output_type": "stream",
     "text": [
      "\n",
      "178 dark_190504_AD-105_bias.fit\n"
     ]
    },
    {
     "name": "stderr",
     "output_type": "stream",
     "text": [
      "GetHeadVal: Missing Configuration\n",
      "GetHeadVal: Missing Configuration\n"
     ]
    },
    {
     "name": "stdout",
     "output_type": "stream",
     "text": [
      "\n",
      "179 dark_190504_AD-106_bias.fit\n"
     ]
    },
    {
     "name": "stderr",
     "output_type": "stream",
     "text": [
      "GetHeadVal: Missing Configuration\n",
      "GetHeadVal: Missing Configuration\n"
     ]
    },
    {
     "name": "stdout",
     "output_type": "stream",
     "text": [
      "\n",
      "180 dark_190504_AD-107_bias.fit\n"
     ]
    },
    {
     "name": "stderr",
     "output_type": "stream",
     "text": [
      "GetHeadVal: Missing Configuration\n",
      "GetHeadVal: Missing Configuration\n"
     ]
    },
    {
     "name": "stdout",
     "output_type": "stream",
     "text": [
      "\n",
      "181 dark_190504_AD-108_bias.fit\n"
     ]
    },
    {
     "name": "stderr",
     "output_type": "stream",
     "text": [
      "GetHeadVal: Missing Configuration\n",
      "GetHeadVal: Missing Configuration\n"
     ]
    },
    {
     "name": "stdout",
     "output_type": "stream",
     "text": [
      "\n",
      "182 dark_190504_AD-109_bias.fit\n"
     ]
    },
    {
     "name": "stderr",
     "output_type": "stream",
     "text": [
      "GetHeadVal: Missing Configuration\n",
      "GetHeadVal: Missing Configuration\n",
      "GetHeadVal: Missing Configuration\n",
      "GetHeadVal: Missing Configuration\n"
     ]
    },
    {
     "name": "stdout",
     "output_type": "stream",
     "text": [
      "\n",
      "183 dark_190504_AD-110_bias.fit\n",
      "\n",
      "184 dark_190504_AD-111_bias.fit\n"
     ]
    },
    {
     "name": "stderr",
     "output_type": "stream",
     "text": [
      "GetHeadVal: Missing Configuration\n",
      "GetHeadVal: Missing Configuration\n",
      "GetHeadVal: Missing Configuration\n",
      "GetHeadVal: Missing Configuration\n"
     ]
    },
    {
     "name": "stdout",
     "output_type": "stream",
     "text": [
      "\n",
      "185 dark_190504_AD-112_bias.fit\n",
      "\n",
      "186 dark_190504_AD-113_bias.fit\n"
     ]
    },
    {
     "name": "stderr",
     "output_type": "stream",
     "text": [
      "GetHeadVal: Missing Configuration\n",
      "GetHeadVal: Missing Configuration\n",
      "GetHeadVal: Missing Configuration\n",
      "GetHeadVal: Missing Configuration\n"
     ]
    },
    {
     "name": "stdout",
     "output_type": "stream",
     "text": [
      "\n",
      "187 dark_190504_AD-114_bias.fit\n",
      "\n",
      "188 dark_190504_AD-115_bias.fit\n"
     ]
    },
    {
     "name": "stderr",
     "output_type": "stream",
     "text": [
      "GetHeadVal: Missing Configuration\n",
      "GetHeadVal: Missing Configuration\n",
      "GetHeadVal: Missing Configuration\n",
      "GetHeadVal: Missing Configuration\n"
     ]
    },
    {
     "name": "stdout",
     "output_type": "stream",
     "text": [
      "\n",
      "189 dark_190504_AD-116_bias.fit\n",
      "\n",
      "190 dark_190504_AD-117_bias.fit\n"
     ]
    },
    {
     "name": "stderr",
     "output_type": "stream",
     "text": [
      "GetHeadVal: Missing Configuration\n",
      "GetHeadVal: Missing Configuration\n",
      "GetHeadVal: Missing Configuration\n",
      "GetHeadVal: Missing Configuration\n"
     ]
    },
    {
     "name": "stdout",
     "output_type": "stream",
     "text": [
      "\n",
      "191 dark_190504_AD-118_bias.fit\n",
      "\n",
      "192 dark_190504_AD-119_bias.fit\n",
      "\n",
      "193 dark_190504_AD-120_bias.fit\n"
     ]
    },
    {
     "name": "stderr",
     "output_type": "stream",
     "text": [
      "GetHeadVal: Missing Configuration\n",
      "GetHeadVal: Missing Configuration\n",
      "GetHeadVal: Missing Configuration\n",
      "GetHeadVal: Missing Configuration\n",
      "GetHeadVal: Missing Configuration\n",
      "GetHeadVal: Missing Configuration\n"
     ]
    },
    {
     "name": "stdout",
     "output_type": "stream",
     "text": [
      "\n",
      "194 dark_190504_AD-121_bias.fit\n",
      "\n",
      "195 dark_190504_AD-122_bias.fit\n",
      "\n",
      "196 dark_190504_AD-123_bias.fit\n"
     ]
    },
    {
     "name": "stderr",
     "output_type": "stream",
     "text": [
      "GetHeadVal: Missing Configuration\n",
      "GetHeadVal: Missing Configuration\n",
      "GetHeadVal: Missing Configuration\n",
      "GetHeadVal: Missing Configuration\n",
      "GetHeadVal: Missing Configuration\n",
      "GetHeadVal: Missing Configuration\n"
     ]
    },
    {
     "name": "stdout",
     "output_type": "stream",
     "text": [
      "\n",
      "197 dark_190504_AD-124_bias.fit\n",
      "\n",
      "198 dark_190504_AD-125_bias.fit\n",
      "\n",
      "199 dark_190504_AD-126_bias.fit\n"
     ]
    },
    {
     "name": "stderr",
     "output_type": "stream",
     "text": [
      "GetHeadVal: Missing Configuration\n",
      "GetHeadVal: Missing Configuration\n",
      "GetHeadVal: Missing Configuration\n",
      "GetHeadVal: Missing Configuration\n",
      "GetHeadVal: Missing Configuration\n",
      "GetHeadVal: Missing Configuration\n"
     ]
    },
    {
     "name": "stdout",
     "output_type": "stream",
     "text": [
      "\n",
      "200 dark_190504_AD-127_bias.fit\n",
      "\n",
      "201 dark_190504_AD-128_bias.fit\n"
     ]
    },
    {
     "name": "stderr",
     "output_type": "stream",
     "text": [
      "GetHeadVal: Missing Configuration\n",
      "GetHeadVal: Missing Configuration\n",
      "GetHeadVal: Missing Configuration\n",
      "GetHeadVal: Missing Configuration\n"
     ]
    },
    {
     "name": "stdout",
     "output_type": "stream",
     "text": [
      "\n",
      "202 dark_190504_AD-129_bias.fit\n",
      "\n",
      "203 dark_190504_AD-130_bias.fit\n",
      "\n",
      "204 dark_190504_AD-131_bias.fit\n"
     ]
    },
    {
     "name": "stderr",
     "output_type": "stream",
     "text": [
      "GetHeadVal: Missing Configuration\n",
      "GetHeadVal: Missing Configuration\n",
      "GetHeadVal: Missing Configuration\n",
      "GetHeadVal: Missing Configuration\n",
      "GetHeadVal: Missing Configuration\n",
      "GetHeadVal: Missing Configuration\n"
     ]
    },
    {
     "name": "stdout",
     "output_type": "stream",
     "text": [
      "\n",
      "205 dark_190504_AD-132_bias.fit\n",
      "\n",
      "206 dark_190504_AD-133_bias.fit\n"
     ]
    },
    {
     "name": "stderr",
     "output_type": "stream",
     "text": [
      "GetHeadVal: Missing Configuration\n",
      "GetHeadVal: Missing Configuration\n",
      "GetHeadVal: Missing Configuration\n",
      "GetHeadVal: Missing Configuration\n"
     ]
    },
    {
     "name": "stdout",
     "output_type": "stream",
     "text": [
      "\n",
      "207 dark_190504_AD-134_bias.fit\n",
      "\n",
      "208 dark_190504_AD-135_bias.fit\n"
     ]
    },
    {
     "name": "stderr",
     "output_type": "stream",
     "text": [
      "GetHeadVal: Missing Configuration\n",
      "GetHeadVal: Missing Configuration\n",
      "GetHeadVal: Missing Configuration\n",
      "GetHeadVal: Missing Configuration\n"
     ]
    },
    {
     "name": "stdout",
     "output_type": "stream",
     "text": [
      "\n",
      "209 dark_190504_AD-136_bias.fit\n",
      "\n",
      "210 dark_190504_AD-137_bias.fit\n"
     ]
    },
    {
     "name": "stderr",
     "output_type": "stream",
     "text": [
      "GetHeadVal: Missing Configuration\n",
      "GetHeadVal: Missing Configuration\n",
      "GetHeadVal: Missing Configuration\n",
      "GetHeadVal: Missing Configuration\n"
     ]
    },
    {
     "name": "stdout",
     "output_type": "stream",
     "text": [
      "\n",
      "211 dark_190504_AD-138_bias.fit\n",
      "\n",
      "212 dark_190504_AD-139_bias.fit\n"
     ]
    },
    {
     "name": "stderr",
     "output_type": "stream",
     "text": [
      "GetHeadVal: Missing Configuration\n",
      "GetHeadVal: Missing Configuration\n",
      "GetHeadVal: Missing Configuration\n",
      "GetHeadVal: Missing Configuration\n"
     ]
    },
    {
     "name": "stdout",
     "output_type": "stream",
     "text": [
      "\n",
      "213 dark_190504_AD-140_bias.fit\n",
      "\n",
      "214 dark_190504_AD-141_bias.fit\n"
     ]
    },
    {
     "name": "stderr",
     "output_type": "stream",
     "text": [
      "GetHeadVal: Missing Configuration\n",
      "GetHeadVal: Missing Configuration\n",
      "GetHeadVal: Missing Configuration\n",
      "GetHeadVal: Missing Configuration\n"
     ]
    },
    {
     "name": "stdout",
     "output_type": "stream",
     "text": [
      "\n",
      "215 dark_190504_AD-142_bias.fit\n",
      "\n",
      "216 dark_190504_AD-143_bias.fit\n"
     ]
    },
    {
     "name": "stderr",
     "output_type": "stream",
     "text": [
      "GetHeadVal: Missing Configuration\n",
      "GetHeadVal: Missing Configuration\n",
      "GetHeadVal: Missing Configuration\n",
      "GetHeadVal: Missing Configuration\n"
     ]
    },
    {
     "name": "stdout",
     "output_type": "stream",
     "text": [
      "\n",
      "217 dark_190504_AD-144_bias.fit\n",
      "\n",
      "218 dark_190504_AD-145_bias.fit\n"
     ]
    },
    {
     "name": "stderr",
     "output_type": "stream",
     "text": [
      "GetHeadVal: Missing Configuration\n",
      "GetHeadVal: Missing Configuration\n",
      "GetHeadVal: Missing Configuration\n",
      "GetHeadVal: Missing Configuration\n"
     ]
    },
    {
     "name": "stdout",
     "output_type": "stream",
     "text": [
      "\n",
      "219 dark_190504_AD-146_bias.fit\n",
      "\n",
      "220 dark_190504_AD-147_bias.fit\n"
     ]
    },
    {
     "name": "stderr",
     "output_type": "stream",
     "text": [
      "GetHeadVal: Missing Configuration\n",
      "GetHeadVal: Missing Configuration\n",
      "GetHeadVal: Missing Configuration\n",
      "GetHeadVal: Missing Configuration\n"
     ]
    },
    {
     "name": "stdout",
     "output_type": "stream",
     "text": [
      "\n",
      "221 dark_190504_AD-148_bias.fit\n",
      "\n",
      "222 dark_190504_AD-149_bias.fit\n"
     ]
    },
    {
     "name": "stderr",
     "output_type": "stream",
     "text": [
      "GetHeadVal: Missing Configuration\n",
      "GetHeadVal: Missing Configuration\n",
      "GetHeadVal: Missing Configuration\n",
      "GetHeadVal: Missing Configuration\n"
     ]
    },
    {
     "name": "stdout",
     "output_type": "stream",
     "text": [
      "\n",
      "223 dark_190504_AD-150_bias.fit\n",
      "\n",
      "224 dark_190504_AD-151_bias.fit\n"
     ]
    },
    {
     "name": "stderr",
     "output_type": "stream",
     "text": [
      "GetHeadVal: Missing Configuration\n",
      "GetHeadVal: Missing Configuration\n",
      "GetHeadVal: Missing Configuration\n",
      "GetHeadVal: Missing Configuration\n"
     ]
    },
    {
     "name": "stdout",
     "output_type": "stream",
     "text": [
      "\n",
      "225 dark_190504_AD-152_bias.fit\n",
      "\n",
      "226 dark_190504_AD-153_bias.fit\n"
     ]
    },
    {
     "name": "stderr",
     "output_type": "stream",
     "text": [
      "GetHeadVal: Missing Configuration\n",
      "GetHeadVal: Missing Configuration\n",
      "GetHeadVal: Missing Configuration\n",
      "GetHeadVal: Missing Configuration\n"
     ]
    },
    {
     "name": "stdout",
     "output_type": "stream",
     "text": [
      "\n",
      "227 dark_190504_AD-154_bias.fit\n",
      "\n",
      "228 dark_190504_AD-155_bias.fit\n"
     ]
    },
    {
     "name": "stderr",
     "output_type": "stream",
     "text": [
      "GetHeadVal: Missing Configuration\n",
      "GetHeadVal: Missing Configuration\n",
      "GetHeadVal: Missing Configuration\n",
      "GetHeadVal: Missing Configuration\n"
     ]
    },
    {
     "name": "stdout",
     "output_type": "stream",
     "text": [
      "\n",
      "229 dark_190504_AD-156_bias.fit\n",
      "\n",
      "230 dark_190504_AD-157_bias.fit\n"
     ]
    },
    {
     "name": "stderr",
     "output_type": "stream",
     "text": [
      "GetHeadVal: Missing Configuration\n",
      "GetHeadVal: Missing Configuration\n",
      "GetHeadVal: Missing Configuration\n",
      "GetHeadVal: Missing Configuration\n"
     ]
    },
    {
     "name": "stdout",
     "output_type": "stream",
     "text": [
      "\n",
      "231 dark_190504_AD-158_bias.fit\n",
      "\n",
      "232 dark_190504_AD-159_bias.fit\n"
     ]
    },
    {
     "name": "stderr",
     "output_type": "stream",
     "text": [
      "GetHeadVal: Missing Configuration\n",
      "GetHeadVal: Missing Configuration\n",
      "GetHeadVal: Missing Configuration\n"
     ]
    },
    {
     "name": "stdout",
     "output_type": "stream",
     "text": [
      "\n",
      "233 dark_190504_AD-160_bias.fit\n",
      "\n",
      "234 dark_190504_AD-161_bias.fit\n"
     ]
    },
    {
     "name": "stderr",
     "output_type": "stream",
     "text": [
      "GetHeadVal: Missing Configuration\n",
      "GetHeadVal: Missing Configuration\n",
      "GetHeadVal: Missing Configuration\n"
     ]
    },
    {
     "name": "stdout",
     "output_type": "stream",
     "text": [
      "\n",
      "235 dark_190504_AD-162_bias.fit\n",
      "\n",
      "236 dark_190504_AD-163_bias.fit\n"
     ]
    },
    {
     "name": "stderr",
     "output_type": "stream",
     "text": [
      "GetHeadVal: Missing Configuration\n",
      "GetHeadVal: Missing Configuration\n",
      "GetHeadVal: Missing Configuration\n",
      "GetHeadVal: Missing Configuration\n",
      "GetHeadVal: Missing Configuration\n",
      "GetHeadVal: Missing Configuration\n"
     ]
    },
    {
     "name": "stdout",
     "output_type": "stream",
     "text": [
      "\n",
      "237 dark_190504_AD-164_bias.fit\n",
      "\n",
      "238 dark_190504_AD-165_bias.fit\n"
     ]
    },
    {
     "name": "stderr",
     "output_type": "stream",
     "text": [
      "GetHeadVal: Missing Configuration\n",
      "GetHeadVal: Missing Configuration\n"
     ]
    },
    {
     "name": "stdout",
     "output_type": "stream",
     "text": [
      "\n",
      "239 dark_190504_AD-166_bias.fit\n"
     ]
    },
    {
     "name": "stderr",
     "output_type": "stream",
     "text": [
      "GetHeadVal: Missing Configuration\n",
      "GetHeadVal: Missing Configuration\n"
     ]
    },
    {
     "name": "stdout",
     "output_type": "stream",
     "text": [
      "\n",
      "240 dark_190504_AD-167_bias.fit\n"
     ]
    },
    {
     "name": "stderr",
     "output_type": "stream",
     "text": [
      "GetHeadVal: Missing Configuration\n",
      "GetHeadVal: Missing Configuration\n",
      "GetHeadVal: Missing Configuration\n"
     ]
    },
    {
     "name": "stdout",
     "output_type": "stream",
     "text": [
      "\n",
      "241 dark_190504_AD-168_bias.fit\n",
      "\n",
      "242 dark_190504_AD-169_bias.fit\n"
     ]
    },
    {
     "name": "stderr",
     "output_type": "stream",
     "text": [
      "GetHeadVal: Missing Configuration\n",
      "GetHeadVal: Missing Configuration\n",
      "GetHeadVal: Missing Configuration\n",
      "GetHeadVal: Missing Configuration\n",
      "GetHeadVal: Missing Configuration\n"
     ]
    },
    {
     "name": "stdout",
     "output_type": "stream",
     "text": [
      "\n",
      "243 dark_190504_AD-170_bias.fit\n",
      "\n",
      "244 dark_190504_AD-171_bias.fit\n"
     ]
    },
    {
     "name": "stderr",
     "output_type": "stream",
     "text": [
      "GetHeadVal: Missing Configuration\n",
      "GetHeadVal: Missing Configuration\n",
      "GetHeadVal: Missing Configuration\n",
      "GetHeadVal: Missing Configuration\n"
     ]
    },
    {
     "name": "stdout",
     "output_type": "stream",
     "text": [
      "\n",
      "245 dark_190504_AD-172_bias.fit\n",
      "\n",
      "246 dark_190504_AD-173_bias.fit\n"
     ]
    },
    {
     "name": "stderr",
     "output_type": "stream",
     "text": [
      "GetHeadVal: Missing Configuration\n",
      "GetHeadVal: Missing Configuration\n",
      "GetHeadVal: Missing Configuration\n",
      "GetHeadVal: Missing Configuration\n"
     ]
    },
    {
     "name": "stdout",
     "output_type": "stream",
     "text": [
      "\n",
      "247 dark_190504_AD-174_bias.fit\n",
      "\n",
      "248 dark_190504_AD-175_bias.fit\n"
     ]
    },
    {
     "name": "stderr",
     "output_type": "stream",
     "text": [
      "GetHeadVal: Missing Configuration\n",
      "GetHeadVal: Missing Configuration\n",
      "GetHeadVal: Missing Configuration\n",
      "GetHeadVal: Missing Configuration\n"
     ]
    },
    {
     "name": "stdout",
     "output_type": "stream",
     "text": [
      "\n",
      "249 dark_190504_AD-176_bias.fit\n",
      "\n",
      "250 dark_190504_AD-177_bias.fit\n"
     ]
    },
    {
     "name": "stderr",
     "output_type": "stream",
     "text": [
      "GetHeadVal: Missing Configuration\n",
      "GetHeadVal: Missing Configuration\n",
      "GetHeadVal: Missing Configuration\n",
      "GetHeadVal: Missing Configuration\n"
     ]
    },
    {
     "name": "stdout",
     "output_type": "stream",
     "text": [
      "\n",
      "251 dark_190504_AD-178_bias.fit\n",
      "\n",
      "252 dark_190504_AD-179_bias.fit\n"
     ]
    },
    {
     "name": "stderr",
     "output_type": "stream",
     "text": [
      "GetHeadVal: Missing Configuration\n",
      "GetHeadVal: Missing Configuration\n",
      "GetHeadVal: Missing Configuration\n",
      "GetHeadVal: Missing Configuration\n"
     ]
    },
    {
     "name": "stdout",
     "output_type": "stream",
     "text": [
      "\n",
      "253 dark_190504_AD-180_bias.fit\n",
      "\n",
      "254 dark_190504_AD-181_bias.fit\n"
     ]
    },
    {
     "name": "stderr",
     "output_type": "stream",
     "text": [
      "GetHeadVal: Missing Configuration\n",
      "GetHeadVal: Missing Configuration\n",
      "GetHeadVal: Missing Configuration\n",
      "GetHeadVal: Missing Configuration\n"
     ]
    },
    {
     "name": "stdout",
     "output_type": "stream",
     "text": [
      "\n",
      "255 dark_190504_AD-182_bias.fit\n",
      "\n",
      "256 dark_190504_AD-183_bias.fit\n"
     ]
    },
    {
     "name": "stderr",
     "output_type": "stream",
     "text": [
      "GetHeadVal: Missing Configuration\n",
      "GetHeadVal: Missing Configuration\n",
      "GetHeadVal: Missing Configuration\n",
      "GetHeadVal: Missing Configuration\n"
     ]
    },
    {
     "name": "stdout",
     "output_type": "stream",
     "text": [
      "\n",
      "257 dark_190504_AD-184_bias.fit\n",
      "\n",
      "258 dark_190504_AD-185_bias.fit\n"
     ]
    },
    {
     "name": "stderr",
     "output_type": "stream",
     "text": [
      "GetHeadVal: Missing Configuration\n",
      "GetHeadVal: Missing Configuration\n",
      "GetHeadVal: Missing Configuration\n",
      "GetHeadVal: Missing Configuration\n"
     ]
    },
    {
     "name": "stdout",
     "output_type": "stream",
     "text": [
      "\n",
      "259 dark_190504_AD-186_bias.fit\n",
      "\n",
      "260 dark_190504_AD-187_bias.fit\n"
     ]
    },
    {
     "name": "stderr",
     "output_type": "stream",
     "text": [
      "GetHeadVal: Missing Configuration\n",
      "GetHeadVal: Missing Configuration\n",
      "GetHeadVal: Missing Configuration\n",
      "GetHeadVal: Missing Configuration\n"
     ]
    },
    {
     "name": "stdout",
     "output_type": "stream",
     "text": [
      "\n",
      "261 dark_190504_AD-188_bias.fit\n",
      "\n",
      "262 dark_190504_AD-189_bias.fit\n"
     ]
    },
    {
     "name": "stderr",
     "output_type": "stream",
     "text": [
      "GetHeadVal: Missing Configuration\n",
      "GetHeadVal: Missing Configuration\n"
     ]
    },
    {
     "name": "stdout",
     "output_type": "stream",
     "text": [
      "\n",
      "263 dark_190504_AD-190_bias.fit\n",
      "\n",
      "264 dark_190504_AD-191_bias.fit\n"
     ]
    },
    {
     "name": "stderr",
     "output_type": "stream",
     "text": [
      "GetHeadVal: Missing Configuration\n",
      "GetHeadVal: Missing Configuration\n",
      "GetHeadVal: Missing Configuration\n",
      "GetHeadVal: Missing Configuration\n",
      "GetHeadVal: Missing Configuration\n",
      "GetHeadVal: Missing Configuration\n"
     ]
    },
    {
     "name": "stdout",
     "output_type": "stream",
     "text": [
      "\n",
      "265 dark_190504_AD-192_bias.fit\n",
      "\n",
      "266 dark_190504_AD-193_bias.fit\n"
     ]
    },
    {
     "name": "stderr",
     "output_type": "stream",
     "text": [
      "GetHeadVal: Missing Configuration\n",
      "GetHeadVal: Missing Configuration\n",
      "GetHeadVal: Missing Configuration\n",
      "GetHeadVal: Missing Configuration\n"
     ]
    },
    {
     "name": "stdout",
     "output_type": "stream",
     "text": [
      "\n",
      "267 dark_190504_AD-194_bias.fit\n",
      "\n",
      "268 dark_190504_AD-195_bias.fit\n"
     ]
    },
    {
     "name": "stderr",
     "output_type": "stream",
     "text": [
      "GetHeadVal: Missing Configuration\n",
      "GetHeadVal: Missing Configuration\n",
      "GetHeadVal: Missing Configuration\n",
      "GetHeadVal: Missing Configuration\n"
     ]
    },
    {
     "name": "stdout",
     "output_type": "stream",
     "text": [
      "\n",
      "269 dark_190504_AD-196_bias.fit\n",
      "\n",
      "270 dark_190504_AD-197_bias.fit\n"
     ]
    },
    {
     "name": "stderr",
     "output_type": "stream",
     "text": [
      "GetHeadVal: Missing Configuration\n",
      "GetHeadVal: Missing Configuration\n",
      "GetHeadVal: Missing Configuration\n",
      "GetHeadVal: Missing Configuration\n"
     ]
    },
    {
     "name": "stdout",
     "output_type": "stream",
     "text": [
      "\n",
      "271 dark_190504_AD-198_bias.fit\n",
      "\n",
      "272 dark_190504_AD-199_bias.fit\n",
      "\n",
      "273 dark_190504_AD-200_bias.fit\n"
     ]
    }
   ],
   "source": [
    "#Now stack the raw bias images\n",
    "\n",
    "## Make a stack of images.\n",
    "image, headlist, rows, cols, imedian, imad = stackfits(datapath,files)"
   ]
  },
  {
   "cell_type": "code",
   "execution_count": 8,
   "metadata": {},
   "outputs": [],
   "source": [
    "## Making Array of Noisy Pixels\n",
    "\n",
    "import numpy as np\n",
    "import matplotlib.pylab as plt"
   ]
  },
  {
   "cell_type": "code",
   "execution_count": 9,
   "metadata": {},
   "outputs": [],
   "source": [
    "#This is very important\n",
    "\n",
    "stackarray = image"
   ]
  },
  {
   "cell_type": "code",
   "execution_count": 10,
   "metadata": {},
   "outputs": [],
   "source": [
    "#Analyze the variation of each pixel in the stack\n",
    "\n",
    "stackarray_std = np.std(stackarray, axis=0)\n",
    "\n",
    "img_global_std = np.median(stackarray_std)\n",
    "\n",
    "noisy_pixels = stackarray_std > img_global_std*1.8\n",
    "\n",
    "#we identified the pixels across the bias exposures whose values deviate from their respective means by 1.8 standard deviations\n",
    "# this threshold was chosen based on visual comparisons with 1.7 standev and 1.9 standev"
   ]
  },
  {
   "cell_type": "code",
   "execution_count": 11,
   "metadata": {},
   "outputs": [
    {
     "name": "stdout",
     "output_type": "stream",
     "text": [
      "1 886\n",
      "10 479\n",
      "13 852\n",
      "16 203\n",
      "21 910\n",
      "24 547\n",
      "25 265\n",
      "25 650\n",
      "29 650\n",
      "30 479\n",
      "31 43\n",
      "32 567\n",
      "35 663\n",
      "36 493\n",
      "44 845\n",
      "45 479\n",
      "45 650\n",
      "55 992\n",
      "56 480\n",
      "56 883\n",
      "59 137\n",
      "60 359\n",
      "60 479\n",
      "60 650\n",
      "65 219\n",
      "66 574\n",
      "66 606\n",
      "67 711\n",
      "71 180\n",
      "74 809\n",
      "74 827\n",
      "74 970\n",
      "75 479\n",
      "75 650\n",
      "82 655\n",
      "83 401\n",
      "86 972\n",
      "88 478\n",
      "90 479\n",
      "90 650\n",
      "93 436\n",
      "93 550\n",
      "95 546\n",
      "97 317\n",
      "98 54\n",
      "98 493\n",
      "99 1\n",
      "99 306\n",
      "100 947\n",
      "105 479\n",
      "105 650\n",
      "107 87\n",
      "110 163\n",
      "114 62\n",
      "120 479\n",
      "120 650\n",
      "123 103\n",
      "127 87\n",
      "128 743\n",
      "130 227\n",
      "131 763\n",
      "132 176\n",
      "135 106\n",
      "135 479\n",
      "135 650\n",
      "139 784\n",
      "142 87\n",
      "143 229\n",
      "144 525\n",
      "144 615\n",
      "145 243\n",
      "145 707\n",
      "146 438\n",
      "146 466\n",
      "146 935\n",
      "147 375\n",
      "148 730\n",
      "148 895\n",
      "150 479\n",
      "150 650\n",
      "151 764\n",
      "152 544\n",
      "152 577\n",
      "153 949\n",
      "157 87\n",
      "157 318\n",
      "159 67\n",
      "160 888\n",
      "162 389\n",
      "163 154\n",
      "165 479\n",
      "165 650\n",
      "166 906\n",
      "167 362\n",
      "171 44\n",
      "172 87\n",
      "172 784\n",
      "173 73\n",
      "175 767\n",
      "178 459\n",
      "179 459\n",
      "179 978\n",
      "180 325\n",
      "180 479\n",
      "180 650\n",
      "180 786\n",
      "180 888\n",
      "184 217\n",
      "186 936\n",
      "187 87\n",
      "189 1005\n",
      "191 1005\n",
      "192 1005\n",
      "193 1005\n",
      "194 1005\n",
      "195 479\n",
      "195 650\n",
      "195 888\n",
      "195 1005\n",
      "196 1005\n",
      "197 285\n",
      "197 1005\n",
      "198 662\n",
      "198 947\n",
      "198 1005\n",
      "199 1005\n",
      "200 1005\n",
      "201 1005\n",
      "202 87\n",
      "202 868\n",
      "202 1005\n",
      "203 1005\n",
      "204 1005\n",
      "205 263\n",
      "205 1005\n",
      "206 1005\n",
      "207 1005\n",
      "208 1005\n",
      "209 673\n",
      "209 1005\n",
      "210 479\n",
      "210 650\n",
      "210 888\n",
      "210 1005\n",
      "211 1005\n",
      "212 1005\n",
      "213 1005\n",
      "214 551\n",
      "214 1005\n",
      "215 1005\n",
      "216 684\n",
      "216 1005\n",
      "217 87\n",
      "217 881\n",
      "217 1005\n",
      "218 1005\n",
      "219 645\n",
      "219 1005\n",
      "220 1005\n",
      "221 1005\n",
      "222 842\n",
      "222 1005\n",
      "223 1005\n",
      "224 893\n",
      "224 1005\n",
      "225 479\n",
      "225 650\n",
      "225 888\n",
      "225 1005\n",
      "226 1005\n",
      "227 1005\n",
      "228 282\n",
      "228 1005\n",
      "229 806\n",
      "229 1005\n",
      "230 1005\n",
      "231 1005\n",
      "232 71\n",
      "232 87\n",
      "232 160\n",
      "232 1005\n",
      "233 123\n",
      "233 871\n",
      "233 1005\n",
      "234 1005\n",
      "235 1005\n",
      "236 1005\n",
      "237 515\n",
      "237 1005\n",
      "238 1005\n",
      "239 1005\n",
      "240 479\n",
      "240 650\n",
      "240 888\n",
      "240 1005\n",
      "241 1005\n",
      "242 237\n",
      "242 1005\n",
      "243 896\n",
      "243 1005\n",
      "244 1005\n",
      "245 1005\n",
      "246 635\n",
      "246 1005\n",
      "247 87\n",
      "247 1005\n",
      "248 95\n",
      "248 451\n",
      "248 1005\n",
      "249 1005\n",
      "250 1005\n",
      "251 1005\n",
      "252 161\n",
      "252 1005\n",
      "253 1005\n",
      "254 1005\n",
      "255 479\n",
      "255 650\n",
      "255 888\n",
      "255 1005\n",
      "256 23\n",
      "256 1005\n",
      "257 1005\n",
      "258 614\n",
      "258 1005\n",
      "259 1005\n",
      "260 296\n",
      "260 1005\n",
      "261 757\n",
      "261 1005\n",
      "262 87\n",
      "262 1005\n",
      "263 1005\n",
      "264 95\n",
      "264 285\n",
      "264 1005\n",
      "265 1005\n",
      "266 708\n",
      "266 1005\n",
      "267 1005\n",
      "268 1005\n",
      "269 1005\n",
      "270 479\n",
      "270 650\n",
      "270 888\n",
      "270 1005\n",
      "271 1005\n",
      "271 1015\n",
      "272 1005\n",
      "273 1005\n",
      "274 1005\n",
      "275 1005\n",
      "276 143\n",
      "276 280\n",
      "276 489\n",
      "276 1005\n",
      "277 87\n",
      "277 1005\n",
      "278 1005\n",
      "279 1005\n",
      "280 675\n",
      "280 998\n",
      "280 1005\n",
      "281 936\n",
      "281 1005\n",
      "282 1005\n",
      "283 546\n",
      "283 1005\n",
      "284 646\n",
      "284 798\n",
      "284 1005\n",
      "285 320\n",
      "285 479\n",
      "285 650\n",
      "285 888\n",
      "285 1005\n",
      "286 1005\n",
      "287 1005\n",
      "288 1005\n",
      "289 108\n",
      "289 1005\n",
      "290 1005\n",
      "291 1005\n",
      "292 87\n",
      "292 1005\n",
      "293 1005\n",
      "294 1005\n",
      "295 287\n",
      "295 1005\n",
      "296 1005\n",
      "297 1005\n",
      "298 578\n",
      "298 1005\n",
      "299 1005\n",
      "300 479\n",
      "300 650\n",
      "300 888\n",
      "300 1005\n",
      "301 993\n",
      "301 1005\n",
      "302 1005\n",
      "303 648\n",
      "303 1005\n",
      "304 1005\n",
      "305 1005\n",
      "306 1005\n",
      "307 87\n",
      "307 1005\n",
      "308 414\n",
      "308 1005\n",
      "309 1005\n",
      "310 1005\n",
      "311 1005\n",
      "312 1005\n",
      "313 480\n",
      "313 1005\n",
      "313 1019\n",
      "314 1005\n",
      "315 479\n",
      "315 650\n",
      "315 888\n",
      "315 1005\n",
      "316 1005\n",
      "317 1005\n",
      "318 30\n",
      "318 1005\n",
      "319 1005\n",
      "320 1005\n",
      "321 1005\n",
      "322 87\n",
      "322 1005\n",
      "323 1005\n",
      "324 1005\n",
      "325 1005\n",
      "326 767\n",
      "326 1005\n",
      "327 818\n",
      "327 1005\n",
      "328 1005\n",
      "329 707\n",
      "329 726\n",
      "329 1005\n",
      "330 479\n",
      "330 650\n",
      "330 888\n",
      "330 1005\n",
      "331 266\n",
      "331 726\n",
      "331 1005\n",
      "332 726\n",
      "332 1005\n",
      "333 726\n",
      "333 1005\n",
      "334 726\n",
      "334 1005\n",
      "335 291\n",
      "335 726\n",
      "335 1005\n",
      "336 726\n",
      "336 1005\n",
      "337 87\n",
      "337 726\n",
      "337 1005\n",
      "338 317\n",
      "338 726\n",
      "338 1005\n",
      "339 726\n",
      "339 1005\n",
      "340 726\n",
      "340 949\n",
      "340 1005\n",
      "341 726\n",
      "341 1005\n",
      "342 726\n",
      "342 1005\n",
      "343 359\n",
      "343 719\n",
      "343 726\n",
      "343 750\n",
      "343 1005\n",
      "344 487\n",
      "344 726\n",
      "344 1005\n",
      "345 479\n",
      "345 650\n",
      "345 726\n",
      "345 888\n",
      "345 1005\n",
      "346 726\n",
      "346 1005\n",
      "347 726\n",
      "347 1005\n",
      "348 129\n",
      "348 726\n",
      "348 1005\n",
      "349 460\n",
      "349 726\n",
      "349 906\n",
      "349 1005\n",
      "350 290\n",
      "350 726\n",
      "350 763\n",
      "350 822\n",
      "350 1005\n",
      "351 726\n",
      "351 1005\n",
      "352 87\n",
      "352 726\n",
      "352 1005\n",
      "353 69\n",
      "353 726\n",
      "353 1005\n",
      "354 726\n",
      "354 1005\n",
      "355 726\n",
      "355 1005\n",
      "356 726\n",
      "356 760\n",
      "356 983\n",
      "356 1005\n",
      "357 726\n",
      "357 1005\n",
      "358 123\n",
      "358 284\n",
      "358 726\n",
      "358 1005\n",
      "359 161\n",
      "359 726\n",
      "359 1005\n",
      "360 479\n",
      "360 650\n",
      "360 726\n",
      "360 783\n",
      "360 888\n",
      "360 1005\n",
      "361 726\n",
      "361 1005\n",
      "362 726\n",
      "362 1005\n",
      "363 726\n",
      "363 1005\n",
      "364 726\n",
      "364 879\n",
      "364 938\n",
      "364 1005\n",
      "365 726\n",
      "365 1005\n",
      "366 711\n",
      "366 726\n",
      "366 1005\n",
      "367 87\n",
      "367 383\n",
      "367 726\n",
      "367 1005\n",
      "368 726\n",
      "368 763\n",
      "368 1005\n",
      "369 726\n",
      "369 1005\n",
      "370 636\n",
      "370 726\n",
      "370 1005\n",
      "371 726\n",
      "371 1005\n",
      "372 726\n",
      "372 1005\n",
      "373 726\n",
      "373 1005\n",
      "374 726\n",
      "374 1005\n",
      "375 479\n",
      "375 650\n",
      "375 726\n",
      "375 888\n",
      "375 1005\n",
      "376 726\n",
      "376 1005\n",
      "377 726\n",
      "377 1005\n",
      "378 726\n",
      "378 1005\n",
      "379 726\n",
      "379 1005\n",
      "380 726\n",
      "380 1005\n",
      "381 570\n",
      "381 726\n",
      "381 1005\n",
      "382 87\n",
      "382 126\n",
      "382 726\n",
      "382 1005\n",
      "383 726\n",
      "383 1005\n",
      "384 525\n",
      "384 726\n",
      "384 1005\n",
      "384 1019\n",
      "385 726\n",
      "385 1005\n",
      "386 726\n",
      "386 1005\n",
      "387 726\n",
      "387 1005\n",
      "388 25\n",
      "388 123\n",
      "388 726\n",
      "388 1005\n",
      "389 726\n",
      "389 1005\n",
      "390 479\n",
      "390 636\n",
      "390 650\n",
      "390 726\n",
      "390 743\n",
      "390 888\n",
      "390 1005\n",
      "391 726\n",
      "391 1005\n",
      "392 726\n",
      "392 1005\n",
      "393 726\n",
      "393 1005\n",
      "394 726\n",
      "394 1005\n",
      "395 726\n",
      "395 1005\n",
      "396 609\n",
      "396 726\n",
      "396 1005\n",
      "397 87\n",
      "397 726\n",
      "397 807\n",
      "397 1005\n",
      "398 240\n",
      "398 726\n",
      "398 1005\n",
      "399 726\n",
      "399 1005\n",
      "400 726\n",
      "400 1005\n",
      "401 547\n",
      "401 726\n",
      "401 1005\n",
      "402 726\n",
      "402 1005\n",
      "403 123\n",
      "403 726\n",
      "403 1005\n",
      "404 601\n",
      "404 726\n",
      "404 1005\n",
      "405 479\n",
      "405 524\n",
      "405 636\n",
      "405 650\n",
      "405 726\n",
      "405 888\n",
      "405 1005\n",
      "406 726\n",
      "406 1005\n",
      "407 726\n",
      "407 1005\n",
      "408 209\n",
      "408 692\n",
      "408 726\n",
      "408 1005\n",
      "409 726\n",
      "409 1005\n",
      "410 22\n",
      "410 726\n",
      "410 1005\n",
      "411 726\n",
      "411 1005\n",
      "412 87\n",
      "412 669\n",
      "412 726\n",
      "412 796\n",
      "412 1005\n",
      "413 726\n",
      "413 755\n",
      "413 1005\n",
      "414 726\n",
      "414 1005\n",
      "415 726\n",
      "415 1005\n",
      "416 726\n",
      "416 1005\n",
      "417 472\n",
      "417 726\n",
      "417 1005\n",
      "418 123\n",
      "418 726\n",
      "418 1005\n",
      "419 301\n",
      "419 726\n",
      "419 1005\n",
      "420 479\n",
      "420 636\n",
      "420 650\n",
      "420 726\n",
      "420 888\n",
      "420 1005\n",
      "421 726\n",
      "421 1005\n",
      "422 150\n",
      "422 726\n",
      "422 1005\n",
      "423 726\n",
      "423 1005\n",
      "424 162\n",
      "424 726\n",
      "424 1005\n",
      "425 726\n",
      "425 1005\n",
      "426 726\n",
      "426 1005\n",
      "427 51\n",
      "427 87\n",
      "427 301\n",
      "427 726\n",
      "427 1005\n",
      "428 726\n",
      "428 1005\n",
      "429 726\n",
      "429 1005\n",
      "430 726\n",
      "430 1005\n",
      "431 726\n",
      "431 1005\n",
      "432 726\n",
      "432 1005\n",
      "433 123\n",
      "433 726\n",
      "433 767\n",
      "433 1005\n",
      "434 667\n",
      "434 726\n",
      "434 1005\n",
      "435 479\n",
      "435 636\n",
      "435 650\n",
      "435 726\n",
      "435 888\n",
      "435 893\n",
      "435 1005\n",
      "436 221\n",
      "436 726\n",
      "436 1005\n",
      "437 726\n",
      "437 1005\n",
      "438 726\n",
      "438 1005\n",
      "439 726\n",
      "439 1005\n",
      "440 726\n",
      "440 1005\n",
      "441 726\n",
      "441 1005\n",
      "442 87\n",
      "442 726\n",
      "442 1005\n",
      "443 726\n",
      "443 1005\n",
      "444 726\n",
      "444 1005\n",
      "445 726\n",
      "445 1005\n",
      "446 726\n",
      "446 1005\n",
      "446 1021\n",
      "447 726\n",
      "447 1005\n",
      "448 123\n",
      "448 726\n",
      "448 1005\n",
      "449 726\n",
      "449 1005\n",
      "450 479\n",
      "450 636\n",
      "450 650\n",
      "450 726\n",
      "450 888\n",
      "450 1005\n",
      "451 467\n",
      "451 726\n",
      "451 1005\n",
      "452 467\n",
      "452 726\n",
      "452 1005\n",
      "453 726\n",
      "453 1005\n",
      "454 214\n",
      "454 726\n",
      "454 1005\n",
      "455 480\n",
      "455 726\n",
      "455 1005\n",
      "456 726\n",
      "456 1005\n",
      "457 87\n",
      "457 660\n",
      "457 726\n",
      "457 1005\n",
      "458 726\n",
      "458 1005\n",
      "459 726\n",
      "459 1005\n",
      "460 726\n",
      "460 1005\n",
      "461 142\n",
      "461 220\n",
      "461 726\n",
      "461 1005\n",
      "462 726\n",
      "462 907\n",
      "462 1005\n",
      "463 123\n",
      "463 417\n",
      "463 726\n",
      "463 1005\n",
      "464 25\n",
      "464 385\n",
      "464 726\n",
      "464 1005\n",
      "465 479\n",
      "465 636\n",
      "465 650\n",
      "465 726\n",
      "465 888\n",
      "465 1005\n",
      "466 726\n",
      "466 1005\n",
      "467 656\n",
      "467 698\n",
      "467 726\n",
      "467 758\n",
      "467 1005\n",
      "468 726\n",
      "468 776\n",
      "468 1005\n",
      "469 726\n",
      "469 1005\n",
      "470 726\n",
      "470 1005\n",
      "471 433\n",
      "471 726\n",
      "471 1005\n",
      "472 87\n",
      "472 726\n",
      "472 1005\n",
      "473 726\n",
      "473 1005\n",
      "474 649\n",
      "474 726\n",
      "474 1005\n",
      "475 726\n",
      "475 1005\n",
      "476 726\n",
      "476 1005\n",
      "477 633\n",
      "477 726\n",
      "477 1005\n",
      "478 123\n",
      "478 726\n",
      "478 1005\n",
      "479 726\n",
      "479 1005\n",
      "480 479\n",
      "480 636\n",
      "480 650\n",
      "480 726\n",
      "480 888\n",
      "480 1005\n",
      "481 726\n",
      "481 1005\n",
      "482 173\n",
      "482 726\n",
      "482 1005\n",
      "483 726\n",
      "483 1005\n",
      "484 316\n",
      "484 726\n",
      "484 1005\n",
      "485 726\n",
      "485 822\n",
      "485 1005\n",
      "486 113\n",
      "486 726\n",
      "486 1005\n",
      "487 87\n",
      "487 648\n",
      "487 726\n",
      "487 931\n",
      "487 1005\n",
      "488 726\n",
      "488 1005\n",
      "489 80\n",
      "489 726\n",
      "489 1005\n",
      "490 726\n",
      "490 1005\n",
      "491 726\n",
      "491 1005\n",
      "492 726\n",
      "492 1005\n",
      "493 123\n",
      "493 726\n",
      "493 1005\n",
      "494 726\n",
      "494 1005\n",
      "495 231\n",
      "495 479\n",
      "495 636\n",
      "495 650\n",
      "495 726\n",
      "495 752\n",
      "495 888\n",
      "495 1005\n",
      "496 726\n",
      "496 1005\n",
      "497 726\n",
      "497 1005\n",
      "498 726\n",
      "498 1005\n",
      "499 726\n",
      "499 1005\n",
      "500 726\n",
      "500 878\n",
      "500 1005\n",
      "501 726\n",
      "501 1005\n",
      "502 87\n",
      "502 726\n",
      "502 1005\n",
      "503 726\n",
      "503 1005\n",
      "504 726\n",
      "504 1005\n",
      "505 726\n",
      "505 1005\n",
      "506 726\n",
      "506 1005\n",
      "507 655\n",
      "507 726\n",
      "507 1005\n",
      "508 123\n",
      "508 726\n",
      "508 1005\n",
      "509 604\n",
      "509 726\n",
      "509 1005\n",
      "510 479\n",
      "510 636\n",
      "510 650\n",
      "510 726\n",
      "510 888\n",
      "510 1005\n",
      "511 726\n",
      "511 1005\n",
      "512 726\n",
      "512 1005\n",
      "513 27\n",
      "513 726\n",
      "513 1005\n",
      "514 196\n",
      "514 726\n",
      "514 1005\n",
      "515 34\n",
      "515 726\n",
      "515 1005\n",
      "516 345\n",
      "516 726\n",
      "516 1005\n",
      "517 87\n",
      "517 726\n",
      "517 1005\n",
      "518 672\n",
      "518 726\n",
      "518 1005\n",
      "519 726\n",
      "519 1005\n",
      "520 726\n",
      "520 1005\n",
      "521 726\n",
      "521 1005\n",
      "522 154\n",
      "522 726\n",
      "522 1005\n",
      "523 18\n",
      "523 123\n",
      "523 726\n",
      "523 1005\n",
      "524 726\n",
      "524 1005\n",
      "525 354\n",
      "525 479\n",
      "525 636\n",
      "525 650\n",
      "525 726\n",
      "525 888\n",
      "525 1005\n",
      "526 726\n",
      "526 1005\n",
      "527 726\n",
      "527 948\n",
      "527 1005\n",
      "528 726\n",
      "528 1005\n",
      "529 726\n",
      "529 1005\n",
      "530 726\n",
      "530 869\n",
      "530 1005\n",
      "531 726\n",
      "531 970\n",
      "531 1005\n",
      "532 87\n",
      "532 726\n",
      "532 1005\n",
      "533 353\n",
      "533 435\n",
      "533 726\n",
      "533 1005\n",
      "534 726\n",
      "534 1005\n",
      "535 726\n",
      "535 1005\n",
      "536 726\n",
      "536 823\n",
      "536 1005\n",
      "537 169\n",
      "537 726\n",
      "537 922\n",
      "537 1005\n",
      "538 123\n",
      "538 726\n",
      "538 1005\n",
      "539 726\n",
      "539 1005\n",
      "540 479\n",
      "540 636\n",
      "540 650\n",
      "540 726\n",
      "540 888\n",
      "540 1005\n",
      "541 726\n",
      "541 1005\n",
      "542 78\n",
      "542 726\n",
      "542 1005\n",
      "543 341\n",
      "543 726\n",
      "543 1005\n",
      "544 169\n",
      "544 726\n",
      "544 1005\n",
      "545 726\n",
      "545 1005\n",
      "546 726\n",
      "546 1005\n",
      "547 87\n",
      "547 396\n",
      "547 726\n",
      "547 1005\n",
      "548 349\n",
      "548 726\n",
      "548 1005\n",
      "549 726\n",
      "549 1005\n",
      "550 726\n",
      "550 1005\n",
      "551 288\n",
      "551 726\n",
      "551 1005\n",
      "552 726\n",
      "552 853\n",
      "552 1005\n",
      "553 123\n",
      "553 726\n",
      "553 1005\n",
      "554 726\n",
      "554 1005\n",
      "555 479\n",
      "555 636\n",
      "555 650\n",
      "555 726\n",
      "555 838\n",
      "555 888\n",
      "555 1005\n",
      "556 726\n",
      "556 1005\n",
      "557 726\n",
      "557 1005\n",
      "558 726\n",
      "558 1005\n",
      "559 726\n",
      "559 1005\n",
      "560 354\n",
      "560 726\n",
      "560 1005\n",
      "561 726\n",
      "561 807\n",
      "561 1005\n",
      "562 87\n",
      "562 726\n",
      "562 1005\n",
      "563 726\n",
      "563 958\n",
      "563 1005\n",
      "564 726\n",
      "564 1005\n",
      "565 726\n",
      "565 883\n",
      "565 1005\n",
      "566 460\n",
      "566 726\n",
      "566 1005\n",
      "567 346\n",
      "567 623\n",
      "567 726\n",
      "567 1005\n",
      "567 1009\n",
      "568 123\n",
      "568 726\n",
      "568 1005\n",
      "569 543\n",
      "569 596\n",
      "569 726\n",
      "569 1005\n",
      "569 1019\n",
      "570 163\n",
      "570 479\n",
      "570 636\n",
      "570 650\n",
      "570 726\n",
      "570 888\n",
      "570 1005\n",
      "571 8\n",
      "571 596\n",
      "571 726\n",
      "571 1005\n",
      "572 596\n",
      "572 726\n",
      "572 853\n",
      "572 1005\n",
      "573 596\n",
      "573 726\n",
      "573 1005\n",
      "574 596\n",
      "574 726\n",
      "574 1005\n",
      "575 596\n",
      "575 726\n",
      "575 756\n",
      "575 1005\n",
      "576 596\n",
      "576 726\n",
      "576 1005\n",
      "577 87\n",
      "577 148\n",
      "577 596\n",
      "577 726\n",
      "577 1005\n",
      "578 596\n",
      "578 726\n",
      "578 1005\n",
      "579 520\n",
      "579 596\n",
      "579 726\n",
      "579 1005\n",
      "580 596\n",
      "580 726\n",
      "580 1005\n",
      "581 596\n",
      "581 726\n",
      "581 1005\n",
      "582 596\n",
      "582 726\n",
      "582 1005\n",
      "583 123\n",
      "583 535\n",
      "583 596\n",
      "583 726\n",
      "583 1005\n",
      "584 80\n",
      "584 596\n",
      "584 620\n",
      "584 726\n",
      "584 1005\n",
      "585 479\n",
      "585 596\n",
      "585 636\n",
      "585 650\n",
      "585 726\n",
      "585 888\n",
      "585 1005\n",
      "586 406\n",
      "586 596\n",
      "586 726\n",
      "586 1005\n",
      "587 596\n",
      "587 726\n",
      "587 853\n",
      "587 1005\n",
      "588 596\n",
      "588 726\n",
      "588 1005\n",
      "589 507\n",
      "589 596\n",
      "589 726\n",
      "589 1005\n",
      "590 119\n",
      "590 596\n",
      "590 726\n",
      "590 1005\n",
      "591 596\n",
      "591 726\n",
      "591 1005\n",
      "592 87\n",
      "592 596\n",
      "592 726\n",
      "592 1005\n",
      "593 596\n",
      "593 726\n",
      "593 1005\n",
      "594 596\n",
      "594 726\n",
      "594 1005\n",
      "595 422\n",
      "595 596\n",
      "595 726\n",
      "595 1005\n",
      "596 596\n",
      "596 726\n",
      "596 1005\n",
      "597 596\n",
      "597 726\n",
      "597 1005\n",
      "598 123\n",
      "598 596\n",
      "598 726\n",
      "598 1005\n",
      "599 596\n",
      "599 726\n",
      "599 1005\n",
      "600 479\n",
      "600 596\n",
      "600 636\n",
      "600 650\n",
      "600 726\n",
      "600 888\n",
      "600 1005\n",
      "601 533\n",
      "601 596\n",
      "601 726\n",
      "601 1005\n",
      "602 596\n",
      "602 726\n",
      "602 853\n",
      "602 1005\n",
      "603 596\n",
      "603 726\n",
      "603 1005\n",
      "604 596\n",
      "604 726\n",
      "604 1005\n",
      "605 596\n",
      "605 726\n",
      "605 1005\n",
      "606 596\n",
      "606 726\n",
      "606 1005\n",
      "607 87\n",
      "607 596\n",
      "607 726\n",
      "607 1005\n",
      "608 596\n",
      "608 726\n",
      "608 1005\n",
      "609 596\n",
      "609 726\n",
      "609 1005\n",
      "610 596\n",
      "610 726\n",
      "610 790\n",
      "610 1005\n",
      "611 529\n",
      "611 596\n",
      "611 726\n",
      "611 1005\n",
      "612 596\n",
      "612 726\n",
      "612 1005\n",
      "613 123\n",
      "613 596\n",
      "613 726\n",
      "613 1005\n",
      "614 370\n",
      "614 596\n",
      "614 726\n",
      "614 1005\n",
      "614 1019\n",
      "615 479\n",
      "615 596\n",
      "615 636\n",
      "615 650\n",
      "615 726\n",
      "615 888\n",
      "615 1005\n",
      "616 596\n",
      "616 726\n",
      "616 1005\n",
      "617 11\n",
      "617 596\n",
      "617 726\n",
      "617 853\n",
      "617 1005\n",
      "618 596\n",
      "618 726\n",
      "618 1005\n",
      "619 596\n",
      "619 726\n",
      "619 1005\n",
      "620 226\n",
      "620 596\n",
      "620 726\n",
      "620 1005\n",
      "621 596\n",
      "621 726\n",
      "621 1005\n",
      "622 87\n",
      "622 596\n",
      "622 726\n",
      "622 1005\n",
      "623 389\n",
      "623 596\n",
      "623 726\n",
      "623 1005\n",
      "624 596\n",
      "624 623\n",
      "624 726\n",
      "624 1005\n",
      "625 586\n",
      "625 596\n",
      "625 726\n",
      "625 1005\n",
      "626 596\n",
      "626 726\n",
      "626 881\n",
      "626 1005\n",
      "627 260\n",
      "627 596\n",
      "627 726\n",
      "627 1005\n",
      "628 123\n",
      "628 596\n",
      "628 726\n",
      "628 1005\n",
      "629 596\n",
      "629 726\n",
      "629 1005\n",
      "630 479\n",
      "630 596\n",
      "630 636\n",
      "630 650\n",
      "630 703\n",
      "630 726\n",
      "630 888\n",
      "630 1005\n",
      "631 596\n",
      "631 726\n",
      "631 1005\n",
      "632 596\n",
      "632 726\n",
      "632 853\n",
      "632 1005\n",
      "633 596\n",
      "633 726\n",
      "633 849\n",
      "633 1005\n",
      "634 596\n",
      "634 726\n",
      "634 1005\n",
      "635 563\n",
      "635 596\n",
      "635 726\n",
      "635 1005\n",
      "636 596\n",
      "636 726\n",
      "636 1005\n",
      "637 11\n",
      "637 87\n",
      "637 596\n",
      "637 726\n",
      "637 785\n",
      "637 1005\n",
      "638 596\n",
      "638 726\n",
      "638 1005\n",
      "639 288\n",
      "639 556\n",
      "639 596\n",
      "639 726\n",
      "639 1005\n",
      "640 596\n",
      "640 640\n",
      "640 726\n",
      "640 1005\n",
      "641 596\n",
      "641 726\n",
      "641 1005\n",
      "642 596\n",
      "642 726\n",
      "642 1005\n",
      "643 123\n",
      "643 596\n",
      "643 726\n",
      "643 1005\n",
      "644 596\n",
      "644 726\n",
      "644 1005\n",
      "644 1019\n",
      "645 479\n",
      "645 596\n",
      "645 636\n",
      "645 650\n",
      "645 726\n",
      "645 888\n",
      "645 1005\n",
      "646 554\n",
      "646 596\n",
      "646 726\n",
      "646 1005\n",
      "647 180\n",
      "647 596\n",
      "647 726\n",
      "647 853\n",
      "647 874\n",
      "647 876\n",
      "647 1005\n",
      "648 596\n",
      "648 726\n",
      "648 1005\n",
      "649 596\n",
      "649 726\n",
      "649 1005\n",
      "650 596\n",
      "650 726\n",
      "650 1005\n",
      "651 596\n",
      "651 726\n",
      "651 1005\n",
      "652 11\n",
      "652 87\n",
      "652 596\n",
      "652 726\n",
      "652 1005\n",
      "653 596\n",
      "653 726\n",
      "653 1005\n",
      "654 596\n",
      "654 726\n",
      "654 1005\n",
      "655 596\n",
      "655 726\n",
      "655 1005\n",
      "656 596\n",
      "656 680\n",
      "656 726\n",
      "656 1005\n",
      "657 596\n",
      "657 726\n",
      "657 1005\n",
      "658 123\n",
      "658 596\n",
      "658 726\n",
      "658 1005\n",
      "659 80\n",
      "659 596\n",
      "659 726\n",
      "659 1005\n",
      "659 1019\n",
      "660 479\n",
      "660 596\n",
      "660 636\n",
      "660 650\n",
      "660 726\n",
      "660 888\n",
      "660 1005\n",
      "661 272\n",
      "661 596\n",
      "661 726\n",
      "661 1005\n",
      "662 596\n",
      "662 726\n",
      "662 853\n",
      "662 1005\n",
      "663 205\n",
      "663 596\n",
      "663 726\n"
     ]
    },
    {
     "name": "stdout",
     "output_type": "stream",
     "text": [
      "663 1005\n",
      "664 596\n",
      "664 726\n",
      "664 1005\n",
      "665 596\n",
      "665 726\n",
      "665 1005\n",
      "666 144\n",
      "666 596\n",
      "666 726\n",
      "666 1005\n",
      "667 11\n",
      "667 87\n",
      "667 596\n",
      "667 726\n",
      "667 1005\n",
      "668 596\n",
      "668 726\n",
      "668 1005\n",
      "669 336\n",
      "669 596\n",
      "669 726\n",
      "669 1005\n",
      "670 405\n",
      "670 583\n",
      "670 596\n",
      "670 726\n",
      "670 1005\n",
      "671 596\n",
      "671 726\n",
      "671 1005\n",
      "672 596\n",
      "672 726\n",
      "672 1005\n",
      "673 123\n",
      "673 596\n",
      "673 726\n",
      "673 1005\n",
      "674 80\n",
      "674 596\n",
      "674 726\n",
      "674 1005\n",
      "674 1019\n",
      "675 479\n",
      "675 596\n",
      "675 636\n",
      "675 650\n",
      "675 726\n",
      "675 888\n",
      "675 1005\n",
      "676 596\n",
      "676 726\n",
      "676 1005\n",
      "677 596\n",
      "677 726\n",
      "677 853\n",
      "677 1005\n",
      "678 596\n",
      "678 726\n",
      "678 1005\n",
      "679 295\n",
      "679 596\n",
      "679 726\n",
      "679 1005\n",
      "680 596\n",
      "680 726\n",
      "680 1005\n",
      "681 270\n",
      "681 596\n",
      "681 726\n",
      "681 749\n",
      "681 778\n",
      "681 1005\n",
      "682 11\n",
      "682 87\n",
      "682 222\n",
      "682 596\n",
      "682 726\n",
      "682 1005\n",
      "683 596\n",
      "683 621\n",
      "683 661\n",
      "683 726\n",
      "683 1005\n",
      "684 596\n",
      "684 726\n",
      "684 1005\n",
      "685 596\n",
      "685 726\n",
      "685 902\n",
      "685 1005\n",
      "686 596\n",
      "686 726\n",
      "686 1005\n",
      "687 549\n",
      "687 596\n",
      "687 616\n",
      "687 726\n",
      "687 1005\n",
      "688 123\n",
      "688 426\n",
      "688 596\n",
      "688 726\n",
      "688 1005\n",
      "689 80\n",
      "689 310\n",
      "689 596\n",
      "689 726\n",
      "689 1005\n",
      "689 1019\n",
      "690 479\n",
      "690 596\n",
      "690 636\n",
      "690 650\n",
      "690 726\n",
      "690 888\n",
      "690 992\n",
      "690 1005\n",
      "691 466\n",
      "691 596\n",
      "691 726\n",
      "691 1005\n",
      "692 596\n",
      "692 726\n",
      "692 853\n",
      "692 1005\n",
      "693 596\n",
      "693 726\n",
      "693 906\n",
      "693 1005\n",
      "694 596\n",
      "694 726\n",
      "694 1005\n",
      "695 8\n",
      "695 271\n",
      "695 596\n",
      "695 726\n",
      "695 1005\n",
      "696 596\n",
      "696 726\n",
      "696 1005\n",
      "697 11\n",
      "697 87\n",
      "697 596\n",
      "697 726\n",
      "697 1005\n",
      "698 596\n",
      "698 726\n",
      "698 1005\n",
      "699 416\n",
      "699 596\n",
      "699 726\n",
      "699 989\n",
      "699 1005\n",
      "700 596\n",
      "700 628\n",
      "700 726\n",
      "700 1005\n",
      "701 596\n",
      "701 718\n",
      "701 726\n",
      "701 1005\n",
      "702 596\n",
      "702 612\n",
      "702 726\n",
      "702 1005\n",
      "703 123\n",
      "703 317\n",
      "703 486\n",
      "703 596\n",
      "703 673\n",
      "703 726\n",
      "703 1005\n",
      "704 80\n",
      "704 596\n",
      "704 726\n",
      "704 904\n",
      "704 1005\n",
      "704 1019\n",
      "705 454\n",
      "705 479\n",
      "705 596\n",
      "705 636\n",
      "705 650\n",
      "705 726\n",
      "705 861\n",
      "705 888\n",
      "705 1005\n",
      "706 558\n",
      "706 596\n",
      "706 726\n",
      "706 861\n",
      "706 1005\n",
      "707 596\n",
      "707 726\n",
      "707 843\n",
      "707 853\n",
      "707 1005\n",
      "708 596\n",
      "708 726\n",
      "708 774\n",
      "708 1005\n",
      "709 596\n",
      "709 726\n",
      "709 1005\n",
      "710 596\n",
      "710 726\n",
      "710 1005\n",
      "711 596\n",
      "711 726\n",
      "711 791\n",
      "711 1005\n",
      "712 11\n",
      "712 87\n",
      "712 596\n",
      "712 726\n",
      "712 1005\n",
      "713 480\n",
      "713 596\n",
      "713 726\n",
      "713 944\n",
      "713 1005\n",
      "714 596\n",
      "714 726\n",
      "714 738\n",
      "714 1005\n",
      "715 8\n",
      "715 512\n",
      "715 596\n",
      "715 726\n",
      "715 1005\n",
      "716 596\n",
      "716 726\n",
      "716 1005\n",
      "717 596\n",
      "717 726\n",
      "717 1005\n",
      "718 123\n",
      "718 377\n",
      "718 596\n",
      "718 726\n",
      "718 1005\n",
      "719 80\n",
      "719 596\n",
      "719 726\n",
      "719 1005\n",
      "719 1019\n",
      "720 479\n",
      "720 596\n",
      "720 636\n",
      "720 650\n",
      "720 726\n",
      "720 888\n",
      "720 1005\n",
      "721 596\n",
      "721 726\n",
      "721 1005\n",
      "722 596\n",
      "722 726\n",
      "722 853\n",
      "722 1005\n",
      "723 596\n",
      "723 726\n",
      "723 1005\n",
      "724 596\n",
      "724 726\n",
      "724 1005\n",
      "725 596\n",
      "725 726\n",
      "725 1005\n",
      "726 596\n",
      "726 726\n",
      "726 1005\n",
      "727 11\n",
      "727 87\n",
      "727 596\n",
      "727 726\n",
      "727 989\n",
      "727 1005\n",
      "728 596\n",
      "728 726\n",
      "728 972\n",
      "728 1005\n",
      "729 596\n",
      "729 726\n",
      "729 1005\n",
      "730 8\n",
      "730 596\n",
      "730 726\n",
      "730 1005\n",
      "731 596\n",
      "731 726\n",
      "731 1005\n",
      "732 286\n",
      "732 596\n",
      "732 726\n",
      "732 1005\n",
      "733 123\n",
      "733 514\n",
      "733 596\n",
      "733 726\n",
      "733 1005\n",
      "734 80\n",
      "734 596\n",
      "734 726\n",
      "734 1005\n",
      "734 1019\n",
      "735 479\n",
      "735 596\n",
      "735 636\n",
      "735 650\n",
      "735 726\n",
      "735 888\n",
      "735 1005\n",
      "736 596\n",
      "736 726\n",
      "736 1005\n",
      "737 596\n",
      "737 706\n",
      "737 726\n",
      "737 853\n",
      "737 1005\n",
      "738 596\n",
      "738 726\n",
      "738 1005\n",
      "739 596\n",
      "739 726\n",
      "739 1005\n",
      "740 439\n",
      "740 596\n",
      "740 726\n",
      "740 1005\n",
      "741 596\n",
      "741 679\n",
      "741 726\n",
      "741 1005\n",
      "742 11\n",
      "742 87\n",
      "742 553\n",
      "742 596\n",
      "742 726\n",
      "742 761\n",
      "742 1005\n",
      "743 596\n",
      "743 726\n",
      "743 1005\n",
      "744 432\n",
      "744 596\n",
      "744 726\n",
      "744 796\n",
      "744 1005\n",
      "745 8\n",
      "745 596\n",
      "745 726\n",
      "745 1005\n",
      "746 351\n",
      "746 596\n",
      "746 726\n",
      "746 1005\n",
      "747 263\n",
      "747 596\n",
      "747 726\n",
      "747 1005\n",
      "748 123\n",
      "748 596\n",
      "748 726\n",
      "748 894\n",
      "748 1005\n",
      "749 596\n",
      "749 726\n",
      "749 1005\n",
      "749 1019\n",
      "750 479\n",
      "750 596\n",
      "750 636\n",
      "750 650\n",
      "750 726\n",
      "750 888\n",
      "750 1005\n",
      "751 513\n",
      "751 596\n",
      "751 726\n",
      "751 1005\n",
      "752 286\n",
      "752 596\n",
      "752 726\n",
      "752 853\n",
      "752 1005\n",
      "753 596\n",
      "753 726\n",
      "753 1005\n",
      "754 204\n",
      "754 596\n",
      "754 726\n",
      "754 775\n",
      "754 1005\n",
      "755 23\n",
      "755 596\n",
      "755 726\n",
      "755 911\n",
      "755 1005\n",
      "756 16\n",
      "756 596\n",
      "756 726\n",
      "756 1005\n",
      "757 11\n",
      "757 87\n",
      "757 596\n",
      "757 726\n",
      "757 1005\n",
      "758 596\n",
      "758 726\n",
      "758 1005\n",
      "759 596\n",
      "759 726\n",
      "759 1005\n",
      "760 8\n",
      "760 596\n",
      "760 665\n",
      "760 726\n",
      "760 1005\n",
      "761 596\n",
      "761 726\n",
      "761 1005\n",
      "762 596\n",
      "762 726\n",
      "762 1005\n",
      "763 123\n",
      "763 596\n",
      "763 726\n",
      "763 1005\n",
      "764 80\n",
      "764 225\n",
      "764 576\n",
      "764 596\n",
      "764 726\n",
      "764 1005\n",
      "764 1019\n",
      "765 367\n",
      "765 479\n",
      "765 596\n",
      "765 636\n",
      "765 650\n",
      "765 726\n",
      "765 888\n",
      "765 1005\n",
      "766 596\n",
      "766 726\n",
      "766 1005\n",
      "767 286\n",
      "767 596\n",
      "767 726\n",
      "767 853\n",
      "767 1005\n",
      "768 596\n",
      "768 726\n",
      "768 1005\n",
      "769 596\n",
      "769 726\n",
      "769 1005\n",
      "770 28\n",
      "770 596\n",
      "770 726\n",
      "770 1005\n",
      "771 513\n",
      "771 596\n",
      "771 726\n",
      "771 1005\n",
      "772 11\n",
      "772 87\n",
      "772 596\n",
      "772 726\n",
      "772 1005\n",
      "773 596\n",
      "773 726\n",
      "773 1005\n",
      "774 596\n",
      "774 726\n",
      "774 775\n",
      "774 1005\n",
      "775 8\n",
      "775 596\n",
      "775 726\n",
      "775 1005\n",
      "775 1009\n",
      "776 596\n",
      "776 726\n",
      "776 1005\n",
      "777 596\n",
      "777 726\n",
      "777 894\n",
      "777 1005\n",
      "778 123\n",
      "778 596\n",
      "778 726\n",
      "778 1005\n",
      "779 80\n",
      "779 596\n",
      "779 726\n",
      "779 771\n",
      "779 1005\n",
      "779 1019\n",
      "780 479\n",
      "780 535\n",
      "780 596\n",
      "780 636\n",
      "780 650\n",
      "780 726\n",
      "780 771\n",
      "780 888\n",
      "780 1005\n",
      "781 596\n",
      "781 726\n",
      "781 1005\n",
      "782 286\n",
      "782 596\n",
      "782 726\n",
      "782 853\n",
      "782 1005\n",
      "783 596\n",
      "783 726\n",
      "783 986\n",
      "783 1005\n",
      "784 319\n",
      "784 596\n",
      "784 726\n",
      "784 1005\n",
      "785 550\n",
      "785 596\n",
      "785 726\n",
      "785 1005\n",
      "786 513\n",
      "786 596\n",
      "786 726\n",
      "786 750\n",
      "786 1005\n",
      "787 11\n",
      "787 87\n",
      "787 101\n",
      "787 596\n",
      "787 726\n",
      "787 1005\n",
      "788 596\n",
      "788 726\n",
      "788 1005\n",
      "789 388\n",
      "789 596\n",
      "789 726\n",
      "789 775\n",
      "789 1005\n",
      "790 8\n",
      "790 596\n",
      "790 726\n",
      "790 1005\n",
      "790 1007\n",
      "791 596\n",
      "791 726\n",
      "791 1005\n",
      "792 354\n",
      "792 596\n",
      "792 726\n",
      "792 864\n",
      "792 1005\n",
      "793 123\n",
      "793 596\n",
      "793 726\n",
      "793 1005\n",
      "794 80\n",
      "794 596\n",
      "794 726\n",
      "794 1005\n",
      "794 1019\n",
      "795 479\n",
      "795 596\n",
      "795 636\n",
      "795 650\n",
      "795 726\n",
      "795 888\n",
      "795 1005\n",
      "796 22\n",
      "796 596\n",
      "796 726\n",
      "796 1005\n",
      "797 286\n",
      "797 410\n",
      "797 596\n",
      "797 726\n",
      "797 853\n",
      "797 1005\n",
      "798 596\n",
      "798 726\n",
      "798 1005\n",
      "799 596\n",
      "799 726\n",
      "799 1005\n",
      "800 596\n",
      "800 726\n",
      "800 1005\n",
      "801 513\n",
      "801 596\n",
      "801 726\n",
      "801 1005\n",
      "802 11\n",
      "802 87\n",
      "802 596\n",
      "802 726\n",
      "802 1005\n",
      "803 596\n",
      "803 726\n",
      "803 1005\n",
      "804 596\n",
      "804 726\n",
      "804 775\n",
      "804 1005\n",
      "805 8\n",
      "805 596\n",
      "805 726\n",
      "805 1005\n",
      "806 596\n",
      "806 726\n",
      "806 1005\n",
      "807 520\n",
      "807 525\n",
      "807 596\n",
      "807 726\n",
      "807 1005\n",
      "808 22\n",
      "808 123\n",
      "808 548\n",
      "808 596\n",
      "808 726\n",
      "808 1005\n",
      "809 80\n",
      "809 596\n",
      "809 726\n",
      "809 893\n",
      "809 1005\n",
      "809 1019\n",
      "810 418\n",
      "810 479\n",
      "810 596\n",
      "810 636\n",
      "810 650\n",
      "810 726\n",
      "810 888\n",
      "810 1005\n",
      "811 596\n",
      "811 726\n",
      "811 1005\n",
      "812 286\n",
      "812 596\n",
      "812 726\n",
      "812 853\n",
      "812 1005\n",
      "813 596\n",
      "813 726\n",
      "813 1005\n",
      "814 596\n",
      "814 726\n",
      "814 1005\n",
      "815 596\n",
      "815 726\n",
      "815 1005\n",
      "816 513\n",
      "816 596\n",
      "816 726\n",
      "816 868\n",
      "816 1005\n",
      "817 11\n",
      "817 87\n",
      "817 596\n",
      "817 726\n",
      "817 947\n",
      "817 1005\n",
      "818 596\n",
      "818 726\n",
      "818 1005\n",
      "819 596\n",
      "819 633\n",
      "819 726\n",
      "819 775\n",
      "819 1005\n",
      "820 8\n",
      "820 120\n",
      "820 596\n",
      "820 726\n",
      "820 1005\n",
      "821 67\n",
      "821 596\n",
      "821 726\n",
      "821 1005\n",
      "822 596\n",
      "822 726\n",
      "822 1005\n",
      "823 123\n",
      "823 596\n",
      "823 726\n",
      "823 1005\n",
      "824 80\n",
      "824 522\n",
      "824 596\n",
      "824 726\n",
      "824 1005\n",
      "824 1019\n",
      "825 479\n",
      "825 596\n",
      "825 636\n",
      "825 650\n",
      "825 726\n",
      "825 888\n",
      "825 1005\n",
      "826 575\n",
      "826 596\n",
      "826 726\n",
      "826 762\n",
      "826 1005\n",
      "827 286\n",
      "827 520\n",
      "827 596\n",
      "827 726\n",
      "827 829\n",
      "827 853\n",
      "827 1005\n",
      "828 596\n",
      "828 726\n",
      "828 1005\n",
      "829 596\n",
      "829 726\n",
      "829 1005\n",
      "830 596\n",
      "830 726\n",
      "830 955\n",
      "830 1005\n",
      "831 513\n",
      "831 596\n",
      "831 726\n",
      "831 1005\n",
      "832 11\n",
      "832 87\n",
      "832 560\n",
      "832 596\n",
      "832 726\n",
      "832 1005\n",
      "833 596\n",
      "833 726\n",
      "833 1005\n",
      "834 596\n",
      "834 726\n",
      "834 775\n",
      "834 1005\n",
      "835 8\n",
      "835 596\n",
      "835 726\n",
      "835 1005\n",
      "836 596\n",
      "836 726\n",
      "836 1005\n",
      "837 596\n",
      "837 726\n",
      "837 1005\n",
      "838 123\n",
      "838 596\n",
      "838 726\n",
      "838 1005\n",
      "839 80\n",
      "839 596\n",
      "839 726\n",
      "839 1005\n",
      "839 1019\n",
      "840 479\n",
      "840 596\n",
      "840 636\n",
      "840 650\n",
      "840 726\n",
      "840 888\n",
      "840 1005\n",
      "841 74\n",
      "841 134\n",
      "841 596\n",
      "841 726\n",
      "841 1005\n",
      "842 286\n",
      "842 520\n",
      "842 596\n",
      "842 726\n",
      "842 853\n",
      "842 1005\n",
      "843 596\n",
      "843 726\n",
      "843 822\n",
      "843 1005\n",
      "844 596\n",
      "844 726\n",
      "844 1005\n",
      "845 596\n",
      "845 726\n",
      "845 1005\n",
      "846 513\n",
      "846 596\n",
      "846 726\n",
      "846 997\n",
      "846 1005\n",
      "847 11\n",
      "847 87\n",
      "847 596\n",
      "847 726\n",
      "847 1005\n",
      "848 35\n",
      "848 596\n",
      "848 726\n",
      "848 1005\n",
      "849 596\n",
      "849 726\n",
      "849 775\n",
      "849 1005\n",
      "850 8\n",
      "850 596\n",
      "850 726\n",
      "850 1005\n",
      "851 566\n",
      "851 596\n",
      "851 726\n",
      "851 809\n",
      "851 1005\n",
      "852 596\n",
      "852 726\n",
      "852 1005\n",
      "853 123\n",
      "853 596\n",
      "853 726\n",
      "853 1005\n",
      "854 80\n",
      "854 596\n",
      "854 726\n",
      "854 848\n",
      "854 1005\n",
      "854 1019\n",
      "855 34\n",
      "855 479\n",
      "855 596\n",
      "855 636\n",
      "855 650\n",
      "855 726\n",
      "855 888\n",
      "855 1005\n",
      "856 596\n",
      "856 726\n",
      "856 1005\n",
      "857 286\n",
      "857 300\n",
      "857 520\n",
      "857 596\n",
      "857 726\n",
      "857 853\n",
      "857 1005\n",
      "858 15\n",
      "858 596\n",
      "858 726\n",
      "858 1005\n",
      "859 596\n",
      "859 726\n",
      "859 1005\n",
      "860 596\n",
      "860 726\n",
      "860 1005\n",
      "861 513\n",
      "861 596\n",
      "861 726\n",
      "861 1005\n",
      "862 11\n",
      "862 87\n",
      "862 596\n",
      "862 726\n",
      "862 1005\n",
      "863 596\n",
      "863 709\n",
      "863 726\n",
      "863 1005\n",
      "864 596\n",
      "864 726\n",
      "864 775\n",
      "864 1005\n",
      "865 8\n",
      "865 596\n",
      "865 726\n",
      "865 1005\n",
      "866 596\n",
      "866 726\n",
      "866 1005\n",
      "867 596\n",
      "867 726\n",
      "867 835\n",
      "867 1005\n",
      "868 123\n",
      "868 320\n",
      "868 596\n",
      "868 726\n",
      "868 1005\n",
      "869 80\n",
      "869 596\n",
      "869 726\n",
      "869 1005\n",
      "869 1019\n",
      "870 479\n",
      "870 596\n",
      "870 636\n",
      "870 650\n",
      "870 726\n",
      "870 888\n",
      "870 1005\n",
      "871 596\n",
      "871 726\n",
      "871 1005\n",
      "872 286\n",
      "872 520\n",
      "872 596\n",
      "872 726\n",
      "872 853\n",
      "872 1005\n",
      "873 549\n",
      "873 596\n",
      "873 726\n",
      "873 1005\n",
      "874 470\n",
      "874 596\n",
      "874 726\n",
      "874 1005\n",
      "875 596\n",
      "875 726\n",
      "875 1005\n",
      "876 461\n",
      "876 513\n",
      "876 596\n",
      "876 726\n",
      "876 1005\n",
      "877 11\n",
      "877 87\n",
      "877 199\n",
      "877 596\n",
      "877 726\n",
      "877 1005\n",
      "878 596\n",
      "878 726\n",
      "878 1005\n",
      "879 596\n",
      "879 726\n",
      "879 775\n",
      "879 1005\n",
      "880 8\n",
      "880 596\n",
      "880 726\n",
      "880 1005\n",
      "881 596\n",
      "881 726\n",
      "881 1005\n",
      "882 596\n",
      "882 726\n",
      "882 1005\n",
      "883 123\n",
      "883 596\n",
      "883 726\n",
      "883 1005\n",
      "884 80\n",
      "884 596\n",
      "884 726\n",
      "884 1005\n",
      "884 1019\n",
      "885 479\n",
      "885 596\n",
      "885 636\n",
      "885 650\n",
      "885 726\n",
      "885 888\n",
      "885 1005\n",
      "886 596\n",
      "886 726\n",
      "886 1005\n",
      "887 286\n",
      "887 520\n",
      "887 596\n",
      "887 726\n",
      "887 853\n",
      "887 1005\n",
      "888 596\n",
      "888 726\n",
      "888 750\n",
      "888 1005\n",
      "889 596\n",
      "889 726\n",
      "889 750\n",
      "889 880\n",
      "889 1005\n",
      "890 596\n",
      "890 726\n",
      "890 957\n",
      "890 1005\n",
      "891 513\n",
      "891 596\n",
      "891 726\n",
      "891 1005\n",
      "892 11\n",
      "892 87\n",
      "892 489\n",
      "892 596\n",
      "892 726\n",
      "892 1005\n",
      "893 596\n",
      "893 726\n",
      "893 1005\n",
      "894 596\n",
      "894 726\n",
      "894 775\n",
      "894 1005\n",
      "895 8\n",
      "895 596\n",
      "895 726\n",
      "895 1005\n",
      "896 355\n",
      "896 596\n",
      "896 726\n",
      "896 1005\n",
      "897 596\n",
      "897 726\n",
      "897 1005\n",
      "898 123\n",
      "898 258\n",
      "898 359\n",
      "898 596\n",
      "898 726\n",
      "898 1005\n",
      "899 80\n",
      "899 596\n",
      "899 650\n",
      "899 726\n",
      "899 1005\n",
      "899 1019\n",
      "900 479\n",
      "900 596\n",
      "900 636\n",
      "900 650\n",
      "900 726\n",
      "900 888\n",
      "900 1005\n",
      "901 596\n",
      "901 726\n",
      "901 1005\n",
      "902 286\n",
      "902 520\n",
      "902 596\n",
      "902 726\n",
      "902 853\n",
      "902 1005\n",
      "903 301\n",
      "903 596\n",
      "903 726\n",
      "903 1005\n",
      "904 296\n",
      "904 596\n",
      "904 726\n",
      "904 1005\n",
      "905 596\n",
      "905 726\n",
      "905 869\n",
      "905 1005\n",
      "906 513\n",
      "906 596\n",
      "906 726\n",
      "906 1005\n",
      "907 11\n",
      "907 87\n",
      "907 596\n",
      "907 726\n",
      "907 1005\n",
      "908 596\n",
      "908 726\n",
      "908 1005\n",
      "909 596\n",
      "909 726\n",
      "909 741\n",
      "909 775\n",
      "909 1005\n",
      "910 8\n",
      "910 596\n",
      "910 726\n",
      "910 1005\n",
      "911 596\n",
      "911 726\n",
      "911 773\n",
      "911 1005\n",
      "911 1017\n",
      "912 489\n",
      "912 596\n",
      "912 726\n",
      "912 1005\n",
      "913 123\n",
      "913 357\n",
      "913 596\n",
      "913 726\n",
      "913 1005\n",
      "914 80\n",
      "914 534\n",
      "914 596\n",
      "914 726\n",
      "914 1005\n",
      "914 1019\n",
      "915 479\n",
      "915 596\n",
      "915 636\n",
      "915 650\n",
      "915 726\n",
      "915 888\n",
      "915 1005\n",
      "916 365\n",
      "916 596\n",
      "916 726\n",
      "916 1005\n",
      "917 286\n",
      "917 520\n",
      "917 596\n",
      "917 726\n",
      "917 853\n",
      "917 1005\n",
      "918 539\n",
      "918 596\n",
      "918 726\n",
      "918 1005\n",
      "919 596\n",
      "919 726\n",
      "919 811\n",
      "919 1005\n",
      "920 596\n",
      "920 726\n",
      "920 1005\n",
      "921 513\n",
      "921 596\n",
      "921 726\n",
      "921 1005\n",
      "922 11\n",
      "922 64\n",
      "922 87\n",
      "922 596\n",
      "922 726\n",
      "922 1005\n",
      "923 596\n",
      "923 726\n",
      "923 1005\n",
      "924 494\n",
      "924 596\n",
      "924 726\n",
      "924 775\n",
      "924 834\n",
      "924 1005\n",
      "925 8\n",
      "925 596\n",
      "925 726\n",
      "925 1005\n",
      "926 596\n",
      "926 726\n",
      "926 1005\n",
      "927 443\n",
      "927 489\n",
      "927 596\n",
      "927 726\n",
      "927 1005\n",
      "928 123\n",
      "928 308\n",
      "928 596\n",
      "928 726\n",
      "928 1005\n",
      "929 80\n",
      "929 596\n",
      "929 726\n",
      "929 1005\n",
      "929 1019\n",
      "930 122\n",
      "930 479\n",
      "930 596\n",
      "930 636\n",
      "930 650\n",
      "930 726\n",
      "930 888\n",
      "930 1005\n",
      "931 568\n",
      "931 596\n",
      "931 726\n",
      "931 1005\n",
      "932 286\n",
      "932 520\n",
      "932 596\n",
      "932 726\n",
      "932 853\n",
      "932 1005\n",
      "933 596\n",
      "933 726\n",
      "933 1005\n",
      "934 596\n",
      "934 726\n",
      "934 1005\n",
      "935 258\n",
      "935 393\n",
      "935 596\n",
      "935 616\n",
      "935 726\n",
      "935 1005\n",
      "936 513\n",
      "936 596\n",
      "936 726\n",
      "936 1005\n",
      "937 11\n",
      "937 87\n",
      "937 170\n",
      "937 596\n",
      "937 726\n",
      "937 1005\n",
      "938 596\n",
      "938 726\n",
      "938 1005\n",
      "939 114\n",
      "939 596\n",
      "939 726\n",
      "939 775\n",
      "939 1005\n",
      "940 8\n",
      "940 596\n",
      "940 726\n",
      "940 1005\n",
      "941 334\n",
      "941 596\n",
      "941 726\n",
      "941 1005\n",
      "942 489\n",
      "942 596\n",
      "942 726\n",
      "942 1005\n",
      "943 123\n",
      "943 211\n",
      "943 596\n",
      "943 726\n",
      "943 1005\n",
      "944 80\n",
      "944 596\n",
      "944 726\n",
      "944 1005\n",
      "944 1019\n",
      "945 479\n",
      "945 596\n",
      "945 636\n",
      "945 650\n",
      "945 726\n",
      "945 888\n",
      "945 1005\n",
      "946 596\n",
      "946 726\n",
      "946 1005\n",
      "947 286\n",
      "947 520\n",
      "947 596\n",
      "947 726\n",
      "947 853\n",
      "947 987\n",
      "947 1005\n",
      "948 497\n",
      "948 596\n",
      "948 726\n",
      "948 918\n",
      "948 1005\n",
      "949 391\n",
      "949 459\n",
      "949 596\n",
      "949 726\n",
      "949 833\n",
      "949 1005\n",
      "950 596\n",
      "950 726\n",
      "950 1005\n",
      "951 513\n",
      "951 559\n",
      "951 596\n",
      "951 726\n",
      "951 1005\n",
      "952 11\n",
      "952 87\n",
      "952 596\n",
      "952 726\n",
      "952 1005\n",
      "953 596\n",
      "953 726\n",
      "953 1005\n",
      "954 596\n",
      "954 726\n",
      "954 775\n",
      "954 1005\n",
      "955 8\n",
      "955 596\n",
      "955 726\n",
      "955 1005\n",
      "956 596\n",
      "956 726\n",
      "956 1005\n",
      "957 396\n",
      "957 489\n",
      "957 596\n",
      "957 726\n",
      "957 1005\n",
      "958 123\n",
      "958 366\n",
      "958 596\n",
      "958 726\n",
      "958 1005\n",
      "959 80\n",
      "959 596\n",
      "959 726\n",
      "959 1005\n",
      "959 1019\n",
      "960 478\n",
      "960 479\n",
      "960 596\n",
      "960 636\n",
      "960 650\n",
      "960 726\n",
      "960 888\n",
      "960 1005\n",
      "961 596\n",
      "961 726\n",
      "961 1005\n",
      "962 286\n",
      "962 520\n",
      "962 596\n",
      "962 726\n",
      "962 853\n",
      "962 1005\n",
      "963 596\n",
      "963 726\n",
      "963 1005\n",
      "964 596\n",
      "964 726\n",
      "964 1005\n",
      "965 430\n",
      "965 596\n",
      "965 726\n",
      "965 1005\n",
      "966 513\n",
      "966 596\n",
      "966 719\n",
      "966 726\n",
      "966 1005\n",
      "967 11\n",
      "967 14\n",
      "967 87\n",
      "967 342\n",
      "967 596\n",
      "967 659\n",
      "967 726\n",
      "967 1005\n",
      "968 596\n",
      "968 726\n",
      "968 1005\n",
      "969 596\n",
      "969 726\n",
      "969 775\n",
      "969 1005\n",
      "970 8\n",
      "970 596\n",
      "970 726\n",
      "970 913\n",
      "970 1005\n",
      "971 596\n",
      "971 653\n",
      "971 726\n",
      "971 1005\n",
      "972 396\n",
      "972 489\n",
      "972 596\n",
      "972 726\n",
      "972 937\n",
      "972 1005\n",
      "973 123\n",
      "973 596\n",
      "973 726\n"
     ]
    },
    {
     "name": "stdout",
     "output_type": "stream",
     "text": [
      "973 734\n",
      "973 1005\n",
      "974 80\n",
      "974 100\n",
      "974 374\n",
      "974 596\n",
      "974 726\n",
      "974 1005\n",
      "974 1019\n",
      "975 374\n",
      "975 479\n",
      "975 545\n",
      "975 596\n",
      "975 636\n",
      "975 650\n",
      "975 726\n",
      "975 888\n",
      "975 965\n",
      "975 1005\n",
      "976 596\n",
      "976 726\n",
      "976 783\n",
      "976 1005\n",
      "976 1009\n",
      "977 286\n",
      "977 520\n",
      "977 596\n",
      "977 726\n",
      "977 818\n",
      "977 853\n",
      "977 1005\n",
      "978 596\n",
      "978 726\n",
      "978 1005\n",
      "979 238\n",
      "979 596\n",
      "979 726\n",
      "979 1005\n",
      "980 596\n",
      "980 726\n",
      "980 1005\n",
      "981 513\n",
      "981 596\n",
      "981 726\n",
      "981 1005\n",
      "982 11\n",
      "982 87\n",
      "982 172\n",
      "982 596\n",
      "982 726\n",
      "982 1005\n",
      "983 596\n",
      "983 726\n",
      "983 1005\n",
      "984 499\n",
      "984 596\n",
      "984 726\n",
      "984 775\n",
      "984 1005\n",
      "985 8\n",
      "985 596\n",
      "985 726\n",
      "985 950\n",
      "985 1005\n",
      "986 596\n",
      "986 726\n",
      "986 1005\n",
      "987 160\n",
      "987 489\n",
      "987 596\n",
      "987 726\n",
      "987 859\n",
      "987 1005\n",
      "988 123\n",
      "988 596\n",
      "988 726\n",
      "988 956\n",
      "988 1005\n",
      "989 80\n",
      "989 596\n",
      "989 726\n",
      "989 945\n",
      "989 956\n",
      "989 1005\n",
      "989 1019\n",
      "990 479\n",
      "990 596\n",
      "990 636\n",
      "990 650\n",
      "990 726\n",
      "990 888\n",
      "990 1005\n",
      "991 596\n",
      "991 726\n",
      "991 1005\n",
      "992 286\n",
      "992 520\n",
      "992 596\n",
      "992 726\n",
      "992 853\n",
      "992 1005\n",
      "993 596\n",
      "993 726\n",
      "993 1005\n",
      "994 596\n",
      "994 726\n",
      "994 1005\n",
      "995 57\n",
      "995 596\n",
      "995 726\n",
      "995 1005\n",
      "996 73\n",
      "996 513\n",
      "996 518\n",
      "996 596\n",
      "996 726\n",
      "996 1005\n",
      "997 11\n",
      "997 87\n",
      "997 596\n",
      "997 726\n",
      "997 1005\n",
      "998 409\n",
      "998 596\n",
      "998 726\n",
      "998 1005\n",
      "999 80\n",
      "999 596\n",
      "999 726\n",
      "999 775\n",
      "999 1005\n",
      "1000 8\n",
      "1000 596\n",
      "1000 726\n",
      "1000 1005\n",
      "1001 596\n",
      "1001 726\n",
      "1001 1005\n",
      "1002 489\n",
      "1002 596\n",
      "1002 726\n",
      "1002 801\n",
      "1002 1005\n",
      "1003 123\n",
      "1003 596\n",
      "1003 726\n",
      "1003 1005\n",
      "1004 80\n",
      "1004 596\n",
      "1004 726\n",
      "1004 790\n",
      "1004 1005\n",
      "1004 1019\n",
      "1005 429\n",
      "1005 479\n",
      "1005 596\n",
      "1005 636\n",
      "1005 650\n",
      "1005 726\n",
      "1005 888\n",
      "1005 1005\n",
      "1006 596\n",
      "1006 726\n",
      "1006 1005\n",
      "1007 286\n",
      "1007 520\n",
      "1007 596\n",
      "1007 726\n",
      "1007 853\n",
      "1007 1005\n",
      "1008 577\n",
      "1008 596\n",
      "1008 726\n",
      "1008 1005\n",
      "1009 435\n",
      "1009 596\n",
      "1009 726\n",
      "1009 1005\n",
      "1010 596\n",
      "1010 726\n",
      "1010 1005\n",
      "1011 256\n",
      "1011 494\n",
      "1011 513\n",
      "1011 596\n",
      "1011 726\n",
      "1011 1005\n",
      "1012 11\n",
      "1012 73\n",
      "1012 87\n",
      "1012 596\n",
      "1012 726\n",
      "1012 1005\n",
      "1013 92\n",
      "1013 596\n",
      "1013 726\n",
      "1013 1005\n",
      "1014 596\n",
      "1014 726\n",
      "1014 775\n",
      "1014 843\n",
      "1014 1005\n",
      "1015 8\n",
      "1015 158\n",
      "1015 596\n",
      "1015 726\n",
      "1015 1005\n",
      "1016 324\n",
      "1016 596\n",
      "1016 726\n",
      "1016 1005\n",
      "1017 427\n",
      "1017 489\n",
      "1017 507\n",
      "1017 528\n",
      "1017 596\n",
      "1017 726\n",
      "1017 1005\n",
      "1018 123\n",
      "1018 596\n",
      "1018 726\n",
      "1018 1005\n",
      "1019 80\n",
      "1019 596\n",
      "1019 726\n",
      "1019 741\n",
      "1019 1005\n",
      "1019 1019\n",
      "1020 479\n",
      "1020 596\n",
      "1020 636\n",
      "1020 650\n",
      "1020 726\n",
      "1020 888\n",
      "1020 1005\n",
      "1021 596\n",
      "1021 726\n",
      "1021 805\n",
      "1021 1005\n",
      "1022 242\n",
      "1022 286\n",
      "1022 520\n",
      "1022 596\n",
      "1022 726\n",
      "1022 853\n",
      "1022 1005\n",
      "1023 596\n",
      "1023 726\n",
      "1023 1005\n"
     ]
    }
   ],
   "source": [
    "#Identify and list the pixels that exceed the noise threshold\n",
    "\n",
    "## plt.imshow(noisy_pixels)\n",
    "\n",
    "locs = np.array(np.where(noisy_pixels == True))\n",
    "npix_bias = np.zeros((1019,1019)) \n",
    "for i in range(1019): #1024\n",
    "    for j in range(1019): #1024\n",
    "        if noisy_pixels[i,j] == True and j > 5:\n",
    "            npix_bias[i,j] = 1\n",
    "            \n",
    "\n",
    "for i in range(locs.shape[1]):\n",
    "    print(locs[0,i],locs[1,i])\n",
    "    \n",
    "#this prints a list of noisy pixels"
   ]
  },
  {
   "cell_type": "code",
   "execution_count": 12,
   "metadata": {},
   "outputs": [
    {
     "name": "stderr",
     "output_type": "stream",
     "text": [
      "GetHeadVal: Missing Configuration\n",
      "GetHeadVal: Missing Configuration\n",
      "GetHeadVal: Missing Configuration\n"
     ]
    },
    {
     "name": "stdout",
     "output_type": "stream",
     "text": [
      "rows = 1024    cols = 1024\n",
      "image.shape = (273, 1024, 1024)\n",
      "\n",
      "0 dark_190504_AB-001_020s.fit\n"
     ]
    },
    {
     "name": "stderr",
     "output_type": "stream",
     "text": [
      "GetHeadVal: Missing Configuration\n",
      "GetHeadVal: Missing Configuration\n",
      "GetHeadVal: Missing Configuration\n",
      "GetHeadVal: Missing Configuration\n",
      "GetHeadVal: Missing Configuration\n"
     ]
    },
    {
     "name": "stdout",
     "output_type": "stream",
     "text": [
      "\n",
      "1 dark_190504_AB-002_020s.fit\n",
      "\n",
      "2 dark_190504_AB-003_020s.fit\n"
     ]
    },
    {
     "name": "stderr",
     "output_type": "stream",
     "text": [
      "GetHeadVal: Missing Configuration\n",
      "GetHeadVal: Missing Configuration\n",
      "GetHeadVal: Missing Configuration\n",
      "GetHeadVal: Missing Configuration\n"
     ]
    },
    {
     "name": "stdout",
     "output_type": "stream",
     "text": [
      "\n",
      "3 dark_190504_AB-004_020s.fit\n",
      "\n",
      "4 dark_190504_AB-005_020s.fit\n"
     ]
    },
    {
     "name": "stderr",
     "output_type": "stream",
     "text": [
      "GetHeadVal: Missing Configuration\n",
      "GetHeadVal: Missing Configuration\n",
      "GetHeadVal: Missing Configuration\n",
      "GetHeadVal: Missing Configuration\n"
     ]
    },
    {
     "name": "stdout",
     "output_type": "stream",
     "text": [
      "\n",
      "5 dark_190504_AB-006_020s.fit\n",
      "\n",
      "6 dark_190504_AB-007_020s.fit\n"
     ]
    },
    {
     "name": "stderr",
     "output_type": "stream",
     "text": [
      "GetHeadVal: Missing Configuration\n",
      "GetHeadVal: Missing Configuration\n",
      "GetHeadVal: Missing Configuration\n"
     ]
    },
    {
     "name": "stdout",
     "output_type": "stream",
     "text": [
      "\n",
      "7 dark_190504_AB-008_020s.fit\n",
      "\n",
      "8 dark_190504_AB-009_020s.fit\n"
     ]
    },
    {
     "name": "stderr",
     "output_type": "stream",
     "text": [
      "GetHeadVal: Missing Configuration\n",
      "GetHeadVal: Missing Configuration\n",
      "GetHeadVal: Missing Configuration\n",
      "GetHeadVal: Missing Configuration\n",
      "GetHeadVal: Missing Configuration\n"
     ]
    },
    {
     "name": "stdout",
     "output_type": "stream",
     "text": [
      "\n",
      "9 dark_190504_AB-010_020s.fit\n",
      "\n",
      "10 dark_190504_AB-011_020s.fit\n"
     ]
    },
    {
     "name": "stderr",
     "output_type": "stream",
     "text": [
      "GetHeadVal: Missing Configuration\n",
      "GetHeadVal: Missing Configuration\n",
      "GetHeadVal: Missing Configuration\n",
      "GetHeadVal: Missing Configuration\n"
     ]
    },
    {
     "name": "stdout",
     "output_type": "stream",
     "text": [
      "\n",
      "11 dark_190504_AB-012_020s.fit\n",
      "\n",
      "12 dark_190504_AB-013_020s.fit\n"
     ]
    },
    {
     "name": "stderr",
     "output_type": "stream",
     "text": [
      "GetHeadVal: Missing Configuration\n",
      "GetHeadVal: Missing Configuration\n",
      "GetHeadVal: Missing Configuration\n",
      "GetHeadVal: Missing Configuration\n"
     ]
    },
    {
     "name": "stdout",
     "output_type": "stream",
     "text": [
      "\n",
      "13 dark_190504_AB-014_020s.fit\n",
      "\n",
      "14 dark_190504_AB-015_020s.fit\n"
     ]
    },
    {
     "name": "stderr",
     "output_type": "stream",
     "text": [
      "GetHeadVal: Missing Configuration\n",
      "GetHeadVal: Missing Configuration\n",
      "GetHeadVal: Missing Configuration\n",
      "GetHeadVal: Missing Configuration\n"
     ]
    },
    {
     "name": "stdout",
     "output_type": "stream",
     "text": [
      "\n",
      "15 dark_190504_AB-016_020s.fit\n",
      "\n",
      "16 dark_190504_AB-017_020s.fit\n"
     ]
    },
    {
     "name": "stderr",
     "output_type": "stream",
     "text": [
      "GetHeadVal: Missing Configuration\n",
      "GetHeadVal: Missing Configuration\n",
      "GetHeadVal: Missing Configuration\n",
      "GetHeadVal: Missing Configuration\n"
     ]
    },
    {
     "name": "stdout",
     "output_type": "stream",
     "text": [
      "\n",
      "17 dark_190504_AB-018_020s.fit\n",
      "\n",
      "18 dark_190504_AB-019_020s.fit\n"
     ]
    },
    {
     "name": "stderr",
     "output_type": "stream",
     "text": [
      "GetHeadVal: Missing Configuration\n",
      "GetHeadVal: Missing Configuration\n",
      "GetHeadVal: Missing Configuration\n",
      "GetHeadVal: Missing Configuration\n"
     ]
    },
    {
     "name": "stdout",
     "output_type": "stream",
     "text": [
      "\n",
      "19 dark_190504_AB-020_020s.fit\n",
      "\n",
      "20 dark_190504_AB-021_020s.fit\n"
     ]
    },
    {
     "name": "stderr",
     "output_type": "stream",
     "text": [
      "GetHeadVal: Missing Configuration\n",
      "GetHeadVal: Missing Configuration\n",
      "GetHeadVal: Missing Configuration\n",
      "GetHeadVal: Missing Configuration\n"
     ]
    },
    {
     "name": "stdout",
     "output_type": "stream",
     "text": [
      "\n",
      "21 dark_190504_AB-022_020s.fit\n",
      "\n",
      "22 dark_190504_AB-023_020s.fit\n"
     ]
    },
    {
     "name": "stderr",
     "output_type": "stream",
     "text": [
      "GetHeadVal: Missing Configuration\n",
      "GetHeadVal: Missing Configuration\n",
      "GetHeadVal: Missing Configuration\n",
      "GetHeadVal: Missing Configuration\n"
     ]
    },
    {
     "name": "stdout",
     "output_type": "stream",
     "text": [
      "\n",
      "23 dark_190504_AB-024_020s.fit\n",
      "\n",
      "24 dark_190504_AB-025_020s.fit\n"
     ]
    },
    {
     "name": "stderr",
     "output_type": "stream",
     "text": [
      "GetHeadVal: Missing Configuration\n",
      "GetHeadVal: Missing Configuration\n",
      "GetHeadVal: Missing Configuration\n",
      "GetHeadVal: Missing Configuration\n"
     ]
    },
    {
     "name": "stdout",
     "output_type": "stream",
     "text": [
      "\n",
      "25 dark_190504_AB-026_020s.fit\n",
      "\n",
      "26 dark_190504_AB-027_020s.fit\n"
     ]
    },
    {
     "name": "stderr",
     "output_type": "stream",
     "text": [
      "GetHeadVal: Missing Configuration\n",
      "GetHeadVal: Missing Configuration\n",
      "GetHeadVal: Missing Configuration\n",
      "GetHeadVal: Missing Configuration\n"
     ]
    },
    {
     "name": "stdout",
     "output_type": "stream",
     "text": [
      "\n",
      "27 dark_190504_AB-028_020s.fit\n",
      "\n",
      "28 dark_190504_AB-029_020s.fit\n"
     ]
    },
    {
     "name": "stderr",
     "output_type": "stream",
     "text": [
      "GetHeadVal: Missing Configuration\n",
      "GetHeadVal: Missing Configuration\n",
      "GetHeadVal: Missing Configuration\n",
      "GetHeadVal: Missing Configuration\n"
     ]
    },
    {
     "name": "stdout",
     "output_type": "stream",
     "text": [
      "\n",
      "29 dark_190504_AB-030_020s.fit\n",
      "\n",
      "30 dark_190504_AB-031_020s.fit\n"
     ]
    },
    {
     "name": "stderr",
     "output_type": "stream",
     "text": [
      "GetHeadVal: Missing Configuration\n",
      "GetHeadVal: Missing Configuration\n",
      "GetHeadVal: Missing Configuration\n",
      "GetHeadVal: Missing Configuration\n"
     ]
    },
    {
     "name": "stdout",
     "output_type": "stream",
     "text": [
      "\n",
      "31 dark_190504_AB-032_020s.fit\n",
      "\n",
      "32 dark_190504_AB-033_020s.fit\n"
     ]
    },
    {
     "name": "stderr",
     "output_type": "stream",
     "text": [
      "GetHeadVal: Missing Configuration\n",
      "GetHeadVal: Missing Configuration\n",
      "GetHeadVal: Missing Configuration\n",
      "GetHeadVal: Missing Configuration\n"
     ]
    },
    {
     "name": "stdout",
     "output_type": "stream",
     "text": [
      "\n",
      "33 dark_190504_AB-034_020s.fit\n",
      "\n",
      "34 dark_190504_AB-035_020s.fit\n"
     ]
    },
    {
     "name": "stderr",
     "output_type": "stream",
     "text": [
      "GetHeadVal: Missing Configuration\n",
      "GetHeadVal: Missing Configuration\n",
      "GetHeadVal: Missing Configuration\n",
      "GetHeadVal: Missing Configuration\n"
     ]
    },
    {
     "name": "stdout",
     "output_type": "stream",
     "text": [
      "\n",
      "35 dark_190504_AB-036_020s.fit\n",
      "\n",
      "36 dark_190504_AB-037_020s.fit\n"
     ]
    },
    {
     "name": "stderr",
     "output_type": "stream",
     "text": [
      "GetHeadVal: Missing Configuration\n",
      "GetHeadVal: Missing Configuration\n",
      "GetHeadVal: Missing Configuration\n",
      "GetHeadVal: Missing Configuration\n"
     ]
    },
    {
     "name": "stdout",
     "output_type": "stream",
     "text": [
      "\n",
      "37 dark_190504_AB-038_020s.fit\n",
      "\n",
      "38 dark_190504_AB-039_020s.fit\n"
     ]
    },
    {
     "name": "stderr",
     "output_type": "stream",
     "text": [
      "GetHeadVal: Missing Configuration\n",
      "GetHeadVal: Missing Configuration\n",
      "GetHeadVal: Missing Configuration\n",
      "GetHeadVal: Missing Configuration\n"
     ]
    },
    {
     "name": "stdout",
     "output_type": "stream",
     "text": [
      "\n",
      "39 dark_190504_AB-040_020s.fit\n",
      "\n",
      "40 dark_190504_AB-041_020s.fit\n"
     ]
    },
    {
     "name": "stderr",
     "output_type": "stream",
     "text": [
      "GetHeadVal: Missing Configuration\n",
      "GetHeadVal: Missing Configuration\n",
      "GetHeadVal: Missing Configuration\n",
      "GetHeadVal: Missing Configuration\n"
     ]
    },
    {
     "name": "stdout",
     "output_type": "stream",
     "text": [
      "\n",
      "41 dark_190504_AB-042_020s.fit\n",
      "\n",
      "42 dark_190504_AB-043_020s.fit\n"
     ]
    },
    {
     "name": "stderr",
     "output_type": "stream",
     "text": [
      "GetHeadVal: Missing Configuration\n",
      "GetHeadVal: Missing Configuration\n",
      "GetHeadVal: Missing Configuration\n",
      "GetHeadVal: Missing Configuration\n"
     ]
    },
    {
     "name": "stdout",
     "output_type": "stream",
     "text": [
      "\n",
      "43 dark_190504_AB-044_020s.fit\n",
      "\n",
      "44 dark_190504_AB-045_020s.fit\n"
     ]
    },
    {
     "name": "stderr",
     "output_type": "stream",
     "text": [
      "GetHeadVal: Missing Configuration\n",
      "GetHeadVal: Missing Configuration\n",
      "GetHeadVal: Missing Configuration\n",
      "GetHeadVal: Missing Configuration\n"
     ]
    },
    {
     "name": "stdout",
     "output_type": "stream",
     "text": [
      "\n",
      "45 dark_190504_AB-046_020s.fit\n",
      "\n",
      "46 dark_190504_AB-047_020s.fit\n"
     ]
    },
    {
     "name": "stderr",
     "output_type": "stream",
     "text": [
      "GetHeadVal: Missing Configuration\n",
      "GetHeadVal: Missing Configuration\n",
      "GetHeadVal: Missing Configuration\n",
      "GetHeadVal: Missing Configuration\n"
     ]
    },
    {
     "name": "stdout",
     "output_type": "stream",
     "text": [
      "\n",
      "47 dark_190504_AB-048_020s.fit\n",
      "\n",
      "48 dark_190504_AB-049_020s.fit\n"
     ]
    },
    {
     "name": "stderr",
     "output_type": "stream",
     "text": [
      "GetHeadVal: Missing Configuration\n",
      "GetHeadVal: Missing Configuration\n",
      "GetHeadVal: Missing Configuration\n",
      "GetHeadVal: Missing Configuration\n"
     ]
    },
    {
     "name": "stdout",
     "output_type": "stream",
     "text": [
      "\n",
      "49 dark_190504_AB-050_020s.fit\n",
      "\n",
      "50 dark_190504_AC-001_020s.fit\n"
     ]
    },
    {
     "name": "stderr",
     "output_type": "stream",
     "text": [
      "GetHeadVal: Missing Configuration\n",
      "GetHeadVal: Missing Configuration\n",
      "GetHeadVal: Missing Configuration\n",
      "GetHeadVal: Missing Configuration\n"
     ]
    },
    {
     "name": "stdout",
     "output_type": "stream",
     "text": [
      "\n",
      "51 dark_190504_AC-002_020s.fit\n",
      "\n",
      "52 dark_190504_AC-003_020s.fit\n"
     ]
    },
    {
     "name": "stderr",
     "output_type": "stream",
     "text": [
      "GetHeadVal: Missing Configuration\n",
      "GetHeadVal: Missing Configuration\n",
      "GetHeadVal: Missing Configuration\n",
      "GetHeadVal: Missing Configuration\n"
     ]
    },
    {
     "name": "stdout",
     "output_type": "stream",
     "text": [
      "\n",
      "53 dark_190504_AC-004_020s.fit\n",
      "\n",
      "54 dark_190504_AC-005_020s.fit\n"
     ]
    },
    {
     "name": "stderr",
     "output_type": "stream",
     "text": [
      "GetHeadVal: Missing Configuration\n",
      "GetHeadVal: Missing Configuration\n",
      "GetHeadVal: Missing Configuration\n",
      "GetHeadVal: Missing Configuration\n"
     ]
    },
    {
     "name": "stdout",
     "output_type": "stream",
     "text": [
      "\n",
      "55 dark_190504_AC-006_020s.fit\n",
      "\n",
      "56 dark_190504_AC-007_020s.fit\n"
     ]
    },
    {
     "name": "stderr",
     "output_type": "stream",
     "text": [
      "GetHeadVal: Missing Configuration\n",
      "GetHeadVal: Missing Configuration\n",
      "GetHeadVal: Missing Configuration\n",
      "GetHeadVal: Missing Configuration\n"
     ]
    },
    {
     "name": "stdout",
     "output_type": "stream",
     "text": [
      "\n",
      "57 dark_190504_AC-008_020s.fit\n",
      "\n",
      "58 dark_190504_AC-009_020s.fit\n"
     ]
    },
    {
     "name": "stderr",
     "output_type": "stream",
     "text": [
      "GetHeadVal: Missing Configuration\n",
      "GetHeadVal: Missing Configuration\n",
      "GetHeadVal: Missing Configuration\n",
      "GetHeadVal: Missing Configuration\n"
     ]
    },
    {
     "name": "stdout",
     "output_type": "stream",
     "text": [
      "\n",
      "59 dark_190504_AC-010_020s.fit\n",
      "\n",
      "60 dark_190504_AC-011_020s.fit\n"
     ]
    },
    {
     "name": "stderr",
     "output_type": "stream",
     "text": [
      "GetHeadVal: Missing Configuration\n",
      "GetHeadVal: Missing Configuration\n",
      "GetHeadVal: Missing Configuration\n",
      "GetHeadVal: Missing Configuration\n"
     ]
    },
    {
     "name": "stdout",
     "output_type": "stream",
     "text": [
      "\n",
      "61 dark_190504_AC-012_020s.fit\n",
      "\n",
      "62 dark_190504_AC-013_020s.fit\n"
     ]
    },
    {
     "name": "stderr",
     "output_type": "stream",
     "text": [
      "GetHeadVal: Missing Configuration\n",
      "GetHeadVal: Missing Configuration\n",
      "GetHeadVal: Missing Configuration\n",
      "GetHeadVal: Missing Configuration\n"
     ]
    },
    {
     "name": "stdout",
     "output_type": "stream",
     "text": [
      "\n",
      "63 dark_190504_AC-014_020s.fit\n",
      "\n",
      "64 dark_190504_AC-015_020s.fit\n"
     ]
    },
    {
     "name": "stderr",
     "output_type": "stream",
     "text": [
      "GetHeadVal: Missing Configuration\n",
      "GetHeadVal: Missing Configuration\n",
      "GetHeadVal: Missing Configuration\n",
      "GetHeadVal: Missing Configuration\n"
     ]
    },
    {
     "name": "stdout",
     "output_type": "stream",
     "text": [
      "\n",
      "65 dark_190504_AC-016_020s.fit\n",
      "\n",
      "66 dark_190504_AC-017_020s.fit\n"
     ]
    },
    {
     "name": "stderr",
     "output_type": "stream",
     "text": [
      "GetHeadVal: Missing Configuration\n",
      "GetHeadVal: Missing Configuration\n"
     ]
    },
    {
     "name": "stdout",
     "output_type": "stream",
     "text": [
      "\n",
      "67 dark_190504_AC-018_020s.fit\n"
     ]
    },
    {
     "name": "stderr",
     "output_type": "stream",
     "text": [
      "GetHeadVal: Missing Configuration\n",
      "GetHeadVal: Missing Configuration\n"
     ]
    },
    {
     "name": "stdout",
     "output_type": "stream",
     "text": [
      "\n",
      "68 dark_190504_AC-019_020s.fit\n"
     ]
    },
    {
     "name": "stderr",
     "output_type": "stream",
     "text": [
      "GetHeadVal: Missing Configuration\n",
      "GetHeadVal: Missing Configuration\n"
     ]
    },
    {
     "name": "stdout",
     "output_type": "stream",
     "text": [
      "\n",
      "69 dark_190504_AC-020_020s.fit\n"
     ]
    },
    {
     "name": "stderr",
     "output_type": "stream",
     "text": [
      "GetHeadVal: Missing Configuration\n",
      "GetHeadVal: Missing Configuration\n"
     ]
    },
    {
     "name": "stdout",
     "output_type": "stream",
     "text": [
      "\n",
      "70 dark_190504_AC-021_020s.fit\n"
     ]
    },
    {
     "name": "stderr",
     "output_type": "stream",
     "text": [
      "GetHeadVal: Missing Configuration\n",
      "GetHeadVal: Missing Configuration\n"
     ]
    },
    {
     "name": "stdout",
     "output_type": "stream",
     "text": [
      "\n",
      "71 dark_190504_AC-022_020s.fit\n",
      "\n",
      "72"
     ]
    },
    {
     "name": "stderr",
     "output_type": "stream",
     "text": [
      "GetHeadVal: Missing Configuration\n",
      "GetHeadVal: Missing Configuration\n",
      "GetHeadVal: Missing Configuration\n",
      "GetHeadVal: Missing Configuration\n",
      "GetHeadVal: Missing Configuration\n",
      "GetHeadVal: Missing Configuration\n"
     ]
    },
    {
     "name": "stdout",
     "output_type": "stream",
     "text": [
      " dark_190504_AC-023_020s.fit\n",
      "\n",
      "73 dark_190504_AC-024_020s.fit\n",
      "\n",
      "74 dark_190504_AD-001_020s.fit\n"
     ]
    },
    {
     "name": "stderr",
     "output_type": "stream",
     "text": [
      "GetHeadVal: Missing Configuration\n",
      "GetHeadVal: Missing Configuration\n",
      "GetHeadVal: Missing Configuration\n",
      "GetHeadVal: Missing Configuration\n"
     ]
    },
    {
     "name": "stdout",
     "output_type": "stream",
     "text": [
      "\n",
      "75 dark_190504_AD-002_020s.fit\n",
      "\n",
      "76 dark_190504_AD-003_020s.fit\n"
     ]
    },
    {
     "name": "stderr",
     "output_type": "stream",
     "text": [
      "GetHeadVal: Missing Configuration\n",
      "GetHeadVal: Missing Configuration\n",
      "GetHeadVal: Missing Configuration\n",
      "GetHeadVal: Missing Configuration\n"
     ]
    },
    {
     "name": "stdout",
     "output_type": "stream",
     "text": [
      "\n",
      "77 dark_190504_AD-004_020s.fit\n",
      "\n",
      "78 dark_190504_AD-005_020s.fit\n"
     ]
    },
    {
     "name": "stderr",
     "output_type": "stream",
     "text": [
      "GetHeadVal: Missing Configuration\n",
      "GetHeadVal: Missing Configuration\n",
      "GetHeadVal: Missing Configuration\n",
      "GetHeadVal: Missing Configuration\n"
     ]
    },
    {
     "name": "stdout",
     "output_type": "stream",
     "text": [
      "\n",
      "79 dark_190504_AD-006_020s.fit\n",
      "\n",
      "80 dark_190504_AD-007_020s.fit\n"
     ]
    },
    {
     "name": "stderr",
     "output_type": "stream",
     "text": [
      "GetHeadVal: Missing Configuration\n",
      "GetHeadVal: Missing Configuration\n",
      "GetHeadVal: Missing Configuration\n",
      "GetHeadVal: Missing Configuration\n"
     ]
    },
    {
     "name": "stdout",
     "output_type": "stream",
     "text": [
      "\n",
      "81 dark_190504_AD-008_020s.fit\n",
      "\n",
      "82 dark_190504_AD-009_020s.fit\n"
     ]
    },
    {
     "name": "stderr",
     "output_type": "stream",
     "text": [
      "GetHeadVal: Missing Configuration\n",
      "GetHeadVal: Missing Configuration\n"
     ]
    },
    {
     "name": "stdout",
     "output_type": "stream",
     "text": [
      "\n",
      "83 dark_190504_AD-010_020s.fit\n"
     ]
    },
    {
     "name": "stderr",
     "output_type": "stream",
     "text": [
      "GetHeadVal: Missing Configuration\n",
      "GetHeadVal: Missing Configuration\n",
      "GetHeadVal: Missing Configuration\n",
      "GetHeadVal: Missing Configuration\n"
     ]
    },
    {
     "name": "stdout",
     "output_type": "stream",
     "text": [
      "\n",
      "84 dark_190504_AD-011_020s.fit\n",
      "\n",
      "85 dark_190504_AD-012_020s.fit\n"
     ]
    },
    {
     "name": "stderr",
     "output_type": "stream",
     "text": [
      "GetHeadVal: Missing Configuration\n",
      "GetHeadVal: Missing Configuration\n",
      "GetHeadVal: Missing Configuration\n",
      "GetHeadVal: Missing Configuration\n"
     ]
    },
    {
     "name": "stdout",
     "output_type": "stream",
     "text": [
      "\n",
      "86 dark_190504_AD-013_020s.fit\n",
      "\n",
      "87 dark_190504_AD-014_020s.fit\n"
     ]
    },
    {
     "name": "stderr",
     "output_type": "stream",
     "text": [
      "GetHeadVal: Missing Configuration\n",
      "GetHeadVal: Missing Configuration\n",
      "GetHeadVal: Missing Configuration\n",
      "GetHeadVal: Missing Configuration\n"
     ]
    },
    {
     "name": "stdout",
     "output_type": "stream",
     "text": [
      "\n",
      "88 dark_190504_AD-015_020s.fit\n",
      "\n",
      "89 dark_190504_AD-016_020s.fit\n"
     ]
    },
    {
     "name": "stderr",
     "output_type": "stream",
     "text": [
      "GetHeadVal: Missing Configuration\n",
      "GetHeadVal: Missing Configuration\n",
      "GetHeadVal: Missing Configuration\n",
      "GetHeadVal: Missing Configuration\n"
     ]
    },
    {
     "name": "stdout",
     "output_type": "stream",
     "text": [
      "\n",
      "90 dark_190504_AD-017_020s.fit\n",
      "\n",
      "91 dark_190504_AD-018_020s.fit\n"
     ]
    },
    {
     "name": "stderr",
     "output_type": "stream",
     "text": [
      "GetHeadVal: Missing Configuration\n",
      "GetHeadVal: Missing Configuration\n",
      "GetHeadVal: Missing Configuration\n",
      "GetHeadVal: Missing Configuration\n"
     ]
    },
    {
     "name": "stdout",
     "output_type": "stream",
     "text": [
      "\n",
      "92 dark_190504_AD-019_020s.fit\n",
      "\n",
      "93 dark_190504_AD-020_020s.fit\n"
     ]
    },
    {
     "name": "stderr",
     "output_type": "stream",
     "text": [
      "GetHeadVal: Missing Configuration\n",
      "GetHeadVal: Missing Configuration\n",
      "GetHeadVal: Missing Configuration\n",
      "GetHeadVal: Missing Configuration\n"
     ]
    },
    {
     "name": "stdout",
     "output_type": "stream",
     "text": [
      "\n",
      "94 dark_190504_AD-021_020s.fit\n",
      "\n",
      "95 dark_190504_AD-022_020s.fit\n"
     ]
    },
    {
     "name": "stderr",
     "output_type": "stream",
     "text": [
      "GetHeadVal: Missing Configuration\n",
      "GetHeadVal: Missing Configuration\n",
      "GetHeadVal: Missing Configuration\n",
      "GetHeadVal: Missing Configuration\n"
     ]
    },
    {
     "name": "stdout",
     "output_type": "stream",
     "text": [
      "\n",
      "96 dark_190504_AD-023_020s.fit\n",
      "\n",
      "97 dark_190504_AD-024_020s.fit\n"
     ]
    },
    {
     "name": "stderr",
     "output_type": "stream",
     "text": [
      "GetHeadVal: Missing Configuration\n",
      "GetHeadVal: Missing Configuration\n",
      "GetHeadVal: Missing Configuration\n"
     ]
    },
    {
     "name": "stdout",
     "output_type": "stream",
     "text": [
      "\n",
      "98 dark_190504_AD-025_020s.fit\n",
      "\n",
      "99 dark_190504_AD-026_020s.fit\n"
     ]
    },
    {
     "name": "stderr",
     "output_type": "stream",
     "text": [
      "GetHeadVal: Missing Configuration\n",
      "GetHeadVal: Missing Configuration\n",
      "GetHeadVal: Missing Configuration\n",
      "GetHeadVal: Missing Configuration\n",
      "GetHeadVal: Missing Configuration\n"
     ]
    },
    {
     "name": "stdout",
     "output_type": "stream",
     "text": [
      "\n",
      "100 dark_190504_AD-027_020s.fit\n",
      "\n",
      "101 dark_190504_AD-028_020s.fit\n"
     ]
    },
    {
     "name": "stderr",
     "output_type": "stream",
     "text": [
      "GetHeadVal: Missing Configuration\n",
      "GetHeadVal: Missing Configuration\n",
      "GetHeadVal: Missing Configuration\n",
      "GetHeadVal: Missing Configuration\n"
     ]
    },
    {
     "name": "stdout",
     "output_type": "stream",
     "text": [
      "\n",
      "102 dark_190504_AD-029_020s.fit\n",
      "\n",
      "103 dark_190504_AD-030_020s.fit\n"
     ]
    },
    {
     "name": "stderr",
     "output_type": "stream",
     "text": [
      "GetHeadVal: Missing Configuration\n",
      "GetHeadVal: Missing Configuration\n",
      "GetHeadVal: Missing Configuration\n",
      "GetHeadVal: Missing Configuration\n"
     ]
    },
    {
     "name": "stdout",
     "output_type": "stream",
     "text": [
      "\n",
      "104 dark_190504_AD-031_020s.fit\n",
      "\n",
      "105 dark_190504_AD-032_020s.fit\n"
     ]
    },
    {
     "name": "stderr",
     "output_type": "stream",
     "text": [
      "GetHeadVal: Missing Configuration\n",
      "GetHeadVal: Missing Configuration\n",
      "GetHeadVal: Missing Configuration\n",
      "GetHeadVal: Missing Configuration\n"
     ]
    },
    {
     "name": "stdout",
     "output_type": "stream",
     "text": [
      "\n",
      "106 dark_190504_AD-033_020s.fit\n",
      "\n",
      "107 dark_190504_AD-034_020s.fit\n"
     ]
    },
    {
     "name": "stderr",
     "output_type": "stream",
     "text": [
      "GetHeadVal: Missing Configuration\n",
      "GetHeadVal: Missing Configuration\n",
      "GetHeadVal: Missing Configuration\n",
      "GetHeadVal: Missing Configuration\n"
     ]
    },
    {
     "name": "stdout",
     "output_type": "stream",
     "text": [
      "\n",
      "108 dark_190504_AD-035_020s.fit\n",
      "\n",
      "109 dark_190504_AD-036_020s.fit\n"
     ]
    },
    {
     "name": "stderr",
     "output_type": "stream",
     "text": [
      "GetHeadVal: Missing Configuration\n",
      "GetHeadVal: Missing Configuration\n",
      "GetHeadVal: Missing Configuration\n",
      "GetHeadVal: Missing Configuration\n"
     ]
    },
    {
     "name": "stdout",
     "output_type": "stream",
     "text": [
      "\n",
      "110 dark_190504_AD-037_020s.fit\n",
      "\n",
      "111 dark_190504_AD-038_020s.fit\n"
     ]
    },
    {
     "name": "stderr",
     "output_type": "stream",
     "text": [
      "GetHeadVal: Missing Configuration\n",
      "GetHeadVal: Missing Configuration\n",
      "GetHeadVal: Missing Configuration\n",
      "GetHeadVal: Missing Configuration\n"
     ]
    },
    {
     "name": "stdout",
     "output_type": "stream",
     "text": [
      "\n",
      "112 dark_190504_AD-039_020s.fit\n",
      "\n",
      "113 dark_190504_AD-040_020s.fit\n"
     ]
    },
    {
     "name": "stderr",
     "output_type": "stream",
     "text": [
      "GetHeadVal: Missing Configuration\n",
      "GetHeadVal: Missing Configuration\n",
      "GetHeadVal: Missing Configuration\n",
      "GetHeadVal: Missing Configuration\n"
     ]
    },
    {
     "name": "stdout",
     "output_type": "stream",
     "text": [
      "\n",
      "114 dark_190504_AD-041_020s.fit\n",
      "\n",
      "115 dark_190504_AD-042_020s.fit\n"
     ]
    },
    {
     "name": "stderr",
     "output_type": "stream",
     "text": [
      "GetHeadVal: Missing Configuration\n",
      "GetHeadVal: Missing Configuration\n",
      "GetHeadVal: Missing Configuration\n",
      "GetHeadVal: Missing Configuration\n"
     ]
    },
    {
     "name": "stdout",
     "output_type": "stream",
     "text": [
      "\n",
      "116 dark_190504_AD-043_020s.fit\n",
      "\n",
      "117 dark_190504_AD-044_020s.fit\n"
     ]
    },
    {
     "name": "stderr",
     "output_type": "stream",
     "text": [
      "GetHeadVal: Missing Configuration\n",
      "GetHeadVal: Missing Configuration\n",
      "GetHeadVal: Missing Configuration\n"
     ]
    },
    {
     "name": "stdout",
     "output_type": "stream",
     "text": [
      "\n",
      "118 dark_190504_AD-045_020s.fit\n",
      "\n",
      "119 dark_190504_AD-046_020s.fit\n"
     ]
    },
    {
     "name": "stderr",
     "output_type": "stream",
     "text": [
      "GetHeadVal: Missing Configuration\n",
      "GetHeadVal: Missing Configuration\n",
      "GetHeadVal: Missing Configuration\n",
      "GetHeadVal: Missing Configuration\n",
      "GetHeadVal: Missing Configuration\n"
     ]
    },
    {
     "name": "stdout",
     "output_type": "stream",
     "text": [
      "\n",
      "120 dark_190504_AD-047_020s.fit\n",
      "\n",
      "121 dark_190504_AD-048_020s.fit\n"
     ]
    },
    {
     "name": "stderr",
     "output_type": "stream",
     "text": [
      "GetHeadVal: Missing Configuration\n",
      "GetHeadVal: Missing Configuration\n",
      "GetHeadVal: Missing Configuration\n",
      "GetHeadVal: Missing Configuration\n"
     ]
    },
    {
     "name": "stdout",
     "output_type": "stream",
     "text": [
      "\n",
      "122 dark_190504_AD-049_020s.fit\n",
      "\n",
      "123 dark_190504_AD-050_020s.fit\n"
     ]
    },
    {
     "name": "stderr",
     "output_type": "stream",
     "text": [
      "GetHeadVal: Missing Configuration\n",
      "GetHeadVal: Missing Configuration\n",
      "GetHeadVal: Missing Configuration\n",
      "GetHeadVal: Missing Configuration\n"
     ]
    },
    {
     "name": "stdout",
     "output_type": "stream",
     "text": [
      "\n",
      "124 dark_190504_AD-051_020s.fit\n",
      "\n",
      "125 dark_190504_AD-052_020s.fit\n"
     ]
    },
    {
     "name": "stderr",
     "output_type": "stream",
     "text": [
      "GetHeadVal: Missing Configuration\n",
      "GetHeadVal: Missing Configuration\n",
      "GetHeadVal: Missing Configuration\n",
      "GetHeadVal: Missing Configuration\n"
     ]
    },
    {
     "name": "stdout",
     "output_type": "stream",
     "text": [
      "\n",
      "126 dark_190504_AD-053_020s.fit\n",
      "\n",
      "127 dark_190504_AD-054_020s.fit\n"
     ]
    },
    {
     "name": "stderr",
     "output_type": "stream",
     "text": [
      "GetHeadVal: Missing Configuration\n",
      "GetHeadVal: Missing Configuration\n",
      "GetHeadVal: Missing Configuration\n",
      "GetHeadVal: Missing Configuration\n"
     ]
    },
    {
     "name": "stdout",
     "output_type": "stream",
     "text": [
      "\n",
      "128 dark_190504_AD-055_020s.fit\n",
      "\n",
      "129 dark_190504_AD-056_020s.fit\n"
     ]
    },
    {
     "name": "stderr",
     "output_type": "stream",
     "text": [
      "GetHeadVal: Missing Configuration\n",
      "GetHeadVal: Missing Configuration\n",
      "GetHeadVal: Missing Configuration\n",
      "GetHeadVal: Missing Configuration\n"
     ]
    },
    {
     "name": "stdout",
     "output_type": "stream",
     "text": [
      "\n",
      "130 dark_190504_AD-057_020s.fit\n",
      "\n",
      "131 dark_190504_AD-058_020s.fit\n"
     ]
    },
    {
     "name": "stderr",
     "output_type": "stream",
     "text": [
      "GetHeadVal: Missing Configuration\n",
      "GetHeadVal: Missing Configuration\n"
     ]
    },
    {
     "name": "stdout",
     "output_type": "stream",
     "text": [
      "\n",
      "132 dark_190504_AD-059_020s.fit\n",
      "\n",
      "133 dark_190504_AD-060_020s.fit\n"
     ]
    },
    {
     "name": "stderr",
     "output_type": "stream",
     "text": [
      "GetHeadVal: Missing Configuration\n",
      "GetHeadVal: Missing Configuration\n",
      "GetHeadVal: Missing Configuration\n",
      "GetHeadVal: Missing Configuration\n",
      "GetHeadVal: Missing Configuration\n",
      "GetHeadVal: Missing Configuration\n"
     ]
    },
    {
     "name": "stdout",
     "output_type": "stream",
     "text": [
      "\n",
      "134 dark_190504_AD-061_020s.fit\n",
      "\n",
      "135 dark_190504_AD-062_020s.fit\n"
     ]
    },
    {
     "name": "stderr",
     "output_type": "stream",
     "text": [
      "GetHeadVal: Missing Configuration\n",
      "GetHeadVal: Missing Configuration\n",
      "GetHeadVal: Missing Configuration\n",
      "GetHeadVal: Missing Configuration\n"
     ]
    },
    {
     "name": "stdout",
     "output_type": "stream",
     "text": [
      "\n",
      "136 dark_190504_AD-063_020s.fit\n",
      "\n",
      "137 dark_190504_AD-064_020s.fit\n"
     ]
    },
    {
     "name": "stderr",
     "output_type": "stream",
     "text": [
      "GetHeadVal: Missing Configuration\n",
      "GetHeadVal: Missing Configuration\n"
     ]
    },
    {
     "name": "stdout",
     "output_type": "stream",
     "text": [
      "\n",
      "138 dark_190504_AD-065_020s.fit\n"
     ]
    },
    {
     "name": "stderr",
     "output_type": "stream",
     "text": [
      "GetHeadVal: Missing Configuration\n",
      "GetHeadVal: Missing Configuration\n",
      "GetHeadVal: Missing Configuration\n",
      "GetHeadVal: Missing Configuration\n"
     ]
    },
    {
     "name": "stdout",
     "output_type": "stream",
     "text": [
      "\n",
      "139 dark_190504_AD-066_020s.fit\n",
      "\n",
      "140 dark_190504_AD-067_020s.fit\n"
     ]
    },
    {
     "name": "stderr",
     "output_type": "stream",
     "text": [
      "GetHeadVal: Missing Configuration\n",
      "GetHeadVal: Missing Configuration\n",
      "GetHeadVal: Missing Configuration\n",
      "GetHeadVal: Missing Configuration\n"
     ]
    },
    {
     "name": "stdout",
     "output_type": "stream",
     "text": [
      "\n",
      "141 dark_190504_AD-068_020s.fit\n",
      "\n",
      "142 dark_190504_AD-069_020s.fit\n"
     ]
    },
    {
     "name": "stderr",
     "output_type": "stream",
     "text": [
      "GetHeadVal: Missing Configuration\n",
      "GetHeadVal: Missing Configuration\n",
      "GetHeadVal: Missing Configuration\n",
      "GetHeadVal: Missing Configuration\n"
     ]
    },
    {
     "name": "stdout",
     "output_type": "stream",
     "text": [
      "\n",
      "143 dark_190504_AD-070_020s.fit\n",
      "\n",
      "144 dark_190504_AD-071_020s.fit\n"
     ]
    },
    {
     "name": "stderr",
     "output_type": "stream",
     "text": [
      "GetHeadVal: Missing Configuration\n",
      "GetHeadVal: Missing Configuration\n",
      "GetHeadVal: Missing Configuration\n",
      "GetHeadVal: Missing Configuration\n"
     ]
    },
    {
     "name": "stdout",
     "output_type": "stream",
     "text": [
      "\n",
      "145 dark_190504_AD-072_020s.fit\n",
      "\n",
      "146 dark_190504_AD-073_020s.fit\n"
     ]
    },
    {
     "name": "stderr",
     "output_type": "stream",
     "text": [
      "GetHeadVal: Missing Configuration\n",
      "GetHeadVal: Missing Configuration\n",
      "GetHeadVal: Missing Configuration\n",
      "GetHeadVal: Missing Configuration\n"
     ]
    },
    {
     "name": "stdout",
     "output_type": "stream",
     "text": [
      "\n",
      "147 dark_190504_AD-074_020s.fit\n",
      "\n",
      "148 dark_190504_AD-075_020s.fit\n"
     ]
    },
    {
     "name": "stderr",
     "output_type": "stream",
     "text": [
      "GetHeadVal: Missing Configuration\n",
      "GetHeadVal: Missing Configuration\n"
     ]
    },
    {
     "name": "stdout",
     "output_type": "stream",
     "text": [
      "\n",
      "149 dark_190504_AD-076_020s.fit\n",
      "\n",
      "150 dark_190504_AD-077_020s.fit\n"
     ]
    },
    {
     "name": "stderr",
     "output_type": "stream",
     "text": [
      "GetHeadVal: Missing Configuration\n",
      "GetHeadVal: Missing Configuration\n",
      "GetHeadVal: Missing Configuration\n",
      "GetHeadVal: Missing Configuration\n",
      "GetHeadVal: Missing Configuration\n",
      "GetHeadVal: Missing Configuration\n"
     ]
    },
    {
     "name": "stdout",
     "output_type": "stream",
     "text": [
      "\n",
      "151 dark_190504_AD-078_020s.fit\n",
      "\n",
      "152 dark_190504_AD-079_020s.fit\n"
     ]
    },
    {
     "name": "stderr",
     "output_type": "stream",
     "text": [
      "GetHeadVal: Missing Configuration\n",
      "GetHeadVal: Missing Configuration\n",
      "GetHeadVal: Missing Configuration\n",
      "GetHeadVal: Missing Configuration\n"
     ]
    },
    {
     "name": "stdout",
     "output_type": "stream",
     "text": [
      "\n",
      "153 dark_190504_AD-080_020s.fit\n",
      "\n",
      "154 dark_190504_AD-081_020s.fit\n"
     ]
    },
    {
     "name": "stderr",
     "output_type": "stream",
     "text": [
      "GetHeadVal: Missing Configuration\n",
      "GetHeadVal: Missing Configuration\n",
      "GetHeadVal: Missing Configuration\n",
      "GetHeadVal: Missing Configuration\n"
     ]
    },
    {
     "name": "stdout",
     "output_type": "stream",
     "text": [
      "\n",
      "155 dark_190504_AD-082_020s.fit\n",
      "\n",
      "156 dark_190504_AD-083_020s.fit\n"
     ]
    },
    {
     "name": "stderr",
     "output_type": "stream",
     "text": [
      "GetHeadVal: Missing Configuration\n",
      "GetHeadVal: Missing Configuration\n",
      "GetHeadVal: Missing Configuration\n",
      "GetHeadVal: Missing Configuration\n"
     ]
    },
    {
     "name": "stdout",
     "output_type": "stream",
     "text": [
      "\n",
      "157 dark_190504_AD-084_020s.fit\n",
      "\n",
      "158 dark_190504_AD-085_020s.fit\n"
     ]
    },
    {
     "name": "stderr",
     "output_type": "stream",
     "text": [
      "GetHeadVal: Missing Configuration\n",
      "GetHeadVal: Missing Configuration\n",
      "GetHeadVal: Missing Configuration\n",
      "GetHeadVal: Missing Configuration\n"
     ]
    },
    {
     "name": "stdout",
     "output_type": "stream",
     "text": [
      "\n",
      "159 dark_190504_AD-086_020s.fit\n",
      "\n",
      "160 dark_190504_AD-087_020s.fit\n"
     ]
    },
    {
     "name": "stderr",
     "output_type": "stream",
     "text": [
      "GetHeadVal: Missing Configuration\n",
      "GetHeadVal: Missing Configuration\n",
      "GetHeadVal: Missing Configuration\n",
      "GetHeadVal: Missing Configuration\n"
     ]
    },
    {
     "name": "stdout",
     "output_type": "stream",
     "text": [
      "\n",
      "161 dark_190504_AD-088_020s.fit\n",
      "\n",
      "162 dark_190504_AD-089_020s.fit\n"
     ]
    },
    {
     "name": "stderr",
     "output_type": "stream",
     "text": [
      "GetHeadVal: Missing Configuration\n",
      "GetHeadVal: Missing Configuration\n",
      "GetHeadVal: Missing Configuration\n",
      "GetHeadVal: Missing Configuration\n"
     ]
    },
    {
     "name": "stdout",
     "output_type": "stream",
     "text": [
      "\n",
      "163 dark_190504_AD-090_020s.fit\n",
      "\n",
      "164 dark_190504_AD-091_020s.fit\n"
     ]
    },
    {
     "name": "stderr",
     "output_type": "stream",
     "text": [
      "GetHeadVal: Missing Configuration\n",
      "GetHeadVal: Missing Configuration\n",
      "GetHeadVal: Missing Configuration\n",
      "GetHeadVal: Missing Configuration\n"
     ]
    },
    {
     "name": "stdout",
     "output_type": "stream",
     "text": [
      "\n",
      "165 dark_190504_AD-092_020s.fit\n",
      "\n",
      "166 dark_190504_AD-093_020s.fit\n"
     ]
    },
    {
     "name": "stderr",
     "output_type": "stream",
     "text": [
      "GetHeadVal: Missing Configuration\n",
      "GetHeadVal: Missing Configuration\n",
      "GetHeadVal: Missing Configuration\n",
      "GetHeadVal: Missing Configuration\n"
     ]
    },
    {
     "name": "stdout",
     "output_type": "stream",
     "text": [
      "\n",
      "167 dark_190504_AD-094_020s.fit\n",
      "\n",
      "168 dark_190504_AD-095_020s.fit\n"
     ]
    },
    {
     "name": "stderr",
     "output_type": "stream",
     "text": [
      "GetHeadVal: Missing Configuration\n",
      "GetHeadVal: Missing Configuration\n"
     ]
    },
    {
     "name": "stdout",
     "output_type": "stream",
     "text": [
      "\n",
      "169 dark_190504_AD-096_020s.fit\n",
      "\n",
      "170 dark_190504_AD-097_020s.fit\n"
     ]
    },
    {
     "name": "stderr",
     "output_type": "stream",
     "text": [
      "GetHeadVal: Missing Configuration\n",
      "GetHeadVal: Missing Configuration\n",
      "GetHeadVal: Missing Configuration\n",
      "GetHeadVal: Missing Configuration\n",
      "GetHeadVal: Missing Configuration\n",
      "GetHeadVal: Missing Configuration\n"
     ]
    },
    {
     "name": "stdout",
     "output_type": "stream",
     "text": [
      "\n",
      "171 dark_190504_AD-099_020s.fit\n",
      "\n",
      "172 dark_190504_AD-100_020s.fit\n"
     ]
    },
    {
     "name": "stderr",
     "output_type": "stream",
     "text": [
      "GetHeadVal: Missing Configuration\n",
      "GetHeadVal: Missing Configuration\n",
      "GetHeadVal: Missing Configuration\n",
      "GetHeadVal: Missing Configuration\n"
     ]
    },
    {
     "name": "stdout",
     "output_type": "stream",
     "text": [
      "\n",
      "173 dark_190504_AD-101_020s.fit\n",
      "\n",
      "174 dark_190504_AD-102_020s.fit\n"
     ]
    },
    {
     "name": "stderr",
     "output_type": "stream",
     "text": [
      "GetHeadVal: Missing Configuration\n",
      "GetHeadVal: Missing Configuration\n",
      "GetHeadVal: Missing Configuration\n",
      "GetHeadVal: Missing Configuration\n"
     ]
    },
    {
     "name": "stdout",
     "output_type": "stream",
     "text": [
      "\n",
      "175 dark_190504_AD-103_020s.fit\n",
      "\n",
      "176 dark_190504_AD-104_020s.fit\n"
     ]
    },
    {
     "name": "stderr",
     "output_type": "stream",
     "text": [
      "GetHeadVal: Missing Configuration\n",
      "GetHeadVal: Missing Configuration\n",
      "GetHeadVal: Missing Configuration\n",
      "GetHeadVal: Missing Configuration\n"
     ]
    },
    {
     "name": "stdout",
     "output_type": "stream",
     "text": [
      "\n",
      "177 dark_190504_AD-105_020s.fit\n",
      "\n",
      "178 dark_190504_AD-106_020s.fit\n"
     ]
    },
    {
     "name": "stderr",
     "output_type": "stream",
     "text": [
      "GetHeadVal: Missing Configuration\n",
      "GetHeadVal: Missing Configuration\n",
      "GetHeadVal: Missing Configuration\n",
      "GetHeadVal: Missing Configuration\n"
     ]
    },
    {
     "name": "stdout",
     "output_type": "stream",
     "text": [
      "\n",
      "179 dark_190504_AD-107_020s.fit\n",
      "\n",
      "180 dark_190504_AD-108_020s.fit\n"
     ]
    },
    {
     "name": "stderr",
     "output_type": "stream",
     "text": [
      "GetHeadVal: Missing Configuration\n",
      "GetHeadVal: Missing Configuration\n",
      "GetHeadVal: Missing Configuration\n",
      "GetHeadVal: Missing Configuration\n"
     ]
    },
    {
     "name": "stdout",
     "output_type": "stream",
     "text": [
      "\n",
      "181 dark_190504_AD-109_020s.fit\n",
      "\n",
      "182 dark_190504_AD-110_020s.fit\n"
     ]
    },
    {
     "name": "stderr",
     "output_type": "stream",
     "text": [
      "GetHeadVal: Missing Configuration\n",
      "GetHeadVal: Missing Configuration\n",
      "GetHeadVal: Missing Configuration\n",
      "GetHeadVal: Missing Configuration\n"
     ]
    },
    {
     "name": "stdout",
     "output_type": "stream",
     "text": [
      "\n",
      "183 dark_190504_AD-111_020s.fit\n",
      "\n",
      "184 dark_190504_AD-112_020s.fit\n"
     ]
    },
    {
     "name": "stderr",
     "output_type": "stream",
     "text": [
      "GetHeadVal: Missing Configuration\n",
      "GetHeadVal: Missing Configuration\n",
      "GetHeadVal: Missing Configuration\n",
      "GetHeadVal: Missing Configuration\n"
     ]
    },
    {
     "name": "stdout",
     "output_type": "stream",
     "text": [
      "\n",
      "185 dark_190504_AD-113_020s.fit\n",
      "\n",
      "186 dark_190504_AD-114_020s.fit\n"
     ]
    },
    {
     "name": "stderr",
     "output_type": "stream",
     "text": [
      "GetHeadVal: Missing Configuration\n",
      "GetHeadVal: Missing Configuration\n",
      "GetHeadVal: Missing Configuration\n",
      "GetHeadVal: Missing Configuration\n"
     ]
    },
    {
     "name": "stdout",
     "output_type": "stream",
     "text": [
      "\n",
      "187 dark_190504_AD-115_020s.fit\n",
      "\n",
      "188 dark_190504_AD-116_020s.fit\n",
      "\n",
      "189 dark_190504_AD-117_020s.fit\n"
     ]
    },
    {
     "name": "stderr",
     "output_type": "stream",
     "text": [
      "GetHeadVal: Missing Configuration\n",
      "GetHeadVal: Missing Configuration\n",
      "GetHeadVal: Missing Configuration\n",
      "GetHeadVal: Missing Configuration\n",
      "GetHeadVal: Missing Configuration\n",
      "GetHeadVal: Missing Configuration\n"
     ]
    },
    {
     "name": "stdout",
     "output_type": "stream",
     "text": [
      "\n",
      "190 dark_190504_AD-118_020s.fit\n",
      "\n",
      "191 dark_190504_AD-119_020s.fit\n"
     ]
    },
    {
     "name": "stderr",
     "output_type": "stream",
     "text": [
      "GetHeadVal: Missing Configuration\n",
      "GetHeadVal: Missing Configuration\n",
      "GetHeadVal: Missing Configuration\n",
      "GetHeadVal: Missing Configuration\n"
     ]
    },
    {
     "name": "stdout",
     "output_type": "stream",
     "text": [
      "\n",
      "192 dark_190504_AD-120_020s.fit\n",
      "\n",
      "193 dark_190504_AD-121_020s.fit\n"
     ]
    },
    {
     "name": "stderr",
     "output_type": "stream",
     "text": [
      "GetHeadVal: Missing Configuration\n",
      "GetHeadVal: Missing Configuration\n",
      "GetHeadVal: Missing Configuration\n",
      "GetHeadVal: Missing Configuration\n"
     ]
    },
    {
     "name": "stdout",
     "output_type": "stream",
     "text": [
      "\n",
      "194 dark_190504_AD-122_020s.fit\n",
      "\n",
      "195 dark_190504_AD-123_020s.fit\n"
     ]
    },
    {
     "name": "stderr",
     "output_type": "stream",
     "text": [
      "GetHeadVal: Missing Configuration\n",
      "GetHeadVal: Missing Configuration\n",
      "GetHeadVal: Missing Configuration\n",
      "GetHeadVal: Missing Configuration\n"
     ]
    },
    {
     "name": "stdout",
     "output_type": "stream",
     "text": [
      "\n",
      "196 dark_190504_AD-124_020s.fit\n",
      "\n",
      "197 dark_190504_AD-125_020s.fit\n"
     ]
    },
    {
     "name": "stderr",
     "output_type": "stream",
     "text": [
      "GetHeadVal: Missing Configuration\n",
      "GetHeadVal: Missing Configuration\n",
      "GetHeadVal: Missing Configuration\n",
      "GetHeadVal: Missing Configuration\n"
     ]
    },
    {
     "name": "stdout",
     "output_type": "stream",
     "text": [
      "\n",
      "198 dark_190504_AD-126_020s.fit\n",
      "\n",
      "199 dark_190504_AD-127_020s.fit\n"
     ]
    },
    {
     "name": "stderr",
     "output_type": "stream",
     "text": [
      "GetHeadVal: Missing Configuration\n",
      "GetHeadVal: Missing Configuration\n",
      "GetHeadVal: Missing Configuration\n",
      "GetHeadVal: Missing Configuration\n"
     ]
    },
    {
     "name": "stdout",
     "output_type": "stream",
     "text": [
      "\n",
      "200 dark_190504_AD-128_020s.fit\n",
      "\n",
      "201 dark_190504_AD-129_020s.fit\n"
     ]
    },
    {
     "name": "stderr",
     "output_type": "stream",
     "text": [
      "GetHeadVal: Missing Configuration\n",
      "GetHeadVal: Missing Configuration\n",
      "GetHeadVal: Missing Configuration\n",
      "GetHeadVal: Missing Configuration\n"
     ]
    },
    {
     "name": "stdout",
     "output_type": "stream",
     "text": [
      "\n",
      "202 dark_190504_AD-130_020s.fit\n",
      "\n",
      "203 dark_190504_AD-131_020s.fit\n"
     ]
    },
    {
     "name": "stderr",
     "output_type": "stream",
     "text": [
      "GetHeadVal: Missing Configuration\n",
      "GetHeadVal: Missing Configuration\n",
      "GetHeadVal: Missing Configuration\n",
      "GetHeadVal: Missing Configuration\n"
     ]
    },
    {
     "name": "stdout",
     "output_type": "stream",
     "text": [
      "\n",
      "204 dark_190504_AD-132_020s.fit\n",
      "\n",
      "205 dark_190504_AD-133_020s.fit\n"
     ]
    },
    {
     "name": "stderr",
     "output_type": "stream",
     "text": [
      "GetHeadVal: Missing Configuration\n",
      "GetHeadVal: Missing Configuration\n"
     ]
    },
    {
     "name": "stdout",
     "output_type": "stream",
     "text": [
      "\n",
      "206 dark_190504_AD-134_020s.fit\n",
      "\n",
      "207 dark_190504_AD-135_020s.fit\n"
     ]
    },
    {
     "name": "stderr",
     "output_type": "stream",
     "text": [
      "GetHeadVal: Missing Configuration\n",
      "GetHeadVal: Missing Configuration\n",
      "GetHeadVal: Missing Configuration\n",
      "GetHeadVal: Missing Configuration\n",
      "GetHeadVal: Missing Configuration\n",
      "GetHeadVal: Missing Configuration\n"
     ]
    },
    {
     "name": "stdout",
     "output_type": "stream",
     "text": [
      "\n",
      "208 dark_190504_AD-136_020s.fit\n",
      "\n",
      "209 dark_190504_AD-137_020s.fit\n"
     ]
    },
    {
     "name": "stderr",
     "output_type": "stream",
     "text": [
      "GetHeadVal: Missing Configuration\n",
      "GetHeadVal: Missing Configuration\n",
      "GetHeadVal: Missing Configuration\n",
      "GetHeadVal: Missing Configuration\n"
     ]
    },
    {
     "name": "stdout",
     "output_type": "stream",
     "text": [
      "\n",
      "210 dark_190504_AD-138_020s.fit\n",
      "\n",
      "211 dark_190504_AD-139_020s.fit\n"
     ]
    },
    {
     "name": "stderr",
     "output_type": "stream",
     "text": [
      "GetHeadVal: Missing Configuration\n",
      "GetHeadVal: Missing Configuration\n",
      "GetHeadVal: Missing Configuration\n",
      "GetHeadVal: Missing Configuration\n"
     ]
    },
    {
     "name": "stdout",
     "output_type": "stream",
     "text": [
      "\n",
      "212 dark_190504_AD-140_020s.fit\n",
      "\n",
      "213 dark_190504_AD-141_020s.fit\n"
     ]
    },
    {
     "name": "stderr",
     "output_type": "stream",
     "text": [
      "GetHeadVal: Missing Configuration\n",
      "GetHeadVal: Missing Configuration\n",
      "GetHeadVal: Missing Configuration\n",
      "GetHeadVal: Missing Configuration\n"
     ]
    },
    {
     "name": "stdout",
     "output_type": "stream",
     "text": [
      "\n",
      "214 dark_190504_AD-142_020s.fit\n",
      "\n",
      "215 dark_190504_AD-143_020s.fit\n"
     ]
    },
    {
     "name": "stderr",
     "output_type": "stream",
     "text": [
      "GetHeadVal: Missing Configuration\n",
      "GetHeadVal: Missing Configuration\n",
      "GetHeadVal: Missing Configuration\n",
      "GetHeadVal: Missing Configuration\n"
     ]
    },
    {
     "name": "stdout",
     "output_type": "stream",
     "text": [
      "\n",
      "216 dark_190504_AD-144_020s.fit\n",
      "\n",
      "217 dark_190504_AD-145_020s.fit\n"
     ]
    },
    {
     "name": "stderr",
     "output_type": "stream",
     "text": [
      "GetHeadVal: Missing Configuration\n",
      "GetHeadVal: Missing Configuration\n",
      "GetHeadVal: Missing Configuration\n",
      "GetHeadVal: Missing Configuration\n"
     ]
    },
    {
     "name": "stdout",
     "output_type": "stream",
     "text": [
      "\n",
      "218 dark_190504_AD-146_020s.fit\n",
      "\n",
      "219 dark_190504_AD-147_020s.fit\n"
     ]
    },
    {
     "name": "stderr",
     "output_type": "stream",
     "text": [
      "GetHeadVal: Missing Configuration\n",
      "GetHeadVal: Missing Configuration\n",
      "GetHeadVal: Missing Configuration\n",
      "GetHeadVal: Missing Configuration\n"
     ]
    },
    {
     "name": "stdout",
     "output_type": "stream",
     "text": [
      "\n",
      "220 dark_190504_AD-148_020s.fit\n",
      "\n",
      "221 dark_190504_AD-149_020s.fit\n"
     ]
    },
    {
     "name": "stderr",
     "output_type": "stream",
     "text": [
      "GetHeadVal: Missing Configuration\n",
      "GetHeadVal: Missing Configuration\n",
      "GetHeadVal: Missing Configuration\n",
      "GetHeadVal: Missing Configuration\n"
     ]
    },
    {
     "name": "stdout",
     "output_type": "stream",
     "text": [
      "\n",
      "222 dark_190504_AD-150_020s.fit\n",
      "\n",
      "223 dark_190504_AD-151_020s.fit\n"
     ]
    },
    {
     "name": "stderr",
     "output_type": "stream",
     "text": [
      "GetHeadVal: Missing Configuration\n",
      "GetHeadVal: Missing Configuration\n",
      "GetHeadVal: Missing Configuration\n",
      "GetHeadVal: Missing Configuration\n"
     ]
    },
    {
     "name": "stdout",
     "output_type": "stream",
     "text": [
      "\n",
      "224 dark_190504_AD-152_020s.fit\n",
      "\n",
      "225 dark_190504_AD-153_020s.fit\n"
     ]
    },
    {
     "name": "stderr",
     "output_type": "stream",
     "text": [
      "GetHeadVal: Missing Configuration\n",
      "GetHeadVal: Missing Configuration\n"
     ]
    },
    {
     "name": "stdout",
     "output_type": "stream",
     "text": [
      "\n",
      "226 dark_190504_AD-154_020s.fit\n"
     ]
    },
    {
     "name": "stderr",
     "output_type": "stream",
     "text": [
      "GetHeadVal: Missing Configuration\n",
      "GetHeadVal: Missing Configuration\n"
     ]
    },
    {
     "name": "stdout",
     "output_type": "stream",
     "text": [
      "\n",
      "227 dark_190504_AD-155_020s.fit\n"
     ]
    },
    {
     "name": "stderr",
     "output_type": "stream",
     "text": [
      "GetHeadVal: Missing Configuration\n",
      "GetHeadVal: Missing Configuration\n"
     ]
    },
    {
     "name": "stdout",
     "output_type": "stream",
     "text": [
      "\n",
      "228 dark_190504_AD-156_020s.fit\n"
     ]
    },
    {
     "name": "stderr",
     "output_type": "stream",
     "text": [
      "GetHeadVal: Missing Configuration\n",
      "GetHeadVal: Missing Configuration\n"
     ]
    },
    {
     "name": "stdout",
     "output_type": "stream",
     "text": [
      "\n",
      "229 dark_190504_AD-157_020s.fit\n",
      "\n",
      "230 dark_190504_AD-158_020s.fit\n"
     ]
    },
    {
     "name": "stderr",
     "output_type": "stream",
     "text": [
      "GetHeadVal: Missing Configuration\n",
      "GetHeadVal: Missing Configuration\n",
      "GetHeadVal: Missing Configuration\n",
      "GetHeadVal: Missing Configuration\n",
      "GetHeadVal: Missing Configuration\n",
      "GetHeadVal: Missing Configuration\n"
     ]
    },
    {
     "name": "stdout",
     "output_type": "stream",
     "text": [
      "\n",
      "231 dark_190504_AD-159_020s.fit\n",
      "\n",
      "232 dark_190504_AD-160_020s.fit\n"
     ]
    },
    {
     "name": "stderr",
     "output_type": "stream",
     "text": [
      "GetHeadVal: Missing Configuration\n",
      "GetHeadVal: Missing Configuration\n",
      "GetHeadVal: Missing Configuration\n",
      "GetHeadVal: Missing Configuration\n"
     ]
    },
    {
     "name": "stdout",
     "output_type": "stream",
     "text": [
      "\n",
      "233 dark_190504_AD-161_020s.fit\n",
      "\n",
      "234 dark_190504_AD-162_020s.fit\n"
     ]
    },
    {
     "name": "stderr",
     "output_type": "stream",
     "text": [
      "GetHeadVal: Missing Configuration\n",
      "GetHeadVal: Missing Configuration\n",
      "GetHeadVal: Missing Configuration\n",
      "GetHeadVal: Missing Configuration\n"
     ]
    },
    {
     "name": "stdout",
     "output_type": "stream",
     "text": [
      "\n",
      "235 dark_190504_AD-163_020s.fit\n",
      "\n",
      "236 dark_190504_AD-164_020s.fit\n"
     ]
    },
    {
     "name": "stderr",
     "output_type": "stream",
     "text": [
      "GetHeadVal: Missing Configuration\n",
      "GetHeadVal: Missing Configuration\n",
      "GetHeadVal: Missing Configuration\n",
      "GetHeadVal: Missing Configuration\n"
     ]
    },
    {
     "name": "stdout",
     "output_type": "stream",
     "text": [
      "\n",
      "237 dark_190504_AD-165_020s.fit\n",
      "\n",
      "238 dark_190504_AD-166_020s.fit\n"
     ]
    },
    {
     "name": "stderr",
     "output_type": "stream",
     "text": [
      "GetHeadVal: Missing Configuration\n",
      "GetHeadVal: Missing Configuration\n",
      "GetHeadVal: Missing Configuration\n",
      "GetHeadVal: Missing Configuration\n"
     ]
    },
    {
     "name": "stdout",
     "output_type": "stream",
     "text": [
      "\n",
      "239 dark_190504_AD-167_020s.fit\n",
      "\n",
      "240 dark_190504_AD-168_020s.fit\n"
     ]
    },
    {
     "name": "stderr",
     "output_type": "stream",
     "text": [
      "GetHeadVal: Missing Configuration\n",
      "GetHeadVal: Missing Configuration\n",
      "GetHeadVal: Missing Configuration\n",
      "GetHeadVal: Missing Configuration\n"
     ]
    },
    {
     "name": "stdout",
     "output_type": "stream",
     "text": [
      "\n",
      "241 dark_190504_AD-169_020s.fit\n",
      "\n",
      "242 dark_190504_AD-170_020s.fit\n"
     ]
    },
    {
     "name": "stderr",
     "output_type": "stream",
     "text": [
      "GetHeadVal: Missing Configuration\n",
      "GetHeadVal: Missing Configuration\n",
      "GetHeadVal: Missing Configuration\n",
      "GetHeadVal: Missing Configuration\n"
     ]
    },
    {
     "name": "stdout",
     "output_type": "stream",
     "text": [
      "\n",
      "243 dark_190504_AD-171_020s.fit\n",
      "\n",
      "244 dark_190504_AD-172_020s.fit\n"
     ]
    },
    {
     "name": "stderr",
     "output_type": "stream",
     "text": [
      "GetHeadVal: Missing Configuration\n",
      "GetHeadVal: Missing Configuration\n",
      "GetHeadVal: Missing Configuration\n",
      "GetHeadVal: Missing Configuration\n"
     ]
    },
    {
     "name": "stdout",
     "output_type": "stream",
     "text": [
      "\n",
      "245 dark_190504_AD-173_020s.fit\n",
      "\n",
      "246 dark_190504_AD-174_020s.fit\n"
     ]
    },
    {
     "name": "stderr",
     "output_type": "stream",
     "text": [
      "GetHeadVal: Missing Configuration\n",
      "GetHeadVal: Missing Configuration\n",
      "GetHeadVal: Missing Configuration\n",
      "GetHeadVal: Missing Configuration\n"
     ]
    },
    {
     "name": "stdout",
     "output_type": "stream",
     "text": [
      "\n",
      "247 dark_190504_AD-175_020s.fit\n",
      "\n",
      "248 dark_190504_AD-176_020s.fit\n"
     ]
    },
    {
     "name": "stderr",
     "output_type": "stream",
     "text": [
      "GetHeadVal: Missing Configuration\n",
      "GetHeadVal: Missing Configuration\n",
      "GetHeadVal: Missing Configuration\n",
      "GetHeadVal: Missing Configuration\n"
     ]
    },
    {
     "name": "stdout",
     "output_type": "stream",
     "text": [
      "\n",
      "249 dark_190504_AD-177_020s.fit\n",
      "\n",
      "250 dark_190504_AD-178_020s.fit\n"
     ]
    },
    {
     "name": "stderr",
     "output_type": "stream",
     "text": [
      "GetHeadVal: Missing Configuration\n",
      "GetHeadVal: Missing Configuration\n",
      "GetHeadVal: Missing Configuration\n",
      "GetHeadVal: Missing Configuration\n"
     ]
    },
    {
     "name": "stdout",
     "output_type": "stream",
     "text": [
      "\n",
      "251 dark_190504_AD-179_020s.fit\n",
      "\n",
      "252 dark_190504_AD-180_020s.fit\n"
     ]
    },
    {
     "name": "stderr",
     "output_type": "stream",
     "text": [
      "GetHeadVal: Missing Configuration\n",
      "GetHeadVal: Missing Configuration\n",
      "GetHeadVal: Missing Configuration\n",
      "GetHeadVal: Missing Configuration\n"
     ]
    },
    {
     "name": "stdout",
     "output_type": "stream",
     "text": [
      "\n",
      "253 dark_190504_AD-181_020s.fit\n",
      "\n",
      "254 dark_190504_AD-182_020s.fit\n"
     ]
    },
    {
     "name": "stderr",
     "output_type": "stream",
     "text": [
      "GetHeadVal: Missing Configuration\n",
      "GetHeadVal: Missing Configuration\n",
      "GetHeadVal: Missing Configuration\n",
      "GetHeadVal: Missing Configuration\n"
     ]
    },
    {
     "name": "stdout",
     "output_type": "stream",
     "text": [
      "\n",
      "255 dark_190504_AD-183_020s.fit\n",
      "\n",
      "256 dark_190504_AD-184_020s.fit\n"
     ]
    },
    {
     "name": "stderr",
     "output_type": "stream",
     "text": [
      "GetHeadVal: Missing Configuration\n",
      "GetHeadVal: Missing Configuration\n",
      "GetHeadVal: Missing Configuration\n",
      "GetHeadVal: Missing Configuration\n"
     ]
    },
    {
     "name": "stdout",
     "output_type": "stream",
     "text": [
      "\n",
      "257 dark_190504_AD-185_020s.fit\n",
      "\n",
      "258 dark_190504_AD-186_020s.fit\n"
     ]
    },
    {
     "name": "stderr",
     "output_type": "stream",
     "text": [
      "GetHeadVal: Missing Configuration\n",
      "GetHeadVal: Missing Configuration\n",
      "GetHeadVal: Missing Configuration\n",
      "GetHeadVal: Missing Configuration\n"
     ]
    },
    {
     "name": "stdout",
     "output_type": "stream",
     "text": [
      "\n",
      "259 dark_190504_AD-187_020s.fit\n",
      "\n",
      "260 dark_190504_AD-188_020s.fit\n"
     ]
    },
    {
     "name": "stderr",
     "output_type": "stream",
     "text": [
      "GetHeadVal: Missing Configuration\n",
      "GetHeadVal: Missing Configuration\n",
      "GetHeadVal: Missing Configuration\n",
      "GetHeadVal: Missing Configuration\n"
     ]
    },
    {
     "name": "stdout",
     "output_type": "stream",
     "text": [
      "\n",
      "261 dark_190504_AD-189_020s.fit\n",
      "\n",
      "262 dark_190504_AD-190_020s.fit\n"
     ]
    },
    {
     "name": "stderr",
     "output_type": "stream",
     "text": [
      "GetHeadVal: Missing Configuration\n",
      "GetHeadVal: Missing Configuration\n",
      "GetHeadVal: Missing Configuration\n",
      "GetHeadVal: Missing Configuration\n"
     ]
    },
    {
     "name": "stdout",
     "output_type": "stream",
     "text": [
      "\n",
      "263 dark_190504_AD-191_020s.fit\n",
      "\n",
      "264 dark_190504_AD-192_020s.fit\n"
     ]
    },
    {
     "name": "stderr",
     "output_type": "stream",
     "text": [
      "GetHeadVal: Missing Configuration\n",
      "GetHeadVal: Missing Configuration\n",
      "GetHeadVal: Missing Configuration\n",
      "GetHeadVal: Missing Configuration\n"
     ]
    },
    {
     "name": "stdout",
     "output_type": "stream",
     "text": [
      "\n",
      "265 dark_190504_AD-193_020s.fit\n",
      "\n",
      "266 dark_190504_AD-194_020s.fit\n"
     ]
    },
    {
     "name": "stderr",
     "output_type": "stream",
     "text": [
      "GetHeadVal: Missing Configuration\n",
      "GetHeadVal: Missing Configuration\n",
      "GetHeadVal: Missing Configuration\n",
      "GetHeadVal: Missing Configuration\n"
     ]
    },
    {
     "name": "stdout",
     "output_type": "stream",
     "text": [
      "\n",
      "267 dark_190504_AD-195_020s.fit\n",
      "\n",
      "268 dark_190504_AD-196_020s.fit\n"
     ]
    },
    {
     "name": "stderr",
     "output_type": "stream",
     "text": [
      "GetHeadVal: Missing Configuration\n",
      "GetHeadVal: Missing Configuration\n",
      "GetHeadVal: Missing Configuration\n",
      "GetHeadVal: Missing Configuration\n"
     ]
    },
    {
     "name": "stdout",
     "output_type": "stream",
     "text": [
      "\n",
      "269 dark_190504_AD-197_020s.fit\n",
      "\n",
      "270 dark_190504_AD-198_020s.fit\n"
     ]
    },
    {
     "name": "stderr",
     "output_type": "stream",
     "text": [
      "GetHeadVal: Missing Configuration\n",
      "GetHeadVal: Missing Configuration\n"
     ]
    },
    {
     "name": "stdout",
     "output_type": "stream",
     "text": [
      "\n",
      "271 dark_190504_AD-199_020s.fit\n",
      "\n",
      "272 dark_190504_AD-200_020s.fit\n"
     ]
    }
   ],
   "source": [
    "#Now we repeat the process for 020s\n",
    "##This can be applied to any subset of raw fits images.\n",
    "##In this example we used a single data set subdivided into exposure types\n",
    "\n",
    "\n",
    "somefiles = [f for f in os.listdir(whichpath) if '.fit' in f and '_020s' in f and'stack' not in f]\n",
    "\n",
    "somefiles = sorted(somefiles)       ## This is necessary on my Mac, may not be for others?\n",
    "\n",
    "\n",
    "acceptlist = True             # True if you want to accept all the files in somefiles.\n",
    "contiguous = True             # True if you want to accept a contiguous subset of somefiles.\n",
    "startfile, endfile = 5,9      # The first and last files in a contiquous subset.\n",
    "flist = [0,3,4,5,6,7,8]        # An explicit list of the files you want to accept.\n",
    "\n",
    "\n",
    "n20image, n20headlist, n20rows, n20cols, n20median, n20imad = stackfits(datapath,somefiles)\n",
    "\n",
    "\n",
    "n20stackarray = n20image\n",
    "\n",
    "n20stackarray_std = np.std(n20stackarray, axis=0)\n",
    "\n",
    "n20img_global_std = np.median(n20stackarray_std)\n",
    "\n",
    "n20noisy_pixels = n20stackarray_std > n20img_global_std*1.8\n",
    "\n",
    "\n",
    "n20locs = np.array(np.where(n20noisy_pixels == True))\n",
    "npix_020s = np.zeros((1019,1019)) \n",
    "for i in range(1019): #1024\n",
    "    for j in range(1019): #1024\n",
    "        if n20noisy_pixels[i,j] == True and j > 5:\n",
    "            npix_020s[i,j] = 1"
   ]
  },
  {
   "cell_type": "code",
   "execution_count": 13,
   "metadata": {},
   "outputs": [
    {
     "name": "stderr",
     "output_type": "stream",
     "text": [
      "GetHeadVal: Missing Configuration\n",
      "GetHeadVal: Missing Configuration\n",
      "GetHeadVal: Missing Configuration\n",
      "GetHeadVal: Missing Configuration\n"
     ]
    },
    {
     "name": "stdout",
     "output_type": "stream",
     "text": [
      "rows = 1024    cols = 1024\n",
      "image.shape = (270, 1024, 1024)\n",
      "\n",
      "0 dark_190504_AB-001_040s.fit\n"
     ]
    },
    {
     "name": "stderr",
     "output_type": "stream",
     "text": [
      "GetHeadVal: Missing Configuration\n",
      "GetHeadVal: Missing Configuration\n",
      "GetHeadVal: Missing Configuration\n"
     ]
    },
    {
     "name": "stdout",
     "output_type": "stream",
     "text": [
      "\n",
      "1 dark_190504_AB-002_040s.fit\n",
      "\n",
      "2 dark_190504_AB-003_040s.fit\n"
     ]
    },
    {
     "name": "stderr",
     "output_type": "stream",
     "text": [
      "GetHeadVal: Missing Configuration\n",
      "GetHeadVal: Missing Configuration\n",
      "GetHeadVal: Missing Configuration\n",
      "GetHeadVal: Missing Configuration\n",
      "GetHeadVal: Missing Configuration\n"
     ]
    },
    {
     "name": "stdout",
     "output_type": "stream",
     "text": [
      "\n",
      "3 dark_190504_AB-004_040s.fit\n",
      "\n",
      "4 dark_190504_AB-005_040s.fit\n"
     ]
    },
    {
     "name": "stderr",
     "output_type": "stream",
     "text": [
      "GetHeadVal: Missing Configuration\n",
      "GetHeadVal: Missing Configuration\n"
     ]
    },
    {
     "name": "stdout",
     "output_type": "stream",
     "text": [
      "\n",
      "5 dark_190504_AB-006_040s.fit\n"
     ]
    },
    {
     "name": "stderr",
     "output_type": "stream",
     "text": [
      "GetHeadVal: Missing Configuration\n",
      "GetHeadVal: Missing Configuration\n"
     ]
    },
    {
     "name": "stdout",
     "output_type": "stream",
     "text": [
      "\n",
      "6 dark_190504_AB-007_040s.fit\n"
     ]
    },
    {
     "name": "stderr",
     "output_type": "stream",
     "text": [
      "GetHeadVal: Missing Configuration\n",
      "GetHeadVal: Missing Configuration\n"
     ]
    },
    {
     "name": "stdout",
     "output_type": "stream",
     "text": [
      "\n",
      "7 dark_190504_AB-008_040s.fit\n"
     ]
    },
    {
     "name": "stderr",
     "output_type": "stream",
     "text": [
      "GetHeadVal: Missing Configuration\n",
      "GetHeadVal: Missing Configuration\n"
     ]
    },
    {
     "name": "stdout",
     "output_type": "stream",
     "text": [
      "\n",
      "8 dark_190504_AB-009_040s.fit\n"
     ]
    },
    {
     "name": "stderr",
     "output_type": "stream",
     "text": [
      "GetHeadVal: Missing Configuration\n",
      "GetHeadVal: Missing Configuration\n",
      "GetHeadVal: Missing Configuration\n"
     ]
    },
    {
     "name": "stdout",
     "output_type": "stream",
     "text": [
      "\n",
      "9 dark_190504_AB-010_040s.fit\n",
      "\n",
      "10 dark_190504_AB-011_040s.fit\n"
     ]
    },
    {
     "name": "stderr",
     "output_type": "stream",
     "text": [
      "GetHeadVal: Missing Configuration\n",
      "GetHeadVal: Missing Configuration\n",
      "GetHeadVal: Missing Configuration\n",
      "GetHeadVal: Missing Configuration\n",
      "GetHeadVal: Missing Configuration\n"
     ]
    },
    {
     "name": "stdout",
     "output_type": "stream",
     "text": [
      "\n",
      "11 dark_190504_AB-012_040s.fit\n",
      "\n",
      "12 dark_190504_AB-013_040s.fit\n"
     ]
    },
    {
     "name": "stderr",
     "output_type": "stream",
     "text": [
      "GetHeadVal: Missing Configuration\n",
      "GetHeadVal: Missing Configuration\n",
      "GetHeadVal: Missing Configuration\n",
      "GetHeadVal: Missing Configuration\n"
     ]
    },
    {
     "name": "stdout",
     "output_type": "stream",
     "text": [
      "\n",
      "13 dark_190504_AB-014_040s.fit\n",
      "\n",
      "14 dark_190504_AB-015_040s.fit\n"
     ]
    },
    {
     "name": "stderr",
     "output_type": "stream",
     "text": [
      "GetHeadVal: Missing Configuration\n",
      "GetHeadVal: Missing Configuration\n",
      "GetHeadVal: Missing Configuration\n",
      "GetHeadVal: Missing Configuration\n"
     ]
    },
    {
     "name": "stdout",
     "output_type": "stream",
     "text": [
      "\n",
      "15 dark_190504_AB-016_040s.fit\n",
      "\n",
      "16 dark_190504_AB-017_040s.fit\n"
     ]
    },
    {
     "name": "stderr",
     "output_type": "stream",
     "text": [
      "GetHeadVal: Missing Configuration\n",
      "GetHeadVal: Missing Configuration\n",
      "GetHeadVal: Missing Configuration\n",
      "GetHeadVal: Missing Configuration\n"
     ]
    },
    {
     "name": "stdout",
     "output_type": "stream",
     "text": [
      "\n",
      "17 dark_190504_AB-018_040s.fit\n",
      "\n",
      "18 dark_190504_AB-019_040s.fit\n"
     ]
    },
    {
     "name": "stderr",
     "output_type": "stream",
     "text": [
      "GetHeadVal: Missing Configuration\n",
      "GetHeadVal: Missing Configuration\n",
      "GetHeadVal: Missing Configuration\n"
     ]
    },
    {
     "name": "stdout",
     "output_type": "stream",
     "text": [
      "\n",
      "19 dark_190504_AB-020_040s.fit\n",
      "\n",
      "20 dark_190504_AB-021_040s.fit\n"
     ]
    },
    {
     "name": "stderr",
     "output_type": "stream",
     "text": [
      "GetHeadVal: Missing Configuration\n",
      "GetHeadVal: Missing Configuration\n",
      "GetHeadVal: Missing Configuration\n",
      "GetHeadVal: Missing Configuration\n",
      "GetHeadVal: Missing Configuration\n"
     ]
    },
    {
     "name": "stdout",
     "output_type": "stream",
     "text": [
      "\n",
      "21 dark_190504_AB-022_040s.fit\n",
      "\n",
      "22 dark_190504_AB-023_040s.fit\n"
     ]
    },
    {
     "name": "stderr",
     "output_type": "stream",
     "text": [
      "GetHeadVal: Missing Configuration\n",
      "GetHeadVal: Missing Configuration\n",
      "GetHeadVal: Missing Configuration\n",
      "GetHeadVal: Missing Configuration\n"
     ]
    },
    {
     "name": "stdout",
     "output_type": "stream",
     "text": [
      "\n",
      "23 dark_190504_AB-024_040s.fit\n",
      "\n",
      "24 dark_190504_AB-025_040s.fit\n"
     ]
    },
    {
     "name": "stderr",
     "output_type": "stream",
     "text": [
      "GetHeadVal: Missing Configuration\n",
      "GetHeadVal: Missing Configuration\n",
      "GetHeadVal: Missing Configuration\n",
      "GetHeadVal: Missing Configuration\n"
     ]
    },
    {
     "name": "stdout",
     "output_type": "stream",
     "text": [
      "\n",
      "25 dark_190504_AB-026_040s.fit\n",
      "\n",
      "26 dark_190504_AB-027_040s.fit\n"
     ]
    },
    {
     "name": "stderr",
     "output_type": "stream",
     "text": [
      "GetHeadVal: Missing Configuration\n",
      "GetHeadVal: Missing Configuration\n",
      "GetHeadVal: Missing Configuration\n",
      "GetHeadVal: Missing Configuration\n"
     ]
    },
    {
     "name": "stdout",
     "output_type": "stream",
     "text": [
      "\n",
      "27 dark_190504_AB-028_040s.fit\n",
      "\n",
      "28 dark_190504_AB-029_040s.fit\n"
     ]
    },
    {
     "name": "stderr",
     "output_type": "stream",
     "text": [
      "GetHeadVal: Missing Configuration\n",
      "GetHeadVal: Missing Configuration\n",
      "GetHeadVal: Missing Configuration\n",
      "GetHeadVal: Missing Configuration\n"
     ]
    },
    {
     "name": "stdout",
     "output_type": "stream",
     "text": [
      "\n",
      "29 dark_190504_AB-030_040s.fit\n",
      "\n",
      "30 dark_190504_AB-031_040s.fit\n"
     ]
    },
    {
     "name": "stderr",
     "output_type": "stream",
     "text": [
      "GetHeadVal: Missing Configuration\n",
      "GetHeadVal: Missing Configuration\n",
      "GetHeadVal: Missing Configuration\n"
     ]
    },
    {
     "name": "stdout",
     "output_type": "stream",
     "text": [
      "\n",
      "31 dark_190504_AB-032_040s.fit\n",
      "\n",
      "32 dark_190504_AB-033_040s.fit\n"
     ]
    },
    {
     "name": "stderr",
     "output_type": "stream",
     "text": [
      "GetHeadVal: Missing Configuration\n",
      "GetHeadVal: Missing Configuration\n",
      "GetHeadVal: Missing Configuration\n",
      "GetHeadVal: Missing Configuration\n",
      "GetHeadVal: Missing Configuration\n"
     ]
    },
    {
     "name": "stdout",
     "output_type": "stream",
     "text": [
      "\n",
      "33 dark_190504_AB-034_040s.fit\n",
      "\n",
      "34 dark_190504_AB-035_040s.fit\n"
     ]
    },
    {
     "name": "stderr",
     "output_type": "stream",
     "text": [
      "GetHeadVal: Missing Configuration\n",
      "GetHeadVal: Missing Configuration\n",
      "GetHeadVal: Missing Configuration\n",
      "GetHeadVal: Missing Configuration\n"
     ]
    },
    {
     "name": "stdout",
     "output_type": "stream",
     "text": [
      "\n",
      "35 dark_190504_AB-036_040s.fit\n",
      "\n",
      "36 dark_190504_AB-037_040s.fit\n"
     ]
    },
    {
     "name": "stderr",
     "output_type": "stream",
     "text": [
      "GetHeadVal: Missing Configuration\n",
      "GetHeadVal: Missing Configuration\n",
      "GetHeadVal: Missing Configuration\n",
      "GetHeadVal: Missing Configuration\n"
     ]
    },
    {
     "name": "stdout",
     "output_type": "stream",
     "text": [
      "\n",
      "37 dark_190504_AB-038_040s.fit\n",
      "\n",
      "38 dark_190504_AB-039_040s.fit\n"
     ]
    },
    {
     "name": "stderr",
     "output_type": "stream",
     "text": [
      "GetHeadVal: Missing Configuration\n",
      "GetHeadVal: Missing Configuration\n",
      "GetHeadVal: Missing Configuration\n",
      "GetHeadVal: Missing Configuration\n"
     ]
    },
    {
     "name": "stdout",
     "output_type": "stream",
     "text": [
      "\n",
      "39 dark_190504_AB-040_040s.fit\n",
      "\n",
      "40 dark_190504_AB-041_040s.fit\n"
     ]
    },
    {
     "name": "stderr",
     "output_type": "stream",
     "text": [
      "GetHeadVal: Missing Configuration\n",
      "GetHeadVal: Missing Configuration\n",
      "GetHeadVal: Missing Configuration\n",
      "GetHeadVal: Missing Configuration\n"
     ]
    },
    {
     "name": "stdout",
     "output_type": "stream",
     "text": [
      "\n",
      "41 dark_190504_AB-042_040s.fit\n",
      "\n",
      "42 dark_190504_AB-043_040s.fit\n"
     ]
    },
    {
     "name": "stderr",
     "output_type": "stream",
     "text": [
      "GetHeadVal: Missing Configuration\n",
      "GetHeadVal: Missing Configuration\n",
      "GetHeadVal: Missing Configuration\n",
      "GetHeadVal: Missing Configuration\n"
     ]
    },
    {
     "name": "stdout",
     "output_type": "stream",
     "text": [
      "\n",
      "43 dark_190504_AB-044_040s.fit\n",
      "\n",
      "44 dark_190504_AB-045_040s.fit\n"
     ]
    },
    {
     "name": "stderr",
     "output_type": "stream",
     "text": [
      "GetHeadVal: Missing Configuration\n",
      "GetHeadVal: Missing Configuration\n",
      "GetHeadVal: Missing Configuration\n",
      "GetHeadVal: Missing Configuration\n"
     ]
    },
    {
     "name": "stdout",
     "output_type": "stream",
     "text": [
      "\n",
      "45 dark_190504_AB-046_040s.fit\n",
      "\n",
      "46 dark_190504_AB-047_040s.fit\n"
     ]
    },
    {
     "name": "stderr",
     "output_type": "stream",
     "text": [
      "GetHeadVal: Missing Configuration\n",
      "GetHeadVal: Missing Configuration\n",
      "GetHeadVal: Missing Configuration\n",
      "GetHeadVal: Missing Configuration\n"
     ]
    },
    {
     "name": "stdout",
     "output_type": "stream",
     "text": [
      "\n",
      "47 dark_190504_AB-048_040s.fit\n",
      "\n",
      "48 dark_190504_AB-049_040s.fit\n"
     ]
    },
    {
     "name": "stderr",
     "output_type": "stream",
     "text": [
      "GetHeadVal: Missing Configuration\n",
      "GetHeadVal: Missing Configuration\n",
      "GetHeadVal: Missing Configuration\n",
      "GetHeadVal: Missing Configuration\n"
     ]
    },
    {
     "name": "stdout",
     "output_type": "stream",
     "text": [
      "\n",
      "49 dark_190504_AB-050_040s.fit\n",
      "\n",
      "50 dark_190504_AC-001_040s.fit\n"
     ]
    },
    {
     "name": "stderr",
     "output_type": "stream",
     "text": [
      "GetHeadVal: Missing Configuration\n",
      "GetHeadVal: Missing Configuration\n",
      "GetHeadVal: Missing Configuration\n",
      "GetHeadVal: Missing Configuration\n"
     ]
    },
    {
     "name": "stdout",
     "output_type": "stream",
     "text": [
      "\n",
      "51 dark_190504_AC-002_040s.fit\n",
      "\n",
      "52 dark_190504_AC-003_040s.fit\n"
     ]
    },
    {
     "name": "stderr",
     "output_type": "stream",
     "text": [
      "GetHeadVal: Missing Configuration\n",
      "GetHeadVal: Missing Configuration\n",
      "GetHeadVal: Missing Configuration\n",
      "GetHeadVal: Missing Configuration\n"
     ]
    },
    {
     "name": "stdout",
     "output_type": "stream",
     "text": [
      "\n",
      "53 dark_190504_AC-004_040s.fit\n",
      "\n",
      "54 dark_190504_AC-005_040s.fit\n"
     ]
    },
    {
     "name": "stderr",
     "output_type": "stream",
     "text": [
      "GetHeadVal: Missing Configuration\n",
      "GetHeadVal: Missing Configuration\n",
      "GetHeadVal: Missing Configuration\n",
      "GetHeadVal: Missing Configuration\n"
     ]
    },
    {
     "name": "stdout",
     "output_type": "stream",
     "text": [
      "\n",
      "55 dark_190504_AC-006_040s.fit\n",
      "\n",
      "56 dark_190504_AC-007_040s.fit\n"
     ]
    },
    {
     "name": "stderr",
     "output_type": "stream",
     "text": [
      "GetHeadVal: Missing Configuration\n",
      "GetHeadVal: Missing Configuration\n",
      "GetHeadVal: Missing Configuration\n",
      "GetHeadVal: Missing Configuration\n"
     ]
    },
    {
     "name": "stdout",
     "output_type": "stream",
     "text": [
      "\n",
      "57 dark_190504_AC-008_040s.fit\n",
      "\n",
      "58 dark_190504_AC-009_040s.fit\n"
     ]
    },
    {
     "name": "stderr",
     "output_type": "stream",
     "text": [
      "GetHeadVal: Missing Configuration\n",
      "GetHeadVal: Missing Configuration\n",
      "GetHeadVal: Missing Configuration\n",
      "GetHeadVal: Missing Configuration\n"
     ]
    },
    {
     "name": "stdout",
     "output_type": "stream",
     "text": [
      "\n",
      "59 dark_190504_AC-010_040s.fit\n",
      "\n",
      "60 dark_190504_AC-011_040s.fit\n"
     ]
    },
    {
     "name": "stderr",
     "output_type": "stream",
     "text": [
      "GetHeadVal: Missing Configuration\n",
      "GetHeadVal: Missing Configuration\n",
      "GetHeadVal: Missing Configuration\n",
      "GetHeadVal: Missing Configuration\n"
     ]
    },
    {
     "name": "stdout",
     "output_type": "stream",
     "text": [
      "\n",
      "61 dark_190504_AC-012_040s.fit\n",
      "\n",
      "62 dark_190504_AC-013_040s.fit\n"
     ]
    },
    {
     "name": "stderr",
     "output_type": "stream",
     "text": [
      "GetHeadVal: Missing Configuration\n",
      "GetHeadVal: Missing Configuration\n",
      "GetHeadVal: Missing Configuration\n",
      "GetHeadVal: Missing Configuration\n"
     ]
    },
    {
     "name": "stdout",
     "output_type": "stream",
     "text": [
      "\n",
      "63 dark_190504_AC-014_040s.fit\n",
      "\n",
      "64 dark_190504_AC-015_040s.fit\n"
     ]
    },
    {
     "name": "stderr",
     "output_type": "stream",
     "text": [
      "GetHeadVal: Missing Configuration\n",
      "GetHeadVal: Missing Configuration\n",
      "GetHeadVal: Missing Configuration\n"
     ]
    },
    {
     "name": "stdout",
     "output_type": "stream",
     "text": [
      "\n",
      "65 dark_190504_AC-016_040s.fit\n",
      "\n",
      "66 dark_190504_AC-017_040s.fit\n"
     ]
    },
    {
     "name": "stderr",
     "output_type": "stream",
     "text": [
      "GetHeadVal: Missing Configuration\n",
      "GetHeadVal: Missing Configuration\n",
      "GetHeadVal: Missing Configuration\n",
      "GetHeadVal: Missing Configuration\n",
      "GetHeadVal: Missing Configuration\n"
     ]
    },
    {
     "name": "stdout",
     "output_type": "stream",
     "text": [
      "\n",
      "67 dark_190504_AC-018_040s.fit\n",
      "\n",
      "68 dark_190504_AC-019_040s.fit\n"
     ]
    },
    {
     "name": "stderr",
     "output_type": "stream",
     "text": [
      "GetHeadVal: Missing Configuration\n",
      "GetHeadVal: Missing Configuration\n",
      "GetHeadVal: Missing Configuration\n",
      "GetHeadVal: Missing Configuration\n"
     ]
    },
    {
     "name": "stdout",
     "output_type": "stream",
     "text": [
      "\n",
      "69 dark_190504_AC-020_040s.fit\n",
      "\n",
      "70 dark_190504_AC-021_040s.fit\n"
     ]
    },
    {
     "name": "stderr",
     "output_type": "stream",
     "text": [
      "GetHeadVal: Missing Configuration\n",
      "GetHeadVal: Missing Configuration\n",
      "GetHeadVal: Missing Configuration\n",
      "GetHeadVal: Missing Configuration\n"
     ]
    },
    {
     "name": "stdout",
     "output_type": "stream",
     "text": [
      "\n",
      "71 dark_190504_AC-022_040s.fit\n",
      "\n",
      "72 dark_190504_AC-023_040s.fit\n"
     ]
    },
    {
     "name": "stderr",
     "output_type": "stream",
     "text": [
      "GetHeadVal: Missing Configuration\n",
      "GetHeadVal: Missing Configuration\n",
      "GetHeadVal: Missing Configuration\n",
      "GetHeadVal: Missing Configuration\n"
     ]
    },
    {
     "name": "stdout",
     "output_type": "stream",
     "text": [
      "\n",
      "73 dark_190504_AC-024_040s.fit\n",
      "\n",
      "74 dark_190504_AD-001_040s.fit\n"
     ]
    },
    {
     "name": "stderr",
     "output_type": "stream",
     "text": [
      "GetHeadVal: Missing Configuration\n",
      "GetHeadVal: Missing Configuration\n",
      "GetHeadVal: Missing Configuration\n",
      "GetHeadVal: Missing Configuration\n"
     ]
    },
    {
     "name": "stdout",
     "output_type": "stream",
     "text": [
      "\n",
      "75 dark_190504_AD-002_040s.fit\n",
      "\n",
      "76 dark_190504_AD-003_040s.fit\n"
     ]
    },
    {
     "name": "stderr",
     "output_type": "stream",
     "text": [
      "GetHeadVal: Missing Configuration\n",
      "GetHeadVal: Missing Configuration\n",
      "GetHeadVal: Missing Configuration\n",
      "GetHeadVal: Missing Configuration\n"
     ]
    },
    {
     "name": "stdout",
     "output_type": "stream",
     "text": [
      "\n",
      "77 dark_190504_AD-004_040s.fit\n",
      "\n",
      "78 dark_190504_AD-005_040s.fit\n"
     ]
    },
    {
     "name": "stderr",
     "output_type": "stream",
     "text": [
      "GetHeadVal: Missing Configuration\n",
      "GetHeadVal: Missing Configuration\n",
      "GetHeadVal: Missing Configuration\n",
      "GetHeadVal: Missing Configuration\n"
     ]
    },
    {
     "name": "stdout",
     "output_type": "stream",
     "text": [
      "\n",
      "79 dark_190504_AD-006_040s.fit\n",
      "\n",
      "80 dark_190504_AD-007_040s.fit\n"
     ]
    },
    {
     "name": "stderr",
     "output_type": "stream",
     "text": [
      "GetHeadVal: Missing Configuration\n",
      "GetHeadVal: Missing Configuration\n",
      "GetHeadVal: Missing Configuration\n",
      "GetHeadVal: Missing Configuration\n"
     ]
    },
    {
     "name": "stdout",
     "output_type": "stream",
     "text": [
      "\n",
      "81 dark_190504_AD-008_040s.fit\n",
      "\n",
      "82 dark_190504_AD-009_040s.fit\n"
     ]
    },
    {
     "name": "stderr",
     "output_type": "stream",
     "text": [
      "GetHeadVal: Missing Configuration\n",
      "GetHeadVal: Missing Configuration\n",
      "GetHeadVal: Missing Configuration\n",
      "GetHeadVal: Missing Configuration\n"
     ]
    },
    {
     "name": "stdout",
     "output_type": "stream",
     "text": [
      "\n",
      "83 dark_190504_AD-010_040s.fit\n",
      "\n",
      "84 dark_190504_AD-011_040s.fit\n"
     ]
    },
    {
     "name": "stderr",
     "output_type": "stream",
     "text": [
      "GetHeadVal: Missing Configuration\n",
      "GetHeadVal: Missing Configuration\n",
      "GetHeadVal: Missing Configuration\n",
      "GetHeadVal: Missing Configuration\n"
     ]
    },
    {
     "name": "stdout",
     "output_type": "stream",
     "text": [
      "\n",
      "85 dark_190504_AD-012_040s.fit\n",
      "\n",
      "86 dark_190504_AD-013_040s.fit\n"
     ]
    },
    {
     "name": "stderr",
     "output_type": "stream",
     "text": [
      "GetHeadVal: Missing Configuration\n",
      "GetHeadVal: Missing Configuration\n",
      "GetHeadVal: Missing Configuration\n",
      "GetHeadVal: Missing Configuration\n"
     ]
    },
    {
     "name": "stdout",
     "output_type": "stream",
     "text": [
      "\n",
      "87 dark_190504_AD-014_040s.fit\n",
      "\n",
      "88 dark_190504_AD-015_040s.fit\n"
     ]
    },
    {
     "name": "stderr",
     "output_type": "stream",
     "text": [
      "GetHeadVal: Missing Configuration\n",
      "GetHeadVal: Missing Configuration\n",
      "GetHeadVal: Missing Configuration\n",
      "GetHeadVal: Missing Configuration\n"
     ]
    },
    {
     "name": "stdout",
     "output_type": "stream",
     "text": [
      "\n",
      "89 dark_190504_AD-016_040s.fit\n",
      "\n",
      "90 dark_190504_AD-017_040s.fit\n"
     ]
    },
    {
     "name": "stderr",
     "output_type": "stream",
     "text": [
      "GetHeadVal: Missing Configuration\n",
      "GetHeadVal: Missing Configuration\n",
      "GetHeadVal: Missing Configuration\n",
      "GetHeadVal: Missing Configuration\n"
     ]
    },
    {
     "name": "stdout",
     "output_type": "stream",
     "text": [
      "\n",
      "91 dark_190504_AD-018_040s.fit\n",
      "\n",
      "92 dark_190504_AD-019_040s.fit\n"
     ]
    },
    {
     "name": "stderr",
     "output_type": "stream",
     "text": [
      "GetHeadVal: Missing Configuration\n",
      "GetHeadVal: Missing Configuration\n",
      "GetHeadVal: Missing Configuration\n",
      "GetHeadVal: Missing Configuration\n"
     ]
    },
    {
     "name": "stdout",
     "output_type": "stream",
     "text": [
      "\n",
      "93 dark_190504_AD-020_040s.fit\n",
      "\n",
      "94 dark_190504_AD-021_040s.fit\n"
     ]
    },
    {
     "name": "stderr",
     "output_type": "stream",
     "text": [
      "GetHeadVal: Missing Configuration\n",
      "GetHeadVal: Missing Configuration\n",
      "GetHeadVal: Missing Configuration\n",
      "GetHeadVal: Missing Configuration\n"
     ]
    },
    {
     "name": "stdout",
     "output_type": "stream",
     "text": [
      "\n",
      "95 dark_190504_AD-022_040s.fit\n",
      "\n",
      "96 dark_190504_AD-023_040s.fit\n"
     ]
    },
    {
     "name": "stderr",
     "output_type": "stream",
     "text": [
      "GetHeadVal: Missing Configuration\n",
      "GetHeadVal: Missing Configuration\n",
      "GetHeadVal: Missing Configuration\n",
      "GetHeadVal: Missing Configuration\n"
     ]
    },
    {
     "name": "stdout",
     "output_type": "stream",
     "text": [
      "\n",
      "97 dark_190504_AD-024_040s.fit\n",
      "\n",
      "98 dark_190504_AD-025_040s.fit\n"
     ]
    },
    {
     "name": "stderr",
     "output_type": "stream",
     "text": [
      "GetHeadVal: Missing Configuration\n",
      "GetHeadVal: Missing Configuration\n",
      "GetHeadVal: Missing Configuration\n",
      "GetHeadVal: Missing Configuration\n"
     ]
    },
    {
     "name": "stdout",
     "output_type": "stream",
     "text": [
      "\n",
      "99 dark_190504_AD-026_040s.fit\n",
      "\n",
      "100 dark_190504_AD-027_040s.fit\n"
     ]
    },
    {
     "name": "stderr",
     "output_type": "stream",
     "text": [
      "GetHeadVal: Missing Configuration\n",
      "GetHeadVal: Missing Configuration\n",
      "GetHeadVal: Missing Configuration\n",
      "GetHeadVal: Missing Configuration\n"
     ]
    },
    {
     "name": "stdout",
     "output_type": "stream",
     "text": [
      "\n",
      "101 dark_190504_AD-028_040s.fit\n",
      "\n",
      "102 dark_190504_AD-029_040s.fit\n"
     ]
    },
    {
     "name": "stderr",
     "output_type": "stream",
     "text": [
      "GetHeadVal: Missing Configuration\n",
      "GetHeadVal: Missing Configuration\n",
      "GetHeadVal: Missing Configuration\n",
      "GetHeadVal: Missing Configuration\n"
     ]
    },
    {
     "name": "stdout",
     "output_type": "stream",
     "text": [
      "\n",
      "103 dark_190504_AD-030_040s.fit\n",
      "\n",
      "104 dark_190504_AD-031_040s.fit\n"
     ]
    },
    {
     "name": "stderr",
     "output_type": "stream",
     "text": [
      "GetHeadVal: Missing Configuration\n",
      "GetHeadVal: Missing Configuration\n",
      "GetHeadVal: Missing Configuration\n",
      "GetHeadVal: Missing Configuration\n"
     ]
    },
    {
     "name": "stdout",
     "output_type": "stream",
     "text": [
      "\n",
      "105 dark_190504_AD-032_040s.fit\n",
      "\n",
      "106 dark_190504_AD-033_040s.fit\n"
     ]
    },
    {
     "name": "stderr",
     "output_type": "stream",
     "text": [
      "GetHeadVal: Missing Configuration\n",
      "GetHeadVal: Missing Configuration\n",
      "GetHeadVal: Missing Configuration\n",
      "GetHeadVal: Missing Configuration\n"
     ]
    },
    {
     "name": "stdout",
     "output_type": "stream",
     "text": [
      "\n",
      "107 dark_190504_AD-034_040s.fit\n",
      "\n",
      "108 dark_190504_AD-035_040s.fit\n"
     ]
    },
    {
     "name": "stderr",
     "output_type": "stream",
     "text": [
      "GetHeadVal: Missing Configuration\n",
      "GetHeadVal: Missing Configuration\n",
      "GetHeadVal: Missing Configuration\n",
      "GetHeadVal: Missing Configuration\n"
     ]
    },
    {
     "name": "stdout",
     "output_type": "stream",
     "text": [
      "\n",
      "109 dark_190504_AD-036_040s.fit\n",
      "\n",
      "110 dark_190504_AD-037_040s.fit\n"
     ]
    },
    {
     "name": "stderr",
     "output_type": "stream",
     "text": [
      "GetHeadVal: Missing Configuration\n",
      "GetHeadVal: Missing Configuration\n",
      "GetHeadVal: Missing Configuration\n",
      "GetHeadVal: Missing Configuration\n"
     ]
    },
    {
     "name": "stdout",
     "output_type": "stream",
     "text": [
      "\n",
      "111 dark_190504_AD-038_040s.fit\n",
      "\n",
      "112 dark_190504_AD-039_040s.fit\n"
     ]
    },
    {
     "name": "stderr",
     "output_type": "stream",
     "text": [
      "GetHeadVal: Missing Configuration\n",
      "GetHeadVal: Missing Configuration\n",
      "GetHeadVal: Missing Configuration\n",
      "GetHeadVal: Missing Configuration\n"
     ]
    },
    {
     "name": "stdout",
     "output_type": "stream",
     "text": [
      "\n",
      "113 dark_190504_AD-040_040s.fit\n",
      "\n",
      "114 dark_190504_AD-041_040s.fit\n"
     ]
    },
    {
     "name": "stderr",
     "output_type": "stream",
     "text": [
      "GetHeadVal: Missing Configuration\n",
      "GetHeadVal: Missing Configuration\n",
      "GetHeadVal: Missing Configuration\n",
      "GetHeadVal: Missing Configuration\n"
     ]
    },
    {
     "name": "stdout",
     "output_type": "stream",
     "text": [
      "\n",
      "115 dark_190504_AD-042_040s.fit\n",
      "\n",
      "116 dark_190504_AD-043_040s.fit\n"
     ]
    },
    {
     "name": "stderr",
     "output_type": "stream",
     "text": [
      "GetHeadVal: Missing Configuration\n",
      "GetHeadVal: Missing Configuration\n",
      "GetHeadVal: Missing Configuration\n",
      "GetHeadVal: Missing Configuration\n"
     ]
    },
    {
     "name": "stdout",
     "output_type": "stream",
     "text": [
      "\n",
      "117 dark_190504_AD-044_040s.fit\n",
      "\n",
      "118 dark_190504_AD-045_040s.fit\n"
     ]
    },
    {
     "name": "stderr",
     "output_type": "stream",
     "text": [
      "GetHeadVal: Missing Configuration\n",
      "GetHeadVal: Missing Configuration\n",
      "GetHeadVal: Missing Configuration\n",
      "GetHeadVal: Missing Configuration\n"
     ]
    },
    {
     "name": "stdout",
     "output_type": "stream",
     "text": [
      "\n",
      "119 dark_190504_AD-046_040s.fit\n",
      "\n",
      "120 dark_190504_AD-047_040s.fit\n"
     ]
    },
    {
     "name": "stderr",
     "output_type": "stream",
     "text": [
      "GetHeadVal: Missing Configuration\n",
      "GetHeadVal: Missing Configuration\n",
      "GetHeadVal: Missing Configuration\n",
      "GetHeadVal: Missing Configuration\n"
     ]
    },
    {
     "name": "stdout",
     "output_type": "stream",
     "text": [
      "\n",
      "121 dark_190504_AD-048_040s.fit\n",
      "\n",
      "122 dark_190504_AD-049_040s.fit\n"
     ]
    },
    {
     "name": "stderr",
     "output_type": "stream",
     "text": [
      "GetHeadVal: Missing Configuration\n",
      "GetHeadVal: Missing Configuration\n"
     ]
    },
    {
     "name": "stdout",
     "output_type": "stream",
     "text": [
      "\n",
      "123 dark_190504_AD-050_040s.fit\n"
     ]
    },
    {
     "name": "stderr",
     "output_type": "stream",
     "text": [
      "GetHeadVal: Missing Configuration\n",
      "GetHeadVal: Missing Configuration\n"
     ]
    },
    {
     "name": "stdout",
     "output_type": "stream",
     "text": [
      "\n",
      "124 dark_190504_AD-051_040s.fit\n",
      "\n",
      "125 dark_190504_AD-052_040s.fit\n"
     ]
    },
    {
     "name": "stderr",
     "output_type": "stream",
     "text": [
      "GetHeadVal: Missing Configuration\n",
      "GetHeadVal: Missing Configuration\n",
      "GetHeadVal: Missing Configuration\n",
      "GetHeadVal: Missing Configuration\n",
      "GetHeadVal: Missing Configuration\n",
      "GetHeadVal: Missing Configuration\n"
     ]
    },
    {
     "name": "stdout",
     "output_type": "stream",
     "text": [
      "\n",
      "126 dark_190504_AD-053_040s.fit\n",
      "\n",
      "127 dark_190504_AD-054_040s.fit\n"
     ]
    },
    {
     "name": "stderr",
     "output_type": "stream",
     "text": [
      "GetHeadVal: Missing Configuration\n",
      "GetHeadVal: Missing Configuration\n",
      "GetHeadVal: Missing Configuration\n",
      "GetHeadVal: Missing Configuration\n"
     ]
    },
    {
     "name": "stdout",
     "output_type": "stream",
     "text": [
      "\n",
      "128 dark_190504_AD-055_040s.fit\n",
      "\n",
      "129 dark_190504_AD-056_040s.fit\n"
     ]
    },
    {
     "name": "stderr",
     "output_type": "stream",
     "text": [
      "GetHeadVal: Missing Configuration\n",
      "GetHeadVal: Missing Configuration\n",
      "GetHeadVal: Missing Configuration\n",
      "GetHeadVal: Missing Configuration\n"
     ]
    },
    {
     "name": "stdout",
     "output_type": "stream",
     "text": [
      "\n",
      "130 dark_190504_AD-057_040s.fit\n",
      "\n",
      "131 dark_190504_AD-058_040s.fit\n"
     ]
    },
    {
     "name": "stderr",
     "output_type": "stream",
     "text": [
      "GetHeadVal: Missing Configuration\n",
      "GetHeadVal: Missing Configuration\n",
      "GetHeadVal: Missing Configuration\n",
      "GetHeadVal: Missing Configuration\n"
     ]
    },
    {
     "name": "stdout",
     "output_type": "stream",
     "text": [
      "\n",
      "132 dark_190504_AD-059_040s.fit\n",
      "\n",
      "133 dark_190504_AD-060_040s.fit\n"
     ]
    },
    {
     "name": "stderr",
     "output_type": "stream",
     "text": [
      "GetHeadVal: Missing Configuration\n",
      "GetHeadVal: Missing Configuration\n",
      "GetHeadVal: Missing Configuration\n",
      "GetHeadVal: Missing Configuration\n"
     ]
    },
    {
     "name": "stdout",
     "output_type": "stream",
     "text": [
      "\n",
      "134 dark_190504_AD-061_040s.fit\n",
      "\n",
      "135 dark_190504_AD-062_040s.fit\n"
     ]
    },
    {
     "name": "stderr",
     "output_type": "stream",
     "text": [
      "GetHeadVal: Missing Configuration\n",
      "GetHeadVal: Missing Configuration\n",
      "GetHeadVal: Missing Configuration\n",
      "GetHeadVal: Missing Configuration\n"
     ]
    },
    {
     "name": "stdout",
     "output_type": "stream",
     "text": [
      "\n",
      "136 dark_190504_AD-063_040s.fit\n",
      "\n",
      "137 dark_190504_AD-064_040s.fit\n"
     ]
    },
    {
     "name": "stderr",
     "output_type": "stream",
     "text": [
      "GetHeadVal: Missing Configuration\n",
      "GetHeadVal: Missing Configuration\n",
      "GetHeadVal: Missing Configuration\n",
      "GetHeadVal: Missing Configuration\n"
     ]
    },
    {
     "name": "stdout",
     "output_type": "stream",
     "text": [
      "\n",
      "138 dark_190504_AD-065_040s.fit\n",
      "\n",
      "139 dark_190504_AD-066_040s.fit\n"
     ]
    },
    {
     "name": "stderr",
     "output_type": "stream",
     "text": [
      "GetHeadVal: Missing Configuration\n",
      "GetHeadVal: Missing Configuration\n",
      "GetHeadVal: Missing Configuration\n",
      "GetHeadVal: Missing Configuration\n"
     ]
    },
    {
     "name": "stdout",
     "output_type": "stream",
     "text": [
      "\n",
      "140 dark_190504_AD-067_040s.fit\n",
      "\n",
      "141 dark_190504_AD-068_040s.fit\n"
     ]
    },
    {
     "name": "stderr",
     "output_type": "stream",
     "text": [
      "GetHeadVal: Missing Configuration\n",
      "GetHeadVal: Missing Configuration\n",
      "GetHeadVal: Missing Configuration\n",
      "GetHeadVal: Missing Configuration\n"
     ]
    },
    {
     "name": "stdout",
     "output_type": "stream",
     "text": [
      "\n",
      "142 dark_190504_AD-069_040s.fit\n",
      "\n",
      "143 dark_190504_AD-070_040s.fit\n"
     ]
    },
    {
     "name": "stderr",
     "output_type": "stream",
     "text": [
      "GetHeadVal: Missing Configuration\n",
      "GetHeadVal: Missing Configuration\n",
      "GetHeadVal: Missing Configuration\n",
      "GetHeadVal: Missing Configuration\n"
     ]
    },
    {
     "name": "stdout",
     "output_type": "stream",
     "text": [
      "\n",
      "144 dark_190504_AD-071_040s.fit\n",
      "\n",
      "145 dark_190504_AD-072_040s.fit\n"
     ]
    },
    {
     "name": "stderr",
     "output_type": "stream",
     "text": [
      "GetHeadVal: Missing Configuration\n",
      "GetHeadVal: Missing Configuration\n",
      "GetHeadVal: Missing Configuration\n",
      "GetHeadVal: Missing Configuration\n"
     ]
    },
    {
     "name": "stdout",
     "output_type": "stream",
     "text": [
      "\n",
      "146 dark_190504_AD-073_040s.fit\n",
      "\n",
      "147 dark_190504_AD-074_040s.fit\n"
     ]
    },
    {
     "name": "stderr",
     "output_type": "stream",
     "text": [
      "GetHeadVal: Missing Configuration\n",
      "GetHeadVal: Missing Configuration\n",
      "GetHeadVal: Missing Configuration\n",
      "GetHeadVal: Missing Configuration\n"
     ]
    },
    {
     "name": "stdout",
     "output_type": "stream",
     "text": [
      "\n",
      "148 dark_190504_AD-075_040s.fit\n",
      "\n",
      "149 dark_190504_AD-076_040s.fit\n"
     ]
    },
    {
     "name": "stderr",
     "output_type": "stream",
     "text": [
      "GetHeadVal: Missing Configuration\n",
      "GetHeadVal: Missing Configuration\n",
      "GetHeadVal: Missing Configuration\n",
      "GetHeadVal: Missing Configuration\n"
     ]
    },
    {
     "name": "stdout",
     "output_type": "stream",
     "text": [
      "\n",
      "150 dark_190504_AD-077_040s.fit\n",
      "\n",
      "151 dark_190504_AD-078_040s.fit\n"
     ]
    },
    {
     "name": "stderr",
     "output_type": "stream",
     "text": [
      "GetHeadVal: Missing Configuration\n",
      "GetHeadVal: Missing Configuration\n"
     ]
    },
    {
     "name": "stdout",
     "output_type": "stream",
     "text": [
      "\n",
      "152 dark_190504_AD-079_040s.fit\n",
      "\n",
      "153 dark_190504_AD-080_040s.fit\n"
     ]
    },
    {
     "name": "stderr",
     "output_type": "stream",
     "text": [
      "GetHeadVal: Missing Configuration\n",
      "GetHeadVal: Missing Configuration\n",
      "GetHeadVal: Missing Configuration\n",
      "GetHeadVal: Missing Configuration\n"
     ]
    },
    {
     "name": "stdout",
     "output_type": "stream",
     "text": [
      "\n",
      "154 dark_190504_AD-081_040s.fit\n",
      "\n",
      "155 dark_190504_AD-082_040s.fit\n"
     ]
    },
    {
     "name": "stderr",
     "output_type": "stream",
     "text": [
      "GetHeadVal: Missing Configuration\n",
      "GetHeadVal: Missing Configuration\n",
      "GetHeadVal: Missing Configuration\n",
      "GetHeadVal: Missing Configuration\n",
      "GetHeadVal: Missing Configuration\n",
      "GetHeadVal: Missing Configuration\n"
     ]
    },
    {
     "name": "stdout",
     "output_type": "stream",
     "text": [
      "\n",
      "156 dark_190504_AD-083_040s.fit\n",
      "\n",
      "157 dark_190504_AD-084_040s.fit\n"
     ]
    },
    {
     "name": "stderr",
     "output_type": "stream",
     "text": [
      "GetHeadVal: Missing Configuration\n",
      "GetHeadVal: Missing Configuration\n",
      "GetHeadVal: Missing Configuration\n",
      "GetHeadVal: Missing Configuration\n"
     ]
    },
    {
     "name": "stdout",
     "output_type": "stream",
     "text": [
      "\n",
      "158 dark_190504_AD-085_040s.fit\n",
      "\n",
      "159 dark_190504_AD-086_040s.fit\n"
     ]
    },
    {
     "name": "stderr",
     "output_type": "stream",
     "text": [
      "GetHeadVal: Missing Configuration\n",
      "GetHeadVal: Missing Configuration\n",
      "GetHeadVal: Missing Configuration\n",
      "GetHeadVal: Missing Configuration\n"
     ]
    },
    {
     "name": "stdout",
     "output_type": "stream",
     "text": [
      "\n",
      "160 dark_190504_AD-087_040s.fit\n",
      "\n",
      "161 dark_190504_AD-088_040s.fit\n"
     ]
    },
    {
     "name": "stderr",
     "output_type": "stream",
     "text": [
      "GetHeadVal: Missing Configuration\n",
      "GetHeadVal: Missing Configuration\n",
      "GetHeadVal: Missing Configuration\n",
      "GetHeadVal: Missing Configuration\n"
     ]
    },
    {
     "name": "stdout",
     "output_type": "stream",
     "text": [
      "\n",
      "162 dark_190504_AD-089_040s.fit\n",
      "\n",
      "163 dark_190504_AD-090_040s.fit\n"
     ]
    },
    {
     "name": "stderr",
     "output_type": "stream",
     "text": [
      "GetHeadVal: Missing Configuration\n",
      "GetHeadVal: Missing Configuration\n",
      "GetHeadVal: Missing Configuration\n",
      "GetHeadVal: Missing Configuration\n"
     ]
    },
    {
     "name": "stdout",
     "output_type": "stream",
     "text": [
      "\n",
      "164 dark_190504_AD-091_040s.fit\n",
      "\n",
      "165 dark_190504_AD-092_040s.fit\n"
     ]
    },
    {
     "name": "stderr",
     "output_type": "stream",
     "text": [
      "GetHeadVal: Missing Configuration\n",
      "GetHeadVal: Missing Configuration\n",
      "GetHeadVal: Missing Configuration\n",
      "GetHeadVal: Missing Configuration\n"
     ]
    },
    {
     "name": "stdout",
     "output_type": "stream",
     "text": [
      "\n",
      "166 dark_190504_AD-093_040s.fit\n",
      "\n",
      "167 dark_190504_AD-094_040s.fit\n"
     ]
    },
    {
     "name": "stderr",
     "output_type": "stream",
     "text": [
      "GetHeadVal: Missing Configuration\n",
      "GetHeadVal: Missing Configuration\n",
      "GetHeadVal: Missing Configuration\n",
      "GetHeadVal: Missing Configuration\n"
     ]
    },
    {
     "name": "stdout",
     "output_type": "stream",
     "text": [
      "\n",
      "168 dark_190504_AD-095_040s.fit\n",
      "\n",
      "169 dark_190504_AD-096_040s.fit\n"
     ]
    },
    {
     "name": "stderr",
     "output_type": "stream",
     "text": [
      "GetHeadVal: Missing Configuration\n",
      "GetHeadVal: Missing Configuration\n",
      "GetHeadVal: Missing Configuration\n",
      "GetHeadVal: Missing Configuration\n"
     ]
    },
    {
     "name": "stdout",
     "output_type": "stream",
     "text": [
      "\n",
      "170 dark_190504_AD-097_040s.fit\n",
      "\n",
      "171 dark_190504_AD-099_040s.fit\n"
     ]
    },
    {
     "name": "stderr",
     "output_type": "stream",
     "text": [
      "GetHeadVal: Missing Configuration\n",
      "GetHeadVal: Missing Configuration\n",
      "GetHeadVal: Missing Configuration\n",
      "GetHeadVal: Missing Configuration\n"
     ]
    },
    {
     "name": "stdout",
     "output_type": "stream",
     "text": [
      "\n",
      "172 dark_190504_AD-100_040s.fit\n",
      "\n",
      "173 dark_190504_AD-101_040s.fit\n"
     ]
    },
    {
     "name": "stderr",
     "output_type": "stream",
     "text": [
      "GetHeadVal: Missing Configuration\n",
      "GetHeadVal: Missing Configuration\n",
      "GetHeadVal: Missing Configuration\n",
      "GetHeadVal: Missing Configuration\n"
     ]
    },
    {
     "name": "stdout",
     "output_type": "stream",
     "text": [
      "\n",
      "174 dark_190504_AD-102_040s.fit\n",
      "\n",
      "175 dark_190504_AD-103_040s.fit\n"
     ]
    },
    {
     "name": "stderr",
     "output_type": "stream",
     "text": [
      "GetHeadVal: Missing Configuration\n",
      "GetHeadVal: Missing Configuration\n",
      "GetHeadVal: Missing Configuration\n",
      "GetHeadVal: Missing Configuration\n"
     ]
    },
    {
     "name": "stdout",
     "output_type": "stream",
     "text": [
      "\n",
      "176 dark_190504_AD-104_040s.fit\n",
      "\n",
      "177 dark_190504_AD-105_040s.fit\n"
     ]
    },
    {
     "name": "stderr",
     "output_type": "stream",
     "text": [
      "GetHeadVal: Missing Configuration\n",
      "GetHeadVal: Missing Configuration\n",
      "GetHeadVal: Missing Configuration\n",
      "GetHeadVal: Missing Configuration\n"
     ]
    },
    {
     "name": "stdout",
     "output_type": "stream",
     "text": [
      "\n",
      "178 dark_190504_AD-106_040s.fit\n",
      "\n",
      "179 dark_190504_AD-107_040s.fit\n"
     ]
    },
    {
     "name": "stderr",
     "output_type": "stream",
     "text": [
      "GetHeadVal: Missing Configuration\n",
      "GetHeadVal: Missing Configuration\n",
      "GetHeadVal: Missing Configuration\n",
      "GetHeadVal: Missing Configuration\n"
     ]
    },
    {
     "name": "stdout",
     "output_type": "stream",
     "text": [
      "\n",
      "180 dark_190504_AD-108_040s.fit\n",
      "\n",
      "181 dark_190504_AD-109_040s.fit\n"
     ]
    },
    {
     "name": "stderr",
     "output_type": "stream",
     "text": [
      "GetHeadVal: Missing Configuration\n",
      "GetHeadVal: Missing Configuration\n",
      "GetHeadVal: Missing Configuration\n",
      "GetHeadVal: Missing Configuration\n"
     ]
    },
    {
     "name": "stdout",
     "output_type": "stream",
     "text": [
      "\n",
      "182 dark_190504_AD-110_040s.fit\n",
      "\n",
      "183 dark_190504_AD-111_040s.fit\n"
     ]
    },
    {
     "name": "stderr",
     "output_type": "stream",
     "text": [
      "GetHeadVal: Missing Configuration\n",
      "GetHeadVal: Missing Configuration\n",
      "GetHeadVal: Missing Configuration\n",
      "GetHeadVal: Missing Configuration\n"
     ]
    },
    {
     "name": "stdout",
     "output_type": "stream",
     "text": [
      "\n",
      "184 dark_190504_AD-112_040s.fit\n",
      "\n",
      "185 dark_190504_AD-113_040s.fit\n"
     ]
    },
    {
     "name": "stderr",
     "output_type": "stream",
     "text": [
      "GetHeadVal: Missing Configuration\n",
      "GetHeadVal: Missing Configuration\n",
      "GetHeadVal: Missing Configuration\n",
      "GetHeadVal: Missing Configuration\n"
     ]
    },
    {
     "name": "stdout",
     "output_type": "stream",
     "text": [
      "\n",
      "186 dark_190504_AD-114_040s.fit\n",
      "\n",
      "187 dark_190504_AD-115_040s.fit\n"
     ]
    },
    {
     "name": "stderr",
     "output_type": "stream",
     "text": [
      "GetHeadVal: Missing Configuration\n",
      "GetHeadVal: Missing Configuration\n",
      "GetHeadVal: Missing Configuration\n",
      "GetHeadVal: Missing Configuration\n"
     ]
    },
    {
     "name": "stdout",
     "output_type": "stream",
     "text": [
      "\n",
      "188 dark_190504_AD-116_040s.fit\n",
      "\n",
      "189 dark_190504_AD-117_040s.fit\n"
     ]
    },
    {
     "name": "stderr",
     "output_type": "stream",
     "text": [
      "GetHeadVal: Missing Configuration\n",
      "GetHeadVal: Missing Configuration\n",
      "GetHeadVal: Missing Configuration\n",
      "GetHeadVal: Missing Configuration\n"
     ]
    },
    {
     "name": "stdout",
     "output_type": "stream",
     "text": [
      "\n",
      "190 dark_190504_AD-118_040s.fit\n",
      "\n",
      "191 dark_190504_AD-119_040s.fit\n"
     ]
    },
    {
     "name": "stderr",
     "output_type": "stream",
     "text": [
      "GetHeadVal: Missing Configuration\n",
      "GetHeadVal: Missing Configuration\n",
      "GetHeadVal: Missing Configuration\n",
      "GetHeadVal: Missing Configuration\n"
     ]
    },
    {
     "name": "stdout",
     "output_type": "stream",
     "text": [
      "\n",
      "192 dark_190504_AD-120_040s.fit\n",
      "\n",
      "193 dark_190504_AD-121_040s.fit\n"
     ]
    },
    {
     "name": "stderr",
     "output_type": "stream",
     "text": [
      "GetHeadVal: Missing Configuration\n",
      "GetHeadVal: Missing Configuration\n",
      "GetHeadVal: Missing Configuration\n",
      "GetHeadVal: Missing Configuration\n"
     ]
    },
    {
     "name": "stdout",
     "output_type": "stream",
     "text": [
      "\n",
      "194 dark_190504_AD-122_040s.fit\n",
      "\n",
      "195 dark_190504_AD-123_040s.fit\n"
     ]
    },
    {
     "name": "stderr",
     "output_type": "stream",
     "text": [
      "GetHeadVal: Missing Configuration\n",
      "GetHeadVal: Missing Configuration\n",
      "GetHeadVal: Missing Configuration\n",
      "GetHeadVal: Missing Configuration\n"
     ]
    },
    {
     "name": "stdout",
     "output_type": "stream",
     "text": [
      "\n",
      "196 dark_190504_AD-124_040s.fit\n",
      "\n",
      "197 dark_190504_AD-125_040s.fit\n"
     ]
    },
    {
     "name": "stderr",
     "output_type": "stream",
     "text": [
      "GetHeadVal: Missing Configuration\n",
      "GetHeadVal: Missing Configuration\n",
      "GetHeadVal: Missing Configuration\n",
      "GetHeadVal: Missing Configuration\n"
     ]
    },
    {
     "name": "stdout",
     "output_type": "stream",
     "text": [
      "\n",
      "198 dark_190504_AD-126_040s.fit\n",
      "\n",
      "199 dark_190504_AD-127_040s.fit\n"
     ]
    },
    {
     "name": "stderr",
     "output_type": "stream",
     "text": [
      "GetHeadVal: Missing Configuration\n",
      "GetHeadVal: Missing Configuration\n",
      "GetHeadVal: Missing Configuration\n",
      "GetHeadVal: Missing Configuration\n"
     ]
    },
    {
     "name": "stdout",
     "output_type": "stream",
     "text": [
      "\n",
      "200 dark_190504_AD-128_040s.fit\n",
      "\n",
      "201 dark_190504_AD-129_040s.fit\n"
     ]
    },
    {
     "name": "stderr",
     "output_type": "stream",
     "text": [
      "GetHeadVal: Missing Configuration\n",
      "GetHeadVal: Missing Configuration\n",
      "GetHeadVal: Missing Configuration\n",
      "GetHeadVal: Missing Configuration\n"
     ]
    },
    {
     "name": "stdout",
     "output_type": "stream",
     "text": [
      "\n",
      "202 dark_190504_AD-130_040s.fit\n",
      "\n",
      "203 dark_190504_AD-131_040s.fit\n"
     ]
    },
    {
     "name": "stderr",
     "output_type": "stream",
     "text": [
      "GetHeadVal: Missing Configuration\n",
      "GetHeadVal: Missing Configuration\n",
      "GetHeadVal: Missing Configuration\n",
      "GetHeadVal: Missing Configuration\n"
     ]
    },
    {
     "name": "stdout",
     "output_type": "stream",
     "text": [
      "\n",
      "204 dark_190504_AD-132_040s.fit\n",
      "\n",
      "205 dark_190504_AD-133_040s.fit\n"
     ]
    },
    {
     "name": "stderr",
     "output_type": "stream",
     "text": [
      "GetHeadVal: Missing Configuration\n",
      "GetHeadVal: Missing Configuration\n",
      "GetHeadVal: Missing Configuration\n",
      "GetHeadVal: Missing Configuration\n"
     ]
    },
    {
     "name": "stdout",
     "output_type": "stream",
     "text": [
      "\n",
      "206 dark_190504_AD-134_040s.fit\n",
      "\n",
      "207 dark_190504_AD-135_040s.fit\n"
     ]
    },
    {
     "name": "stderr",
     "output_type": "stream",
     "text": [
      "GetHeadVal: Missing Configuration\n",
      "GetHeadVal: Missing Configuration\n",
      "GetHeadVal: Missing Configuration\n",
      "GetHeadVal: Missing Configuration\n"
     ]
    },
    {
     "name": "stdout",
     "output_type": "stream",
     "text": [
      "\n",
      "208 dark_190504_AD-136_040s.fit\n",
      "\n",
      "209 dark_190504_AD-137_040s.fit\n"
     ]
    },
    {
     "name": "stderr",
     "output_type": "stream",
     "text": [
      "GetHeadVal: Missing Configuration\n",
      "GetHeadVal: Missing Configuration\n",
      "GetHeadVal: Missing Configuration\n",
      "GetHeadVal: Missing Configuration\n"
     ]
    },
    {
     "name": "stdout",
     "output_type": "stream",
     "text": [
      "\n",
      "210 dark_190504_AD-138_040s.fit\n",
      "\n",
      "211 dark_190504_AD-139_040s.fit\n"
     ]
    },
    {
     "name": "stderr",
     "output_type": "stream",
     "text": [
      "GetHeadVal: Missing Configuration\n",
      "GetHeadVal: Missing Configuration\n",
      "GetHeadVal: Missing Configuration\n",
      "GetHeadVal: Missing Configuration\n"
     ]
    },
    {
     "name": "stdout",
     "output_type": "stream",
     "text": [
      "\n",
      "212 dark_190504_AD-140_040s.fit\n",
      "\n",
      "213 dark_190504_AD-141_040s.fit\n"
     ]
    },
    {
     "name": "stderr",
     "output_type": "stream",
     "text": [
      "GetHeadVal: Missing Configuration\n",
      "GetHeadVal: Missing Configuration\n",
      "GetHeadVal: Missing Configuration\n",
      "GetHeadVal: Missing Configuration\n"
     ]
    },
    {
     "name": "stdout",
     "output_type": "stream",
     "text": [
      "\n",
      "214 dark_190504_AD-142_040s.fit\n",
      "\n",
      "215 dark_190504_AD-143_040s.fit\n"
     ]
    },
    {
     "name": "stderr",
     "output_type": "stream",
     "text": [
      "GetHeadVal: Missing Configuration\n",
      "GetHeadVal: Missing Configuration\n",
      "GetHeadVal: Missing Configuration\n",
      "GetHeadVal: Missing Configuration\n"
     ]
    },
    {
     "name": "stdout",
     "output_type": "stream",
     "text": [
      "\n",
      "216 dark_190504_AD-144_040s.fit\n",
      "\n",
      "217 dark_190504_AD-145_040s.fit\n"
     ]
    },
    {
     "name": "stderr",
     "output_type": "stream",
     "text": [
      "GetHeadVal: Missing Configuration\n",
      "GetHeadVal: Missing Configuration\n",
      "GetHeadVal: Missing Configuration\n",
      "GetHeadVal: Missing Configuration\n"
     ]
    },
    {
     "name": "stdout",
     "output_type": "stream",
     "text": [
      "\n",
      "218 dark_190504_AD-146_040s.fit\n",
      "\n",
      "219 dark_190504_AD-147_040s.fit\n"
     ]
    },
    {
     "name": "stderr",
     "output_type": "stream",
     "text": [
      "GetHeadVal: Missing Configuration\n",
      "GetHeadVal: Missing Configuration\n",
      "GetHeadVal: Missing Configuration\n",
      "GetHeadVal: Missing Configuration\n"
     ]
    },
    {
     "name": "stdout",
     "output_type": "stream",
     "text": [
      "\n",
      "220 dark_190504_AD-148_040s.fit\n",
      "\n",
      "221 dark_190504_AD-149_040s.fit\n"
     ]
    },
    {
     "name": "stderr",
     "output_type": "stream",
     "text": [
      "GetHeadVal: Missing Configuration\n",
      "GetHeadVal: Missing Configuration\n",
      "GetHeadVal: Missing Configuration\n",
      "GetHeadVal: Missing Configuration\n"
     ]
    },
    {
     "name": "stdout",
     "output_type": "stream",
     "text": [
      "\n",
      "222 dark_190504_AD-150_040s.fit\n",
      "\n",
      "223 dark_190504_AD-151_040s.fit\n"
     ]
    },
    {
     "name": "stderr",
     "output_type": "stream",
     "text": [
      "GetHeadVal: Missing Configuration\n",
      "GetHeadVal: Missing Configuration\n",
      "GetHeadVal: Missing Configuration\n",
      "GetHeadVal: Missing Configuration\n"
     ]
    },
    {
     "name": "stdout",
     "output_type": "stream",
     "text": [
      "\n",
      "224 dark_190504_AD-152_040s.fit\n",
      "\n",
      "225 dark_190504_AD-153_040s.fit\n"
     ]
    },
    {
     "name": "stderr",
     "output_type": "stream",
     "text": [
      "GetHeadVal: Missing Configuration\n",
      "GetHeadVal: Missing Configuration\n",
      "GetHeadVal: Missing Configuration\n",
      "GetHeadVal: Missing Configuration\n"
     ]
    },
    {
     "name": "stdout",
     "output_type": "stream",
     "text": [
      "\n",
      "226 dark_190504_AD-157_040s.fit\n",
      "\n",
      "227 dark_190504_AD-158_040s.fit\n"
     ]
    },
    {
     "name": "stderr",
     "output_type": "stream",
     "text": [
      "GetHeadVal: Missing Configuration\n",
      "GetHeadVal: Missing Configuration\n",
      "GetHeadVal: Missing Configuration\n",
      "GetHeadVal: Missing Configuration\n"
     ]
    },
    {
     "name": "stdout",
     "output_type": "stream",
     "text": [
      "\n",
      "228 dark_190504_AD-159_040s.fit\n",
      "\n",
      "229 dark_190504_AD-160_040s.fit\n"
     ]
    },
    {
     "name": "stderr",
     "output_type": "stream",
     "text": [
      "GetHeadVal: Missing Configuration\n",
      "GetHeadVal: Missing Configuration\n",
      "GetHeadVal: Missing Configuration\n",
      "GetHeadVal: Missing Configuration\n"
     ]
    },
    {
     "name": "stdout",
     "output_type": "stream",
     "text": [
      "\n",
      "230 dark_190504_AD-161_040s.fit\n",
      "\n",
      "231 dark_190504_AD-162_040s.fit\n"
     ]
    },
    {
     "name": "stderr",
     "output_type": "stream",
     "text": [
      "GetHeadVal: Missing Configuration\n",
      "GetHeadVal: Missing Configuration\n",
      "GetHeadVal: Missing Configuration\n",
      "GetHeadVal: Missing Configuration\n"
     ]
    },
    {
     "name": "stdout",
     "output_type": "stream",
     "text": [
      "\n",
      "232 dark_190504_AD-163_040s.fit\n",
      "\n",
      "233 dark_190504_AD-164_040s.fit\n"
     ]
    },
    {
     "name": "stderr",
     "output_type": "stream",
     "text": [
      "GetHeadVal: Missing Configuration\n",
      "GetHeadVal: Missing Configuration\n",
      "GetHeadVal: Missing Configuration\n",
      "GetHeadVal: Missing Configuration\n"
     ]
    },
    {
     "name": "stdout",
     "output_type": "stream",
     "text": [
      "\n",
      "234 dark_190504_AD-165_040s.fit\n",
      "\n",
      "235 dark_190504_AD-166_040s.fit\n"
     ]
    },
    {
     "name": "stderr",
     "output_type": "stream",
     "text": [
      "GetHeadVal: Missing Configuration\n",
      "GetHeadVal: Missing Configuration\n",
      "GetHeadVal: Missing Configuration\n",
      "GetHeadVal: Missing Configuration\n"
     ]
    },
    {
     "name": "stdout",
     "output_type": "stream",
     "text": [
      "\n",
      "236 dark_190504_AD-167_040s.fit\n",
      "\n",
      "237 dark_190504_AD-168_040s.fit\n"
     ]
    },
    {
     "name": "stderr",
     "output_type": "stream",
     "text": [
      "GetHeadVal: Missing Configuration\n",
      "GetHeadVal: Missing Configuration\n",
      "GetHeadVal: Missing Configuration\n",
      "GetHeadVal: Missing Configuration\n"
     ]
    },
    {
     "name": "stdout",
     "output_type": "stream",
     "text": [
      "\n",
      "238 dark_190504_AD-169_040s.fit\n",
      "\n",
      "239 dark_190504_AD-170_040s.fit\n"
     ]
    },
    {
     "name": "stderr",
     "output_type": "stream",
     "text": [
      "GetHeadVal: Missing Configuration\n",
      "GetHeadVal: Missing Configuration\n",
      "GetHeadVal: Missing Configuration\n",
      "GetHeadVal: Missing Configuration\n"
     ]
    },
    {
     "name": "stdout",
     "output_type": "stream",
     "text": [
      "\n",
      "240 dark_190504_AD-171_040s.fit\n",
      "\n",
      "241 dark_190504_AD-172_040s.fit\n"
     ]
    },
    {
     "name": "stderr",
     "output_type": "stream",
     "text": [
      "GetHeadVal: Missing Configuration\n",
      "GetHeadVal: Missing Configuration\n",
      "GetHeadVal: Missing Configuration\n",
      "GetHeadVal: Missing Configuration\n"
     ]
    },
    {
     "name": "stdout",
     "output_type": "stream",
     "text": [
      "\n",
      "242 dark_190504_AD-173_040s.fit\n",
      "\n",
      "243 dark_190504_AD-174_040s.fit\n"
     ]
    },
    {
     "name": "stderr",
     "output_type": "stream",
     "text": [
      "GetHeadVal: Missing Configuration\n",
      "GetHeadVal: Missing Configuration\n",
      "GetHeadVal: Missing Configuration\n",
      "GetHeadVal: Missing Configuration\n"
     ]
    },
    {
     "name": "stdout",
     "output_type": "stream",
     "text": [
      "\n",
      "244 dark_190504_AD-175_040s.fit\n",
      "\n",
      "245 dark_190504_AD-176_040s.fit\n"
     ]
    },
    {
     "name": "stderr",
     "output_type": "stream",
     "text": [
      "GetHeadVal: Missing Configuration\n",
      "GetHeadVal: Missing Configuration\n",
      "GetHeadVal: Missing Configuration\n",
      "GetHeadVal: Missing Configuration\n"
     ]
    },
    {
     "name": "stdout",
     "output_type": "stream",
     "text": [
      "\n",
      "246 dark_190504_AD-177_040s.fit\n",
      "\n",
      "247 dark_190504_AD-178_040s.fit\n"
     ]
    },
    {
     "name": "stderr",
     "output_type": "stream",
     "text": [
      "GetHeadVal: Missing Configuration\n",
      "GetHeadVal: Missing Configuration\n",
      "GetHeadVal: Missing Configuration\n",
      "GetHeadVal: Missing Configuration\n"
     ]
    },
    {
     "name": "stdout",
     "output_type": "stream",
     "text": [
      "\n",
      "248 dark_190504_AD-179_040s.fit\n",
      "\n",
      "249 dark_190504_AD-180_040s.fit\n"
     ]
    },
    {
     "name": "stderr",
     "output_type": "stream",
     "text": [
      "GetHeadVal: Missing Configuration\n",
      "GetHeadVal: Missing Configuration\n",
      "GetHeadVal: Missing Configuration\n",
      "GetHeadVal: Missing Configuration\n"
     ]
    },
    {
     "name": "stdout",
     "output_type": "stream",
     "text": [
      "\n",
      "250 dark_190504_AD-181_040s.fit\n",
      "\n",
      "251 dark_190504_AD-182_040s.fit\n"
     ]
    },
    {
     "name": "stderr",
     "output_type": "stream",
     "text": [
      "GetHeadVal: Missing Configuration\n",
      "GetHeadVal: Missing Configuration\n",
      "GetHeadVal: Missing Configuration\n",
      "GetHeadVal: Missing Configuration\n"
     ]
    },
    {
     "name": "stdout",
     "output_type": "stream",
     "text": [
      "\n",
      "252 dark_190504_AD-183_040s.fit\n",
      "\n",
      "253 dark_190504_AD-184_040s.fit\n"
     ]
    },
    {
     "name": "stderr",
     "output_type": "stream",
     "text": [
      "GetHeadVal: Missing Configuration\n",
      "GetHeadVal: Missing Configuration\n",
      "GetHeadVal: Missing Configuration\n",
      "GetHeadVal: Missing Configuration\n"
     ]
    },
    {
     "name": "stdout",
     "output_type": "stream",
     "text": [
      "\n",
      "254 dark_190504_AD-185_040s.fit\n",
      "\n",
      "255 dark_190504_AD-186_040s.fit\n"
     ]
    },
    {
     "name": "stderr",
     "output_type": "stream",
     "text": [
      "GetHeadVal: Missing Configuration\n",
      "GetHeadVal: Missing Configuration\n",
      "GetHeadVal: Missing Configuration\n",
      "GetHeadVal: Missing Configuration\n"
     ]
    },
    {
     "name": "stdout",
     "output_type": "stream",
     "text": [
      "\n",
      "256 dark_190504_AD-187_040s.fit\n",
      "\n",
      "257 dark_190504_AD-188_040s.fit\n"
     ]
    },
    {
     "name": "stderr",
     "output_type": "stream",
     "text": [
      "GetHeadVal: Missing Configuration\n",
      "GetHeadVal: Missing Configuration\n",
      "GetHeadVal: Missing Configuration\n",
      "GetHeadVal: Missing Configuration\n"
     ]
    },
    {
     "name": "stdout",
     "output_type": "stream",
     "text": [
      "\n",
      "258 dark_190504_AD-189_040s.fit\n",
      "\n",
      "259 dark_190504_AD-190_040s.fit\n"
     ]
    },
    {
     "name": "stderr",
     "output_type": "stream",
     "text": [
      "GetHeadVal: Missing Configuration\n",
      "GetHeadVal: Missing Configuration\n",
      "GetHeadVal: Missing Configuration\n",
      "GetHeadVal: Missing Configuration\n"
     ]
    },
    {
     "name": "stdout",
     "output_type": "stream",
     "text": [
      "\n",
      "260 dark_190504_AD-191_040s.fit\n",
      "\n",
      "261 dark_190504_AD-192_040s.fit\n"
     ]
    },
    {
     "name": "stderr",
     "output_type": "stream",
     "text": [
      "GetHeadVal: Missing Configuration\n",
      "GetHeadVal: Missing Configuration\n",
      "GetHeadVal: Missing Configuration\n",
      "GetHeadVal: Missing Configuration\n"
     ]
    },
    {
     "name": "stdout",
     "output_type": "stream",
     "text": [
      "\n",
      "262 dark_190504_AD-193_040s.fit\n",
      "\n",
      "263 dark_190504_AD-194_040s.fit\n"
     ]
    },
    {
     "name": "stderr",
     "output_type": "stream",
     "text": [
      "GetHeadVal: Missing Configuration\n",
      "GetHeadVal: Missing Configuration\n",
      "GetHeadVal: Missing Configuration\n",
      "GetHeadVal: Missing Configuration\n"
     ]
    },
    {
     "name": "stdout",
     "output_type": "stream",
     "text": [
      "\n",
      "264 dark_190504_AD-195_040s.fit\n",
      "\n",
      "265 dark_190504_AD-196_040s.fit\n"
     ]
    },
    {
     "name": "stderr",
     "output_type": "stream",
     "text": [
      "GetHeadVal: Missing Configuration\n",
      "GetHeadVal: Missing Configuration\n",
      "GetHeadVal: Missing Configuration\n",
      "GetHeadVal: Missing Configuration\n"
     ]
    },
    {
     "name": "stdout",
     "output_type": "stream",
     "text": [
      "\n",
      "266 dark_190504_AD-197_040s.fit\n",
      "\n",
      "267 dark_190504_AD-198_040s.fit\n"
     ]
    },
    {
     "name": "stderr",
     "output_type": "stream",
     "text": [
      "GetHeadVal: Missing Configuration\n",
      "GetHeadVal: Missing Configuration\n"
     ]
    },
    {
     "name": "stdout",
     "output_type": "stream",
     "text": [
      "\n",
      "268 dark_190504_AD-199_040s.fit\n",
      "\n",
      "269 dark_190504_AD-200_040s.fit\n"
     ]
    }
   ],
   "source": [
    "#Identify noise in 040s\n",
    "\n",
    "whichpath = datapath\n",
    "\n",
    "somefiles = [f for f in os.listdir(whichpath) if '.fit' in f and '_040s' in f and'stack' not in f]\n",
    "\n",
    "somefiles = sorted(somefiles)       ## This is necessary on my Mac, may not be for others?\n",
    "\n",
    "\n",
    "acceptlist = True             # True if you want to accept all the files in somefiles.\n",
    "contiguous = True             # True if you want to accept a contiguous subset of somefiles.\n",
    "startfile, endfile = 5,9      # The first and last files in a contiquous subset.\n",
    "flist = [0,3,4,5,6,7,8]        # An explicit list of the files you want to accept.\n",
    "\n",
    "\n",
    "n40image, n40headlist, n40rows, n40cols, n40median, n40imad = stackfits(datapath,somefiles)\n",
    "\n",
    "\n",
    "n40stackarray = n40image\n",
    "\n",
    "n40stackarray_std = np.std(n40stackarray, axis=0)\n",
    "\n",
    "n40img_global_std = np.median(n40stackarray_std)\n",
    "\n",
    "n40noisy_pixels = n40stackarray_std > n40img_global_std*1.8\n",
    "\n",
    "\n",
    "n40locs = np.array(np.where(n40noisy_pixels == True))\n",
    "npix_040s = np.zeros((1019,1019)) \n",
    "for i in range(1019): #1024\n",
    "    for j in range(1019): #1024\n",
    "        if n40noisy_pixels[i,j] == True and j > 5:\n",
    "            npix_040s[i,j] = 1"
   ]
  },
  {
   "cell_type": "code",
   "execution_count": 14,
   "metadata": {},
   "outputs": [
    {
     "name": "stderr",
     "output_type": "stream",
     "text": [
      "GetHeadVal: Missing Configuration\n",
      "GetHeadVal: Missing Configuration\n",
      "GetHeadVal: Missing Configuration\n",
      "GetHeadVal: Missing Configuration\n"
     ]
    },
    {
     "name": "stdout",
     "output_type": "stream",
     "text": [
      "rows = 1024    cols = 1024\n",
      "image.shape = (273, 1024, 1024)\n",
      "\n",
      "0 dark_190504_AB-001_100s.fit\n"
     ]
    },
    {
     "name": "stderr",
     "output_type": "stream",
     "text": [
      "GetHeadVal: Missing Configuration\n",
      "GetHeadVal: Missing Configuration\n",
      "GetHeadVal: Missing Configuration\n",
      "GetHeadVal: Missing Configuration\n"
     ]
    },
    {
     "name": "stdout",
     "output_type": "stream",
     "text": [
      "\n",
      "1 dark_190504_AB-002_100s.fit\n",
      "\n",
      "2 dark_190504_AB-003_100s.fit\n"
     ]
    },
    {
     "name": "stderr",
     "output_type": "stream",
     "text": [
      "GetHeadVal: Missing Configuration\n",
      "GetHeadVal: Missing Configuration\n",
      "GetHeadVal: Missing Configuration\n",
      "GetHeadVal: Missing Configuration\n"
     ]
    },
    {
     "name": "stdout",
     "output_type": "stream",
     "text": [
      "\n",
      "3 dark_190504_AB-004_100s.fit\n",
      "\n",
      "4 dark_190504_AB-005_100s.fit\n"
     ]
    },
    {
     "name": "stderr",
     "output_type": "stream",
     "text": [
      "GetHeadVal: Missing Configuration\n",
      "GetHeadVal: Missing Configuration\n",
      "GetHeadVal: Missing Configuration\n",
      "GetHeadVal: Missing Configuration\n"
     ]
    },
    {
     "name": "stdout",
     "output_type": "stream",
     "text": [
      "\n",
      "5 dark_190504_AB-006_100s.fit\n",
      "\n",
      "6 dark_190504_AB-007_100s.fit\n"
     ]
    },
    {
     "name": "stderr",
     "output_type": "stream",
     "text": [
      "GetHeadVal: Missing Configuration\n",
      "GetHeadVal: Missing Configuration\n",
      "GetHeadVal: Missing Configuration\n",
      "GetHeadVal: Missing Configuration\n"
     ]
    },
    {
     "name": "stdout",
     "output_type": "stream",
     "text": [
      "\n",
      "7 dark_190504_AB-008_100s.fit\n",
      "\n",
      "8 dark_190504_AB-009_100s.fit\n"
     ]
    },
    {
     "name": "stderr",
     "output_type": "stream",
     "text": [
      "GetHeadVal: Missing Configuration\n",
      "GetHeadVal: Missing Configuration\n",
      "GetHeadVal: Missing Configuration\n",
      "GetHeadVal: Missing Configuration\n"
     ]
    },
    {
     "name": "stdout",
     "output_type": "stream",
     "text": [
      "\n",
      "9 dark_190504_AB-010_100s.fit\n",
      "\n",
      "10 dark_190504_AB-011_100s.fit\n"
     ]
    },
    {
     "name": "stderr",
     "output_type": "stream",
     "text": [
      "GetHeadVal: Missing Configuration\n",
      "GetHeadVal: Missing Configuration\n",
      "GetHeadVal: Missing Configuration\n",
      "GetHeadVal: Missing Configuration\n"
     ]
    },
    {
     "name": "stdout",
     "output_type": "stream",
     "text": [
      "\n",
      "11 dark_190504_AB-012_100s.fit\n",
      "\n",
      "12 dark_190504_AB-013_100s.fit\n"
     ]
    },
    {
     "name": "stderr",
     "output_type": "stream",
     "text": [
      "GetHeadVal: Missing Configuration\n",
      "GetHeadVal: Missing Configuration\n",
      "GetHeadVal: Missing Configuration\n",
      "GetHeadVal: Missing Configuration\n"
     ]
    },
    {
     "name": "stdout",
     "output_type": "stream",
     "text": [
      "\n",
      "13 dark_190504_AB-014_100s.fit\n",
      "\n",
      "14 dark_190504_AB-015_100s.fit\n"
     ]
    },
    {
     "name": "stderr",
     "output_type": "stream",
     "text": [
      "GetHeadVal: Missing Configuration\n",
      "GetHeadVal: Missing Configuration\n",
      "GetHeadVal: Missing Configuration\n",
      "GetHeadVal: Missing Configuration\n"
     ]
    },
    {
     "name": "stdout",
     "output_type": "stream",
     "text": [
      "\n",
      "15 dark_190504_AB-016_100s.fit\n",
      "\n",
      "16 dark_190504_AB-017_100s.fit\n"
     ]
    },
    {
     "name": "stderr",
     "output_type": "stream",
     "text": [
      "GetHeadVal: Missing Configuration\n",
      "GetHeadVal: Missing Configuration\n",
      "GetHeadVal: Missing Configuration\n",
      "GetHeadVal: Missing Configuration\n"
     ]
    },
    {
     "name": "stdout",
     "output_type": "stream",
     "text": [
      "\n",
      "17 dark_190504_AB-018_100s.fit\n",
      "\n",
      "18 dark_190504_AB-019_100s.fit\n"
     ]
    },
    {
     "name": "stderr",
     "output_type": "stream",
     "text": [
      "GetHeadVal: Missing Configuration\n",
      "GetHeadVal: Missing Configuration\n",
      "GetHeadVal: Missing Configuration\n",
      "GetHeadVal: Missing Configuration\n"
     ]
    },
    {
     "name": "stdout",
     "output_type": "stream",
     "text": [
      "\n",
      "19 dark_190504_AB-020_100s.fit\n",
      "\n",
      "20 dark_190504_AB-021_100s.fit\n"
     ]
    },
    {
     "name": "stderr",
     "output_type": "stream",
     "text": [
      "GetHeadVal: Missing Configuration\n",
      "GetHeadVal: Missing Configuration\n",
      "GetHeadVal: Missing Configuration\n",
      "GetHeadVal: Missing Configuration\n"
     ]
    },
    {
     "name": "stdout",
     "output_type": "stream",
     "text": [
      "\n",
      "21 dark_190504_AB-022_100s.fit\n",
      "\n",
      "22 dark_190504_AB-023_100s.fit\n"
     ]
    },
    {
     "name": "stderr",
     "output_type": "stream",
     "text": [
      "GetHeadVal: Missing Configuration\n",
      "GetHeadVal: Missing Configuration\n",
      "GetHeadVal: Missing Configuration\n",
      "GetHeadVal: Missing Configuration\n"
     ]
    },
    {
     "name": "stdout",
     "output_type": "stream",
     "text": [
      "\n",
      "23 dark_190504_AB-024_100s.fit\n",
      "\n",
      "24 dark_190504_AB-025_100s.fit\n"
     ]
    },
    {
     "name": "stderr",
     "output_type": "stream",
     "text": [
      "GetHeadVal: Missing Configuration\n",
      "GetHeadVal: Missing Configuration\n",
      "GetHeadVal: Missing Configuration\n",
      "GetHeadVal: Missing Configuration\n"
     ]
    },
    {
     "name": "stdout",
     "output_type": "stream",
     "text": [
      "\n",
      "25 dark_190504_AB-026_100s.fit\n",
      "\n",
      "26 dark_190504_AB-027_100s.fit\n"
     ]
    },
    {
     "name": "stderr",
     "output_type": "stream",
     "text": [
      "GetHeadVal: Missing Configuration\n",
      "GetHeadVal: Missing Configuration\n",
      "GetHeadVal: Missing Configuration\n",
      "GetHeadVal: Missing Configuration\n"
     ]
    },
    {
     "name": "stdout",
     "output_type": "stream",
     "text": [
      "\n",
      "27 dark_190504_AB-028_100s.fit\n",
      "\n",
      "28 dark_190504_AB-029_100s.fit\n"
     ]
    },
    {
     "name": "stderr",
     "output_type": "stream",
     "text": [
      "GetHeadVal: Missing Configuration\n",
      "GetHeadVal: Missing Configuration\n",
      "GetHeadVal: Missing Configuration\n",
      "GetHeadVal: Missing Configuration\n"
     ]
    },
    {
     "name": "stdout",
     "output_type": "stream",
     "text": [
      "\n",
      "29 dark_190504_AB-030_100s.fit\n",
      "\n",
      "30 dark_190504_AB-031_100s.fit\n"
     ]
    },
    {
     "name": "stderr",
     "output_type": "stream",
     "text": [
      "GetHeadVal: Missing Configuration\n",
      "GetHeadVal: Missing Configuration\n",
      "GetHeadVal: Missing Configuration\n",
      "GetHeadVal: Missing Configuration\n"
     ]
    },
    {
     "name": "stdout",
     "output_type": "stream",
     "text": [
      "\n",
      "31 dark_190504_AB-032_100s.fit\n",
      "\n",
      "32 dark_190504_AB-033_100s.fit\n"
     ]
    },
    {
     "name": "stderr",
     "output_type": "stream",
     "text": [
      "GetHeadVal: Missing Configuration\n",
      "GetHeadVal: Missing Configuration\n",
      "GetHeadVal: Missing Configuration\n",
      "GetHeadVal: Missing Configuration\n"
     ]
    },
    {
     "name": "stdout",
     "output_type": "stream",
     "text": [
      "\n",
      "33 dark_190504_AB-034_100s.fit\n",
      "\n",
      "34 dark_190504_AB-035_100s.fit\n"
     ]
    },
    {
     "name": "stderr",
     "output_type": "stream",
     "text": [
      "GetHeadVal: Missing Configuration\n",
      "GetHeadVal: Missing Configuration\n",
      "GetHeadVal: Missing Configuration\n",
      "GetHeadVal: Missing Configuration\n"
     ]
    },
    {
     "name": "stdout",
     "output_type": "stream",
     "text": [
      "\n",
      "35 dark_190504_AB-036_100s.fit\n",
      "\n",
      "36 dark_190504_AB-037_100s.fit\n"
     ]
    },
    {
     "name": "stderr",
     "output_type": "stream",
     "text": [
      "GetHeadVal: Missing Configuration\n",
      "GetHeadVal: Missing Configuration\n",
      "GetHeadVal: Missing Configuration\n",
      "GetHeadVal: Missing Configuration\n"
     ]
    },
    {
     "name": "stdout",
     "output_type": "stream",
     "text": [
      "\n",
      "37 dark_190504_AB-038_100s.fit\n",
      "\n",
      "38 dark_190504_AB-039_100s.fit\n"
     ]
    },
    {
     "name": "stderr",
     "output_type": "stream",
     "text": [
      "GetHeadVal: Missing Configuration\n",
      "GetHeadVal: Missing Configuration\n",
      "GetHeadVal: Missing Configuration\n",
      "GetHeadVal: Missing Configuration\n"
     ]
    },
    {
     "name": "stdout",
     "output_type": "stream",
     "text": [
      "\n",
      "39 dark_190504_AB-040_100s.fit\n",
      "\n",
      "40 dark_190504_AB-041_100s.fit\n"
     ]
    },
    {
     "name": "stderr",
     "output_type": "stream",
     "text": [
      "GetHeadVal: Missing Configuration\n",
      "GetHeadVal: Missing Configuration\n",
      "GetHeadVal: Missing Configuration\n",
      "GetHeadVal: Missing Configuration\n"
     ]
    },
    {
     "name": "stdout",
     "output_type": "stream",
     "text": [
      "\n",
      "41 dark_190504_AB-042_100s.fit\n",
      "\n",
      "42 dark_190504_AB-043_100s.fit\n"
     ]
    },
    {
     "name": "stderr",
     "output_type": "stream",
     "text": [
      "GetHeadVal: Missing Configuration\n",
      "GetHeadVal: Missing Configuration\n",
      "GetHeadVal: Missing Configuration\n",
      "GetHeadVal: Missing Configuration\n"
     ]
    },
    {
     "name": "stdout",
     "output_type": "stream",
     "text": [
      "\n",
      "43 dark_190504_AB-044_100s.fit\n",
      "\n",
      "44 dark_190504_AB-045_100s.fit\n"
     ]
    },
    {
     "name": "stderr",
     "output_type": "stream",
     "text": [
      "GetHeadVal: Missing Configuration\n",
      "GetHeadVal: Missing Configuration\n",
      "GetHeadVal: Missing Configuration\n",
      "GetHeadVal: Missing Configuration\n"
     ]
    },
    {
     "name": "stdout",
     "output_type": "stream",
     "text": [
      "\n",
      "45 dark_190504_AB-046_100s.fit\n",
      "\n",
      "46 dark_190504_AB-047_100s.fit\n"
     ]
    },
    {
     "name": "stderr",
     "output_type": "stream",
     "text": [
      "GetHeadVal: Missing Configuration\n",
      "GetHeadVal: Missing Configuration\n",
      "GetHeadVal: Missing Configuration\n",
      "GetHeadVal: Missing Configuration\n"
     ]
    },
    {
     "name": "stdout",
     "output_type": "stream",
     "text": [
      "\n",
      "47 dark_190504_AB-048_100s.fit\n",
      "\n",
      "48 dark_190504_AB-049_100s.fit\n"
     ]
    },
    {
     "name": "stderr",
     "output_type": "stream",
     "text": [
      "GetHeadVal: Missing Configuration\n",
      "GetHeadVal: Missing Configuration\n",
      "GetHeadVal: Missing Configuration\n",
      "GetHeadVal: Missing Configuration\n"
     ]
    },
    {
     "name": "stdout",
     "output_type": "stream",
     "text": [
      "\n",
      "49 dark_190504_AB-050_100s.fit\n",
      "\n",
      "50 dark_190504_AC-001_100s.fit\n"
     ]
    },
    {
     "name": "stderr",
     "output_type": "stream",
     "text": [
      "GetHeadVal: Missing Configuration\n",
      "GetHeadVal: Missing Configuration\n",
      "GetHeadVal: Missing Configuration\n",
      "GetHeadVal: Missing Configuration\n"
     ]
    },
    {
     "name": "stdout",
     "output_type": "stream",
     "text": [
      "\n",
      "51 dark_190504_AC-002_100s.fit\n",
      "\n",
      "52 dark_190504_AC-003_100s.fit\n"
     ]
    },
    {
     "name": "stderr",
     "output_type": "stream",
     "text": [
      "GetHeadVal: Missing Configuration\n",
      "GetHeadVal: Missing Configuration\n"
     ]
    },
    {
     "name": "stdout",
     "output_type": "stream",
     "text": [
      "\n",
      "53 dark_190504_AC-004_100s.fit\n",
      "\n",
      "54 dark_190504_AC-005_100s.fit\n"
     ]
    },
    {
     "name": "stderr",
     "output_type": "stream",
     "text": [
      "GetHeadVal: Missing Configuration\n",
      "GetHeadVal: Missing Configuration\n",
      "GetHeadVal: Missing Configuration\n",
      "GetHeadVal: Missing Configuration\n"
     ]
    },
    {
     "name": "stdout",
     "output_type": "stream",
     "text": [
      "\n",
      "55 dark_190504_AC-006_100s.fit\n",
      "\n",
      "56 dark_190504_AC-007_100s.fit\n"
     ]
    },
    {
     "name": "stderr",
     "output_type": "stream",
     "text": [
      "GetHeadVal: Missing Configuration\n",
      "GetHeadVal: Missing Configuration\n",
      "GetHeadVal: Missing Configuration\n",
      "GetHeadVal: Missing Configuration\n",
      "GetHeadVal: Missing Configuration\n",
      "GetHeadVal: Missing Configuration\n"
     ]
    },
    {
     "name": "stdout",
     "output_type": "stream",
     "text": [
      "\n",
      "57 dark_190504_AC-008_100s.fit\n",
      "\n",
      "58 dark_190504_AC-009_100s.fit\n"
     ]
    },
    {
     "name": "stderr",
     "output_type": "stream",
     "text": [
      "GetHeadVal: Missing Configuration\n",
      "GetHeadVal: Missing Configuration\n"
     ]
    },
    {
     "name": "stdout",
     "output_type": "stream",
     "text": [
      "\n",
      "59 dark_190504_AC-010_100s.fit\n",
      "\n",
      "60 dark_190504_AC-011_100s.fit\n"
     ]
    },
    {
     "name": "stderr",
     "output_type": "stream",
     "text": [
      "GetHeadVal: Missing Configuration\n",
      "GetHeadVal: Missing Configuration\n",
      "GetHeadVal: Missing Configuration\n",
      "GetHeadVal: Missing Configuration\n"
     ]
    },
    {
     "name": "stdout",
     "output_type": "stream",
     "text": [
      "\n",
      "61 dark_190504_AC-012_100s.fit\n"
     ]
    },
    {
     "name": "stderr",
     "output_type": "stream",
     "text": [
      "GetHeadVal: Missing Configuration\n",
      "GetHeadVal: Missing Configuration\n"
     ]
    },
    {
     "name": "stdout",
     "output_type": "stream",
     "text": [
      "\n",
      "62 dark_190504_AC-013_100s.fit\n"
     ]
    },
    {
     "name": "stderr",
     "output_type": "stream",
     "text": [
      "GetHeadVal: Missing Configuration\n",
      "GetHeadVal: Missing Configuration\n"
     ]
    },
    {
     "name": "stdout",
     "output_type": "stream",
     "text": [
      "\n",
      "63 dark_190504_AC-014_100s.fit\n"
     ]
    },
    {
     "name": "stderr",
     "output_type": "stream",
     "text": [
      "GetHeadVal: Missing Configuration\n",
      "GetHeadVal: Missing Configuration\n"
     ]
    },
    {
     "name": "stdout",
     "output_type": "stream",
     "text": [
      "\n",
      "64 dark_190504_AC-015_100s.fit\n"
     ]
    },
    {
     "name": "stderr",
     "output_type": "stream",
     "text": [
      "GetHeadVal: Missing Configuration\n",
      "GetHeadVal: Missing Configuration\n"
     ]
    },
    {
     "name": "stdout",
     "output_type": "stream",
     "text": [
      "\n",
      "65 dark_190504_AC-016_100s.fit\n"
     ]
    },
    {
     "name": "stderr",
     "output_type": "stream",
     "text": [
      "GetHeadVal: Missing Configuration\n",
      "GetHeadVal: Missing Configuration\n"
     ]
    },
    {
     "name": "stdout",
     "output_type": "stream",
     "text": [
      "\n",
      "66 dark_190504_AC-017_100s.fit\n"
     ]
    },
    {
     "name": "stderr",
     "output_type": "stream",
     "text": [
      "GetHeadVal: Missing Configuration\n",
      "GetHeadVal: Missing Configuration\n"
     ]
    },
    {
     "name": "stdout",
     "output_type": "stream",
     "text": [
      "\n",
      "67 dark_190504_AC-018_100s.fit\n"
     ]
    },
    {
     "name": "stderr",
     "output_type": "stream",
     "text": [
      "GetHeadVal: Missing Configuration\n",
      "GetHeadVal: Missing Configuration\n"
     ]
    },
    {
     "name": "stdout",
     "output_type": "stream",
     "text": [
      "\n",
      "68 dark_190504_AC-019_100s.fit\n"
     ]
    },
    {
     "name": "stderr",
     "output_type": "stream",
     "text": [
      "GetHeadVal: Missing Configuration\n",
      "GetHeadVal: Missing Configuration\n"
     ]
    },
    {
     "name": "stdout",
     "output_type": "stream",
     "text": [
      "\n",
      "69 dark_190504_AC-020_100s.fit\n",
      "\n",
      "70 dark_190504_AC-021_100s.fit\n"
     ]
    },
    {
     "name": "stderr",
     "output_type": "stream",
     "text": [
      "GetHeadVal: Missing Configuration\n",
      "GetHeadVal: Missing Configuration\n",
      "GetHeadVal: Missing Configuration\n",
      "GetHeadVal: Missing Configuration\n"
     ]
    },
    {
     "name": "stdout",
     "output_type": "stream",
     "text": [
      "\n",
      "71 dark_190504_AC-022_100s.fit\n",
      "\n"
     ]
    },
    {
     "name": "stderr",
     "output_type": "stream",
     "text": [
      "GetHeadVal: Missing Configuration\n",
      "GetHeadVal: Missing Configuration\n"
     ]
    },
    {
     "name": "stdout",
     "output_type": "stream",
     "text": [
      "72 dark_190504_AC-023_100s.fit\n",
      "\n",
      "73 dark_190504_AC-024_100s.fit\n"
     ]
    },
    {
     "name": "stderr",
     "output_type": "stream",
     "text": [
      "GetHeadVal: Missing Configuration\n",
      "GetHeadVal: Missing Configuration\n",
      "GetHeadVal: Missing Configuration\n",
      "GetHeadVal: Missing Configuration\n"
     ]
    },
    {
     "name": "stdout",
     "output_type": "stream",
     "text": [
      "\n",
      "74 dark_190504_AD-001_100s.fit\n",
      "\n",
      "75 dark_190504_AD-002_100s.fit\n"
     ]
    },
    {
     "name": "stderr",
     "output_type": "stream",
     "text": [
      "GetHeadVal: Missing Configuration\n",
      "GetHeadVal: Missing Configuration\n",
      "GetHeadVal: Missing Configuration\n",
      "GetHeadVal: Missing Configuration\n"
     ]
    },
    {
     "name": "stdout",
     "output_type": "stream",
     "text": [
      "\n",
      "76 dark_190504_AD-003_100s.fit\n",
      "\n",
      "77 dark_190504_AD-004_100s.fit\n"
     ]
    },
    {
     "name": "stderr",
     "output_type": "stream",
     "text": [
      "GetHeadVal: Missing Configuration\n",
      "GetHeadVal: Missing Configuration\n",
      "GetHeadVal: Missing Configuration\n",
      "GetHeadVal: Missing Configuration\n"
     ]
    },
    {
     "name": "stdout",
     "output_type": "stream",
     "text": [
      "\n",
      "78 dark_190504_AD-005_100s.fit\n"
     ]
    },
    {
     "name": "stderr",
     "output_type": "stream",
     "text": [
      "GetHeadVal: Missing Configuration\n",
      "GetHeadVal: Missing Configuration\n"
     ]
    },
    {
     "name": "stdout",
     "output_type": "stream",
     "text": [
      "\n",
      "79 dark_190504_AD-006_100s.fit\n"
     ]
    },
    {
     "name": "stderr",
     "output_type": "stream",
     "text": [
      "GetHeadVal: Missing Configuration\n",
      "GetHeadVal: Missing Configuration\n",
      "GetHeadVal: Missing Configuration\n",
      "GetHeadVal: Missing Configuration\n"
     ]
    },
    {
     "name": "stdout",
     "output_type": "stream",
     "text": [
      "\n",
      "80 dark_190504_AD-007_100s.fit\n",
      "\n",
      "81 dark_190504_AD-008_100s.fit\n"
     ]
    },
    {
     "name": "stderr",
     "output_type": "stream",
     "text": [
      "GetHeadVal: Missing Configuration\n",
      "GetHeadVal: Missing Configuration\n",
      "GetHeadVal: Missing Configuration\n",
      "GetHeadVal: Missing Configuration\n"
     ]
    },
    {
     "name": "stdout",
     "output_type": "stream",
     "text": [
      "\n",
      "82 dark_190504_AD-009_100s.fit\n",
      "\n",
      "83 dark_190504_AD-010_100s.fit\n"
     ]
    },
    {
     "name": "stderr",
     "output_type": "stream",
     "text": [
      "GetHeadVal: Missing Configuration\n",
      "GetHeadVal: Missing Configuration\n"
     ]
    },
    {
     "name": "stdout",
     "output_type": "stream",
     "text": [
      "\n",
      "84 dark_190504_AD-011_100s.fit\n"
     ]
    },
    {
     "name": "stderr",
     "output_type": "stream",
     "text": [
      "GetHeadVal: Missing Configuration\n",
      "GetHeadVal: Missing Configuration\n"
     ]
    },
    {
     "name": "stdout",
     "output_type": "stream",
     "text": [
      "\n",
      "85 dark_190504_AD-012_100s.fit\n",
      "\n",
      "86 dark_190504_AD-013_100s.fit\n"
     ]
    },
    {
     "name": "stderr",
     "output_type": "stream",
     "text": [
      "GetHeadVal: Missing Configuration\n",
      "GetHeadVal: Missing Configuration\n",
      "GetHeadVal: Missing Configuration\n",
      "GetHeadVal: Missing Configuration\n",
      "GetHeadVal: Missing Configuration\n",
      "GetHeadVal: Missing Configuration\n"
     ]
    },
    {
     "name": "stdout",
     "output_type": "stream",
     "text": [
      "\n",
      "87 dark_190504_AD-014_100s.fit\n",
      "\n",
      "88 dark_190504_AD-015_100s.fit\n"
     ]
    },
    {
     "name": "stderr",
     "output_type": "stream",
     "text": [
      "GetHeadVal: Missing Configuration\n",
      "GetHeadVal: Missing Configuration\n",
      "GetHeadVal: Missing Configuration\n",
      "GetHeadVal: Missing Configuration\n"
     ]
    },
    {
     "name": "stdout",
     "output_type": "stream",
     "text": [
      "\n",
      "89 dark_190504_AD-016_100s.fit\n",
      "\n",
      "90 dark_190504_AD-017_100s.fit\n"
     ]
    },
    {
     "name": "stderr",
     "output_type": "stream",
     "text": [
      "GetHeadVal: Missing Configuration\n",
      "GetHeadVal: Missing Configuration\n"
     ]
    },
    {
     "name": "stdout",
     "output_type": "stream",
     "text": [
      "\n",
      "91 dark_190504_AD-018_100s.fit\n"
     ]
    },
    {
     "name": "stderr",
     "output_type": "stream",
     "text": [
      "GetHeadVal: Missing Configuration\n",
      "GetHeadVal: Missing Configuration\n"
     ]
    },
    {
     "name": "stdout",
     "output_type": "stream",
     "text": [
      "\n",
      "92 dark_190504_AD-019_100s.fit\n"
     ]
    },
    {
     "name": "stderr",
     "output_type": "stream",
     "text": [
      "GetHeadVal: Missing Configuration\n",
      "GetHeadVal: Missing Configuration\n"
     ]
    },
    {
     "name": "stdout",
     "output_type": "stream",
     "text": [
      "\n",
      "93 dark_190504_AD-020_100s.fit\n",
      "\n",
      "94 dark_190504_AD-021_100s.fit\n"
     ]
    },
    {
     "name": "stderr",
     "output_type": "stream",
     "text": [
      "GetHeadVal: Missing Configuration\n",
      "GetHeadVal: Missing Configuration\n",
      "GetHeadVal: Missing Configuration\n",
      "GetHeadVal: Missing Configuration\n"
     ]
    },
    {
     "name": "stdout",
     "output_type": "stream",
     "text": [
      "\n",
      "95 dark_190504_AD-022_100s.fit\n",
      "\n",
      "96 dark_190504_AD-023_100s.fit\n"
     ]
    },
    {
     "name": "stderr",
     "output_type": "stream",
     "text": [
      "GetHeadVal: Missing Configuration\n",
      "GetHeadVal: Missing Configuration\n",
      "GetHeadVal: Missing Configuration\n",
      "GetHeadVal: Missing Configuration\n"
     ]
    },
    {
     "name": "stdout",
     "output_type": "stream",
     "text": [
      "\n",
      "97 dark_190504_AD-024_100s.fit\n",
      "\n",
      "98 dark_190504_AD-025_100s.fit\n"
     ]
    },
    {
     "name": "stderr",
     "output_type": "stream",
     "text": [
      "GetHeadVal: Missing Configuration\n",
      "GetHeadVal: Missing Configuration\n",
      "GetHeadVal: Missing Configuration\n",
      "GetHeadVal: Missing Configuration\n",
      "GetHeadVal: Missing Configuration\n",
      "GetHeadVal: Missing Configuration\n"
     ]
    },
    {
     "name": "stdout",
     "output_type": "stream",
     "text": [
      "\n",
      "99 dark_190504_AD-026_100s.fit\n",
      "\n",
      "100 dark_190504_AD-027_100s.fit\n"
     ]
    },
    {
     "name": "stderr",
     "output_type": "stream",
     "text": [
      "GetHeadVal: Missing Configuration\n",
      "GetHeadVal: Missing Configuration\n",
      "GetHeadVal: Missing Configuration\n",
      "GetHeadVal: Missing Configuration\n"
     ]
    },
    {
     "name": "stdout",
     "output_type": "stream",
     "text": [
      "\n",
      "101 dark_190504_AD-028_100s.fit\n",
      "\n",
      "102 dark_190504_AD-029_100s.fit\n"
     ]
    },
    {
     "name": "stderr",
     "output_type": "stream",
     "text": [
      "GetHeadVal: Missing Configuration\n",
      "GetHeadVal: Missing Configuration\n",
      "GetHeadVal: Missing Configuration\n",
      "GetHeadVal: Missing Configuration\n"
     ]
    },
    {
     "name": "stdout",
     "output_type": "stream",
     "text": [
      "\n",
      "103 dark_190504_AD-030_100s.fit\n",
      "\n",
      "104 dark_190504_AD-031_100s.fit\n"
     ]
    },
    {
     "name": "stderr",
     "output_type": "stream",
     "text": [
      "GetHeadVal: Missing Configuration\n",
      "GetHeadVal: Missing Configuration\n",
      "GetHeadVal: Missing Configuration\n",
      "GetHeadVal: Missing Configuration\n"
     ]
    },
    {
     "name": "stdout",
     "output_type": "stream",
     "text": [
      "\n",
      "105 dark_190504_AD-032_100s.fit\n",
      "\n",
      "106 dark_190504_AD-033_100s.fit\n"
     ]
    },
    {
     "name": "stderr",
     "output_type": "stream",
     "text": [
      "GetHeadVal: Missing Configuration\n",
      "GetHeadVal: Missing Configuration\n",
      "GetHeadVal: Missing Configuration\n",
      "GetHeadVal: Missing Configuration\n"
     ]
    },
    {
     "name": "stdout",
     "output_type": "stream",
     "text": [
      "\n",
      "107 dark_190504_AD-034_100s.fit\n",
      "\n",
      "108 dark_190504_AD-035_100s.fit\n"
     ]
    },
    {
     "name": "stderr",
     "output_type": "stream",
     "text": [
      "GetHeadVal: Missing Configuration\n",
      "GetHeadVal: Missing Configuration\n",
      "GetHeadVal: Missing Configuration\n",
      "GetHeadVal: Missing Configuration\n"
     ]
    },
    {
     "name": "stdout",
     "output_type": "stream",
     "text": [
      "\n",
      "109 dark_190504_AD-036_100s.fit\n",
      "\n",
      "110 dark_190504_AD-037_100s.fit\n"
     ]
    },
    {
     "name": "stderr",
     "output_type": "stream",
     "text": [
      "GetHeadVal: Missing Configuration\n",
      "GetHeadVal: Missing Configuration\n",
      "GetHeadVal: Missing Configuration\n",
      "GetHeadVal: Missing Configuration\n"
     ]
    },
    {
     "name": "stdout",
     "output_type": "stream",
     "text": [
      "\n",
      "111 dark_190504_AD-038_100s.fit\n",
      "\n",
      "112 dark_190504_AD-039_100s.fit\n"
     ]
    },
    {
     "name": "stderr",
     "output_type": "stream",
     "text": [
      "GetHeadVal: Missing Configuration\n",
      "GetHeadVal: Missing Configuration\n",
      "GetHeadVal: Missing Configuration\n",
      "GetHeadVal: Missing Configuration\n"
     ]
    },
    {
     "name": "stdout",
     "output_type": "stream",
     "text": [
      "\n",
      "113 dark_190504_AD-040_100s.fit\n",
      "\n",
      "114 dark_190504_AD-041_100s.fit\n"
     ]
    },
    {
     "name": "stderr",
     "output_type": "stream",
     "text": [
      "GetHeadVal: Missing Configuration\n",
      "GetHeadVal: Missing Configuration\n",
      "GetHeadVal: Missing Configuration\n",
      "GetHeadVal: Missing Configuration\n"
     ]
    },
    {
     "name": "stdout",
     "output_type": "stream",
     "text": [
      "\n",
      "115 dark_190504_AD-042_100s.fit\n",
      "\n",
      "116 dark_190504_AD-043_100s.fit\n"
     ]
    },
    {
     "name": "stderr",
     "output_type": "stream",
     "text": [
      "GetHeadVal: Missing Configuration\n",
      "GetHeadVal: Missing Configuration\n",
      "GetHeadVal: Missing Configuration\n",
      "GetHeadVal: Missing Configuration\n"
     ]
    },
    {
     "name": "stdout",
     "output_type": "stream",
     "text": [
      "\n",
      "117 dark_190504_AD-044_100s.fit\n",
      "\n",
      "118 dark_190504_AD-045_100s.fit\n"
     ]
    },
    {
     "name": "stderr",
     "output_type": "stream",
     "text": [
      "GetHeadVal: Missing Configuration\n",
      "GetHeadVal: Missing Configuration\n",
      "GetHeadVal: Missing Configuration\n",
      "GetHeadVal: Missing Configuration\n"
     ]
    },
    {
     "name": "stdout",
     "output_type": "stream",
     "text": [
      "\n",
      "119 dark_190504_AD-046_100s.fit\n",
      "\n",
      "120 dark_190504_AD-047_100s.fit\n"
     ]
    },
    {
     "name": "stderr",
     "output_type": "stream",
     "text": [
      "GetHeadVal: Missing Configuration\n",
      "GetHeadVal: Missing Configuration\n",
      "GetHeadVal: Missing Configuration\n",
      "GetHeadVal: Missing Configuration\n"
     ]
    },
    {
     "name": "stdout",
     "output_type": "stream",
     "text": [
      "\n",
      "121 dark_190504_AD-048_100s.fit\n",
      "\n",
      "122 dark_190504_AD-049_100s.fit\n"
     ]
    },
    {
     "name": "stderr",
     "output_type": "stream",
     "text": [
      "GetHeadVal: Missing Configuration\n",
      "GetHeadVal: Missing Configuration\n",
      "GetHeadVal: Missing Configuration\n",
      "GetHeadVal: Missing Configuration\n"
     ]
    },
    {
     "name": "stdout",
     "output_type": "stream",
     "text": [
      "\n",
      "123 dark_190504_AD-050_100s.fit\n",
      "\n",
      "124 dark_190504_AD-051_100s.fit\n"
     ]
    },
    {
     "name": "stderr",
     "output_type": "stream",
     "text": [
      "GetHeadVal: Missing Configuration\n",
      "GetHeadVal: Missing Configuration\n",
      "GetHeadVal: Missing Configuration\n",
      "GetHeadVal: Missing Configuration\n"
     ]
    },
    {
     "name": "stdout",
     "output_type": "stream",
     "text": [
      "\n",
      "125 dark_190504_AD-052_100s.fit\n",
      "\n",
      "126 dark_190504_AD-053_100s.fit\n"
     ]
    },
    {
     "name": "stderr",
     "output_type": "stream",
     "text": [
      "GetHeadVal: Missing Configuration\n",
      "GetHeadVal: Missing Configuration\n",
      "GetHeadVal: Missing Configuration\n",
      "GetHeadVal: Missing Configuration\n"
     ]
    },
    {
     "name": "stdout",
     "output_type": "stream",
     "text": [
      "\n",
      "127 dark_190504_AD-054_100s.fit\n",
      "\n",
      "128 dark_190504_AD-055_100s.fit\n"
     ]
    },
    {
     "name": "stderr",
     "output_type": "stream",
     "text": [
      "GetHeadVal: Missing Configuration\n",
      "GetHeadVal: Missing Configuration\n",
      "GetHeadVal: Missing Configuration\n",
      "GetHeadVal: Missing Configuration\n"
     ]
    },
    {
     "name": "stdout",
     "output_type": "stream",
     "text": [
      "\n",
      "129 dark_190504_AD-056_100s.fit\n",
      "\n",
      "130 dark_190504_AD-057_100s.fit\n"
     ]
    },
    {
     "name": "stderr",
     "output_type": "stream",
     "text": [
      "GetHeadVal: Missing Configuration\n",
      "GetHeadVal: Missing Configuration\n",
      "GetHeadVal: Missing Configuration\n",
      "GetHeadVal: Missing Configuration\n"
     ]
    },
    {
     "name": "stdout",
     "output_type": "stream",
     "text": [
      "\n",
      "131 dark_190504_AD-058_100s.fit\n",
      "\n",
      "132 dark_190504_AD-059_100s.fit\n"
     ]
    },
    {
     "name": "stderr",
     "output_type": "stream",
     "text": [
      "GetHeadVal: Missing Configuration\n",
      "GetHeadVal: Missing Configuration\n",
      "GetHeadVal: Missing Configuration\n",
      "GetHeadVal: Missing Configuration\n"
     ]
    },
    {
     "name": "stdout",
     "output_type": "stream",
     "text": [
      "\n",
      "133 dark_190504_AD-060_100s.fit\n",
      "\n",
      "134 dark_190504_AD-061_100s.fit\n"
     ]
    },
    {
     "name": "stderr",
     "output_type": "stream",
     "text": [
      "GetHeadVal: Missing Configuration\n",
      "GetHeadVal: Missing Configuration\n",
      "GetHeadVal: Missing Configuration\n",
      "GetHeadVal: Missing Configuration\n"
     ]
    },
    {
     "name": "stdout",
     "output_type": "stream",
     "text": [
      "\n",
      "135 dark_190504_AD-062_100s.fit\n",
      "\n",
      "136 dark_190504_AD-063_100s.fit\n"
     ]
    },
    {
     "name": "stderr",
     "output_type": "stream",
     "text": [
      "GetHeadVal: Missing Configuration\n",
      "GetHeadVal: Missing Configuration\n",
      "GetHeadVal: Missing Configuration\n",
      "GetHeadVal: Missing Configuration\n"
     ]
    },
    {
     "name": "stdout",
     "output_type": "stream",
     "text": [
      "\n",
      "137 dark_190504_AD-064_100s.fit\n",
      "\n",
      "138 dark_190504_AD-065_100s.fit\n"
     ]
    },
    {
     "name": "stderr",
     "output_type": "stream",
     "text": [
      "GetHeadVal: Missing Configuration\n",
      "GetHeadVal: Missing Configuration\n",
      "GetHeadVal: Missing Configuration\n",
      "GetHeadVal: Missing Configuration\n"
     ]
    },
    {
     "name": "stdout",
     "output_type": "stream",
     "text": [
      "\n",
      "139 dark_190504_AD-066_100s.fit\n",
      "\n",
      "140 dark_190504_AD-067_100s.fit\n"
     ]
    },
    {
     "name": "stderr",
     "output_type": "stream",
     "text": [
      "GetHeadVal: Missing Configuration\n",
      "GetHeadVal: Missing Configuration\n",
      "GetHeadVal: Missing Configuration\n",
      "GetHeadVal: Missing Configuration\n"
     ]
    },
    {
     "name": "stdout",
     "output_type": "stream",
     "text": [
      "\n",
      "141 dark_190504_AD-068_100s.fit\n",
      "\n",
      "142 dark_190504_AD-069_100s.fit\n"
     ]
    },
    {
     "name": "stderr",
     "output_type": "stream",
     "text": [
      "GetHeadVal: Missing Configuration\n",
      "GetHeadVal: Missing Configuration\n",
      "GetHeadVal: Missing Configuration\n",
      "GetHeadVal: Missing Configuration\n"
     ]
    },
    {
     "name": "stdout",
     "output_type": "stream",
     "text": [
      "\n",
      "143 dark_190504_AD-070_100s.fit\n",
      "\n",
      "144 dark_190504_AD-071_100s.fit\n"
     ]
    },
    {
     "name": "stderr",
     "output_type": "stream",
     "text": [
      "GetHeadVal: Missing Configuration\n",
      "GetHeadVal: Missing Configuration\n",
      "GetHeadVal: Missing Configuration\n",
      "GetHeadVal: Missing Configuration\n"
     ]
    },
    {
     "name": "stdout",
     "output_type": "stream",
     "text": [
      "\n",
      "145 dark_190504_AD-072_100s.fit\n",
      "\n",
      "146 dark_190504_AD-073_100s.fit\n"
     ]
    },
    {
     "name": "stderr",
     "output_type": "stream",
     "text": [
      "GetHeadVal: Missing Configuration\n",
      "GetHeadVal: Missing Configuration\n",
      "GetHeadVal: Missing Configuration\n",
      "GetHeadVal: Missing Configuration\n"
     ]
    },
    {
     "name": "stdout",
     "output_type": "stream",
     "text": [
      "\n",
      "147 dark_190504_AD-074_100s.fit\n",
      "\n",
      "148 dark_190504_AD-075_100s.fit\n"
     ]
    },
    {
     "name": "stderr",
     "output_type": "stream",
     "text": [
      "GetHeadVal: Missing Configuration\n",
      "GetHeadVal: Missing Configuration\n",
      "GetHeadVal: Missing Configuration\n",
      "GetHeadVal: Missing Configuration\n"
     ]
    },
    {
     "name": "stdout",
     "output_type": "stream",
     "text": [
      "\n",
      "149 dark_190504_AD-076_100s.fit\n",
      "\n",
      "150 dark_190504_AD-077_100s.fit\n"
     ]
    },
    {
     "name": "stderr",
     "output_type": "stream",
     "text": [
      "GetHeadVal: Missing Configuration\n",
      "GetHeadVal: Missing Configuration\n",
      "GetHeadVal: Missing Configuration\n",
      "GetHeadVal: Missing Configuration\n"
     ]
    },
    {
     "name": "stdout",
     "output_type": "stream",
     "text": [
      "\n",
      "151 dark_190504_AD-078_100s.fit\n",
      "\n",
      "152 dark_190504_AD-079_100s.fit\n"
     ]
    },
    {
     "name": "stderr",
     "output_type": "stream",
     "text": [
      "GetHeadVal: Missing Configuration\n",
      "GetHeadVal: Missing Configuration\n",
      "GetHeadVal: Missing Configuration\n",
      "GetHeadVal: Missing Configuration\n"
     ]
    },
    {
     "name": "stdout",
     "output_type": "stream",
     "text": [
      "\n",
      "153 dark_190504_AD-080_100s.fit\n",
      "\n",
      "154 dark_190504_AD-081_100s.fit\n"
     ]
    },
    {
     "name": "stderr",
     "output_type": "stream",
     "text": [
      "GetHeadVal: Missing Configuration\n",
      "GetHeadVal: Missing Configuration\n",
      "GetHeadVal: Missing Configuration\n",
      "GetHeadVal: Missing Configuration\n"
     ]
    },
    {
     "name": "stdout",
     "output_type": "stream",
     "text": [
      "\n",
      "155 dark_190504_AD-082_100s.fit\n",
      "\n",
      "156 dark_190504_AD-083_100s.fit\n"
     ]
    },
    {
     "name": "stderr",
     "output_type": "stream",
     "text": [
      "GetHeadVal: Missing Configuration\n",
      "GetHeadVal: Missing Configuration\n",
      "GetHeadVal: Missing Configuration\n",
      "GetHeadVal: Missing Configuration\n"
     ]
    },
    {
     "name": "stdout",
     "output_type": "stream",
     "text": [
      "\n",
      "157 dark_190504_AD-084_100s.fit\n",
      "\n",
      "158 dark_190504_AD-085_100s.fit\n"
     ]
    },
    {
     "name": "stderr",
     "output_type": "stream",
     "text": [
      "GetHeadVal: Missing Configuration\n",
      "GetHeadVal: Missing Configuration\n",
      "GetHeadVal: Missing Configuration\n",
      "GetHeadVal: Missing Configuration\n"
     ]
    },
    {
     "name": "stdout",
     "output_type": "stream",
     "text": [
      "\n",
      "159 dark_190504_AD-086_100s.fit\n",
      "\n",
      "160 dark_190504_AD-087_100s.fit\n"
     ]
    },
    {
     "name": "stderr",
     "output_type": "stream",
     "text": [
      "GetHeadVal: Missing Configuration\n",
      "GetHeadVal: Missing Configuration\n",
      "GetHeadVal: Missing Configuration\n",
      "GetHeadVal: Missing Configuration\n"
     ]
    },
    {
     "name": "stdout",
     "output_type": "stream",
     "text": [
      "\n",
      "161 dark_190504_AD-088_100s.fit\n",
      "\n",
      "162 dark_190504_AD-089_100s.fit\n"
     ]
    },
    {
     "name": "stderr",
     "output_type": "stream",
     "text": [
      "GetHeadVal: Missing Configuration\n",
      "GetHeadVal: Missing Configuration\n",
      "GetHeadVal: Missing Configuration\n",
      "GetHeadVal: Missing Configuration\n"
     ]
    },
    {
     "name": "stdout",
     "output_type": "stream",
     "text": [
      "\n",
      "163 dark_190504_AD-090_100s.fit\n",
      "\n",
      "164 dark_190504_AD-091_100s.fit\n"
     ]
    },
    {
     "name": "stderr",
     "output_type": "stream",
     "text": [
      "GetHeadVal: Missing Configuration\n",
      "GetHeadVal: Missing Configuration\n",
      "GetHeadVal: Missing Configuration\n",
      "GetHeadVal: Missing Configuration\n"
     ]
    },
    {
     "name": "stdout",
     "output_type": "stream",
     "text": [
      "\n",
      "165 dark_190504_AD-092_100s.fit\n",
      "\n",
      "166 dark_190504_AD-093_100s.fit\n"
     ]
    },
    {
     "name": "stderr",
     "output_type": "stream",
     "text": [
      "GetHeadVal: Missing Configuration\n",
      "GetHeadVal: Missing Configuration\n",
      "GetHeadVal: Missing Configuration\n",
      "GetHeadVal: Missing Configuration\n"
     ]
    },
    {
     "name": "stdout",
     "output_type": "stream",
     "text": [
      "\n",
      "167 dark_190504_AD-094_100s.fit\n",
      "\n",
      "168 dark_190504_AD-095_100s.fit\n"
     ]
    },
    {
     "name": "stderr",
     "output_type": "stream",
     "text": [
      "GetHeadVal: Missing Configuration\n",
      "GetHeadVal: Missing Configuration\n",
      "GetHeadVal: Missing Configuration\n",
      "GetHeadVal: Missing Configuration\n"
     ]
    },
    {
     "name": "stdout",
     "output_type": "stream",
     "text": [
      "\n",
      "169 dark_190504_AD-096_100s.fit\n",
      "\n",
      "170 dark_190504_AD-097_100s.fit\n"
     ]
    },
    {
     "name": "stderr",
     "output_type": "stream",
     "text": [
      "GetHeadVal: Missing Configuration\n",
      "GetHeadVal: Missing Configuration\n",
      "GetHeadVal: Missing Configuration\n",
      "GetHeadVal: Missing Configuration\n"
     ]
    },
    {
     "name": "stdout",
     "output_type": "stream",
     "text": [
      "\n",
      "171 dark_190504_AD-099_100s.fit\n",
      "\n",
      "172 dark_190504_AD-100_100s.fit\n"
     ]
    },
    {
     "name": "stderr",
     "output_type": "stream",
     "text": [
      "GetHeadVal: Missing Configuration\n",
      "GetHeadVal: Missing Configuration\n",
      "GetHeadVal: Missing Configuration\n",
      "GetHeadVal: Missing Configuration\n"
     ]
    },
    {
     "name": "stdout",
     "output_type": "stream",
     "text": [
      "\n",
      "173 dark_190504_AD-101_100s.fit\n",
      "\n",
      "174 dark_190504_AD-102_100s.fit\n"
     ]
    },
    {
     "name": "stderr",
     "output_type": "stream",
     "text": [
      "GetHeadVal: Missing Configuration\n",
      "GetHeadVal: Missing Configuration\n",
      "GetHeadVal: Missing Configuration\n",
      "GetHeadVal: Missing Configuration\n"
     ]
    },
    {
     "name": "stdout",
     "output_type": "stream",
     "text": [
      "\n",
      "175 dark_190504_AD-103_100s.fit\n",
      "\n",
      "176 dark_190504_AD-104_100s.fit\n"
     ]
    },
    {
     "name": "stderr",
     "output_type": "stream",
     "text": [
      "GetHeadVal: Missing Configuration\n",
      "GetHeadVal: Missing Configuration\n",
      "GetHeadVal: Missing Configuration\n",
      "GetHeadVal: Missing Configuration\n"
     ]
    },
    {
     "name": "stdout",
     "output_type": "stream",
     "text": [
      "\n",
      "177 dark_190504_AD-105_100s.fit\n",
      "\n",
      "178 dark_190504_AD-106_100s.fit\n"
     ]
    },
    {
     "name": "stderr",
     "output_type": "stream",
     "text": [
      "GetHeadVal: Missing Configuration\n",
      "GetHeadVal: Missing Configuration\n",
      "GetHeadVal: Missing Configuration\n",
      "GetHeadVal: Missing Configuration\n"
     ]
    },
    {
     "name": "stdout",
     "output_type": "stream",
     "text": [
      "\n",
      "179 dark_190504_AD-107_100s.fit\n",
      "\n",
      "180 dark_190504_AD-108_100s.fit\n"
     ]
    },
    {
     "name": "stderr",
     "output_type": "stream",
     "text": [
      "GetHeadVal: Missing Configuration\n",
      "GetHeadVal: Missing Configuration\n",
      "GetHeadVal: Missing Configuration\n",
      "GetHeadVal: Missing Configuration\n"
     ]
    },
    {
     "name": "stdout",
     "output_type": "stream",
     "text": [
      "\n",
      "181 dark_190504_AD-109_100s.fit\n",
      "\n",
      "182 dark_190504_AD-110_100s.fit\n"
     ]
    },
    {
     "name": "stderr",
     "output_type": "stream",
     "text": [
      "GetHeadVal: Missing Configuration\n",
      "GetHeadVal: Missing Configuration\n",
      "GetHeadVal: Missing Configuration\n",
      "GetHeadVal: Missing Configuration\n"
     ]
    },
    {
     "name": "stdout",
     "output_type": "stream",
     "text": [
      "\n",
      "183 dark_190504_AD-111_100s.fit\n",
      "\n",
      "184 dark_190504_AD-112_100s.fit\n"
     ]
    },
    {
     "name": "stderr",
     "output_type": "stream",
     "text": [
      "GetHeadVal: Missing Configuration\n",
      "GetHeadVal: Missing Configuration\n",
      "GetHeadVal: Missing Configuration\n",
      "GetHeadVal: Missing Configuration\n"
     ]
    },
    {
     "name": "stdout",
     "output_type": "stream",
     "text": [
      "\n",
      "185 dark_190504_AD-113_100s.fit\n",
      "\n",
      "186 dark_190504_AD-114_100s.fit\n"
     ]
    },
    {
     "name": "stderr",
     "output_type": "stream",
     "text": [
      "GetHeadVal: Missing Configuration\n",
      "GetHeadVal: Missing Configuration\n",
      "GetHeadVal: Missing Configuration\n",
      "GetHeadVal: Missing Configuration\n"
     ]
    },
    {
     "name": "stdout",
     "output_type": "stream",
     "text": [
      "\n",
      "187 dark_190504_AD-115_100s.fit\n",
      "\n",
      "188 dark_190504_AD-116_100s.fit\n"
     ]
    },
    {
     "name": "stderr",
     "output_type": "stream",
     "text": [
      "GetHeadVal: Missing Configuration\n",
      "GetHeadVal: Missing Configuration\n",
      "GetHeadVal: Missing Configuration\n",
      "GetHeadVal: Missing Configuration\n"
     ]
    },
    {
     "name": "stdout",
     "output_type": "stream",
     "text": [
      "\n",
      "189 dark_190504_AD-117_100s.fit\n",
      "\n",
      "190 dark_190504_AD-118_100s.fit\n"
     ]
    },
    {
     "name": "stderr",
     "output_type": "stream",
     "text": [
      "GetHeadVal: Missing Configuration\n",
      "GetHeadVal: Missing Configuration\n",
      "GetHeadVal: Missing Configuration\n",
      "GetHeadVal: Missing Configuration\n"
     ]
    },
    {
     "name": "stdout",
     "output_type": "stream",
     "text": [
      "\n",
      "191 dark_190504_AD-119_100s.fit\n",
      "\n",
      "192 dark_190504_AD-120_100s.fit\n"
     ]
    },
    {
     "name": "stderr",
     "output_type": "stream",
     "text": [
      "GetHeadVal: Missing Configuration\n",
      "GetHeadVal: Missing Configuration\n",
      "GetHeadVal: Missing Configuration\n",
      "GetHeadVal: Missing Configuration\n"
     ]
    },
    {
     "name": "stdout",
     "output_type": "stream",
     "text": [
      "\n",
      "193 dark_190504_AD-121_100s.fit\n",
      "\n",
      "194 dark_190504_AD-122_100s.fit\n"
     ]
    },
    {
     "name": "stderr",
     "output_type": "stream",
     "text": [
      "GetHeadVal: Missing Configuration\n",
      "GetHeadVal: Missing Configuration\n",
      "GetHeadVal: Missing Configuration\n",
      "GetHeadVal: Missing Configuration\n"
     ]
    },
    {
     "name": "stdout",
     "output_type": "stream",
     "text": [
      "\n",
      "195 dark_190504_AD-123_100s.fit\n",
      "\n",
      "196 dark_190504_AD-124_100s.fit\n"
     ]
    },
    {
     "name": "stderr",
     "output_type": "stream",
     "text": [
      "GetHeadVal: Missing Configuration\n",
      "GetHeadVal: Missing Configuration\n",
      "GetHeadVal: Missing Configuration\n",
      "GetHeadVal: Missing Configuration\n"
     ]
    },
    {
     "name": "stdout",
     "output_type": "stream",
     "text": [
      "\n",
      "197 dark_190504_AD-125_100s.fit\n",
      "\n",
      "198 dark_190504_AD-126_100s.fit\n"
     ]
    },
    {
     "name": "stderr",
     "output_type": "stream",
     "text": [
      "GetHeadVal: Missing Configuration\n",
      "GetHeadVal: Missing Configuration\n",
      "GetHeadVal: Missing Configuration\n",
      "GetHeadVal: Missing Configuration\n"
     ]
    },
    {
     "name": "stdout",
     "output_type": "stream",
     "text": [
      "\n",
      "199 dark_190504_AD-127_100s.fit\n",
      "\n",
      "200 dark_190504_AD-128_100s.fit\n"
     ]
    },
    {
     "name": "stderr",
     "output_type": "stream",
     "text": [
      "GetHeadVal: Missing Configuration\n",
      "GetHeadVal: Missing Configuration\n",
      "GetHeadVal: Missing Configuration\n",
      "GetHeadVal: Missing Configuration\n"
     ]
    },
    {
     "name": "stdout",
     "output_type": "stream",
     "text": [
      "\n",
      "201 dark_190504_AD-129_100s.fit\n",
      "\n",
      "202 dark_190504_AD-130_100s.fit\n"
     ]
    },
    {
     "name": "stderr",
     "output_type": "stream",
     "text": [
      "GetHeadVal: Missing Configuration\n",
      "GetHeadVal: Missing Configuration\n",
      "GetHeadVal: Missing Configuration\n",
      "GetHeadVal: Missing Configuration\n"
     ]
    },
    {
     "name": "stdout",
     "output_type": "stream",
     "text": [
      "\n",
      "203 dark_190504_AD-131_100s.fit\n",
      "\n",
      "204 dark_190504_AD-132_100s.fit\n"
     ]
    },
    {
     "name": "stderr",
     "output_type": "stream",
     "text": [
      "GetHeadVal: Missing Configuration\n",
      "GetHeadVal: Missing Configuration\n",
      "GetHeadVal: Missing Configuration\n",
      "GetHeadVal: Missing Configuration\n"
     ]
    },
    {
     "name": "stdout",
     "output_type": "stream",
     "text": [
      "\n",
      "205 dark_190504_AD-133_100s.fit\n",
      "\n",
      "206 dark_190504_AD-134_100s.fit\n"
     ]
    },
    {
     "name": "stderr",
     "output_type": "stream",
     "text": [
      "GetHeadVal: Missing Configuration\n",
      "GetHeadVal: Missing Configuration\n",
      "GetHeadVal: Missing Configuration\n",
      "GetHeadVal: Missing Configuration\n"
     ]
    },
    {
     "name": "stdout",
     "output_type": "stream",
     "text": [
      "\n",
      "207 dark_190504_AD-135_100s.fit\n",
      "\n",
      "208 dark_190504_AD-136_100s.fit\n"
     ]
    },
    {
     "name": "stderr",
     "output_type": "stream",
     "text": [
      "GetHeadVal: Missing Configuration\n",
      "GetHeadVal: Missing Configuration\n",
      "GetHeadVal: Missing Configuration\n",
      "GetHeadVal: Missing Configuration\n"
     ]
    },
    {
     "name": "stdout",
     "output_type": "stream",
     "text": [
      "\n",
      "209 dark_190504_AD-137_100s.fit\n",
      "\n",
      "210 dark_190504_AD-138_100s.fit\n"
     ]
    },
    {
     "name": "stderr",
     "output_type": "stream",
     "text": [
      "GetHeadVal: Missing Configuration\n",
      "GetHeadVal: Missing Configuration\n",
      "GetHeadVal: Missing Configuration\n",
      "GetHeadVal: Missing Configuration\n"
     ]
    },
    {
     "name": "stdout",
     "output_type": "stream",
     "text": [
      "\n",
      "211 dark_190504_AD-139_100s.fit\n",
      "\n",
      "212 dark_190504_AD-140_100s.fit\n"
     ]
    },
    {
     "name": "stderr",
     "output_type": "stream",
     "text": [
      "GetHeadVal: Missing Configuration\n",
      "GetHeadVal: Missing Configuration\n",
      "GetHeadVal: Missing Configuration\n",
      "GetHeadVal: Missing Configuration\n"
     ]
    },
    {
     "name": "stdout",
     "output_type": "stream",
     "text": [
      "\n",
      "213 dark_190504_AD-141_100s.fit\n",
      "\n",
      "214 dark_190504_AD-142_100s.fit\n"
     ]
    },
    {
     "name": "stderr",
     "output_type": "stream",
     "text": [
      "GetHeadVal: Missing Configuration\n",
      "GetHeadVal: Missing Configuration\n",
      "GetHeadVal: Missing Configuration\n",
      "GetHeadVal: Missing Configuration\n"
     ]
    },
    {
     "name": "stdout",
     "output_type": "stream",
     "text": [
      "\n",
      "215 dark_190504_AD-143_100s.fit\n",
      "\n",
      "216 dark_190504_AD-144_100s.fit\n"
     ]
    },
    {
     "name": "stderr",
     "output_type": "stream",
     "text": [
      "GetHeadVal: Missing Configuration\n",
      "GetHeadVal: Missing Configuration\n",
      "GetHeadVal: Missing Configuration\n",
      "GetHeadVal: Missing Configuration\n"
     ]
    },
    {
     "name": "stdout",
     "output_type": "stream",
     "text": [
      "\n",
      "217 dark_190504_AD-145_100s.fit\n",
      "\n",
      "218 dark_190504_AD-146_100s.fit\n"
     ]
    },
    {
     "name": "stderr",
     "output_type": "stream",
     "text": [
      "GetHeadVal: Missing Configuration\n",
      "GetHeadVal: Missing Configuration\n",
      "GetHeadVal: Missing Configuration\n",
      "GetHeadVal: Missing Configuration\n"
     ]
    },
    {
     "name": "stdout",
     "output_type": "stream",
     "text": [
      "\n",
      "219 dark_190504_AD-147_100s.fit\n",
      "\n",
      "220 dark_190504_AD-148_100s.fit\n"
     ]
    },
    {
     "name": "stderr",
     "output_type": "stream",
     "text": [
      "GetHeadVal: Missing Configuration\n",
      "GetHeadVal: Missing Configuration\n",
      "GetHeadVal: Missing Configuration\n",
      "GetHeadVal: Missing Configuration\n"
     ]
    },
    {
     "name": "stdout",
     "output_type": "stream",
     "text": [
      "\n",
      "221 dark_190504_AD-149_100s.fit\n",
      "\n",
      "222 dark_190504_AD-150_100s.fit\n"
     ]
    },
    {
     "name": "stderr",
     "output_type": "stream",
     "text": [
      "GetHeadVal: Missing Configuration\n",
      "GetHeadVal: Missing Configuration\n",
      "GetHeadVal: Missing Configuration\n",
      "GetHeadVal: Missing Configuration\n"
     ]
    },
    {
     "name": "stdout",
     "output_type": "stream",
     "text": [
      "\n",
      "223 dark_190504_AD-151_100s.fit\n",
      "\n",
      "224 dark_190504_AD-152_100s.fit\n"
     ]
    },
    {
     "name": "stderr",
     "output_type": "stream",
     "text": [
      "GetHeadVal: Missing Configuration\n",
      "GetHeadVal: Missing Configuration\n",
      "GetHeadVal: Missing Configuration\n",
      "GetHeadVal: Missing Configuration\n"
     ]
    },
    {
     "name": "stdout",
     "output_type": "stream",
     "text": [
      "\n",
      "225 dark_190504_AD-153_100s.fit\n",
      "\n",
      "226 dark_190504_AD-154_100s.fit\n"
     ]
    },
    {
     "name": "stderr",
     "output_type": "stream",
     "text": [
      "GetHeadVal: Missing Configuration\n",
      "GetHeadVal: Missing Configuration\n",
      "GetHeadVal: Missing Configuration\n",
      "GetHeadVal: Missing Configuration\n"
     ]
    },
    {
     "name": "stdout",
     "output_type": "stream",
     "text": [
      "\n",
      "227 dark_190504_AD-155_100s.fit\n",
      "\n",
      "228 dark_190504_AD-156_100s.fit\n"
     ]
    },
    {
     "name": "stderr",
     "output_type": "stream",
     "text": [
      "GetHeadVal: Missing Configuration\n",
      "GetHeadVal: Missing Configuration\n",
      "GetHeadVal: Missing Configuration\n",
      "GetHeadVal: Missing Configuration\n"
     ]
    },
    {
     "name": "stdout",
     "output_type": "stream",
     "text": [
      "\n",
      "229 dark_190504_AD-157_100s.fit\n",
      "\n",
      "230 dark_190504_AD-158_100s.fit\n"
     ]
    },
    {
     "name": "stderr",
     "output_type": "stream",
     "text": [
      "GetHeadVal: Missing Configuration\n",
      "GetHeadVal: Missing Configuration\n",
      "GetHeadVal: Missing Configuration\n",
      "GetHeadVal: Missing Configuration\n"
     ]
    },
    {
     "name": "stdout",
     "output_type": "stream",
     "text": [
      "\n",
      "231 dark_190504_AD-159_100s.fit\n",
      "\n",
      "232 dark_190504_AD-160_100s.fit\n"
     ]
    },
    {
     "name": "stderr",
     "output_type": "stream",
     "text": [
      "GetHeadVal: Missing Configuration\n",
      "GetHeadVal: Missing Configuration\n",
      "GetHeadVal: Missing Configuration\n",
      "GetHeadVal: Missing Configuration\n"
     ]
    },
    {
     "name": "stdout",
     "output_type": "stream",
     "text": [
      "\n",
      "233 dark_190504_AD-161_100s.fit\n",
      "\n",
      "234 dark_190504_AD-162_100s.fit\n"
     ]
    },
    {
     "name": "stderr",
     "output_type": "stream",
     "text": [
      "GetHeadVal: Missing Configuration\n",
      "GetHeadVal: Missing Configuration\n",
      "GetHeadVal: Missing Configuration\n",
      "GetHeadVal: Missing Configuration\n"
     ]
    },
    {
     "name": "stdout",
     "output_type": "stream",
     "text": [
      "\n",
      "235 dark_190504_AD-163_100s.fit\n",
      "\n",
      "236 dark_190504_AD-164_100s.fit\n"
     ]
    },
    {
     "name": "stderr",
     "output_type": "stream",
     "text": [
      "GetHeadVal: Missing Configuration\n",
      "GetHeadVal: Missing Configuration\n",
      "GetHeadVal: Missing Configuration\n",
      "GetHeadVal: Missing Configuration\n"
     ]
    },
    {
     "name": "stdout",
     "output_type": "stream",
     "text": [
      "\n",
      "237 dark_190504_AD-165_100s.fit\n",
      "\n",
      "238 dark_190504_AD-166_100s.fit\n"
     ]
    },
    {
     "name": "stderr",
     "output_type": "stream",
     "text": [
      "GetHeadVal: Missing Configuration\n",
      "GetHeadVal: Missing Configuration\n",
      "GetHeadVal: Missing Configuration\n",
      "GetHeadVal: Missing Configuration\n"
     ]
    },
    {
     "name": "stdout",
     "output_type": "stream",
     "text": [
      "\n",
      "239 dark_190504_AD-167_100s.fit\n",
      "\n",
      "240 dark_190504_AD-168_100s.fit\n"
     ]
    },
    {
     "name": "stderr",
     "output_type": "stream",
     "text": [
      "GetHeadVal: Missing Configuration\n",
      "GetHeadVal: Missing Configuration\n",
      "GetHeadVal: Missing Configuration\n",
      "GetHeadVal: Missing Configuration\n"
     ]
    },
    {
     "name": "stdout",
     "output_type": "stream",
     "text": [
      "\n",
      "241 dark_190504_AD-169_100s.fit\n",
      "\n",
      "242 dark_190504_AD-170_100s.fit\n"
     ]
    },
    {
     "name": "stderr",
     "output_type": "stream",
     "text": [
      "GetHeadVal: Missing Configuration\n",
      "GetHeadVal: Missing Configuration\n",
      "GetHeadVal: Missing Configuration\n",
      "GetHeadVal: Missing Configuration\n"
     ]
    },
    {
     "name": "stdout",
     "output_type": "stream",
     "text": [
      "\n",
      "243 dark_190504_AD-171_100s.fit\n",
      "\n",
      "244 dark_190504_AD-172_100s.fit\n"
     ]
    },
    {
     "name": "stderr",
     "output_type": "stream",
     "text": [
      "GetHeadVal: Missing Configuration\n",
      "GetHeadVal: Missing Configuration\n",
      "GetHeadVal: Missing Configuration\n",
      "GetHeadVal: Missing Configuration\n"
     ]
    },
    {
     "name": "stdout",
     "output_type": "stream",
     "text": [
      "\n",
      "245 dark_190504_AD-173_100s.fit\n",
      "\n",
      "246 dark_190504_AD-174_100s.fit\n"
     ]
    },
    {
     "name": "stderr",
     "output_type": "stream",
     "text": [
      "GetHeadVal: Missing Configuration\n",
      "GetHeadVal: Missing Configuration\n",
      "GetHeadVal: Missing Configuration\n",
      "GetHeadVal: Missing Configuration\n"
     ]
    },
    {
     "name": "stdout",
     "output_type": "stream",
     "text": [
      "\n",
      "247 dark_190504_AD-175_100s.fit\n",
      "\n",
      "248 dark_190504_AD-176_100s.fit\n"
     ]
    },
    {
     "name": "stderr",
     "output_type": "stream",
     "text": [
      "GetHeadVal: Missing Configuration\n",
      "GetHeadVal: Missing Configuration\n",
      "GetHeadVal: Missing Configuration\n",
      "GetHeadVal: Missing Configuration\n"
     ]
    },
    {
     "name": "stdout",
     "output_type": "stream",
     "text": [
      "\n",
      "249 dark_190504_AD-177_100s.fit\n",
      "\n",
      "250 dark_190504_AD-178_100s.fit\n"
     ]
    },
    {
     "name": "stderr",
     "output_type": "stream",
     "text": [
      "GetHeadVal: Missing Configuration\n",
      "GetHeadVal: Missing Configuration\n",
      "GetHeadVal: Missing Configuration\n",
      "GetHeadVal: Missing Configuration\n"
     ]
    },
    {
     "name": "stdout",
     "output_type": "stream",
     "text": [
      "\n",
      "251 dark_190504_AD-179_100s.fit\n",
      "\n",
      "252 dark_190504_AD-180_100s.fit\n"
     ]
    },
    {
     "name": "stderr",
     "output_type": "stream",
     "text": [
      "GetHeadVal: Missing Configuration\n",
      "GetHeadVal: Missing Configuration\n",
      "GetHeadVal: Missing Configuration\n",
      "GetHeadVal: Missing Configuration\n"
     ]
    },
    {
     "name": "stdout",
     "output_type": "stream",
     "text": [
      "\n",
      "253 dark_190504_AD-181_100s.fit\n",
      "\n",
      "254 dark_190504_AD-182_100s.fit\n"
     ]
    },
    {
     "name": "stderr",
     "output_type": "stream",
     "text": [
      "GetHeadVal: Missing Configuration\n",
      "GetHeadVal: Missing Configuration\n",
      "GetHeadVal: Missing Configuration\n",
      "GetHeadVal: Missing Configuration\n"
     ]
    },
    {
     "name": "stdout",
     "output_type": "stream",
     "text": [
      "\n",
      "255 dark_190504_AD-183_100s.fit\n",
      "\n",
      "256 dark_190504_AD-184_100s.fit\n"
     ]
    },
    {
     "name": "stderr",
     "output_type": "stream",
     "text": [
      "GetHeadVal: Missing Configuration\n",
      "GetHeadVal: Missing Configuration\n",
      "GetHeadVal: Missing Configuration\n",
      "GetHeadVal: Missing Configuration\n"
     ]
    },
    {
     "name": "stdout",
     "output_type": "stream",
     "text": [
      "\n",
      "257 dark_190504_AD-185_100s.fit\n",
      "\n",
      "258 dark_190504_AD-186_100s.fit\n"
     ]
    },
    {
     "name": "stderr",
     "output_type": "stream",
     "text": [
      "GetHeadVal: Missing Configuration\n",
      "GetHeadVal: Missing Configuration\n",
      "GetHeadVal: Missing Configuration\n",
      "GetHeadVal: Missing Configuration\n"
     ]
    },
    {
     "name": "stdout",
     "output_type": "stream",
     "text": [
      "\n",
      "259 dark_190504_AD-187_100s.fit\n",
      "\n",
      "260 dark_190504_AD-188_100s.fit\n"
     ]
    },
    {
     "name": "stderr",
     "output_type": "stream",
     "text": [
      "GetHeadVal: Missing Configuration\n",
      "GetHeadVal: Missing Configuration\n",
      "GetHeadVal: Missing Configuration\n",
      "GetHeadVal: Missing Configuration\n"
     ]
    },
    {
     "name": "stdout",
     "output_type": "stream",
     "text": [
      "\n",
      "261 dark_190504_AD-189_100s.fit\n",
      "\n",
      "262 dark_190504_AD-190_100s.fit\n"
     ]
    },
    {
     "name": "stderr",
     "output_type": "stream",
     "text": [
      "GetHeadVal: Missing Configuration\n",
      "GetHeadVal: Missing Configuration\n",
      "GetHeadVal: Missing Configuration\n",
      "GetHeadVal: Missing Configuration\n"
     ]
    },
    {
     "name": "stdout",
     "output_type": "stream",
     "text": [
      "\n",
      "263 dark_190504_AD-191_100s.fit\n",
      "\n",
      "264 dark_190504_AD-192_100s.fit\n"
     ]
    },
    {
     "name": "stderr",
     "output_type": "stream",
     "text": [
      "GetHeadVal: Missing Configuration\n",
      "GetHeadVal: Missing Configuration\n",
      "GetHeadVal: Missing Configuration\n",
      "GetHeadVal: Missing Configuration\n"
     ]
    },
    {
     "name": "stdout",
     "output_type": "stream",
     "text": [
      "\n",
      "265 dark_190504_AD-193_100s.fit\n",
      "\n",
      "266 dark_190504_AD-194_100s.fit\n"
     ]
    },
    {
     "name": "stderr",
     "output_type": "stream",
     "text": [
      "GetHeadVal: Missing Configuration\n",
      "GetHeadVal: Missing Configuration\n",
      "GetHeadVal: Missing Configuration\n",
      "GetHeadVal: Missing Configuration\n"
     ]
    },
    {
     "name": "stdout",
     "output_type": "stream",
     "text": [
      "\n",
      "267 dark_190504_AD-195_100s.fit\n",
      "\n",
      "268 dark_190504_AD-196_100s.fit\n"
     ]
    },
    {
     "name": "stderr",
     "output_type": "stream",
     "text": [
      "GetHeadVal: Missing Configuration\n",
      "GetHeadVal: Missing Configuration\n",
      "GetHeadVal: Missing Configuration\n",
      "GetHeadVal: Missing Configuration\n"
     ]
    },
    {
     "name": "stdout",
     "output_type": "stream",
     "text": [
      "\n",
      "269 dark_190504_AD-197_100s.fit\n",
      "\n",
      "270 dark_190504_AD-198_100s.fit\n"
     ]
    },
    {
     "name": "stderr",
     "output_type": "stream",
     "text": [
      "GetHeadVal: Missing Configuration\n",
      "GetHeadVal: Missing Configuration\n"
     ]
    },
    {
     "name": "stdout",
     "output_type": "stream",
     "text": [
      "\n",
      "271 dark_190504_AD-199_100s.fit\n",
      "\n",
      "272 dark_190504_AD-200_100s.fit\n"
     ]
    }
   ],
   "source": [
    "#100s\n",
    "\n",
    "whichpath = datapath\n",
    "\n",
    "somefiles = [f for f in os.listdir(whichpath) if '.fit' in f and '_100s' in f and'stack' not in f]\n",
    "\n",
    "somefiles = sorted(somefiles)       ## This is necessary on my Mac, may not be for others?\n",
    "\n",
    "\n",
    "acceptlist = True             # True if you want to accept all the files in somefiles.\n",
    "contiguous = True             # True if you want to accept a contiguous subset of somefiles.\n",
    "startfile, endfile = 5,9      # The first and last files in a contiquous subset.\n",
    "flist = [0,3,4,5,6,7,8]        # An explicit list of the files you want to accept.\n",
    "\n",
    "\n",
    "n100image, n100headlist, n100rows, n100cols, n100median, n100imad = stackfits(datapath,somefiles)\n",
    "\n",
    "\n",
    "n100stackarray = n100image\n",
    "\n",
    "n100stackarray_std = np.std(n100stackarray, axis=0)\n",
    "\n",
    "n100img_global_std = np.median(n100stackarray_std)\n",
    "\n",
    "n100noisy_pixels = n100stackarray_std > n100img_global_std*1.8\n",
    "\n",
    "\n",
    "n100locs = np.array(np.where(n100noisy_pixels == True))\n",
    "npix_100s = np.zeros((1019,1019)) \n",
    "for i in range(1019): #1024\n",
    "    for j in range(1019): #1024\n",
    "        if n100noisy_pixels[i,j] == True and j > 5:\n",
    "            npix_100s[i,j] = 1"
   ]
  },
  {
   "cell_type": "code",
   "execution_count": 15,
   "metadata": {},
   "outputs": [
    {
     "name": "stderr",
     "output_type": "stream",
     "text": [
      "GetHeadVal: Missing Configuration\n",
      "GetHeadVal: Missing Configuration\n",
      "GetHeadVal: Missing Configuration\n",
      "GetHeadVal: Missing Configuration\n"
     ]
    },
    {
     "name": "stdout",
     "output_type": "stream",
     "text": [
      "rows = 1024    cols = 1024\n",
      "image.shape = (273, 1024, 1024)\n",
      "\n",
      "0 dark_190504_AB-001_180s.fit\n"
     ]
    },
    {
     "name": "stderr",
     "output_type": "stream",
     "text": [
      "GetHeadVal: Missing Configuration\n",
      "GetHeadVal: Missing Configuration\n",
      "GetHeadVal: Missing Configuration\n",
      "GetHeadVal: Missing Configuration\n"
     ]
    },
    {
     "name": "stdout",
     "output_type": "stream",
     "text": [
      "\n",
      "1 dark_190504_AB-002_180s.fit\n",
      "\n",
      "2 dark_190504_AB-003_180s.fit\n"
     ]
    },
    {
     "name": "stderr",
     "output_type": "stream",
     "text": [
      "GetHeadVal: Missing Configuration\n",
      "GetHeadVal: Missing Configuration\n",
      "GetHeadVal: Missing Configuration\n",
      "GetHeadVal: Missing Configuration\n"
     ]
    },
    {
     "name": "stdout",
     "output_type": "stream",
     "text": [
      "\n",
      "3 dark_190504_AB-004_180s.fit\n",
      "\n",
      "4 dark_190504_AB-005_180s.fit\n"
     ]
    },
    {
     "name": "stderr",
     "output_type": "stream",
     "text": [
      "GetHeadVal: Missing Configuration\n",
      "GetHeadVal: Missing Configuration\n",
      "GetHeadVal: Missing Configuration\n",
      "GetHeadVal: Missing Configuration\n"
     ]
    },
    {
     "name": "stdout",
     "output_type": "stream",
     "text": [
      "\n",
      "5 dark_190504_AB-006_180s.fit\n",
      "\n",
      "6 dark_190504_AB-007_180s.fit\n"
     ]
    },
    {
     "name": "stderr",
     "output_type": "stream",
     "text": [
      "GetHeadVal: Missing Configuration\n",
      "GetHeadVal: Missing Configuration\n",
      "GetHeadVal: Missing Configuration\n",
      "GetHeadVal: Missing Configuration\n"
     ]
    },
    {
     "name": "stdout",
     "output_type": "stream",
     "text": [
      "\n",
      "7 dark_190504_AB-008_180s.fit\n",
      "\n",
      "8 dark_190504_AB-009_180s.fit\n"
     ]
    },
    {
     "name": "stderr",
     "output_type": "stream",
     "text": [
      "GetHeadVal: Missing Configuration\n",
      "GetHeadVal: Missing Configuration\n",
      "GetHeadVal: Missing Configuration\n"
     ]
    },
    {
     "name": "stdout",
     "output_type": "stream",
     "text": [
      "\n",
      "9 dark_190504_AB-010_180s.fit\n",
      "\n",
      "10 dark_190504_AB-011_180s.fit\n"
     ]
    },
    {
     "name": "stderr",
     "output_type": "stream",
     "text": [
      "GetHeadVal: Missing Configuration\n",
      "GetHeadVal: Missing Configuration\n",
      "GetHeadVal: Missing Configuration\n"
     ]
    },
    {
     "name": "stdout",
     "output_type": "stream",
     "text": [
      "\n",
      "11 dark_190504_AB-012_180s.fit\n",
      "\n",
      "12 dark_190504_AB-013_180s.fit\n"
     ]
    },
    {
     "name": "stderr",
     "output_type": "stream",
     "text": [
      "GetHeadVal: Missing Configuration\n",
      "GetHeadVal: Missing Configuration\n",
      "GetHeadVal: Missing Configuration\n",
      "GetHeadVal: Missing Configuration\n"
     ]
    },
    {
     "name": "stdout",
     "output_type": "stream",
     "text": [
      "\n",
      "13 dark_190504_AB-014_180s.fit\n"
     ]
    },
    {
     "name": "stderr",
     "output_type": "stream",
     "text": [
      "GetHeadVal: Missing Configuration\n",
      "GetHeadVal: Missing Configuration\n"
     ]
    },
    {
     "name": "stdout",
     "output_type": "stream",
     "text": [
      "\n",
      "14 dark_190504_AB-015_180s.fit\n",
      "\n",
      "15 dark_190504_AB-016_180s.fit\n"
     ]
    },
    {
     "name": "stderr",
     "output_type": "stream",
     "text": [
      "GetHeadVal: Missing Configuration\n",
      "GetHeadVal: Missing Configuration\n",
      "GetHeadVal: Missing Configuration\n",
      "GetHeadVal: Missing Configuration\n",
      "GetHeadVal: Missing Configuration\n",
      "GetHeadVal: Missing Configuration\n"
     ]
    },
    {
     "name": "stdout",
     "output_type": "stream",
     "text": [
      "\n",
      "16 dark_190504_AB-017_180s.fit\n",
      "\n",
      "17 dark_190504_AB-018_180s.fit\n"
     ]
    },
    {
     "name": "stderr",
     "output_type": "stream",
     "text": [
      "GetHeadVal: Missing Configuration\n",
      "GetHeadVal: Missing Configuration\n",
      "GetHeadVal: Missing Configuration\n",
      "GetHeadVal: Missing Configuration\n"
     ]
    },
    {
     "name": "stdout",
     "output_type": "stream",
     "text": [
      "\n",
      "18 dark_190504_AB-019_180s.fit\n",
      "\n",
      "19 dark_190504_AB-020_180s.fit\n"
     ]
    },
    {
     "name": "stderr",
     "output_type": "stream",
     "text": [
      "GetHeadVal: Missing Configuration\n",
      "GetHeadVal: Missing Configuration\n",
      "GetHeadVal: Missing Configuration\n",
      "GetHeadVal: Missing Configuration\n"
     ]
    },
    {
     "name": "stdout",
     "output_type": "stream",
     "text": [
      "\n",
      "20 dark_190504_AB-021_180s.fit\n",
      "\n",
      "21 dark_190504_AB-022_180s.fit\n"
     ]
    },
    {
     "name": "stderr",
     "output_type": "stream",
     "text": [
      "GetHeadVal: Missing Configuration\n",
      "GetHeadVal: Missing Configuration\n",
      "GetHeadVal: Missing Configuration\n",
      "GetHeadVal: Missing Configuration\n"
     ]
    },
    {
     "name": "stdout",
     "output_type": "stream",
     "text": [
      "\n",
      "22 dark_190504_AB-023_180s.fit\n",
      "\n",
      "23 dark_190504_AB-024_180s.fit\n"
     ]
    },
    {
     "name": "stderr",
     "output_type": "stream",
     "text": [
      "GetHeadVal: Missing Configuration\n",
      "GetHeadVal: Missing Configuration\n"
     ]
    },
    {
     "name": "stdout",
     "output_type": "stream",
     "text": [
      "\n",
      "24 dark_190504_AB-025_180s.fit\n",
      "\n",
      "25 dark_190504_AB-026_180s.fit\n"
     ]
    },
    {
     "name": "stderr",
     "output_type": "stream",
     "text": [
      "GetHeadVal: Missing Configuration\n",
      "GetHeadVal: Missing Configuration\n",
      "GetHeadVal: Missing Configuration\n",
      "GetHeadVal: Missing Configuration\n"
     ]
    },
    {
     "name": "stdout",
     "output_type": "stream",
     "text": [
      "\n",
      "26 dark_190504_AB-027_180s.fit\n"
     ]
    },
    {
     "name": "stderr",
     "output_type": "stream",
     "text": [
      "GetHeadVal: Missing Configuration\n",
      "GetHeadVal: Missing Configuration\n"
     ]
    },
    {
     "name": "stdout",
     "output_type": "stream",
     "text": [
      "\n",
      "27 dark_190504_AB-028_180s.fit\n"
     ]
    },
    {
     "name": "stderr",
     "output_type": "stream",
     "text": [
      "GetHeadVal: Missing Configuration\n",
      "GetHeadVal: Missing Configuration\n"
     ]
    },
    {
     "name": "stdout",
     "output_type": "stream",
     "text": [
      "\n",
      "28 dark_190504_AB-029_180s.fit\n",
      "\n",
      "29 dark_190504_AB-030_180s.fit\n"
     ]
    },
    {
     "name": "stderr",
     "output_type": "stream",
     "text": [
      "GetHeadVal: Missing Configuration\n",
      "GetHeadVal: Missing Configuration\n",
      "GetHeadVal: Missing Configuration\n",
      "GetHeadVal: Missing Configuration\n",
      "GetHeadVal: Missing Configuration\n",
      "GetHeadVal: Missing Configuration\n"
     ]
    },
    {
     "name": "stdout",
     "output_type": "stream",
     "text": [
      "\n",
      "30 dark_190504_AB-031_180s.fit\n",
      "\n",
      "31 dark_190504_AB-032_180s.fit\n"
     ]
    },
    {
     "name": "stderr",
     "output_type": "stream",
     "text": [
      "GetHeadVal: Missing Configuration\n",
      "GetHeadVal: Missing Configuration\n"
     ]
    },
    {
     "name": "stdout",
     "output_type": "stream",
     "text": [
      "\n",
      "32 dark_190504_AB-033_180s.fit\n",
      "\n",
      "33 dark_190504_AB-034_180s.fit\n"
     ]
    },
    {
     "name": "stderr",
     "output_type": "stream",
     "text": [
      "GetHeadVal: Missing Configuration\n",
      "GetHeadVal: Missing Configuration\n",
      "GetHeadVal: Missing Configuration\n",
      "GetHeadVal: Missing Configuration\n"
     ]
    },
    {
     "name": "stdout",
     "output_type": "stream",
     "text": [
      "\n",
      "34 dark_190504_AB-035_180s.fit\n",
      "\n",
      "35 dark_190504_AB-036_180s.fit\n"
     ]
    },
    {
     "name": "stderr",
     "output_type": "stream",
     "text": [
      "GetHeadVal: Missing Configuration\n",
      "GetHeadVal: Missing Configuration\n",
      "GetHeadVal: Missing Configuration\n",
      "GetHeadVal: Missing Configuration\n"
     ]
    },
    {
     "name": "stdout",
     "output_type": "stream",
     "text": [
      "\n",
      "36 dark_190504_AB-037_180s.fit\n"
     ]
    },
    {
     "name": "stderr",
     "output_type": "stream",
     "text": [
      "GetHeadVal: Missing Configuration\n",
      "GetHeadVal: Missing Configuration\n",
      "GetHeadVal: Missing Configuration\n",
      "GetHeadVal: Missing Configuration\n"
     ]
    },
    {
     "name": "stdout",
     "output_type": "stream",
     "text": [
      "\n",
      "37 dark_190504_AB-038_180s.fit\n",
      "\n",
      "38 dark_190504_AB-039_180s.fit\n"
     ]
    },
    {
     "name": "stderr",
     "output_type": "stream",
     "text": [
      "GetHeadVal: Missing Configuration\n",
      "GetHeadVal: Missing Configuration\n",
      "GetHeadVal: Missing Configuration\n",
      "GetHeadVal: Missing Configuration\n"
     ]
    },
    {
     "name": "stdout",
     "output_type": "stream",
     "text": [
      "\n",
      "39 dark_190504_AB-040_180s.fit\n",
      "\n",
      "40 dark_190504_AB-041_180s.fit\n"
     ]
    },
    {
     "name": "stderr",
     "output_type": "stream",
     "text": [
      "GetHeadVal: Missing Configuration\n",
      "GetHeadVal: Missing Configuration\n",
      "GetHeadVal: Missing Configuration\n",
      "GetHeadVal: Missing Configuration\n"
     ]
    },
    {
     "name": "stdout",
     "output_type": "stream",
     "text": [
      "\n",
      "41 dark_190504_AB-042_180s.fit\n",
      "\n",
      "42 dark_190504_AB-043_180s.fit\n"
     ]
    },
    {
     "name": "stderr",
     "output_type": "stream",
     "text": [
      "GetHeadVal: Missing Configuration\n",
      "GetHeadVal: Missing Configuration\n",
      "GetHeadVal: Missing Configuration\n",
      "GetHeadVal: Missing Configuration\n"
     ]
    },
    {
     "name": "stdout",
     "output_type": "stream",
     "text": [
      "\n",
      "43 dark_190504_AB-044_180s.fit\n",
      "\n",
      "44 dark_190504_AB-045_180s.fit\n"
     ]
    },
    {
     "name": "stderr",
     "output_type": "stream",
     "text": [
      "GetHeadVal: Missing Configuration\n",
      "GetHeadVal: Missing Configuration\n",
      "GetHeadVal: Missing Configuration\n",
      "GetHeadVal: Missing Configuration\n"
     ]
    },
    {
     "name": "stdout",
     "output_type": "stream",
     "text": [
      "\n",
      "45 dark_190504_AB-046_180s.fit\n",
      "\n",
      "46 dark_190504_AB-047_180s.fit\n"
     ]
    },
    {
     "name": "stderr",
     "output_type": "stream",
     "text": [
      "GetHeadVal: Missing Configuration\n",
      "GetHeadVal: Missing Configuration\n",
      "GetHeadVal: Missing Configuration\n",
      "GetHeadVal: Missing Configuration\n"
     ]
    },
    {
     "name": "stdout",
     "output_type": "stream",
     "text": [
      "\n",
      "47 dark_190504_AB-048_180s.fit\n",
      "\n",
      "48 dark_190504_AB-049_180s.fit\n"
     ]
    },
    {
     "name": "stderr",
     "output_type": "stream",
     "text": [
      "GetHeadVal: Missing Configuration\n",
      "GetHeadVal: Missing Configuration\n",
      "GetHeadVal: Missing Configuration\n",
      "GetHeadVal: Missing Configuration\n"
     ]
    },
    {
     "name": "stdout",
     "output_type": "stream",
     "text": [
      "\n",
      "49 dark_190504_AB-050_180s.fit\n",
      "\n",
      "50 dark_190504_AC-001_180s.fit\n"
     ]
    },
    {
     "name": "stderr",
     "output_type": "stream",
     "text": [
      "GetHeadVal: Missing Configuration\n",
      "GetHeadVal: Missing Configuration\n",
      "GetHeadVal: Missing Configuration\n",
      "GetHeadVal: Missing Configuration\n"
     ]
    },
    {
     "name": "stdout",
     "output_type": "stream",
     "text": [
      "\n",
      "51 dark_190504_AC-002_180s.fit\n",
      "\n",
      "52 dark_190504_AC-003_180s.fit\n"
     ]
    },
    {
     "name": "stderr",
     "output_type": "stream",
     "text": [
      "GetHeadVal: Missing Configuration\n",
      "GetHeadVal: Missing Configuration\n",
      "GetHeadVal: Missing Configuration\n",
      "GetHeadVal: Missing Configuration\n"
     ]
    },
    {
     "name": "stdout",
     "output_type": "stream",
     "text": [
      "\n",
      "53 dark_190504_AC-004_180s.fit\n",
      "\n",
      "54 dark_190504_AC-005_180s.fit\n"
     ]
    },
    {
     "name": "stderr",
     "output_type": "stream",
     "text": [
      "GetHeadVal: Missing Configuration\n",
      "GetHeadVal: Missing Configuration\n",
      "GetHeadVal: Missing Configuration\n",
      "GetHeadVal: Missing Configuration\n"
     ]
    },
    {
     "name": "stdout",
     "output_type": "stream",
     "text": [
      "\n",
      "55 dark_190504_AC-006_180s.fit\n",
      "\n",
      "56 dark_190504_AC-007_180s.fit\n"
     ]
    },
    {
     "name": "stderr",
     "output_type": "stream",
     "text": [
      "GetHeadVal: Missing Configuration\n",
      "GetHeadVal: Missing Configuration\n",
      "GetHeadVal: Missing Configuration\n",
      "GetHeadVal: Missing Configuration\n"
     ]
    },
    {
     "name": "stdout",
     "output_type": "stream",
     "text": [
      "\n",
      "57 dark_190504_AC-008_180s.fit\n",
      "\n",
      "58 dark_190504_AC-009_180s.fit\n"
     ]
    },
    {
     "name": "stderr",
     "output_type": "stream",
     "text": [
      "GetHeadVal: Missing Configuration\n",
      "GetHeadVal: Missing Configuration\n",
      "GetHeadVal: Missing Configuration\n",
      "GetHeadVal: Missing Configuration\n"
     ]
    },
    {
     "name": "stdout",
     "output_type": "stream",
     "text": [
      "\n",
      "59 dark_190504_AC-010_180s.fit\n",
      "\n",
      "60 dark_190504_AC-011_180s.fit\n"
     ]
    },
    {
     "name": "stderr",
     "output_type": "stream",
     "text": [
      "GetHeadVal: Missing Configuration\n",
      "GetHeadVal: Missing Configuration\n",
      "GetHeadVal: Missing Configuration\n",
      "GetHeadVal: Missing Configuration\n"
     ]
    },
    {
     "name": "stdout",
     "output_type": "stream",
     "text": [
      "\n",
      "61 dark_190504_AC-012_180s.fit\n",
      "\n",
      "62 dark_190504_AC-013_180s.fit\n"
     ]
    },
    {
     "name": "stderr",
     "output_type": "stream",
     "text": [
      "GetHeadVal: Missing Configuration\n",
      "GetHeadVal: Missing Configuration\n",
      "GetHeadVal: Missing Configuration\n",
      "GetHeadVal: Missing Configuration\n"
     ]
    },
    {
     "name": "stdout",
     "output_type": "stream",
     "text": [
      "\n",
      "63 dark_190504_AC-014_180s.fit\n",
      "\n",
      "64 dark_190504_AC-015_180s.fit\n"
     ]
    },
    {
     "name": "stderr",
     "output_type": "stream",
     "text": [
      "GetHeadVal: Missing Configuration\n",
      "GetHeadVal: Missing Configuration\n",
      "GetHeadVal: Missing Configuration\n",
      "GetHeadVal: Missing Configuration\n"
     ]
    },
    {
     "name": "stdout",
     "output_type": "stream",
     "text": [
      "\n",
      "65 dark_190504_AC-016_180s.fit\n",
      "\n",
      "66 dark_190504_AC-017_180s.fit\n"
     ]
    },
    {
     "name": "stderr",
     "output_type": "stream",
     "text": [
      "GetHeadVal: Missing Configuration\n",
      "GetHeadVal: Missing Configuration\n",
      "GetHeadVal: Missing Configuration\n",
      "GetHeadVal: Missing Configuration\n"
     ]
    },
    {
     "name": "stdout",
     "output_type": "stream",
     "text": [
      "\n",
      "67 dark_190504_AC-018_180s.fit\n",
      "\n",
      "68 dark_190504_AC-019_180s.fit\n"
     ]
    },
    {
     "name": "stderr",
     "output_type": "stream",
     "text": [
      "GetHeadVal: Missing Configuration\n",
      "GetHeadVal: Missing Configuration\n",
      "GetHeadVal: Missing Configuration\n",
      "GetHeadVal: Missing Configuration\n"
     ]
    },
    {
     "name": "stdout",
     "output_type": "stream",
     "text": [
      "\n",
      "69 dark_190504_AC-020_180s.fit\n",
      "\n",
      "70 dark_190504_AC-021_180s.fit\n"
     ]
    },
    {
     "name": "stderr",
     "output_type": "stream",
     "text": [
      "GetHeadVal: Missing Configuration\n",
      "GetHeadVal: Missing Configuration\n",
      "GetHeadVal: Missing Configuration\n",
      "GetHeadVal: Missing Configuration\n"
     ]
    },
    {
     "name": "stdout",
     "output_type": "stream",
     "text": [
      "\n",
      "71 dark_190504_AC-022_180s.fit\n",
      "\n",
      "72 dark_190504_AC-023_180s.fit\n"
     ]
    },
    {
     "name": "stderr",
     "output_type": "stream",
     "text": [
      "GetHeadVal: Missing Configuration\n",
      "GetHeadVal: Missing Configuration\n",
      "GetHeadVal: Missing Configuration\n",
      "GetHeadVal: Missing Configuration\n"
     ]
    },
    {
     "name": "stdout",
     "output_type": "stream",
     "text": [
      "\n",
      "73 dark_190504_AC-024_180s.fit\n",
      "\n",
      "74 dark_190504_AD-001_180s.fit\n"
     ]
    },
    {
     "name": "stderr",
     "output_type": "stream",
     "text": [
      "GetHeadVal: Missing Configuration\n",
      "GetHeadVal: Missing Configuration\n",
      "GetHeadVal: Missing Configuration\n",
      "GetHeadVal: Missing Configuration\n"
     ]
    },
    {
     "name": "stdout",
     "output_type": "stream",
     "text": [
      "\n",
      "75 dark_190504_AD-002_180s.fit\n",
      "\n",
      "76 dark_190504_AD-003_180s.fit\n"
     ]
    },
    {
     "name": "stderr",
     "output_type": "stream",
     "text": [
      "GetHeadVal: Missing Configuration\n",
      "GetHeadVal: Missing Configuration\n",
      "GetHeadVal: Missing Configuration\n",
      "GetHeadVal: Missing Configuration\n"
     ]
    },
    {
     "name": "stdout",
     "output_type": "stream",
     "text": [
      "\n",
      "77 dark_190504_AD-004_180s.fit\n",
      "\n",
      "78 dark_190504_AD-005_180s.fit\n"
     ]
    },
    {
     "name": "stderr",
     "output_type": "stream",
     "text": [
      "GetHeadVal: Missing Configuration\n",
      "GetHeadVal: Missing Configuration\n",
      "GetHeadVal: Missing Configuration\n",
      "GetHeadVal: Missing Configuration\n"
     ]
    },
    {
     "name": "stdout",
     "output_type": "stream",
     "text": [
      "\n",
      "79 dark_190504_AD-006_180s.fit\n",
      "\n",
      "80 dark_190504_AD-007_180s.fit\n"
     ]
    },
    {
     "name": "stderr",
     "output_type": "stream",
     "text": [
      "GetHeadVal: Missing Configuration\n",
      "GetHeadVal: Missing Configuration\n",
      "GetHeadVal: Missing Configuration\n",
      "GetHeadVal: Missing Configuration\n"
     ]
    },
    {
     "name": "stdout",
     "output_type": "stream",
     "text": [
      "\n",
      "81 dark_190504_AD-008_180s.fit\n",
      "\n",
      "82 dark_190504_AD-009_180s.fit\n"
     ]
    },
    {
     "name": "stderr",
     "output_type": "stream",
     "text": [
      "GetHeadVal: Missing Configuration\n",
      "GetHeadVal: Missing Configuration\n",
      "GetHeadVal: Missing Configuration\n",
      "GetHeadVal: Missing Configuration\n"
     ]
    },
    {
     "name": "stdout",
     "output_type": "stream",
     "text": [
      "\n",
      "83 dark_190504_AD-010_180s.fit\n",
      "\n",
      "84 dark_190504_AD-011_180s.fit\n"
     ]
    },
    {
     "name": "stderr",
     "output_type": "stream",
     "text": [
      "GetHeadVal: Missing Configuration\n",
      "GetHeadVal: Missing Configuration\n",
      "GetHeadVal: Missing Configuration\n",
      "GetHeadVal: Missing Configuration\n"
     ]
    },
    {
     "name": "stdout",
     "output_type": "stream",
     "text": [
      "\n",
      "85 dark_190504_AD-012_180s.fit\n",
      "\n",
      "86 dark_190504_AD-013_180s.fit\n"
     ]
    },
    {
     "name": "stderr",
     "output_type": "stream",
     "text": [
      "GetHeadVal: Missing Configuration\n",
      "GetHeadVal: Missing Configuration\n",
      "GetHeadVal: Missing Configuration\n",
      "GetHeadVal: Missing Configuration\n"
     ]
    },
    {
     "name": "stdout",
     "output_type": "stream",
     "text": [
      "\n",
      "87 dark_190504_AD-014_180s.fit\n",
      "\n",
      "88 dark_190504_AD-015_180s.fit\n"
     ]
    },
    {
     "name": "stderr",
     "output_type": "stream",
     "text": [
      "GetHeadVal: Missing Configuration\n",
      "GetHeadVal: Missing Configuration\n",
      "GetHeadVal: Missing Configuration\n",
      "GetHeadVal: Missing Configuration\n"
     ]
    },
    {
     "name": "stdout",
     "output_type": "stream",
     "text": [
      "\n",
      "89 dark_190504_AD-016_180s.fit\n",
      "\n",
      "90 dark_190504_AD-017_180s.fit\n"
     ]
    },
    {
     "name": "stderr",
     "output_type": "stream",
     "text": [
      "GetHeadVal: Missing Configuration\n",
      "GetHeadVal: Missing Configuration\n",
      "GetHeadVal: Missing Configuration\n",
      "GetHeadVal: Missing Configuration\n"
     ]
    },
    {
     "name": "stdout",
     "output_type": "stream",
     "text": [
      "\n",
      "91 dark_190504_AD-018_180s.fit\n",
      "\n",
      "92 dark_190504_AD-019_180s.fit\n"
     ]
    },
    {
     "name": "stderr",
     "output_type": "stream",
     "text": [
      "GetHeadVal: Missing Configuration\n",
      "GetHeadVal: Missing Configuration\n",
      "GetHeadVal: Missing Configuration\n",
      "GetHeadVal: Missing Configuration\n"
     ]
    },
    {
     "name": "stdout",
     "output_type": "stream",
     "text": [
      "\n",
      "93 dark_190504_AD-020_180s.fit\n",
      "\n",
      "94 dark_190504_AD-021_180s.fit\n"
     ]
    },
    {
     "name": "stderr",
     "output_type": "stream",
     "text": [
      "GetHeadVal: Missing Configuration\n",
      "GetHeadVal: Missing Configuration\n",
      "GetHeadVal: Missing Configuration\n",
      "GetHeadVal: Missing Configuration\n"
     ]
    },
    {
     "name": "stdout",
     "output_type": "stream",
     "text": [
      "\n",
      "95 dark_190504_AD-022_180s.fit\n",
      "\n",
      "96 dark_190504_AD-023_180s.fit\n"
     ]
    },
    {
     "name": "stderr",
     "output_type": "stream",
     "text": [
      "GetHeadVal: Missing Configuration\n",
      "GetHeadVal: Missing Configuration\n",
      "GetHeadVal: Missing Configuration\n",
      "GetHeadVal: Missing Configuration\n"
     ]
    },
    {
     "name": "stdout",
     "output_type": "stream",
     "text": [
      "\n",
      "97 dark_190504_AD-024_180s.fit\n",
      "\n",
      "98 dark_190504_AD-025_180s.fit\n"
     ]
    },
    {
     "name": "stderr",
     "output_type": "stream",
     "text": [
      "GetHeadVal: Missing Configuration\n",
      "GetHeadVal: Missing Configuration\n",
      "GetHeadVal: Missing Configuration\n",
      "GetHeadVal: Missing Configuration\n"
     ]
    },
    {
     "name": "stdout",
     "output_type": "stream",
     "text": [
      "\n",
      "99 dark_190504_AD-026_180s.fit\n",
      "\n",
      "100 dark_190504_AD-027_180s.fit\n"
     ]
    },
    {
     "name": "stderr",
     "output_type": "stream",
     "text": [
      "GetHeadVal: Missing Configuration\n",
      "GetHeadVal: Missing Configuration\n",
      "GetHeadVal: Missing Configuration\n",
      "GetHeadVal: Missing Configuration\n"
     ]
    },
    {
     "name": "stdout",
     "output_type": "stream",
     "text": [
      "\n",
      "101 dark_190504_AD-028_180s.fit\n",
      "\n",
      "102 dark_190504_AD-029_180s.fit\n"
     ]
    },
    {
     "name": "stderr",
     "output_type": "stream",
     "text": [
      "GetHeadVal: Missing Configuration\n",
      "GetHeadVal: Missing Configuration\n",
      "GetHeadVal: Missing Configuration\n",
      "GetHeadVal: Missing Configuration\n"
     ]
    },
    {
     "name": "stdout",
     "output_type": "stream",
     "text": [
      "\n",
      "103 dark_190504_AD-030_180s.fit\n",
      "\n",
      "104 dark_190504_AD-031_180s.fit\n"
     ]
    },
    {
     "name": "stderr",
     "output_type": "stream",
     "text": [
      "GetHeadVal: Missing Configuration\n",
      "GetHeadVal: Missing Configuration\n",
      "GetHeadVal: Missing Configuration\n",
      "GetHeadVal: Missing Configuration\n"
     ]
    },
    {
     "name": "stdout",
     "output_type": "stream",
     "text": [
      "\n",
      "105 dark_190504_AD-032_180s.fit\n",
      "\n",
      "106 dark_190504_AD-033_180s.fit\n"
     ]
    },
    {
     "name": "stderr",
     "output_type": "stream",
     "text": [
      "GetHeadVal: Missing Configuration\n",
      "GetHeadVal: Missing Configuration\n",
      "GetHeadVal: Missing Configuration\n",
      "GetHeadVal: Missing Configuration\n"
     ]
    },
    {
     "name": "stdout",
     "output_type": "stream",
     "text": [
      "\n",
      "107 dark_190504_AD-034_180s.fit\n",
      "\n",
      "108 dark_190504_AD-035_180s.fit\n"
     ]
    },
    {
     "name": "stderr",
     "output_type": "stream",
     "text": [
      "GetHeadVal: Missing Configuration\n",
      "GetHeadVal: Missing Configuration\n",
      "GetHeadVal: Missing Configuration\n",
      "GetHeadVal: Missing Configuration\n"
     ]
    },
    {
     "name": "stdout",
     "output_type": "stream",
     "text": [
      "\n",
      "109 dark_190504_AD-036_180s.fit\n",
      "\n",
      "110 dark_190504_AD-037_180s.fit\n"
     ]
    },
    {
     "name": "stderr",
     "output_type": "stream",
     "text": [
      "GetHeadVal: Missing Configuration\n",
      "GetHeadVal: Missing Configuration\n",
      "GetHeadVal: Missing Configuration\n",
      "GetHeadVal: Missing Configuration\n"
     ]
    },
    {
     "name": "stdout",
     "output_type": "stream",
     "text": [
      "\n",
      "111 dark_190504_AD-038_180s.fit\n",
      "\n",
      "112 dark_190504_AD-039_180s.fit\n"
     ]
    },
    {
     "name": "stderr",
     "output_type": "stream",
     "text": [
      "GetHeadVal: Missing Configuration\n",
      "GetHeadVal: Missing Configuration\n",
      "GetHeadVal: Missing Configuration\n",
      "GetHeadVal: Missing Configuration\n"
     ]
    },
    {
     "name": "stdout",
     "output_type": "stream",
     "text": [
      "\n",
      "113 dark_190504_AD-040_180s.fit\n",
      "\n",
      "114 dark_190504_AD-041_180s.fit\n"
     ]
    },
    {
     "name": "stderr",
     "output_type": "stream",
     "text": [
      "GetHeadVal: Missing Configuration\n",
      "GetHeadVal: Missing Configuration\n",
      "GetHeadVal: Missing Configuration\n",
      "GetHeadVal: Missing Configuration\n"
     ]
    },
    {
     "name": "stdout",
     "output_type": "stream",
     "text": [
      "\n",
      "115 dark_190504_AD-042_180s.fit\n",
      "\n",
      "116 dark_190504_AD-043_180s.fit\n"
     ]
    },
    {
     "name": "stderr",
     "output_type": "stream",
     "text": [
      "GetHeadVal: Missing Configuration\n",
      "GetHeadVal: Missing Configuration\n",
      "GetHeadVal: Missing Configuration\n",
      "GetHeadVal: Missing Configuration\n"
     ]
    },
    {
     "name": "stdout",
     "output_type": "stream",
     "text": [
      "\n",
      "117 dark_190504_AD-044_180s.fit\n",
      "\n",
      "118 dark_190504_AD-045_180s.fit\n"
     ]
    },
    {
     "name": "stderr",
     "output_type": "stream",
     "text": [
      "GetHeadVal: Missing Configuration\n",
      "GetHeadVal: Missing Configuration\n",
      "GetHeadVal: Missing Configuration\n",
      "GetHeadVal: Missing Configuration\n"
     ]
    },
    {
     "name": "stdout",
     "output_type": "stream",
     "text": [
      "\n",
      "119 dark_190504_AD-046_180s.fit\n",
      "\n",
      "120 dark_190504_AD-047_180s.fit\n"
     ]
    },
    {
     "name": "stderr",
     "output_type": "stream",
     "text": [
      "GetHeadVal: Missing Configuration\n",
      "GetHeadVal: Missing Configuration\n",
      "GetHeadVal: Missing Configuration\n",
      "GetHeadVal: Missing Configuration\n"
     ]
    },
    {
     "name": "stdout",
     "output_type": "stream",
     "text": [
      "\n",
      "121 dark_190504_AD-048_180s.fit\n",
      "\n",
      "122 dark_190504_AD-049_180s.fit\n"
     ]
    },
    {
     "name": "stderr",
     "output_type": "stream",
     "text": [
      "GetHeadVal: Missing Configuration\n",
      "GetHeadVal: Missing Configuration\n",
      "GetHeadVal: Missing Configuration\n",
      "GetHeadVal: Missing Configuration\n"
     ]
    },
    {
     "name": "stdout",
     "output_type": "stream",
     "text": [
      "\n",
      "123 dark_190504_AD-050_180s.fit\n",
      "\n",
      "124 dark_190504_AD-051_180s.fit\n"
     ]
    },
    {
     "name": "stderr",
     "output_type": "stream",
     "text": [
      "GetHeadVal: Missing Configuration\n",
      "GetHeadVal: Missing Configuration\n",
      "GetHeadVal: Missing Configuration\n",
      "GetHeadVal: Missing Configuration\n"
     ]
    },
    {
     "name": "stdout",
     "output_type": "stream",
     "text": [
      "\n",
      "125 dark_190504_AD-052_180s.fit\n",
      "\n",
      "126 dark_190504_AD-053_180s.fit\n"
     ]
    },
    {
     "name": "stderr",
     "output_type": "stream",
     "text": [
      "GetHeadVal: Missing Configuration\n",
      "GetHeadVal: Missing Configuration\n",
      "GetHeadVal: Missing Configuration\n",
      "GetHeadVal: Missing Configuration\n"
     ]
    },
    {
     "name": "stdout",
     "output_type": "stream",
     "text": [
      "\n",
      "127 dark_190504_AD-054_180s.fit\n",
      "\n",
      "128 dark_190504_AD-055_180s.fit\n"
     ]
    },
    {
     "name": "stderr",
     "output_type": "stream",
     "text": [
      "GetHeadVal: Missing Configuration\n",
      "GetHeadVal: Missing Configuration\n",
      "GetHeadVal: Missing Configuration\n",
      "GetHeadVal: Missing Configuration\n"
     ]
    },
    {
     "name": "stdout",
     "output_type": "stream",
     "text": [
      "\n",
      "129 dark_190504_AD-056_180s.fit\n",
      "\n",
      "130 dark_190504_AD-057_180s.fit\n"
     ]
    },
    {
     "name": "stderr",
     "output_type": "stream",
     "text": [
      "GetHeadVal: Missing Configuration\n",
      "GetHeadVal: Missing Configuration\n",
      "GetHeadVal: Missing Configuration\n",
      "GetHeadVal: Missing Configuration\n"
     ]
    },
    {
     "name": "stdout",
     "output_type": "stream",
     "text": [
      "\n",
      "131 dark_190504_AD-058_180s.fit\n",
      "\n",
      "132 dark_190504_AD-059_180s.fit\n"
     ]
    },
    {
     "name": "stderr",
     "output_type": "stream",
     "text": [
      "GetHeadVal: Missing Configuration\n",
      "GetHeadVal: Missing Configuration\n",
      "GetHeadVal: Missing Configuration\n",
      "GetHeadVal: Missing Configuration\n"
     ]
    },
    {
     "name": "stdout",
     "output_type": "stream",
     "text": [
      "\n",
      "133 dark_190504_AD-060_180s.fit\n",
      "\n",
      "134 dark_190504_AD-061_180s.fit\n"
     ]
    },
    {
     "name": "stderr",
     "output_type": "stream",
     "text": [
      "GetHeadVal: Missing Configuration\n",
      "GetHeadVal: Missing Configuration\n",
      "GetHeadVal: Missing Configuration\n",
      "GetHeadVal: Missing Configuration\n"
     ]
    },
    {
     "name": "stdout",
     "output_type": "stream",
     "text": [
      "\n",
      "135 dark_190504_AD-062_180s.fit\n",
      "\n",
      "136 dark_190504_AD-063_180s.fit\n"
     ]
    },
    {
     "name": "stderr",
     "output_type": "stream",
     "text": [
      "GetHeadVal: Missing Configuration\n",
      "GetHeadVal: Missing Configuration\n",
      "GetHeadVal: Missing Configuration\n",
      "GetHeadVal: Missing Configuration\n"
     ]
    },
    {
     "name": "stdout",
     "output_type": "stream",
     "text": [
      "\n",
      "137 dark_190504_AD-064_180s.fit\n",
      "\n",
      "138 dark_190504_AD-065_180s.fit\n"
     ]
    },
    {
     "name": "stderr",
     "output_type": "stream",
     "text": [
      "GetHeadVal: Missing Configuration\n",
      "GetHeadVal: Missing Configuration\n",
      "GetHeadVal: Missing Configuration\n",
      "GetHeadVal: Missing Configuration\n"
     ]
    },
    {
     "name": "stdout",
     "output_type": "stream",
     "text": [
      "\n",
      "139 dark_190504_AD-066_180s.fit\n",
      "\n",
      "140 dark_190504_AD-067_180s.fit\n"
     ]
    },
    {
     "name": "stderr",
     "output_type": "stream",
     "text": [
      "GetHeadVal: Missing Configuration\n",
      "GetHeadVal: Missing Configuration\n",
      "GetHeadVal: Missing Configuration\n",
      "GetHeadVal: Missing Configuration\n"
     ]
    },
    {
     "name": "stdout",
     "output_type": "stream",
     "text": [
      "\n",
      "141 dark_190504_AD-068_180s.fit\n",
      "\n",
      "142 dark_190504_AD-069_180s.fit\n"
     ]
    },
    {
     "name": "stderr",
     "output_type": "stream",
     "text": [
      "GetHeadVal: Missing Configuration\n",
      "GetHeadVal: Missing Configuration\n",
      "GetHeadVal: Missing Configuration\n",
      "GetHeadVal: Missing Configuration\n"
     ]
    },
    {
     "name": "stdout",
     "output_type": "stream",
     "text": [
      "\n",
      "143 dark_190504_AD-070_180s.fit\n",
      "\n",
      "144 dark_190504_AD-071_180s.fit\n"
     ]
    },
    {
     "name": "stderr",
     "output_type": "stream",
     "text": [
      "GetHeadVal: Missing Configuration\n",
      "GetHeadVal: Missing Configuration\n",
      "GetHeadVal: Missing Configuration\n",
      "GetHeadVal: Missing Configuration\n"
     ]
    },
    {
     "name": "stdout",
     "output_type": "stream",
     "text": [
      "\n",
      "145 dark_190504_AD-072_180s.fit\n",
      "\n",
      "146 dark_190504_AD-073_180s.fit\n"
     ]
    },
    {
     "name": "stderr",
     "output_type": "stream",
     "text": [
      "GetHeadVal: Missing Configuration\n",
      "GetHeadVal: Missing Configuration\n",
      "GetHeadVal: Missing Configuration\n",
      "GetHeadVal: Missing Configuration\n"
     ]
    },
    {
     "name": "stdout",
     "output_type": "stream",
     "text": [
      "\n",
      "147 dark_190504_AD-074_180s.fit\n",
      "\n",
      "148 dark_190504_AD-075_180s.fit\n"
     ]
    },
    {
     "name": "stderr",
     "output_type": "stream",
     "text": [
      "GetHeadVal: Missing Configuration\n",
      "GetHeadVal: Missing Configuration\n",
      "GetHeadVal: Missing Configuration\n",
      "GetHeadVal: Missing Configuration\n"
     ]
    },
    {
     "name": "stdout",
     "output_type": "stream",
     "text": [
      "\n",
      "149 dark_190504_AD-076_180s.fit\n",
      "\n",
      "150 dark_190504_AD-077_180s.fit\n"
     ]
    },
    {
     "name": "stderr",
     "output_type": "stream",
     "text": [
      "GetHeadVal: Missing Configuration\n",
      "GetHeadVal: Missing Configuration\n",
      "GetHeadVal: Missing Configuration\n",
      "GetHeadVal: Missing Configuration\n"
     ]
    },
    {
     "name": "stdout",
     "output_type": "stream",
     "text": [
      "\n",
      "151 dark_190504_AD-078_180s.fit\n",
      "\n",
      "152 dark_190504_AD-079_180s.fit\n"
     ]
    },
    {
     "name": "stderr",
     "output_type": "stream",
     "text": [
      "GetHeadVal: Missing Configuration\n",
      "GetHeadVal: Missing Configuration\n",
      "GetHeadVal: Missing Configuration\n",
      "GetHeadVal: Missing Configuration\n"
     ]
    },
    {
     "name": "stdout",
     "output_type": "stream",
     "text": [
      "\n",
      "153 dark_190504_AD-080_180s.fit\n",
      "\n",
      "154 dark_190504_AD-081_180s.fit\n"
     ]
    },
    {
     "name": "stderr",
     "output_type": "stream",
     "text": [
      "GetHeadVal: Missing Configuration\n",
      "GetHeadVal: Missing Configuration\n",
      "GetHeadVal: Missing Configuration\n",
      "GetHeadVal: Missing Configuration\n"
     ]
    },
    {
     "name": "stdout",
     "output_type": "stream",
     "text": [
      "\n",
      "155 dark_190504_AD-082_180s.fit\n",
      "\n",
      "156 dark_190504_AD-083_180s.fit\n"
     ]
    },
    {
     "name": "stderr",
     "output_type": "stream",
     "text": [
      "GetHeadVal: Missing Configuration\n",
      "GetHeadVal: Missing Configuration\n",
      "GetHeadVal: Missing Configuration\n",
      "GetHeadVal: Missing Configuration\n"
     ]
    },
    {
     "name": "stdout",
     "output_type": "stream",
     "text": [
      "\n",
      "157 dark_190504_AD-084_180s.fit\n",
      "\n",
      "158 dark_190504_AD-085_180s.fit\n"
     ]
    },
    {
     "name": "stderr",
     "output_type": "stream",
     "text": [
      "GetHeadVal: Missing Configuration\n",
      "GetHeadVal: Missing Configuration\n",
      "GetHeadVal: Missing Configuration\n",
      "GetHeadVal: Missing Configuration\n"
     ]
    },
    {
     "name": "stdout",
     "output_type": "stream",
     "text": [
      "\n",
      "159 dark_190504_AD-086_180s.fit\n",
      "\n",
      "160 dark_190504_AD-087_180s.fit\n"
     ]
    },
    {
     "name": "stderr",
     "output_type": "stream",
     "text": [
      "GetHeadVal: Missing Configuration\n",
      "GetHeadVal: Missing Configuration\n",
      "GetHeadVal: Missing Configuration\n",
      "GetHeadVal: Missing Configuration\n"
     ]
    },
    {
     "name": "stdout",
     "output_type": "stream",
     "text": [
      "\n",
      "161 dark_190504_AD-088_180s.fit\n",
      "\n",
      "162 dark_190504_AD-089_180s.fit\n"
     ]
    },
    {
     "name": "stderr",
     "output_type": "stream",
     "text": [
      "GetHeadVal: Missing Configuration\n",
      "GetHeadVal: Missing Configuration\n",
      "GetHeadVal: Missing Configuration\n",
      "GetHeadVal: Missing Configuration\n"
     ]
    },
    {
     "name": "stdout",
     "output_type": "stream",
     "text": [
      "\n",
      "163 dark_190504_AD-090_180s.fit\n",
      "\n",
      "164 dark_190504_AD-091_180s.fit\n"
     ]
    },
    {
     "name": "stderr",
     "output_type": "stream",
     "text": [
      "GetHeadVal: Missing Configuration\n",
      "GetHeadVal: Missing Configuration\n",
      "GetHeadVal: Missing Configuration\n",
      "GetHeadVal: Missing Configuration\n"
     ]
    },
    {
     "name": "stdout",
     "output_type": "stream",
     "text": [
      "\n",
      "165 dark_190504_AD-092_180s.fit\n",
      "\n",
      "166 dark_190504_AD-093_180s.fit\n"
     ]
    },
    {
     "name": "stderr",
     "output_type": "stream",
     "text": [
      "GetHeadVal: Missing Configuration\n",
      "GetHeadVal: Missing Configuration\n",
      "GetHeadVal: Missing Configuration\n",
      "GetHeadVal: Missing Configuration\n"
     ]
    },
    {
     "name": "stdout",
     "output_type": "stream",
     "text": [
      "\n",
      "167 dark_190504_AD-094_180s.fit\n",
      "\n",
      "168 dark_190504_AD-095_180s.fit\n"
     ]
    },
    {
     "name": "stderr",
     "output_type": "stream",
     "text": [
      "GetHeadVal: Missing Configuration\n",
      "GetHeadVal: Missing Configuration\n",
      "GetHeadVal: Missing Configuration\n",
      "GetHeadVal: Missing Configuration\n"
     ]
    },
    {
     "name": "stdout",
     "output_type": "stream",
     "text": [
      "\n",
      "169 dark_190504_AD-096_180s.fit\n",
      "\n",
      "170 dark_190504_AD-098_180s.fit\n"
     ]
    },
    {
     "name": "stderr",
     "output_type": "stream",
     "text": [
      "GetHeadVal: Missing Configuration\n",
      "GetHeadVal: Missing Configuration\n",
      "GetHeadVal: Missing Configuration\n",
      "GetHeadVal: Missing Configuration\n"
     ]
    },
    {
     "name": "stdout",
     "output_type": "stream",
     "text": [
      "\n",
      "171 dark_190504_AD-099_180s.fit\n",
      "\n",
      "172 dark_190504_AD-100_180s.fit\n"
     ]
    },
    {
     "name": "stderr",
     "output_type": "stream",
     "text": [
      "GetHeadVal: Missing Configuration\n",
      "GetHeadVal: Missing Configuration\n",
      "GetHeadVal: Missing Configuration\n",
      "GetHeadVal: Missing Configuration\n"
     ]
    },
    {
     "name": "stdout",
     "output_type": "stream",
     "text": [
      "\n",
      "173 dark_190504_AD-101_180s.fit\n",
      "\n",
      "174 dark_190504_AD-102_180s.fit\n"
     ]
    },
    {
     "name": "stderr",
     "output_type": "stream",
     "text": [
      "GetHeadVal: Missing Configuration\n",
      "GetHeadVal: Missing Configuration\n",
      "GetHeadVal: Missing Configuration\n",
      "GetHeadVal: Missing Configuration\n"
     ]
    },
    {
     "name": "stdout",
     "output_type": "stream",
     "text": [
      "\n",
      "175 dark_190504_AD-103_180s.fit\n",
      "\n",
      "176 dark_190504_AD-104_180s.fit\n"
     ]
    },
    {
     "name": "stderr",
     "output_type": "stream",
     "text": [
      "GetHeadVal: Missing Configuration\n",
      "GetHeadVal: Missing Configuration\n",
      "GetHeadVal: Missing Configuration\n",
      "GetHeadVal: Missing Configuration\n"
     ]
    },
    {
     "name": "stdout",
     "output_type": "stream",
     "text": [
      "\n",
      "177 dark_190504_AD-105_180s.fit\n",
      "\n",
      "178 dark_190504_AD-106_180s.fit\n"
     ]
    },
    {
     "name": "stderr",
     "output_type": "stream",
     "text": [
      "GetHeadVal: Missing Configuration\n",
      "GetHeadVal: Missing Configuration\n",
      "GetHeadVal: Missing Configuration\n",
      "GetHeadVal: Missing Configuration\n"
     ]
    },
    {
     "name": "stdout",
     "output_type": "stream",
     "text": [
      "\n",
      "179 dark_190504_AD-107_180s.fit\n",
      "\n",
      "180 dark_190504_AD-108_180s.fit\n"
     ]
    },
    {
     "name": "stderr",
     "output_type": "stream",
     "text": [
      "GetHeadVal: Missing Configuration\n",
      "GetHeadVal: Missing Configuration\n",
      "GetHeadVal: Missing Configuration\n",
      "GetHeadVal: Missing Configuration\n"
     ]
    },
    {
     "name": "stdout",
     "output_type": "stream",
     "text": [
      "\n",
      "181 dark_190504_AD-109_180s.fit\n",
      "\n",
      "182 dark_190504_AD-110_180s.fit\n"
     ]
    },
    {
     "name": "stderr",
     "output_type": "stream",
     "text": [
      "GetHeadVal: Missing Configuration\n",
      "GetHeadVal: Missing Configuration\n",
      "GetHeadVal: Missing Configuration\n",
      "GetHeadVal: Missing Configuration\n"
     ]
    },
    {
     "name": "stdout",
     "output_type": "stream",
     "text": [
      "\n",
      "183 dark_190504_AD-111_180s.fit\n",
      "\n",
      "184 dark_190504_AD-112_180s.fit\n"
     ]
    },
    {
     "name": "stderr",
     "output_type": "stream",
     "text": [
      "GetHeadVal: Missing Configuration\n",
      "GetHeadVal: Missing Configuration\n",
      "GetHeadVal: Missing Configuration\n",
      "GetHeadVal: Missing Configuration\n"
     ]
    },
    {
     "name": "stdout",
     "output_type": "stream",
     "text": [
      "\n",
      "185 dark_190504_AD-113_180s.fit\n",
      "\n",
      "186 dark_190504_AD-114_180s.fit\n"
     ]
    },
    {
     "name": "stderr",
     "output_type": "stream",
     "text": [
      "GetHeadVal: Missing Configuration\n",
      "GetHeadVal: Missing Configuration\n",
      "GetHeadVal: Missing Configuration\n",
      "GetHeadVal: Missing Configuration\n"
     ]
    },
    {
     "name": "stdout",
     "output_type": "stream",
     "text": [
      "\n",
      "187 dark_190504_AD-115_180s.fit\n",
      "\n",
      "188 dark_190504_AD-116_180s.fit\n"
     ]
    },
    {
     "name": "stderr",
     "output_type": "stream",
     "text": [
      "GetHeadVal: Missing Configuration\n",
      "GetHeadVal: Missing Configuration\n",
      "GetHeadVal: Missing Configuration\n",
      "GetHeadVal: Missing Configuration\n"
     ]
    },
    {
     "name": "stdout",
     "output_type": "stream",
     "text": [
      "\n",
      "189 dark_190504_AD-117_180s.fit\n",
      "\n",
      "190 dark_190504_AD-118_180s.fit\n"
     ]
    },
    {
     "name": "stderr",
     "output_type": "stream",
     "text": [
      "GetHeadVal: Missing Configuration\n",
      "GetHeadVal: Missing Configuration\n",
      "GetHeadVal: Missing Configuration\n",
      "GetHeadVal: Missing Configuration\n"
     ]
    },
    {
     "name": "stdout",
     "output_type": "stream",
     "text": [
      "\n",
      "191 dark_190504_AD-119_180s.fit\n",
      "\n",
      "192 dark_190504_AD-120_180s.fit\n"
     ]
    },
    {
     "name": "stderr",
     "output_type": "stream",
     "text": [
      "GetHeadVal: Missing Configuration\n",
      "GetHeadVal: Missing Configuration\n",
      "GetHeadVal: Missing Configuration\n",
      "GetHeadVal: Missing Configuration\n"
     ]
    },
    {
     "name": "stdout",
     "output_type": "stream",
     "text": [
      "\n",
      "193 dark_190504_AD-121_180s.fit\n",
      "\n",
      "194 dark_190504_AD-122_180s.fit\n"
     ]
    },
    {
     "name": "stderr",
     "output_type": "stream",
     "text": [
      "GetHeadVal: Missing Configuration\n",
      "GetHeadVal: Missing Configuration\n",
      "GetHeadVal: Missing Configuration\n",
      "GetHeadVal: Missing Configuration\n"
     ]
    },
    {
     "name": "stdout",
     "output_type": "stream",
     "text": [
      "\n",
      "195 dark_190504_AD-123_180s.fit\n",
      "\n",
      "196 dark_190504_AD-124_180s.fit\n"
     ]
    },
    {
     "name": "stderr",
     "output_type": "stream",
     "text": [
      "GetHeadVal: Missing Configuration\n",
      "GetHeadVal: Missing Configuration\n",
      "GetHeadVal: Missing Configuration\n",
      "GetHeadVal: Missing Configuration\n"
     ]
    },
    {
     "name": "stdout",
     "output_type": "stream",
     "text": [
      "\n",
      "197 dark_190504_AD-125_180s.fit\n",
      "\n",
      "198 dark_190504_AD-126_180s.fit\n"
     ]
    },
    {
     "name": "stderr",
     "output_type": "stream",
     "text": [
      "GetHeadVal: Missing Configuration\n",
      "GetHeadVal: Missing Configuration\n",
      "GetHeadVal: Missing Configuration\n",
      "GetHeadVal: Missing Configuration\n"
     ]
    },
    {
     "name": "stdout",
     "output_type": "stream",
     "text": [
      "\n",
      "199 dark_190504_AD-127_180s.fit\n",
      "\n",
      "200 dark_190504_AD-128_180s.fit\n"
     ]
    },
    {
     "name": "stderr",
     "output_type": "stream",
     "text": [
      "GetHeadVal: Missing Configuration\n",
      "GetHeadVal: Missing Configuration\n",
      "GetHeadVal: Missing Configuration\n",
      "GetHeadVal: Missing Configuration\n"
     ]
    },
    {
     "name": "stdout",
     "output_type": "stream",
     "text": [
      "\n",
      "201 dark_190504_AD-129_180s.fit\n",
      "\n",
      "202 dark_190504_AD-130_180s.fit\n"
     ]
    },
    {
     "name": "stderr",
     "output_type": "stream",
     "text": [
      "GetHeadVal: Missing Configuration\n",
      "GetHeadVal: Missing Configuration\n",
      "GetHeadVal: Missing Configuration\n",
      "GetHeadVal: Missing Configuration\n"
     ]
    },
    {
     "name": "stdout",
     "output_type": "stream",
     "text": [
      "\n",
      "203 dark_190504_AD-131_180s.fit\n",
      "\n",
      "204 dark_190504_AD-132_180s.fit\n"
     ]
    },
    {
     "name": "stderr",
     "output_type": "stream",
     "text": [
      "GetHeadVal: Missing Configuration\n",
      "GetHeadVal: Missing Configuration\n",
      "GetHeadVal: Missing Configuration\n",
      "GetHeadVal: Missing Configuration\n"
     ]
    },
    {
     "name": "stdout",
     "output_type": "stream",
     "text": [
      "\n",
      "205 dark_190504_AD-133_180s.fit\n",
      "\n",
      "206 dark_190504_AD-134_180s.fit\n"
     ]
    },
    {
     "name": "stderr",
     "output_type": "stream",
     "text": [
      "GetHeadVal: Missing Configuration\n",
      "GetHeadVal: Missing Configuration\n",
      "GetHeadVal: Missing Configuration\n",
      "GetHeadVal: Missing Configuration\n"
     ]
    },
    {
     "name": "stdout",
     "output_type": "stream",
     "text": [
      "\n",
      "207 dark_190504_AD-135_180s.fit\n",
      "\n",
      "208 dark_190504_AD-136_180s.fit\n"
     ]
    },
    {
     "name": "stderr",
     "output_type": "stream",
     "text": [
      "GetHeadVal: Missing Configuration\n",
      "GetHeadVal: Missing Configuration\n",
      "GetHeadVal: Missing Configuration\n",
      "GetHeadVal: Missing Configuration\n"
     ]
    },
    {
     "name": "stdout",
     "output_type": "stream",
     "text": [
      "\n",
      "209 dark_190504_AD-137_180s.fit\n",
      "\n",
      "210 dark_190504_AD-138_180s.fit\n"
     ]
    },
    {
     "name": "stderr",
     "output_type": "stream",
     "text": [
      "GetHeadVal: Missing Configuration\n",
      "GetHeadVal: Missing Configuration\n",
      "GetHeadVal: Missing Configuration\n",
      "GetHeadVal: Missing Configuration\n"
     ]
    },
    {
     "name": "stdout",
     "output_type": "stream",
     "text": [
      "\n",
      "211 dark_190504_AD-139_180s.fit\n",
      "\n",
      "212 dark_190504_AD-140_180s.fit\n"
     ]
    },
    {
     "name": "stderr",
     "output_type": "stream",
     "text": [
      "GetHeadVal: Missing Configuration\n",
      "GetHeadVal: Missing Configuration\n",
      "GetHeadVal: Missing Configuration\n",
      "GetHeadVal: Missing Configuration\n"
     ]
    },
    {
     "name": "stdout",
     "output_type": "stream",
     "text": [
      "\n",
      "213 dark_190504_AD-141_180s.fit\n",
      "\n",
      "214 dark_190504_AD-142_180s.fit\n"
     ]
    },
    {
     "name": "stderr",
     "output_type": "stream",
     "text": [
      "GetHeadVal: Missing Configuration\n",
      "GetHeadVal: Missing Configuration\n",
      "GetHeadVal: Missing Configuration\n",
      "GetHeadVal: Missing Configuration\n"
     ]
    },
    {
     "name": "stdout",
     "output_type": "stream",
     "text": [
      "\n",
      "215 dark_190504_AD-143_180s.fit\n",
      "\n",
      "216 dark_190504_AD-144_180s.fit\n"
     ]
    },
    {
     "name": "stderr",
     "output_type": "stream",
     "text": [
      "GetHeadVal: Missing Configuration\n",
      "GetHeadVal: Missing Configuration\n",
      "GetHeadVal: Missing Configuration\n",
      "GetHeadVal: Missing Configuration\n"
     ]
    },
    {
     "name": "stdout",
     "output_type": "stream",
     "text": [
      "\n",
      "217 dark_190504_AD-145_180s.fit\n",
      "\n",
      "218 dark_190504_AD-146_180s.fit\n"
     ]
    },
    {
     "name": "stderr",
     "output_type": "stream",
     "text": [
      "GetHeadVal: Missing Configuration\n",
      "GetHeadVal: Missing Configuration\n",
      "GetHeadVal: Missing Configuration\n",
      "GetHeadVal: Missing Configuration\n"
     ]
    },
    {
     "name": "stdout",
     "output_type": "stream",
     "text": [
      "\n",
      "219 dark_190504_AD-147_180s.fit\n",
      "\n",
      "220 dark_190504_AD-148_180s.fit\n"
     ]
    },
    {
     "name": "stderr",
     "output_type": "stream",
     "text": [
      "GetHeadVal: Missing Configuration\n",
      "GetHeadVal: Missing Configuration\n",
      "GetHeadVal: Missing Configuration\n",
      "GetHeadVal: Missing Configuration\n"
     ]
    },
    {
     "name": "stdout",
     "output_type": "stream",
     "text": [
      "\n",
      "221 dark_190504_AD-149_180s.fit\n",
      "\n",
      "222 dark_190504_AD-150_180s.fit\n"
     ]
    },
    {
     "name": "stderr",
     "output_type": "stream",
     "text": [
      "GetHeadVal: Missing Configuration\n",
      "GetHeadVal: Missing Configuration\n",
      "GetHeadVal: Missing Configuration\n",
      "GetHeadVal: Missing Configuration\n"
     ]
    },
    {
     "name": "stdout",
     "output_type": "stream",
     "text": [
      "\n",
      "223 dark_190504_AD-151_180s.fit\n",
      "\n",
      "224 dark_190504_AD-152_180s.fit\n"
     ]
    },
    {
     "name": "stderr",
     "output_type": "stream",
     "text": [
      "GetHeadVal: Missing Configuration\n",
      "GetHeadVal: Missing Configuration\n",
      "GetHeadVal: Missing Configuration\n",
      "GetHeadVal: Missing Configuration\n"
     ]
    },
    {
     "name": "stdout",
     "output_type": "stream",
     "text": [
      "\n",
      "225 dark_190504_AD-153_180s.fit\n",
      "\n",
      "226 dark_190504_AD-154_180s.fit\n"
     ]
    },
    {
     "name": "stderr",
     "output_type": "stream",
     "text": [
      "GetHeadVal: Missing Configuration\n",
      "GetHeadVal: Missing Configuration\n",
      "GetHeadVal: Missing Configuration\n",
      "GetHeadVal: Missing Configuration\n"
     ]
    },
    {
     "name": "stdout",
     "output_type": "stream",
     "text": [
      "\n",
      "227 dark_190504_AD-155_180s.fit\n",
      "\n",
      "228 dark_190504_AD-156_180s.fit\n"
     ]
    },
    {
     "name": "stderr",
     "output_type": "stream",
     "text": [
      "GetHeadVal: Missing Configuration\n",
      "GetHeadVal: Missing Configuration\n",
      "GetHeadVal: Missing Configuration\n",
      "GetHeadVal: Missing Configuration\n"
     ]
    },
    {
     "name": "stdout",
     "output_type": "stream",
     "text": [
      "\n",
      "229 dark_190504_AD-157_180s.fit\n",
      "\n",
      "230 dark_190504_AD-158_180s.fit\n"
     ]
    },
    {
     "name": "stderr",
     "output_type": "stream",
     "text": [
      "GetHeadVal: Missing Configuration\n",
      "GetHeadVal: Missing Configuration\n",
      "GetHeadVal: Missing Configuration\n",
      "GetHeadVal: Missing Configuration\n"
     ]
    },
    {
     "name": "stdout",
     "output_type": "stream",
     "text": [
      "\n",
      "231 dark_190504_AD-159_180s.fit\n",
      "\n",
      "232 dark_190504_AD-160_180s.fit\n"
     ]
    },
    {
     "name": "stderr",
     "output_type": "stream",
     "text": [
      "GetHeadVal: Missing Configuration\n",
      "GetHeadVal: Missing Configuration\n",
      "GetHeadVal: Missing Configuration\n",
      "GetHeadVal: Missing Configuration\n"
     ]
    },
    {
     "name": "stdout",
     "output_type": "stream",
     "text": [
      "\n",
      "233 dark_190504_AD-161_180s.fit\n",
      "\n",
      "234 dark_190504_AD-162_180s.fit\n"
     ]
    },
    {
     "name": "stderr",
     "output_type": "stream",
     "text": [
      "GetHeadVal: Missing Configuration\n",
      "GetHeadVal: Missing Configuration\n",
      "GetHeadVal: Missing Configuration\n",
      "GetHeadVal: Missing Configuration\n"
     ]
    },
    {
     "name": "stdout",
     "output_type": "stream",
     "text": [
      "\n",
      "235 dark_190504_AD-163_180s.fit\n",
      "\n",
      "236 dark_190504_AD-164_180s.fit\n"
     ]
    },
    {
     "name": "stderr",
     "output_type": "stream",
     "text": [
      "GetHeadVal: Missing Configuration\n",
      "GetHeadVal: Missing Configuration\n",
      "GetHeadVal: Missing Configuration\n",
      "GetHeadVal: Missing Configuration\n"
     ]
    },
    {
     "name": "stdout",
     "output_type": "stream",
     "text": [
      "\n",
      "237 dark_190504_AD-165_180s.fit\n",
      "\n",
      "238 dark_190504_AD-166_180s.fit\n"
     ]
    },
    {
     "name": "stderr",
     "output_type": "stream",
     "text": [
      "GetHeadVal: Missing Configuration\n",
      "GetHeadVal: Missing Configuration\n",
      "GetHeadVal: Missing Configuration\n",
      "GetHeadVal: Missing Configuration\n"
     ]
    },
    {
     "name": "stdout",
     "output_type": "stream",
     "text": [
      "\n",
      "239 dark_190504_AD-167_180s.fit\n",
      "\n",
      "240 dark_190504_AD-168_180s.fit\n"
     ]
    },
    {
     "name": "stderr",
     "output_type": "stream",
     "text": [
      "GetHeadVal: Missing Configuration\n",
      "GetHeadVal: Missing Configuration\n",
      "GetHeadVal: Missing Configuration\n",
      "GetHeadVal: Missing Configuration\n"
     ]
    },
    {
     "name": "stdout",
     "output_type": "stream",
     "text": [
      "\n",
      "241 dark_190504_AD-169_180s.fit\n",
      "\n",
      "242 dark_190504_AD-170_180s.fit\n"
     ]
    },
    {
     "name": "stderr",
     "output_type": "stream",
     "text": [
      "GetHeadVal: Missing Configuration\n",
      "GetHeadVal: Missing Configuration\n",
      "GetHeadVal: Missing Configuration\n",
      "GetHeadVal: Missing Configuration\n"
     ]
    },
    {
     "name": "stdout",
     "output_type": "stream",
     "text": [
      "\n",
      "243 dark_190504_AD-171_180s.fit\n",
      "\n",
      "244 dark_190504_AD-172_180s.fit\n"
     ]
    },
    {
     "name": "stderr",
     "output_type": "stream",
     "text": [
      "GetHeadVal: Missing Configuration\n",
      "GetHeadVal: Missing Configuration\n",
      "GetHeadVal: Missing Configuration\n",
      "GetHeadVal: Missing Configuration\n"
     ]
    },
    {
     "name": "stdout",
     "output_type": "stream",
     "text": [
      "\n",
      "245 dark_190504_AD-173_180s.fit\n",
      "\n",
      "246 dark_190504_AD-174_180s.fit\n"
     ]
    },
    {
     "name": "stderr",
     "output_type": "stream",
     "text": [
      "GetHeadVal: Missing Configuration\n",
      "GetHeadVal: Missing Configuration\n",
      "GetHeadVal: Missing Configuration\n",
      "GetHeadVal: Missing Configuration\n"
     ]
    },
    {
     "name": "stdout",
     "output_type": "stream",
     "text": [
      "\n",
      "247 dark_190504_AD-175_180s.fit\n",
      "\n",
      "248 dark_190504_AD-176_180s.fit\n"
     ]
    },
    {
     "name": "stderr",
     "output_type": "stream",
     "text": [
      "GetHeadVal: Missing Configuration\n",
      "GetHeadVal: Missing Configuration\n",
      "GetHeadVal: Missing Configuration\n",
      "GetHeadVal: Missing Configuration\n"
     ]
    },
    {
     "name": "stdout",
     "output_type": "stream",
     "text": [
      "\n",
      "249 dark_190504_AD-177_180s.fit\n",
      "\n",
      "250 dark_190504_AD-178_180s.fit\n"
     ]
    },
    {
     "name": "stderr",
     "output_type": "stream",
     "text": [
      "GetHeadVal: Missing Configuration\n",
      "GetHeadVal: Missing Configuration\n",
      "GetHeadVal: Missing Configuration\n",
      "GetHeadVal: Missing Configuration\n"
     ]
    },
    {
     "name": "stdout",
     "output_type": "stream",
     "text": [
      "\n",
      "251 dark_190504_AD-179_180s.fit\n",
      "\n",
      "252 dark_190504_AD-180_180s.fit\n"
     ]
    },
    {
     "name": "stderr",
     "output_type": "stream",
     "text": [
      "GetHeadVal: Missing Configuration\n",
      "GetHeadVal: Missing Configuration\n",
      "GetHeadVal: Missing Configuration\n",
      "GetHeadVal: Missing Configuration\n"
     ]
    },
    {
     "name": "stdout",
     "output_type": "stream",
     "text": [
      "\n",
      "253 dark_190504_AD-181_180s.fit\n",
      "\n",
      "254 dark_190504_AD-182_180s.fit\n"
     ]
    },
    {
     "name": "stderr",
     "output_type": "stream",
     "text": [
      "GetHeadVal: Missing Configuration\n",
      "GetHeadVal: Missing Configuration\n",
      "GetHeadVal: Missing Configuration\n",
      "GetHeadVal: Missing Configuration\n"
     ]
    },
    {
     "name": "stdout",
     "output_type": "stream",
     "text": [
      "\n",
      "255 dark_190504_AD-183_180s.fit\n",
      "\n",
      "256 dark_190504_AD-184_180s.fit\n"
     ]
    },
    {
     "name": "stderr",
     "output_type": "stream",
     "text": [
      "GetHeadVal: Missing Configuration\n",
      "GetHeadVal: Missing Configuration\n",
      "GetHeadVal: Missing Configuration\n",
      "GetHeadVal: Missing Configuration\n"
     ]
    },
    {
     "name": "stdout",
     "output_type": "stream",
     "text": [
      "\n",
      "257 dark_190504_AD-185_180s.fit\n",
      "\n",
      "258 dark_190504_AD-186_180s.fit\n"
     ]
    },
    {
     "name": "stderr",
     "output_type": "stream",
     "text": [
      "GetHeadVal: Missing Configuration\n",
      "GetHeadVal: Missing Configuration\n",
      "GetHeadVal: Missing Configuration\n",
      "GetHeadVal: Missing Configuration\n"
     ]
    },
    {
     "name": "stdout",
     "output_type": "stream",
     "text": [
      "\n",
      "259 dark_190504_AD-187_180s.fit\n",
      "\n",
      "260 dark_190504_AD-188_180s.fit\n"
     ]
    },
    {
     "name": "stderr",
     "output_type": "stream",
     "text": [
      "GetHeadVal: Missing Configuration\n",
      "GetHeadVal: Missing Configuration\n",
      "GetHeadVal: Missing Configuration\n",
      "GetHeadVal: Missing Configuration\n"
     ]
    },
    {
     "name": "stdout",
     "output_type": "stream",
     "text": [
      "\n",
      "261 dark_190504_AD-189_180s.fit\n",
      "\n",
      "262 dark_190504_AD-190_180s.fit\n"
     ]
    },
    {
     "name": "stderr",
     "output_type": "stream",
     "text": [
      "GetHeadVal: Missing Configuration\n",
      "GetHeadVal: Missing Configuration\n",
      "GetHeadVal: Missing Configuration\n",
      "GetHeadVal: Missing Configuration\n"
     ]
    },
    {
     "name": "stdout",
     "output_type": "stream",
     "text": [
      "\n",
      "263 dark_190504_AD-191_180s.fit\n",
      "\n",
      "264 dark_190504_AD-192_180s.fit\n"
     ]
    },
    {
     "name": "stderr",
     "output_type": "stream",
     "text": [
      "GetHeadVal: Missing Configuration\n",
      "GetHeadVal: Missing Configuration\n",
      "GetHeadVal: Missing Configuration\n",
      "GetHeadVal: Missing Configuration\n"
     ]
    },
    {
     "name": "stdout",
     "output_type": "stream",
     "text": [
      "\n",
      "265 dark_190504_AD-193_180s.fit\n",
      "\n",
      "266 dark_190504_AD-194_180s.fit\n"
     ]
    },
    {
     "name": "stderr",
     "output_type": "stream",
     "text": [
      "GetHeadVal: Missing Configuration\n",
      "GetHeadVal: Missing Configuration\n",
      "GetHeadVal: Missing Configuration\n",
      "GetHeadVal: Missing Configuration\n"
     ]
    },
    {
     "name": "stdout",
     "output_type": "stream",
     "text": [
      "\n",
      "267 dark_190504_AD-195_180s.fit\n",
      "\n",
      "268 dark_190504_AD-196_180s.fit\n"
     ]
    },
    {
     "name": "stderr",
     "output_type": "stream",
     "text": [
      "GetHeadVal: Missing Configuration\n",
      "GetHeadVal: Missing Configuration\n",
      "GetHeadVal: Missing Configuration\n",
      "GetHeadVal: Missing Configuration\n"
     ]
    },
    {
     "name": "stdout",
     "output_type": "stream",
     "text": [
      "\n",
      "269 dark_190504_AD-197_180s.fit\n",
      "\n",
      "270 dark_190504_AD-198_180s.fit\n"
     ]
    },
    {
     "name": "stderr",
     "output_type": "stream",
     "text": [
      "GetHeadVal: Missing Configuration\n",
      "GetHeadVal: Missing Configuration\n"
     ]
    },
    {
     "name": "stdout",
     "output_type": "stream",
     "text": [
      "\n",
      "271 dark_190504_AD-199_180s.fit\n",
      "\n",
      "272 dark_190504_AD-200_180s.fit\n"
     ]
    }
   ],
   "source": [
    "#180s\n",
    "\n",
    "whichpath = datapath\n",
    "\n",
    "somefiles = [f for f in os.listdir(whichpath) if '.fit' in f and '_180s' in f and'stack' not in f]\n",
    "\n",
    "somefiles = sorted(somefiles)       ## This is necessary on my Mac, may not be for others?\n",
    "\n",
    "\n",
    "acceptlist = True             # True if you want to accept all the files in somefiles.\n",
    "contiguous = True             # True if you want to accept a contiguous subset of somefiles.\n",
    "startfile, endfile = 5,9      # The first and last files in a contiquous subset.\n",
    "flist = [0,3,4,5,6,7,8]        # An explicit list of the files you want to accept.\n",
    "\n",
    "\n",
    "n180image, n180headlist, n180rows, n180cols, n180median, n180imad = stackfits(datapath,somefiles)\n",
    "\n",
    "\n",
    "n180stackarray = n180image\n",
    "\n",
    "n180stackarray_std = np.std(n180stackarray, axis=0)\n",
    "\n",
    "n180img_global_std = np.median(n180stackarray_std)\n",
    "\n",
    "n180noisy_pixels = n180stackarray_std > n180img_global_std*1.8\n",
    "\n",
    "\n",
    "n180locs = np.array(np.where(n180noisy_pixels == True))\n",
    "npix_180s = np.zeros((1019,1019)) \n",
    "for i in range(1019): #1024\n",
    "    for j in range(1019): #1024\n",
    "        if n180noisy_pixels[i,j] == True and j > 5:\n",
    "            npix_180s[i,j] = 1"
   ]
  },
  {
   "cell_type": "code",
   "execution_count": 16,
   "metadata": {},
   "outputs": [
    {
     "name": "stdout",
     "output_type": "stream",
     "text": [
      "[5, 1019, 1019]\n"
     ]
    }
   ],
   "source": [
    "#Stack the arrays of noisy pixels\n",
    "\n",
    "dims = list(npix_bias.shape)\n",
    "dims.append(5)\n",
    "dims = [5,npix_bias.shape[0],npix_bias.shape[1]]\n",
    "print(dims)\n",
    "npixm = np.zeros(dims)\n",
    "npixm[0,:,:]=npix_bias\n",
    "npixm[1,:,:]=npix_020s\n",
    "npixm[2,:,:]=npix_040s\n",
    "npixm[3,:,:]=npix_100s\n",
    "npixm[4,:,:]=npix_180s"
   ]
  },
  {
   "cell_type": "code",
   "execution_count": 17,
   "metadata": {},
   "outputs": [
    {
     "name": "stdout",
     "output_type": "stream",
     "text": [
      "outpath = C:\\Users\\danst\\Desktop\\noisy pics\n",
      "outname = noisy_pixelsm5.fits\n"
     ]
    }
   ],
   "source": [
    "#The stack of arrays is converted into a single fits file\n",
    "##This allows us to view the noise in each exposure consecutively\n",
    "\n",
    "savepath = r'C:\\Users\\danst\\Desktop\\noisy pics'\n",
    "\n",
    "#creating a workable data format for our boolean 2D Array\n",
    "hdumy = fits.PrimaryHDU(npixm)\n",
    "\n",
    "#Turning Workable Object into a fits\n",
    "outd = fits.HDUList([hdumy])\n",
    "\n",
    "## Construct a name and 'save directory' for the dark-subtracted, flatfielded image.\n",
    "outname = 'noisy_pixels' + 'm5' + '.fits' #'(INSERT NUMBER OR OTHER THING!!!!! ORT ITLL BREAK SOME STUFF)'\n",
    "outpath = savepath\n",
    "print('outpath =',outpath)\n",
    "outf = os.path.join(outpath,outname)\n",
    "print('outname =',outname)"
   ]
  },
  {
   "cell_type": "code",
   "execution_count": 18,
   "metadata": {},
   "outputs": [
    {
     "name": "stdout",
     "output_type": "stream",
     "text": [
      "C:\\Users\\danst\\Desktop\\noisy pics\\noisy_pixelsm5.fits\n",
      "Save file? Enter \"y\" or \"n\":y\n",
      "noisy_pixelsm5.fits has been saved.\n"
     ]
    }
   ],
   "source": [
    "#Save the final noise fits file\n",
    "##\n",
    "\n",
    "## Now save the file (or not).\n",
    "print(outf)\n",
    "yes_or_no = input('Save file? Enter \"y\" or \"n\":')\n",
    "if yes_or_no == 'y':\n",
    "    outd.writeto(outf, overwrite = False)\n",
    "    print( outname + ' has been saved.')\n",
    "else:\n",
    "    print( 'OK-- file was not saved.')\n",
    "\n",
    "# outd.save(outf)"
   ]
  },
  {
   "cell_type": "code",
   "execution_count": null,
   "metadata": {},
   "outputs": [],
   "source": []
  }
 ],
 "metadata": {
  "kernelspec": {
   "display_name": "Python 3",
   "language": "python",
   "name": "python3"
  },
  "language_info": {
   "codemirror_mode": {
    "name": "ipython",
    "version": 3
   },
   "file_extension": ".py",
   "mimetype": "text/x-python",
   "name": "python",
   "nbconvert_exporter": "python",
   "pygments_lexer": "ipython3",
   "version": "3.7.1"
  }
 },
 "nbformat": 4,
 "nbformat_minor": 2
}
